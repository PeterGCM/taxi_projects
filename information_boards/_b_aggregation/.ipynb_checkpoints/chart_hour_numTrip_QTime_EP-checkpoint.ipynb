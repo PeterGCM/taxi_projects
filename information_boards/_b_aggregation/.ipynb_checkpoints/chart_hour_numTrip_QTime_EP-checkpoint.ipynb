{
 "cells": [
  {
   "cell_type": "code",
   "execution_count": 1,
   "metadata": {
    "collapsed": true
   },
   "outputs": [],
   "source": [
    "import __init__\n",
    "#\n",
    "from IPython.display import HTML, display\n",
    "import pandas as pd\n",
    "import numpy as np\n",
    "import matplotlib.pyplot as plt\n",
    "%matplotlib inline"
   ]
  },
  {
   "cell_type": "markdown",
   "metadata": {},
   "source": [
    "# Airport"
   ]
  },
  {
   "cell_type": "code",
   "execution_count": 2,
   "metadata": {
    "collapsed": false
   },
   "outputs": [],
   "source": [
    "from information_boards import statisticsAllDrivers_ap_dpath\n",
    "from information_boards import statisticsAllDriversTrip_ap_prefix\n",
    "Y2009 = pd.read_csv('%s/Filtered-%s2009.csv' % (statisticsAllDrivers_ap_dpath, statisticsAllDriversTrip_ap_prefix))\n",
    "Y2010 = pd.read_csv('%s/Filtered-%s2010.csv' % (statisticsAllDrivers_ap_dpath, statisticsAllDriversTrip_ap_prefix))"
   ]
  },
  {
   "cell_type": "code",
   "execution_count": 3,
   "metadata": {
    "collapsed": false
   },
   "outputs": [
    {
     "name": "stdout",
     "output_type": "stream",
     "text": [
      "0,14276,17787,41.1475483329,30.0579552482,0.81007650853,3.02549525833\n",
      "1,8575,11641,37.9998697765,32.3641683131,5.51519854544,5.34273738578\n",
      "6,9678,10472,37.6010332713,33.3143430099,1.14384554153,1.62018805252\n",
      "7,8884,11683,45.2554648807,35.1369511256,-3.85517333735,-2.07499476838\n",
      "8,6578,10148,49.2252888416,37.9677571935,-9.71308937323,-6.99434999227\n",
      "9,5239,6932,55.1195997964,34.919958165,-14.9296975115,-7.8442956458\n",
      "10,5234,5419,43.2146637371,35.239367657,-5.78334221598,-4.21505929162\n",
      "11,6040,6096,42.1241915011,44.8214047463,-4.08138903174,-7.39427675365\n",
      "12,7884,10556,38.0025684932,29.4742689781,-3.86758560676,-1.95471174141\n",
      "13,9073,10151,31.5449851207,21.3287180245,-1.50463297201,1.48675787291\n",
      "14,10116,10467,28.564040464,27.6067083851,-0.553793408632,-1.52039414264\n",
      "15,10220,12212,28.9836627528,28.3736475052,-0.0990541080237,-1.00827208623\n",
      "16,9118,13491,31.3958744608,20.7480826724,-1.11460305275,2.09057849772\n",
      "17,12561,13302,37.4306835974,31.4478098532,-1.04520531757,-0.019275533504\n",
      "18,14276,13594,32.0987064537,32.9442989554,-0.399380461611,-2.31045945316\n",
      "19,11250,13238,36.3625362963,34.5998048547,-4.23051910419,-5.40751675623\n",
      "20,15968,15610,26.7686070057,22.4280760196,-1.25285320416,-0.892072635615\n",
      "21,13433,15108,31.7579145885,25.6352473303,-2.41285309104,-1.66452968879\n",
      "22,21208,22471,29.1731029171,22.2136783706,-1.76080147572,-0.184403270456\n",
      "23,17434,20853,23.6901781959,17.7958415256,2.75787977035,3.59173665685\n"
     ]
    }
   ],
   "source": [
    "Nov2009 = Y2009[(Y2009['month'] == 11)]\n",
    "Nov2010 = Y2010[(Y2010['month'] == 11)]\n",
    "#\n",
    "hours = Nov2009.groupby(['hour']).count()['locQTime'].index.tolist()\n",
    "#\n",
    "numTrip2009 = Nov2009.groupby(['hour']).count()['locQTime'].values\n",
    "numTrip2010 = Nov2010.groupby(['hour']).count()['locQTime'].values\n",
    "QTime2009 = Nov2009.groupby(['hour']).mean()['locQTime'].values\n",
    "QTime2010 = Nov2010.groupby(['hour']).mean()['locQTime'].values\n",
    "EP2009 = Nov2009.groupby(['hour']).mean()['locEP'].values\n",
    "EP2010 = Nov2010.groupby(['hour']).mean()['locEP'].values\n",
    "\n",
    "for x in zip(hours, numTrip2009, numTrip2010, QTime2009, QTime2010, EP2009, EP2010):\n",
    "    print ','.join(map(str, x))"
   ]
  },
  {
   "cell_type": "markdown",
   "metadata": {
    "collapsed": true
   },
   "source": [
    "# Zoo"
   ]
  },
  {
   "cell_type": "code",
   "execution_count": 4,
   "metadata": {
    "collapsed": true
   },
   "outputs": [],
   "source": [
    "from information_boards import statisticsAllDrivers_ns_dpath\n",
    "from information_boards import statisticsAllDriversTrip_ns1517_prefix\n",
    "Y2009 = pd.read_csv('%s/Filtered-%s2009.csv' % (statisticsAllDrivers_ns_dpath, statisticsAllDriversTrip_ns1517_prefix))\n",
    "Y2010 = pd.read_csv('%s/Filtered-%s2010.csv' % (statisticsAllDrivers_ns_dpath, statisticsAllDriversTrip_ns1517_prefix))"
   ]
  },
  {
   "cell_type": "code",
   "execution_count": 5,
   "metadata": {
    "collapsed": false,
    "scrolled": true
   },
   "outputs": [
    {
     "name": "stdout",
     "output_type": "stream",
     "text": [
      "15,440,466,8.88465909091,5.42664520744,2.38850516513,3.13229859313\n",
      "16,381,281,9.95778652668,7.01026097272,2.31231279994,2.70018693674\n",
      "17,356,388,10.0808988764,9.17048969072,3.76636598636,3.79903722327\n"
     ]
    }
   ],
   "source": [
    "Nov2009 = Y2009[(Y2009['month'] == 11)]\n",
    "Nov2010 = Y2010[(Y2010['month'] == 11)]\n",
    "#\n",
    "hours = Nov2009.groupby(['hour']).count()['locQTime'].index.tolist()\n",
    "#\n",
    "numTrip2009 = Nov2009.groupby(['hour']).count()['locQTime'].values\n",
    "numTrip2010 = Nov2010.groupby(['hour']).count()['locQTime'].values\n",
    "QTime2009 = Nov2009.groupby(['hour']).mean()['locQTime'].values\n",
    "QTime2010 = Nov2010.groupby(['hour']).mean()['locQTime'].values\n",
    "EP2009 = Nov2009.groupby(['hour']).mean()['locEP'].values\n",
    "EP2010 = Nov2010.groupby(['hour']).mean()['locEP'].values\n",
    "\n",
    "for x in zip(hours, numTrip2009, numTrip2010, QTime2009, QTime2010, EP2009, EP2010):\n",
    "    print ','.join(map(str, x))"
   ]
  },
  {
   "cell_type": "markdown",
   "metadata": {},
   "source": [
    "# Night Safari"
   ]
  },
  {
   "cell_type": "code",
   "execution_count": 6,
   "metadata": {
    "collapsed": true
   },
   "outputs": [],
   "source": [
    "from information_boards import statisticsAllDrivers_ns_dpath\n",
    "from information_boards import statisticsAllDriversTrip_ns2023_prefix\n",
    "Y2009 = pd.read_csv('%s/Filtered-%s2009.csv' % (statisticsAllDrivers_ns_dpath, statisticsAllDriversTrip_ns2023_prefix))\n",
    "Y2010 = pd.read_csv('%s/Filtered-%s2010.csv' % (statisticsAllDrivers_ns_dpath, statisticsAllDriversTrip_ns2023_prefix))"
   ]
  },
  {
   "cell_type": "code",
   "execution_count": 7,
   "metadata": {
    "collapsed": false
   },
   "outputs": [
    {
     "name": "stdout",
     "output_type": "stream",
     "text": [
      "20,372,412,28.2134408602,19.9887540453,-6.41039495997,-4.77273470066\n",
      "21,719,805,21.7045433472,15.0987991718,-3.10953410518,-1.57882472985\n",
      "22,807,872,21.9628459314,15.984441896,-3.67957797431,-2.75954810325\n",
      "23,613,732,24.6991299619,18.4774134791,-3.19120460388,-2.27164326635\n"
     ]
    }
   ],
   "source": [
    "Nov2009 = Y2009[(Y2009['month'] == 11)]\n",
    "Nov2010 = Y2010[(Y2010['month'] == 11)]\n",
    "#\n",
    "hours = Nov2009.groupby(['hour']).count()['locQTime'].index.tolist()\n",
    "#\n",
    "numTrip2009 = Nov2009.groupby(['hour']).count()['locQTime'].values\n",
    "numTrip2010 = Nov2010.groupby(['hour']).count()['locQTime'].values\n",
    "QTime2009 = Nov2009.groupby(['hour']).mean()['locQTime'].values\n",
    "QTime2010 = Nov2010.groupby(['hour']).mean()['locQTime'].values\n",
    "EP2009 = Nov2009.groupby(['hour']).mean()['locEP'].values\n",
    "EP2010 = Nov2010.groupby(['hour']).mean()['locEP'].values\n",
    "\n",
    "for x in zip(hours, numTrip2009, numTrip2010, QTime2009, QTime2010, EP2009, EP2010):\n",
    "    print ','.join(map(str, x))"
   ]
  },
  {
   "cell_type": "code",
   "execution_count": null,
   "metadata": {
    "collapsed": true
   },
   "outputs": [],
   "source": []
  }
 ],
 "metadata": {
  "kernelspec": {
   "display_name": "Python 2",
   "language": "python",
   "name": "python2"
  },
  "language_info": {
   "codemirror_mode": {
    "name": "ipython",
    "version": 2
   },
   "file_extension": ".py",
   "mimetype": "text/x-python",
   "name": "python",
   "nbconvert_exporter": "python",
   "pygments_lexer": "ipython2",
   "version": "2.7.12"
  }
 },
 "nbformat": 4,
 "nbformat_minor": 2
}
