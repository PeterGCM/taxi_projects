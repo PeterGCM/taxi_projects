{
 "cells": [
  {
   "cell_type": "code",
   "execution_count": 1,
   "metadata": {
    "collapsed": true
   },
   "outputs": [],
   "source": [
    "import __init__\n",
    "#\n",
    "from IPython.display import HTML, display\n",
    "import pandas as pd\n",
    "import numpy as np\n",
    "import matplotlib.pyplot as plt\n",
    "%matplotlib inline"
   ]
  },
  {
   "cell_type": "markdown",
   "metadata": {},
   "source": [
    "# Airport"
   ]
  },
  {
   "cell_type": "code",
   "execution_count": 2,
   "metadata": {
    "collapsed": false
   },
   "outputs": [],
   "source": [
    "from information_boards import statisticsAllDrivers_ap_dpath\n",
    "from information_boards import statisticsAllDriversTrip_ap_prefix\n",
    "Y2009 = pd.read_csv('%s/Filtered-%s2009.csv' % (statisticsAllDrivers_ap_dpath, statisticsAllDriversTrip_ap_prefix))\n",
    "Y2010 = pd.read_csv('%s/Filtered-%s2010.csv' % (statisticsAllDrivers_ap_dpath, statisticsAllDriversTrip_ap_prefix))"
   ]
  },
  {
   "cell_type": "code",
   "execution_count": 3,
   "metadata": {
    "collapsed": false
   },
   "outputs": [
    {
     "name": "stdout",
     "output_type": "stream",
     "text": [
      "0,13762,17276,41.1779683186,30.4832426488\n",
      "1,8264,11283,38.0111306066,32.9217894177\n",
      "6,9620,10464,37.6081167706,34.2201102192\n",
      "7,8667,11371,45.1148167378,35.3961524932\n",
      "8,6277,9842,48.8705990123,38.5836855653\n",
      "9,5085,6882,55.0098197312,36.0256780975\n",
      "10,5195,5420,43.3331312159,36.3837607626\n",
      "11,5981,6098,42.0779189656,45.7366923582\n",
      "12,7818,10533,37.9656178051,30.1700386088\n",
      "13,8934,10088,31.4653570629,21.9811706979\n",
      "14,9966,10394,28.4973292528,28.1683727792\n",
      "15,10082,12117,28.9577580507,28.8315878518\n",
      "16,8990,13397,31.3436429366,21.3010798437\n",
      "17,12172,13041,37.2639883887,32.2453262787\n",
      "18,13447,13065,32.0182481842,33.7465824723\n",
      "19,10968,13017,36.4009330173,35.1595272848\n",
      "20,15828,15487,26.7725360121,23.007031704\n",
      "21,13330,15015,31.7216616654,26.074001554\n",
      "22,21006,22336,29.0960233584,22.5662823842\n",
      "23,17175,20693,23.5246656963,18.1196765412\n"
     ]
    }
   ],
   "source": [
    "Nov2009 = Y2009[(Y2009['month'] == 11)]\n",
    "Nov2010 = Y2010[(Y2010['month'] == 11)]\n",
    "#\n",
    "hours = Nov2009.groupby(['hour']).count()['locQTime'].index.tolist()\n",
    "#\n",
    "numTrip2009 = Nov2009.groupby(['hour']).count()['locQTime'].values\n",
    "QTime2009 = Nov2009.groupby(['hour']).mean()['locQTime'].values\n",
    "numTrip2010 = Nov2010.groupby(['hour']).count()['locQTime'].values\n",
    "QTime2010 = Nov2010.groupby(['hour']).mean()['locQTime'].values\n",
    "\n",
    "for x in zip(hours, numTrip2009, numTrip2010, QTime2009, QTime2010):\n",
    "    print ','.join(map(str, x))"
   ]
  },
  {
   "cell_type": "markdown",
   "metadata": {
    "collapsed": true
   },
   "source": [
    "# Zoo"
   ]
  },
  {
   "cell_type": "code",
   "execution_count": 4,
   "metadata": {
    "collapsed": true
   },
   "outputs": [],
   "source": [
    "from information_boards import statisticsAllDrivers_ns_dpath\n",
    "from information_boards import statisticsAllDriversTrip_ns1517_prefix\n",
    "Y2009 = pd.read_csv('%s/Filtered-%s2009.csv' % (statisticsAllDrivers_ns_dpath, statisticsAllDriversTrip_ns1517_prefix))\n",
    "Y2010 = pd.read_csv('%s/Filtered-%s2010.csv' % (statisticsAllDrivers_ns_dpath, statisticsAllDriversTrip_ns1517_prefix))"
   ]
  },
  {
   "cell_type": "code",
   "execution_count": 5,
   "metadata": {
    "collapsed": false,
    "scrolled": true
   },
   "outputs": [
    {
     "name": "stdout",
     "output_type": "stream",
     "text": [
      "15,436,478,8.9124235474,99.7481171548\n",
      "16,377,299,9.8867816092,200.296376812\n",
      "17,350,395,9.87885714286,116.093248945\n"
     ]
    }
   ],
   "source": [
    "Nov2009 = Y2009[(Y2009['month'] == 11)]\n",
    "Nov2010 = Y2010[(Y2010['month'] == 11)]\n",
    "#\n",
    "hours = Nov2009.groupby(['hour']).count()['locQTime'].index.tolist()\n",
    "#\n",
    "numTrip2009 = Nov2009.groupby(['hour']).count()['locQTime'].values\n",
    "QTime2009 = Nov2009.groupby(['hour']).mean()['locQTime'].values\n",
    "numTrip2010 = Nov2010.groupby(['hour']).count()['locQTime'].values\n",
    "QTime2010 = Nov2010.groupby(['hour']).mean()['locQTime'].values\n",
    "\n",
    "for x in zip(hours, numTrip2009, numTrip2010, QTime2009, QTime2010):\n",
    "    print ','.join(map(str, x))"
   ]
  },
  {
   "cell_type": "code",
   "execution_count": null,
   "metadata": {
    "collapsed": true
   },
   "outputs": [],
   "source": []
  }
 ],
 "metadata": {
  "kernelspec": {
   "display_name": "Python 2",
   "language": "python",
   "name": "python2"
  },
  "language_info": {
   "codemirror_mode": {
    "name": "ipython",
    "version": 2
   },
   "file_extension": ".py",
   "mimetype": "text/x-python",
   "name": "python",
   "nbconvert_exporter": "python",
   "pygments_lexer": "ipython2",
   "version": "2.7.12"
  }
 },
 "nbformat": 4,
 "nbformat_minor": 2
}
