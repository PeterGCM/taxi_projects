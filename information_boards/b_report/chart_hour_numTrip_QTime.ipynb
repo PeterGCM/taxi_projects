{
 "cells": [
  {
   "cell_type": "code",
   "execution_count": 1,
   "metadata": {
    "collapsed": true
   },
   "outputs": [],
   "source": [
    "import __init__\n",
    "#\n",
    "from IPython.display import HTML, display\n",
    "import pandas as pd\n",
    "import numpy as np\n",
    "import matplotlib.pyplot as plt\n",
    "%matplotlib inline"
   ]
  },
  {
   "cell_type": "markdown",
   "metadata": {},
   "source": [
    "# Airport"
   ]
  },
  {
   "cell_type": "code",
   "execution_count": 2,
   "metadata": {
    "collapsed": false
   },
   "outputs": [],
   "source": [
    "from information_boards import statisticsAllDrivers_ap_dpath\n",
    "from information_boards import statisticsAllDriversTrip_ap_prefix\n",
    "Y2009 = pd.read_csv('%s/Filtered-%s2009.csv' % (statisticsAllDrivers_ap_dpath, statisticsAllDriversTrip_ap_prefix))\n",
    "Y2010 = pd.read_csv('%s/Filtered-%s2010.csv' % (statisticsAllDrivers_ap_dpath, statisticsAllDriversTrip_ap_prefix))"
   ]
  },
  {
   "cell_type": "code",
   "execution_count": 3,
   "metadata": {
    "collapsed": false
   },
   "outputs": [
    {
     "name": "stdout",
     "output_type": "stream",
     "text": [
      "0,13762,17213,41.1779683186,30.0182826933\n",
      "1,8264,11236,38.0111306066,32.3563234247\n",
      "6,9620,10404,37.6081167706,33.3184608484\n",
      "7,8667,11350,45.1148167378,35.2040146843\n",
      "8,6277,9802,48.8705990123,38.1680694416\n",
      "9,5085,6819,55.0098197312,35.0233318668\n",
      "10,5195,5365,43.3331312159,35.2677694936\n",
      "11,5981,6048,42.0779189656,44.8140983245\n",
      "12,7818,10469,37.9656178051,29.422284841\n",
      "13,8934,10037,31.4653570629,21.2696539471\n",
      "14,9966,10346,28.4973292528,27.555456215\n",
      "15,10082,12071,28.9577580507,28.2631430702\n",
      "16,8990,13342,31.3436429366,20.6566594214\n",
      "17,12172,12950,37.2639883887,31.3162097812\n",
      "18,13447,12959,32.0182481842,32.6985505569\n",
      "19,10968,12951,36.4009330173,34.4777893599\n",
      "20,15828,15414,26.7725360121,22.2899269063\n",
      "21,13330,14966,31.7216616654,25.5696723685\n",
      "22,21006,22251,29.0960233584,22.0332928857\n",
      "23,17175,20627,23.5246656963,17.6406053554\n"
     ]
    }
   ],
   "source": [
    "Nov2009 = Y2009[(Y2009['month'] == 11)]\n",
    "Nov2010 = Y2010[(Y2010['month'] == 11)]\n",
    "#\n",
    "hours = Nov2009.groupby(['hour']).count()['locQTime'].index.tolist()\n",
    "#\n",
    "numTrip2009 = Nov2009.groupby(['hour']).count()['locQTime'].values\n",
    "QTime2009 = Nov2009.groupby(['hour']).mean()['locQTime'].values\n",
    "numTrip2010 = Nov2010.groupby(['hour']).count()['locQTime'].values\n",
    "QTime2010 = Nov2010.groupby(['hour']).mean()['locQTime'].values\n",
    "\n",
    "for x in zip(hours, numTrip2009, numTrip2010, QTime2009, QTime2010):\n",
    "    print ','.join(map(str, x))"
   ]
  },
  {
   "cell_type": "markdown",
   "metadata": {
    "collapsed": true
   },
   "source": [
    "# Zoo"
   ]
  },
  {
   "cell_type": "code",
   "execution_count": 6,
   "metadata": {
    "collapsed": true
   },
   "outputs": [],
   "source": [
    "from information_boards import statisticsAllDrivers_ns_dpath\n",
    "from information_boards import statisticsAllDriversTrip_ns1517_prefix\n",
    "Y2009 = pd.read_csv('%s/Filtered-%s2009.csv' % (statisticsAllDrivers_ns_dpath, statisticsAllDriversTrip_ns1517_prefix))\n",
    "Y2010 = pd.read_csv('%s/Filtered-%s2010.csv' % (statisticsAllDrivers_ns_dpath, statisticsAllDriversTrip_ns1517_prefix))"
   ]
  },
  {
   "cell_type": "code",
   "execution_count": 7,
   "metadata": {
    "collapsed": false,
    "scrolled": true
   },
   "outputs": [
    {
     "name": "stdout",
     "output_type": "stream",
     "text": [
      "15,436,462,8.9124235474,5.43784271284\n",
      "16,377,280,9.8867816092,7.00672619048\n",
      "17,350,380,9.87885714286,9.16307017544\n"
     ]
    }
   ],
   "source": [
    "Nov2009 = Y2009[(Y2009['month'] == 11)]\n",
    "Nov2010 = Y2010[(Y2010['month'] == 11)]\n",
    "#\n",
    "hours = Nov2009.groupby(['hour']).count()['locQTime'].index.tolist()\n",
    "#\n",
    "numTrip2009 = Nov2009.groupby(['hour']).count()['locQTime'].values\n",
    "QTime2009 = Nov2009.groupby(['hour']).mean()['locQTime'].values\n",
    "numTrip2010 = Nov2010.groupby(['hour']).count()['locQTime'].values\n",
    "QTime2010 = Nov2010.groupby(['hour']).mean()['locQTime'].values\n",
    "\n",
    "for x in zip(hours, numTrip2009, numTrip2010, QTime2009, QTime2010):\n",
    "    print ','.join(map(str, x))"
   ]
  },
  {
   "cell_type": "markdown",
   "metadata": {},
   "source": [
    "# Night Safari"
   ]
  },
  {
   "cell_type": "code",
   "execution_count": 8,
   "metadata": {
    "collapsed": true
   },
   "outputs": [],
   "source": [
    "from information_boards import statisticsAllDrivers_ns_dpath\n",
    "from information_boards import statisticsAllDriversTrip_ns2023_prefix\n",
    "Y2009 = pd.read_csv('%s/Filtered-%s2009.csv' % (statisticsAllDrivers_ns_dpath, statisticsAllDriversTrip_ns2023_prefix))\n",
    "Y2010 = pd.read_csv('%s/Filtered-%s2010.csv' % (statisticsAllDrivers_ns_dpath, statisticsAllDriversTrip_ns2023_prefix))"
   ]
  },
  {
   "cell_type": "code",
   "execution_count": 9,
   "metadata": {
    "collapsed": false
   },
   "outputs": [
    {
     "name": "stdout",
     "output_type": "stream",
     "text": [
      "20,364,406,28.1848901099,20.0939244663\n",
      "21,709,794,21.6654913023,15.0766582704\n",
      "22,797,857,21.9925763279,15.9888953715\n",
      "23,604,726,24.673013245,18.5654958678\n"
     ]
    }
   ],
   "source": [
    "Nov2009 = Y2009[(Y2009['month'] == 11)]\n",
    "Nov2010 = Y2010[(Y2010['month'] == 11)]\n",
    "#\n",
    "hours = Nov2009.groupby(['hour']).count()['locQTime'].index.tolist()\n",
    "#\n",
    "numTrip2009 = Nov2009.groupby(['hour']).count()['locQTime'].values\n",
    "QTime2009 = Nov2009.groupby(['hour']).mean()['locQTime'].values\n",
    "numTrip2010 = Nov2010.groupby(['hour']).count()['locQTime'].values\n",
    "QTime2010 = Nov2010.groupby(['hour']).mean()['locQTime'].values\n",
    "\n",
    "for x in zip(hours, numTrip2009, numTrip2010, QTime2009, QTime2010):\n",
    "    print ','.join(map(str, x))"
   ]
  },
  {
   "cell_type": "code",
   "execution_count": null,
   "metadata": {
    "collapsed": true
   },
   "outputs": [],
   "source": []
  }
 ],
 "metadata": {
  "kernelspec": {
   "display_name": "Python 2",
   "language": "python",
   "name": "python2"
  },
  "language_info": {
   "codemirror_mode": {
    "name": "ipython",
    "version": 2
   },
   "file_extension": ".py",
   "mimetype": "text/x-python",
   "name": "python",
   "nbconvert_exporter": "python",
   "pygments_lexer": "ipython2",
   "version": "2.7.12"
  }
 },
 "nbformat": 4,
 "nbformat_minor": 2
}
