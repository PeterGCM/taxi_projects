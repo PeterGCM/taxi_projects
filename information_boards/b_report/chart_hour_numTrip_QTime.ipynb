{
 "cells": [
  {
   "cell_type": "code",
   "execution_count": 1,
   "metadata": {
    "collapsed": true
   },
   "outputs": [],
   "source": [
    "import __init__\n",
    "#\n",
    "from IPython.display import HTML, display\n",
    "import pandas as pd\n",
    "import numpy as np\n",
    "import matplotlib.pyplot as plt\n",
    "%matplotlib inline"
   ]
  },
  {
   "cell_type": "code",
   "execution_count": 2,
   "metadata": {
    "collapsed": false
   },
   "outputs": [],
   "source": [
    "from information_boards import statisticsAllDrivers_ap_dpath\n",
    "from information_boards import statisticsAllDriversTrip_ap_prefix\n",
    "Y2009 = pd.read_csv('%s/Filtered-%s2009.csv' % (statisticsAllDrivers_ap_dpath, statisticsAllDriversTrip_ap_prefix))\n",
    "Y2010 = pd.read_csv('%s/Filtered-%s2010.csv' % (statisticsAllDrivers_ap_dpath, statisticsAllDriversTrip_ap_prefix))"
   ]
  },
  {
   "cell_type": "code",
   "execution_count": 3,
   "metadata": {
    "collapsed": true
   },
   "outputs": [],
   "source": [
    "Nov2009 = Y2009[(Y2009['month'] == 11)]\n",
    "Nov2010 = Y2010[(Y2010['month'] == 11)]"
   ]
  },
  {
   "cell_type": "code",
   "execution_count": 17,
   "metadata": {
    "collapsed": false
   },
   "outputs": [
    {
     "data": {
      "text/plain": [
       "[(2, 1, 1), (3, 3, 3), (4, 4, 4)]"
      ]
     },
     "execution_count": 17,
     "metadata": {},
     "output_type": "execute_result"
    }
   ],
   "source": [
    "a = (2,3,4)\n",
    "d = (1,3,4)\n",
    "c = (1,3,4)\n",
    "zip(a,d, c)"
   ]
  },
  {
   "cell_type": "code",
   "execution_count": 20,
   "metadata": {
    "collapsed": false
   },
   "outputs": [
    {
     "name": "stdout",
     "output_type": "stream",
     "text": [
      "0,13816,41.7058241652,17276,30.4832426488\n",
      "1,8356,39.1808640498,11283,32.9217894177\n",
      "6,9716,39.0727785783,10464,34.2201102192\n",
      "7,8684,45.317900737,11371,35.3961524932\n",
      "8,6323,49.5217064684,9842,38.5836855653\n",
      "9,5274,57.9110795095,6882,36.0256780975\n",
      "10,5255,44.5742689502,5420,36.3837607626\n",
      "11,6043,43.3424651111,6098,45.7366923582\n",
      "12,7875,38.8753037037,10533,30.1700386088\n",
      "13,8995,32.3834037428,10088,21.9811706979\n",
      "14,10003,29.0949515145,10394,28.1683727792\n",
      "15,10113,29.4120916972,12117,28.8315878518\n",
      "16,9033,32.0606147828,13397,21.3010798437\n",
      "17,12278,38.4286637346,13041,32.2453262787\n",
      "18,13542,32.9851942106,13065,33.7465824723\n",
      "19,11062,37.4781639848,13017,35.1595272848\n",
      "20,15917,27.5773292706,15487,23.007031704\n",
      "21,13387,32.4240096113,15015,26.074001554\n",
      "22,21064,29.501827763,22336,22.5662823842\n",
      "23,17234,24.0960407721,20693,18.1196765412\n"
     ]
    }
   ],
   "source": [
    "hours = Nov2009.groupby(['hour']).count()['locQTime'].index.tolist()\n",
    "#\n",
    "numTrip2009 = Nov2009.groupby(['hour']).count()['locQTime'].values\n",
    "QTime2009 = Nov2009.groupby(['hour']).mean()['locQTime'].values\n",
    "numTrip2010 = Nov2010.groupby(['hour']).count()['locQTime'].values\n",
    "QTime2010 = Nov2010.groupby(['hour']).mean()['locQTime'].values\n",
    "\n",
    "for x in zip(hours, numTrip2009, QTime2009, numTrip2010, QTime2010):\n",
    "    print ','.join(map(str, x))"
   ]
  },
  {
   "cell_type": "code",
   "execution_count": null,
   "metadata": {
    "collapsed": true
   },
   "outputs": [],
   "source": []
  }
 ],
 "metadata": {
  "kernelspec": {
   "display_name": "Python 2",
   "language": "python",
   "name": "python2"
  },
  "language_info": {
   "codemirror_mode": {
    "name": "ipython",
    "version": 2
   },
   "file_extension": ".py",
   "mimetype": "text/x-python",
   "name": "python",
   "nbconvert_exporter": "python",
   "pygments_lexer": "ipython2",
   "version": "2.7.13"
  }
 },
 "nbformat": 4,
 "nbformat_minor": 2
}
