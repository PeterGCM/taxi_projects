{
 "cells": [
  {
   "cell_type": "code",
   "execution_count": 1,
   "metadata": {
    "collapsed": true
   },
   "outputs": [],
   "source": [
    "import __init__\n",
    "#\n",
    "from IPython.display import HTML, display\n",
    "import pandas as pd\n",
    "import numpy as np\n",
    "from scipy.stats import ttest_ind\n",
    "#\n",
    "# some functions\n",
    "#\n",
    "def text_display(text, font_size):\n",
    "    display(HTML('<font size=%d>' % font_size + text + '</font>'))\n",
    "\n",
    "def table_display(table_data):\n",
    "    display(HTML(\n",
    "    '<table><tr>{}</tr></table>'.format(\n",
    "        '</tr><tr>'.join(\n",
    "            '<td>{}</td>'.format('</td><td>'.join(str(_) for _ in row)) for row in table_data)\n",
    "        )\n",
    "    ))"
   ]
  },
  {
   "cell_type": "markdown",
   "metadata": {},
   "source": [
    "# Questions\n",
    "* Q1: What was changed after information boards were set up?\n",
    "    * H1: Queueing time at the airport in 2009 and 2010 is different\n",
    "    * H2: Economic profit in 2009 and 2010 is different\n",
    "    * H3: Productivity in 2009 and 2010 is different\n",
    "\n",
    "* Q2: Is the impact of information boards valid?\n",
    "    * Simple regression\n",
    "    * Multivariate regression\n",
    "    \n",
    "# Variables\n",
    "* All values are total ones during a certain period\n",
    "* AP trip represents trips which depart from the airport\n",
    "\n",
    "| Variable        | Description |\n",
    "| ---------------- |------------------|\n",
    "| tripNumber       | The number of trips |\n",
    "| operatingHour    | The operating hour (unit hour) |\n",
    "| Fare             | The amount of fare (unit S$\\$$) |\n",
    "| apNumber         | The number of AP trips |\n",
    "| apInNumber       | The number of AP trips whose previous trip ended at the airport |\n",
    "| apOutNumber      | The difference between apNumber and apInNumber |\n",
    "| apDuration       | The amount of time passengers are on board (unit minute) |\n",
    "| apQTime          | The amount of waiting time for taking passengers (unit minute) |\n",
    "| apFare           | The amount of fare earned through AP trips (unit S$\\$$) |\n",
    "| apEconomicProfit | The difference between apFare and opportunity cost (unit S$\\$$) |\n",
    "\n",
    "# Derive variables for analysis\n",
    "| Variable             | Description |\n",
    "| --------------------- |------------------|\n",
    "| QTime/apTrip          | The average queuing time at the airport (unit minute) |\n",
    "| economicProfit/apTrip | The average economic profit about a AP trip (unit S$\\$$) |\n",
    "| Productivity          | The rate of fare per operating hour (unit S$\\$$ / hour) |\n",
    "| apProductivity        | The rate of apFare per the sum of apDuration and apQTime (unit S$\\$$ / hour) |"
   ]
  },
  {
   "cell_type": "code",
   "execution_count": 4,
   "metadata": {
    "collapsed": false
   },
   "outputs": [
    {
     "data": {
      "text/html": [
       "<div>\n",
       "<table border=\"1\" class=\"dataframe\">\n",
       "  <thead>\n",
       "    <tr style=\"text-align: right;\">\n",
       "      <th></th>\n",
       "      <th>year</th>\n",
       "      <th>month</th>\n",
       "      <th>day</th>\n",
       "      <th>driverID</th>\n",
       "      <th>tripNumber</th>\n",
       "      <th>operatingHour</th>\n",
       "      <th>Fare</th>\n",
       "      <th>apNumber</th>\n",
       "      <th>apDuration</th>\n",
       "      <th>apFare</th>\n",
       "      <th>apEconomicProfit</th>\n",
       "      <th>apQTime</th>\n",
       "      <th>apInNumber</th>\n",
       "      <th>apOutNumber</th>\n",
       "      <th>QTime/apTrip</th>\n",
       "      <th>economicProfit/apTrip</th>\n",
       "      <th>Productivity</th>\n",
       "      <th>apProductivity</th>\n",
       "    </tr>\n",
       "  </thead>\n",
       "  <tbody>\n",
       "    <tr>\n",
       "      <th>0</th>\n",
       "      <td>2009</td>\n",
       "      <td>1</td>\n",
       "      <td>1</td>\n",
       "      <td>8240</td>\n",
       "      <td>22</td>\n",
       "      <td>6.816667</td>\n",
       "      <td>274</td>\n",
       "      <td>1</td>\n",
       "      <td>12.0</td>\n",
       "      <td>12</td>\n",
       "      <td>0.724007</td>\n",
       "      <td>25.083333</td>\n",
       "      <td>0</td>\n",
       "      <td>1</td>\n",
       "      <td>25.083333</td>\n",
       "      <td>0.724007</td>\n",
       "      <td>40.195599</td>\n",
       "      <td>19.415730</td>\n",
       "    </tr>\n",
       "    <tr>\n",
       "      <th>1</th>\n",
       "      <td>2009</td>\n",
       "      <td>1</td>\n",
       "      <td>1</td>\n",
       "      <td>16511</td>\n",
       "      <td>22</td>\n",
       "      <td>11.000000</td>\n",
       "      <td>264</td>\n",
       "      <td>1</td>\n",
       "      <td>19.0</td>\n",
       "      <td>17</td>\n",
       "      <td>0.386804</td>\n",
       "      <td>34.700000</td>\n",
       "      <td>0</td>\n",
       "      <td>1</td>\n",
       "      <td>34.700000</td>\n",
       "      <td>0.386804</td>\n",
       "      <td>24.000000</td>\n",
       "      <td>18.994413</td>\n",
       "    </tr>\n",
       "    <tr>\n",
       "      <th>2</th>\n",
       "      <td>2009</td>\n",
       "      <td>1</td>\n",
       "      <td>1</td>\n",
       "      <td>8327</td>\n",
       "      <td>4</td>\n",
       "      <td>3.966667</td>\n",
       "      <td>80</td>\n",
       "      <td>2</td>\n",
       "      <td>40.0</td>\n",
       "      <td>46</td>\n",
       "      <td>-5.265366</td>\n",
       "      <td>107.816667</td>\n",
       "      <td>0</td>\n",
       "      <td>2</td>\n",
       "      <td>53.908333</td>\n",
       "      <td>-2.632683</td>\n",
       "      <td>20.168067</td>\n",
       "      <td>18.671778</td>\n",
       "    </tr>\n",
       "    <tr>\n",
       "      <th>3</th>\n",
       "      <td>2009</td>\n",
       "      <td>1</td>\n",
       "      <td>1</td>\n",
       "      <td>8360</td>\n",
       "      <td>17</td>\n",
       "      <td>10.700000</td>\n",
       "      <td>186</td>\n",
       "      <td>2</td>\n",
       "      <td>44.0</td>\n",
       "      <td>39</td>\n",
       "      <td>-9.475221</td>\n",
       "      <td>96.033333</td>\n",
       "      <td>0</td>\n",
       "      <td>2</td>\n",
       "      <td>48.016667</td>\n",
       "      <td>-4.737610</td>\n",
       "      <td>17.383178</td>\n",
       "      <td>16.710307</td>\n",
       "    </tr>\n",
       "    <tr>\n",
       "      <th>4</th>\n",
       "      <td>2009</td>\n",
       "      <td>1</td>\n",
       "      <td>1</td>\n",
       "      <td>8380</td>\n",
       "      <td>6</td>\n",
       "      <td>5.083333</td>\n",
       "      <td>78</td>\n",
       "      <td>1</td>\n",
       "      <td>26.0</td>\n",
       "      <td>22</td>\n",
       "      <td>6.571396</td>\n",
       "      <td>22.116667</td>\n",
       "      <td>0</td>\n",
       "      <td>1</td>\n",
       "      <td>22.116667</td>\n",
       "      <td>6.571396</td>\n",
       "      <td>15.344262</td>\n",
       "      <td>27.433322</td>\n",
       "    </tr>\n",
       "  </tbody>\n",
       "</table>\n",
       "</div>"
      ],
      "text/plain": [
       "   year  month  day  driverID  tripNumber  operatingHour  Fare  apNumber  \\\n",
       "0  2009      1    1      8240          22       6.816667   274         1   \n",
       "1  2009      1    1     16511          22      11.000000   264         1   \n",
       "2  2009      1    1      8327           4       3.966667    80         2   \n",
       "3  2009      1    1      8360          17      10.700000   186         2   \n",
       "4  2009      1    1      8380           6       5.083333    78         1   \n",
       "\n",
       "   apDuration  apFare  apEconomicProfit     apQTime  apInNumber  apOutNumber  \\\n",
       "0        12.0      12          0.724007   25.083333           0            1   \n",
       "1        19.0      17          0.386804   34.700000           0            1   \n",
       "2        40.0      46         -5.265366  107.816667           0            2   \n",
       "3        44.0      39         -9.475221   96.033333           0            2   \n",
       "4        26.0      22          6.571396   22.116667           0            1   \n",
       "\n",
       "   QTime/apTrip  economicProfit/apTrip  Productivity  apProductivity  \n",
       "0     25.083333               0.724007     40.195599       19.415730  \n",
       "1     34.700000               0.386804     24.000000       18.994413  \n",
       "2     53.908333              -2.632683     20.168067       18.671778  \n",
       "3     48.016667              -4.737610     17.383178       16.710307  \n",
       "4     22.116667               6.571396     15.344262       27.433322  "
      ]
     },
     "metadata": {},
     "output_type": "display_data"
    }
   ],
   "source": [
    "from information_boards import ssDriversStatisticsDayBasedModi_ap_fpath\n",
    "df = pd.read_csv(ssDriversStatisticsDayBasedModi_ap_fpath)\n",
    "display(df.head())"
   ]
  },
  {
   "cell_type": "markdown",
   "metadata": {},
   "source": [
    "# Average"
   ]
  },
  {
   "cell_type": "code",
   "execution_count": 5,
   "metadata": {
    "collapsed": false
   },
   "outputs": [
    {
     "data": {
      "text/html": [
       "<table><tr><td>tripNumber</td><td>operatingHour</td><td>Fare</td></tr><tr><td>20.5815415104</td><td>9.51356016834</td><td>236.40508611</td></tr></table>"
      ],
      "text/plain": [
       "<IPython.core.display.HTML object>"
      ]
     },
     "metadata": {},
     "output_type": "display_data"
    },
    {
     "data": {
      "text/html": [
       "<table><tr><td>apNumber</td><td>apInNumber</td><td>apOutNumber</td><td>apQTime</td><td>apDuration</td><td>apFare</td><td>apEconomicProfit</td></tr><tr><td>1.49209613041</td><td>0.761818587817</td><td>0.73027754259</td><td>51.436393466</td><td>33.2073032872</td><td>30.3966309698</td><td>-3.20255776634</td></tr></table>"
      ],
      "text/plain": [
       "<IPython.core.display.HTML object>"
      ]
     },
     "metadata": {},
     "output_type": "display_data"
    },
    {
     "data": {
      "text/html": [
       "<table><tr><td>QTime/apTrip</td><td>economicProfit/apTrip</td><td>Productivity</td><td>apProductivity</td></tr><tr><td>35.5094687806</td><td>-2.45178834157</td><td>25.1918826042</td><td>22.5313039418</td></tr></table>"
      ],
      "text/plain": [
       "<IPython.core.display.HTML object>"
      ]
     },
     "metadata": {},
     "output_type": "display_data"
    }
   ],
   "source": [
    "attributes = ['tripNumber','operatingHour','Fare']\n",
    "stats = [np.mean(df[attr]) for attr in attributes]\n",
    "table_display([attributes, stats])\n",
    "attributes = ['apNumber','apInNumber','apOutNumber', 'apQTime','apDuration','apFare','apEconomicProfit']\n",
    "stats = [np.mean(df[attr]) for attr in attributes]\n",
    "table_display([attributes, stats])\n",
    "attributes = ['QTime/apTrip', 'economicProfit/apTrip', 'Productivity', 'apProductivity']\n",
    "stats = [np.mean(df[attr]) for attr in attributes]\n",
    "table_display([attributes, stats])"
   ]
  },
  {
   "cell_type": "markdown",
   "metadata": {},
   "source": [
    "# Standard deviation"
   ]
  },
  {
   "cell_type": "code",
   "execution_count": 6,
   "metadata": {
    "collapsed": false
   },
   "outputs": [
    {
     "data": {
      "text/html": [
       "<table><tr><td>tripNumber</td><td>operatingHour</td><td>Fare</td></tr><tr><td>7.29893772745</td><td>2.82046256045</td><td>75.5451044897</td></tr></table>"
      ],
      "text/plain": [
       "<IPython.core.display.HTML object>"
      ]
     },
     "metadata": {},
     "output_type": "display_data"
    },
    {
     "data": {
      "text/html": [
       "<table><tr><td>apNumber</td><td>apInNumber</td><td>apOutNumber</td><td>apQTime</td><td>apDuration</td><td>apFare</td><td>apEconomicProfit</td></tr><tr><td>0.738754429934</td><td>0.620429397624</td><td>0.824249611985</td><td>31.1182085348</td><td>17.7599411017</td><td>16.1323612755</td><td>9.37535889989</td></tr></table>"
      ],
      "text/plain": [
       "<IPython.core.display.HTML object>"
      ]
     },
     "metadata": {},
     "output_type": "display_data"
    },
    {
     "data": {
      "text/html": [
       "<table><tr><td>QTime/apTrip</td><td>economicProfit/apTrip</td><td>Productivity</td><td>apProductivity</td></tr><tr><td>16.6516425523</td><td>6.9523295689</td><td>5.81513439411</td><td>6.85364485303</td></tr></table>"
      ],
      "text/plain": [
       "<IPython.core.display.HTML object>"
      ]
     },
     "metadata": {},
     "output_type": "display_data"
    }
   ],
   "source": [
    "attributes = ['tripNumber','operatingHour','Fare']\n",
    "stats = [np.std(df[attr]) for attr in attributes]\n",
    "table_display([attributes, stats])\n",
    "attributes = ['apNumber','apInNumber','apOutNumber', 'apQTime','apDuration','apFare','apEconomicProfit']\n",
    "stats = [np.std(df[attr]) for attr in attributes]\n",
    "table_display([attributes, stats])\n",
    "attributes = ['QTime/apTrip', 'economicProfit/apTrip', 'Productivity', 'apProductivity']\n",
    "stats = [np.std(df[attr]) for attr in attributes]\n",
    "table_display([attributes, stats])"
   ]
  },
  {
   "cell_type": "markdown",
   "metadata": {},
   "source": [
    "# t-test"
   ]
  },
  {
   "cell_type": "code",
   "execution_count": 7,
   "metadata": {
    "collapsed": false
   },
   "outputs": [
    {
     "data": {
      "text/html": [
       "<table><tr><td>Year</td><td>QTime/apTrip</td><td>economicProfit/apTrip</td><td>Productivity</td><td>apProductivity</td></tr><tr><td>2009</td><td>38.915466(17.891110)</td><td>-2.704482(7.204491)</td><td>23.883347(5.435751)</td><td>21.269859(6.699606)</td></tr><tr><td>2010</td><td>32.870265(15.104609)</td><td>-2.255984(6.743986)</td><td>26.205827(5.896494)</td><td>23.508759(6.811910)</td></tr><tr><td>Diff.</td><td>-6.045201</td><td>0.448498</td><td>2.322480</td><td>2.238900</td></tr><tr><td>t-test</td><td>-120.018634(0.000000)</td><td>20.988980(0.000000)</td><td>132.502021(0.000000)</td><td>107.653457(0.000000)</td></tr></table>"
      ],
      "text/plain": [
       "<IPython.core.display.HTML object>"
      ]
     },
     "metadata": {},
     "output_type": "display_data"
    }
   ],
   "source": [
    "Y2009, Y2010 = df[(df['year'] == 2009)], df[(df['year'] == 2010)]\n",
    "# statistics\n",
    "attributes = ['QTime/apTrip', 'economicProfit/apTrip', 'Productivity', 'apProductivity']\n",
    "Y2009_avg_std = [(Y2009[attr].mean(), Y2009[attr].std()) for attr in attributes]\n",
    "Y2010_avg_std = [(Y2010[attr].mean(), Y2010[attr].std()) for attr in attributes]\n",
    "t_test = [ttest_ind(Y2010[attr], Y2009[attr]) for attr in attributes]\n",
    "# display\n",
    "# table_display([ ['Year'] + attributes,\n",
    "#                 ['2009'] + ['%.2f(%.2f)' % (a, v) for a, v in Y2009_avg_std],\n",
    "#                 ['2010'] + ['%.2f(%.2f)' % (a, v) for a, v in Y2010_avg_std],\n",
    "#                 ['Diff.'] + ['%.2f' % (Y2010_avg_std[i][0] - Y2009_avg_std[i][0]) for i in range(len(Y2009_avg_std))],\n",
    "#                 ['t-test'] + ['%.2f(%.2f)' % (t, p) for t, p in t_test]\n",
    "#                 ])\n",
    "table_display([ ['Year'] + attributes,\n",
    "                ['2009'] + ['%f(%f)' % (a, v) for a, v in Y2009_avg_std],\n",
    "                ['2010'] + ['%f(%f)' % (a, v) for a, v in Y2010_avg_std],\n",
    "                ['Diff.'] + ['%f' % (Y2010_avg_std[i][0] - Y2009_avg_std[i][0]) for i in range(len(Y2009_avg_std))],\n",
    "                ['t-test'] + ['%f(%f)' % (t, p) for t, p in t_test]\n",
    "                ])"
   ]
  }
 ],
 "metadata": {
  "anaconda-cloud": {},
  "kernelspec": {
   "display_name": "Python [default]",
   "language": "python",
   "name": "python2"
  },
  "language_info": {
   "codemirror_mode": {
    "name": "ipython",
    "version": 2
   },
   "file_extension": ".py",
   "mimetype": "text/x-python",
   "name": "python",
   "nbconvert_exporter": "python",
   "pygments_lexer": "ipython2",
   "version": "2.7.12"
  }
 },
 "nbformat": 4,
 "nbformat_minor": 1
}
