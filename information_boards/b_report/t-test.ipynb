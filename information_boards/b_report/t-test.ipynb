{
 "cells": [
  {
   "cell_type": "code",
   "execution_count": null,
   "metadata": {
    "collapsed": true
   },
   "outputs": [],
   "source": [
    "Y2009, Y2010 = dfDayAP[(dfDayAP['year'] == 2009)], dfDayAP[(dfDayAP['year'] == 2010)]\n",
    "# statistics\n",
    "attributes = ['QTime/locTrip', 'EP/locTrip', 'wleProductivity', 'locProductivity']\n",
    "for strY, dfY in [('2009:', Y2009),('2010:', Y2010)]:\n",
    "    values = []\n",
    "    for attr in attributes:\n",
    "        values.append(dfY[attr].mean())\n",
    "        values.append(dfY[attr].std())\n",
    "    print strY + ','.join(map(str, values))\n",
    "#\n",
    "values = []\n",
    "for attr in attributes:\n",
    "    values.append(Y2010[attr].mean() - Y2009[attr].mean())\n",
    "print 'Diff.:' + ','.join(map(str, values))\n",
    "#\n",
    "t_test = [ttest_ind(Y2010[attr], Y2009[attr]) for attr in attributes]\n",
    "print 't score:' + ','.join(map(str, [t for t, _ in t_test]))\n",
    "print 'p value:' + ','.join(map(str, [p for _, p in t_test]))"
   ]
  }
 ],
 "metadata": {
  "kernelspec": {
   "display_name": "Python 2",
   "language": "python",
   "name": "python2"
  },
  "language_info": {
   "codemirror_mode": {
    "name": "ipython",
    "version": 2
   },
   "file_extension": ".py",
   "mimetype": "text/x-python",
   "name": "python",
   "nbconvert_exporter": "python",
   "pygments_lexer": "ipython2",
   "version": "2.7.12"
  }
 },
 "nbformat": 4,
 "nbformat_minor": 2
}
