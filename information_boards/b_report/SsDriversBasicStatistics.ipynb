{
 "cells": [
  {
   "cell_type": "code",
   "execution_count": 1,
   "metadata": {
    "collapsed": false
   },
   "outputs": [],
   "source": [
    "import __init__\n",
    "#\n",
    "from IPython.display import HTML, display\n",
    "import pandas as pd\n",
    "import numpy as np\n",
    "from scipy.stats import ttest_ind"
   ]
  },
  {
   "cell_type": "markdown",
   "metadata": {},
   "source": [
    "# Airport"
   ]
  },
  {
   "cell_type": "code",
   "execution_count": 2,
   "metadata": {
    "collapsed": false
   },
   "outputs": [],
   "source": [
    "from information_boards import statisticsSsDrivers_ap_dpath\n",
    "from information_boards import statisticsSsDriversDay_ap_prefix\n",
    "#\n",
    "dfDayAP = pd.read_csv('%s/%sall.csv' % (statisticsSsDrivers_ap_dpath, statisticsSsDriversDay_ap_prefix))\n",
    "for cn in dfDayAP.columns:\n",
    "    if cn in ['year', 'month', 'day', 'driverID']:\n",
    "        continue\n",
    "    dfDayAP = dfDayAP[~(np.abs(dfDayAP[cn] - dfDayAP[cn].mean()) > (3 * dfDayAP[cn].std()))]"
   ]
  },
  {
   "cell_type": "code",
   "execution_count": 4,
   "metadata": {
    "collapsed": false
   },
   "outputs": [
    {
     "name": "stdout",
     "output_type": "stream",
     "text": [
      "The number of drivers: 8326\n"
     ]
    }
   ],
   "source": [
    "print 'The number of drivers: %d' % len(set(dfDayAP['driverID']))"
   ]
  },
  {
   "cell_type": "code",
   "execution_count": 5,
   "metadata": {
    "collapsed": false
   },
   "outputs": [
    {
     "data": {
      "text/plain": [
       "Index([u'year', u'month', u'day', u'driverID', u'wleTripNumber',\n",
       "       u'wleOperatingHour', u'wleFare', u'wleProductivity', u'locTripNumber',\n",
       "       u'locInNumber', u'locOutNumber', u'locQTime', u'locEP', u'locDuration',\n",
       "       u'locFare', u'QTime/locTrip', u'EP/locTrip', u'locProductivity'],\n",
       "      dtype='object')"
      ]
     },
     "execution_count": 5,
     "metadata": {},
     "output_type": "execute_result"
    }
   ],
   "source": [
    "dfDayAP.columns"
   ]
  },
  {
   "cell_type": "markdown",
   "metadata": {},
   "source": [
    "## Average and S.D."
   ]
  },
  {
   "cell_type": "code",
   "execution_count": 6,
   "metadata": {
    "collapsed": false
   },
   "outputs": [
    {
     "name": "stdout",
     "output_type": "stream",
     "text": [
      "wleTripNumber:19.292777,7.452576\n",
      "wleOperatingHour:8.921979,2.856571\n",
      "wleFare:222.404312,76.450514\n",
      "wleProductivity:25.211728,4.981360\n",
      "locTripNumber:1.508979,0.770706\n",
      "locInNumber:0.732802,0.625638\n",
      "locOutNumber:0.776176,0.916978\n",
      "locQTime:50.971437,37.338021\n",
      "locEP:-2.697658,10.518194\n",
      "locDuration:33.004294,18.231535\n",
      "locFare:30.860166,16.858773\n",
      "QTime/locTrip:33.408443,17.660480\n",
      "EP/locTrip:-1.629348,7.108661\n",
      "locProductivity:24.318467,8.657223\n"
     ]
    }
   ],
   "source": [
    "for cn in dfDayAP.columns:\n",
    "    if cn in ['year', 'month', 'day', 'driverID']:\n",
    "        continue\n",
    "    print '%s:%f,%f' % (cn, dfDayAP[cn].mean(), dfDayAP[cn].std())"
   ]
  },
  {
   "cell_type": "markdown",
   "metadata": {},
   "source": [
    "## t-test"
   ]
  },
  {
   "cell_type": "code",
   "execution_count": 7,
   "metadata": {
    "collapsed": false
   },
   "outputs": [
    {
     "name": "stdout",
     "output_type": "stream",
     "text": [
      "2009:36.7235348899,18.9449430565,-1.91363319089,7.31434189254,23.8398629192,4.85043301596,22.9727547255,8.59688440884\n",
      "2010:30.888241411,16.1691917921,-1.41322816297,6.94044753136,26.2546486671,4.82432900163,25.3415060103,8.5624646155\n",
      "Diff.:-5.83529347896,0.500405027915,2.4147857479,2.36875128482\n",
      "t score:-150.522496872,31.6550590976,224.425288937,124.111453542\n",
      "p value:0.0,8.76672123368e-220,0.0,0.0\n"
     ]
    }
   ],
   "source": [
    "Y2009, Y2010 = dfDayAP[(dfDayAP['year'] == 2009)], dfDayAP[(dfDayAP['year'] == 2010)]\n",
    "# statistics\n",
    "attributes = ['QTime/locTrip', 'EP/locTrip', 'wleProductivity', 'locProductivity']\n",
    "for strY, dfY in [('2009:', Y2009),('2010:', Y2010)]:\n",
    "    values = []\n",
    "    for attr in attributes:\n",
    "        values.append(dfY[attr].mean())\n",
    "        values.append(dfY[attr].std())\n",
    "    print strY + ','.join(map(str, values))\n",
    "#\n",
    "values = []\n",
    "for attr in attributes:\n",
    "    values.append(Y2010[attr].mean() - Y2009[attr].mean())\n",
    "print 'Diff.:' + ','.join(map(str, values))\n",
    "#\n",
    "t_test = [ttest_ind(Y2010[attr], Y2009[attr]) for attr in attributes]\n",
    "print 't score:' + ','.join(map(str, [t for t, _ in t_test]))\n",
    "print 'p value:' + ','.join(map(str, [p for _, p in t_test]))"
   ]
  },
  {
   "cell_type": "markdown",
   "metadata": {},
   "source": [
    "# Zoo"
   ]
  },
  {
   "cell_type": "code",
   "execution_count": 9,
   "metadata": {
    "collapsed": false
   },
   "outputs": [],
   "source": [
    "from information_boards import statisticsSsDrivers_ns_dpath\n",
    "from information_boards import statisticsSsDriversDay_ns1519_prefix\n",
    "#\n",
    "dfDayZ = pd.read_csv('%s/%sall.csv' % (statisticsSsDrivers_ns_dpath, statisticsSsDriversDay_ns1519_prefix))\n",
    "#\n",
    "for cn in dfDayZ.columns:\n",
    "    if cn in ['year', 'month', 'day', 'driverID']:\n",
    "        continue\n",
    "    dfDayZ = dfDayZ[~(np.abs(dfDayZ[cn] - dfDayZ[cn].mean()) > (3 * dfDayZ[cn].std()))]"
   ]
  },
  {
   "cell_type": "code",
   "execution_count": 10,
   "metadata": {
    "collapsed": false
   },
   "outputs": [
    {
     "name": "stdout",
     "output_type": "stream",
     "text": [
      "The number of drivers: 5078\n"
     ]
    }
   ],
   "source": [
    "print 'The number of drivers: %d' % len(set(dfDayZ['driverID']))"
   ]
  },
  {
   "cell_type": "markdown",
   "metadata": {},
   "source": [
    "## Average and S.D."
   ]
  },
  {
   "cell_type": "code",
   "execution_count": 11,
   "metadata": {
    "collapsed": false
   },
   "outputs": [
    {
     "name": "stdout",
     "output_type": "stream",
     "text": [
      "wleTripNumber:7.999728,3.104877\n",
      "wleOperatingHour:3.724304,0.998178\n",
      "wleFare:98.258548,33.432033\n",
      "wleProductivity:26.414184,6.043652\n",
      "locTripNumber:1.000000,0.000000\n",
      "locInNumber:0.473469,0.499309\n",
      "locOutNumber:0.526531,0.499309\n",
      "locQTime:11.104757,11.241824\n",
      "locEP:2.496441,4.780785\n",
      "locDuration:23.352582,8.415899\n",
      "locFare:16.296322,5.877733\n",
      "QTime/locTrip:11.104757,11.241824\n",
      "EP/locTrip:2.496441,4.780785\n",
      "locProductivity:30.551844,9.312548\n"
     ]
    }
   ],
   "source": [
    "for cn in dfDayZ.columns:\n",
    "    if cn in ['year', 'month', 'day', 'driverID']:\n",
    "        continue\n",
    "    print '%s:%f,%f' % (cn, dfDayZ[cn].mean(), dfDayZ[cn].std())"
   ]
  },
  {
   "cell_type": "markdown",
   "metadata": {},
   "source": [
    "## t-test"
   ]
  },
  {
   "cell_type": "code",
   "execution_count": 12,
   "metadata": {
    "collapsed": false
   },
   "outputs": [
    {
     "name": "stdout",
     "output_type": "stream",
     "text": [
      "2009:13.1388145315,11.9722366,2.2014761647,4.931329136,25.1000340497,5.89739519865,28.7573933437,9.30500939054\n",
      "2010:9.19405353055,10.1452658797,2.77351716829,4.61804882528,27.6486380367,5.91807872977,32.2374707063,8.99987960663\n",
      "Diff.:-3.944761001,0.572041003591,2.54860398705,3.48007736258\n",
      "t score:-24.1324693405,8.11597381782,29.2081033946,25.7551754927\n",
      "p value:1.06876240312e-126,5.1208061249e-16,2.34962078999e-183,9.99665306976e-144\n"
     ]
    }
   ],
   "source": [
    "Y2009, Y2010 = dfDayZ[(dfDayZ['year'] == 2009)], dfDayZ[(dfDayZ['year'] == 2010)]\n",
    "# statistics\n",
    "attributes = ['QTime/locTrip', 'EP/locTrip', 'wleProductivity', 'locProductivity']\n",
    "for strY, dfY in [('2009:', Y2009),('2010:', Y2010)]:\n",
    "    values = []\n",
    "    for attr in attributes:\n",
    "        values.append(dfY[attr].mean())\n",
    "        values.append(dfY[attr].std())\n",
    "    print strY + ','.join(map(str, values))\n",
    "#\n",
    "values = []\n",
    "for attr in attributes:\n",
    "    values.append(Y2010[attr].mean() - Y2009[attr].mean())\n",
    "print 'Diff.:' + ','.join(map(str, values))\n",
    "#\n",
    "t_test = [ttest_ind(Y2010[attr], Y2009[attr]) for attr in attributes]\n",
    "print 't score:' + ','.join(map(str, [t for t, _ in t_test]))\n",
    "print 'p value:' + ','.join(map(str, [p for _, p in t_test]))"
   ]
  },
  {
   "cell_type": "markdown",
   "metadata": {},
   "source": [
    "# Night Safari"
   ]
  },
  {
   "cell_type": "code",
   "execution_count": 13,
   "metadata": {
    "collapsed": false
   },
   "outputs": [],
   "source": [
    "from information_boards import statisticsSsDrivers_ns_dpath\n",
    "from information_boards import statisticsSsDriversDay_ns2000_prefix\n",
    "#\n",
    "dfDayNS = pd.read_csv('%s/%sall.csv' % (statisticsSsDrivers_ns_dpath, statisticsSsDriversDay_ns2000_prefix))\n",
    "#\n",
    "for cn in dfDayNS.columns:\n",
    "    if cn in ['year', 'month', 'day', 'driverID']:\n",
    "        continue\n",
    "    dfDayNS = dfDayNS[~(np.abs(dfDayNS[cn] - dfDayNS[cn].mean()) > (3 * dfDayNS[cn].std()))]"
   ]
  },
  {
   "cell_type": "code",
   "execution_count": 14,
   "metadata": {
    "collapsed": false
   },
   "outputs": [
    {
     "name": "stdout",
     "output_type": "stream",
     "text": [
      "The number of drivers: 2859\n"
     ]
    }
   ],
   "source": [
    "print 'The number of drivers: %d' % len(set(dfDayNS['driverID']))"
   ]
  },
  {
   "cell_type": "markdown",
   "metadata": {},
   "source": [
    "## Average and S.D."
   ]
  },
  {
   "cell_type": "code",
   "execution_count": 15,
   "metadata": {
    "collapsed": false
   },
   "outputs": [
    {
     "name": "stdout",
     "output_type": "stream",
     "text": [
      "wleTripNumber:6.997065,2.743100\n",
      "wleOperatingHour:3.601195,0.952466\n",
      "wleFare:85.075783,30.605716\n",
      "wleProductivity:23.602779,5.882458\n",
      "locTripNumber:1.000000,0.000000\n",
      "locInNumber:0.200414,0.400322\n",
      "locOutNumber:0.799586,0.400322\n",
      "locQTime:19.105537,13.166478\n",
      "locEP:-2.145871,5.668820\n",
      "locDuration:22.447738,6.035592\n",
      "locFare:15.170446,3.910377\n",
      "QTime/locTrip:19.105537,13.166478\n",
      "EP/locTrip:-2.145871,5.668820\n",
      "locProductivity:23.920848,8.282603\n"
     ]
    }
   ],
   "source": [
    "for cn in dfDayNS.columns:\n",
    "    if cn in ['year', 'month', 'day', 'driverID']:\n",
    "        continue\n",
    "    print '%s:%f,%f' % (cn, dfDayNS[cn].mean(), dfDayNS[cn].std())"
   ]
  },
  {
   "cell_type": "markdown",
   "metadata": {},
   "source": [
    "## t-test"
   ]
  },
  {
   "cell_type": "code",
   "execution_count": 13,
   "metadata": {
    "collapsed": false
   },
   "outputs": [
    {
     "name": "stdout",
     "output_type": "stream",
     "text": [
      "2009:19.8973251678,13.0030466926,-1.66345648399,5.35954520049,23.1707346572,5.44041971718,23.2576929225,8.15883556845\n",
      "2010:16.1108100762,11.6802958311,-1.63648447022,5.31508067093,25.8845598393,5.52179562656,25.8196747003,8.58130179661\n",
      "Diff.:-3.78651509163,0.0269720137678,2.71382518216,2.56198177783\n",
      "t score:-38.8297215849,0.640079992473,62.70244869,38.7429645402\n",
      "p value:0.0,0.522122880768,0.0,0.0\n"
     ]
    }
   ],
   "source": [
    "Y2009, Y2010 = dfDayNS[(dfDayNS['year'] == 2009)], dfDayNS[(dfDayNS['year'] == 2010)]\n",
    "# statistics\n",
    "attributes = ['QTime/locTrip', 'EP/locTrip', 'wleProductivity', 'locProductivity']\n",
    "for strY, dfY in [('2009:', Y2009),('2010:', Y2010)]:\n",
    "    values = []\n",
    "    for attr in attributes:\n",
    "        values.append(dfY[attr].mean())\n",
    "        values.append(dfY[attr].std())\n",
    "    print strY + ','.join(map(str, values))\n",
    "#\n",
    "values = []\n",
    "for attr in attributes:\n",
    "    values.append(Y2010[attr].mean() - Y2009[attr].mean())\n",
    "print 'Diff.:' + ','.join(map(str, values))\n",
    "#\n",
    "t_test = [ttest_ind(Y2010[attr], Y2009[attr]) for attr in attributes]\n",
    "print 't score:' + ','.join(map(str, [t for t, _ in t_test]))\n",
    "print 'p value:' + ','.join(map(str, [p for _, p in t_test]))"
   ]
  },
  {
   "cell_type": "code",
   "execution_count": null,
   "metadata": {
    "collapsed": true
   },
   "outputs": [],
   "source": []
  }
 ],
 "metadata": {
  "kernelspec": {
   "display_name": "Python 2",
   "language": "python",
   "name": "python2"
  },
  "language_info": {
   "codemirror_mode": {
    "name": "ipython",
    "version": 2
   },
   "file_extension": ".py",
   "mimetype": "text/x-python",
   "name": "python",
   "nbconvert_exporter": "python",
   "pygments_lexer": "ipython2",
   "version": "2.7.13"
  }
 },
 "nbformat": 4,
 "nbformat_minor": 2
}
