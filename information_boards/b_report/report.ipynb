{
 "cells": [
  {
   "cell_type": "code",
   "execution_count": 1,
   "metadata": {
    "collapsed": true
   },
   "outputs": [],
   "source": [
    "import __init__\n",
    "#\n",
    "from IPython.display import HTML, display\n",
    "import pandas as pd\n",
    "import numpy as np\n",
    "from scipy.stats import ttest_ind\n",
    "#\n",
    "# some functions\n",
    "#\n",
    "def text_display(text, font_size):\n",
    "    display(HTML('<font size=%d>' % font_size + text + '</font>'))\n",
    "\n",
    "def table_display(table_data):\n",
    "    display(HTML(\n",
    "    '<table><tr>{}</tr></table>'.format(\n",
    "        '</tr><tr>'.join(\n",
    "            '<td>{}</td>'.format('</td><td>'.join(str(_) for _ in row)) for row in table_data)\n",
    "        )\n",
    "    ))"
   ]
  },
  {
   "cell_type": "markdown",
   "metadata": {},
   "source": [
    "# Questions\n",
    "* Q1: What was changed after information boards were set up?\n",
    "    * H1: Queueing time at the airport in 2009 and 2010 is different\n",
    "    * H2: Economic profit in 2009 and 2010 is different\n",
    "    * H3: Productivity in 2009 and 2010 is different\n",
    "\n",
    "* Q2: Is the impact of information boards valid?\n",
    "    * Simple regression\n",
    "    * Multivariate regression\n",
    "    \n",
    "# Variables\n",
    "* All values are total ones during a certain period\n",
    "* AP trip represents trips which depart from the airport\n",
    "\n",
    "| Variable        | Description |\n",
    "| ---------------- |------------------|\n",
    "| tripNumber       | The number of trips |\n",
    "| operatingHour    | The operating hour (unit hour) |\n",
    "| Fare             | The amount of fare (unit S$\\$$) |\n",
    "| apNumber         | The number of AP trips |\n",
    "| apInNumber       | The number of AP trips whose previous trip ended at the airport |\n",
    "| apOutNumber      | The difference between apNumber and apInNumber |\n",
    "| apDuration       | The amount of time passengers are on board (unit minute) |\n",
    "| apQTime          | The amount of waiting time for taking passengers (unit minute) |\n",
    "| apFare           | The amount of fare earned through AP trips (unit S$\\$$) |\n",
    "| apEconomicProfit | The difference between apFare and opportunity cost (unit S$\\$$) |\n",
    "\n",
    "# Derive variables for analysis\n",
    "| Variable             | Description |\n",
    "| --------------------- |------------------|\n",
    "| QTime/apTrip          | The average queuing time at the airport (unit minute) |\n",
    "| economicProfit/apTrip | The average economic profit about a AP trip (unit S$\\$$) |\n",
    "| Productivity          | The rate of fare per operating hour (unit S$\\$$ / hour) |\n",
    "| apProductivity        | The rate of apFare per the sum of apDuration and apQTime (unit S$\\$$ / hour) |"
   ]
  },
  {
   "cell_type": "code",
   "execution_count": 2,
   "metadata": {
    "collapsed": false
   },
   "outputs": [
    {
     "data": {
      "text/html": [
       "<div>\n",
       "<table border=\"1\" class=\"dataframe\">\n",
       "  <thead>\n",
       "    <tr style=\"text-align: right;\">\n",
       "      <th></th>\n",
       "      <th>year</th>\n",
       "      <th>month</th>\n",
       "      <th>day</th>\n",
       "      <th>driverID</th>\n",
       "      <th>tripNumber</th>\n",
       "      <th>operatingHour</th>\n",
       "      <th>Fare</th>\n",
       "      <th>apNumber</th>\n",
       "      <th>apDuration</th>\n",
       "      <th>apFare</th>\n",
       "      <th>apEconomicProfit</th>\n",
       "      <th>apQTime</th>\n",
       "      <th>apInNumber</th>\n",
       "      <th>apOutNumber</th>\n",
       "      <th>QTime/apTrip</th>\n",
       "      <th>economicProfit/apTrip</th>\n",
       "      <th>Productivity</th>\n",
       "      <th>apProductivity</th>\n",
       "    </tr>\n",
       "  </thead>\n",
       "  <tbody>\n",
       "    <tr>\n",
       "      <th>0</th>\n",
       "      <td>2009</td>\n",
       "      <td>1</td>\n",
       "      <td>1</td>\n",
       "      <td>8240</td>\n",
       "      <td>22</td>\n",
       "      <td>6.816667</td>\n",
       "      <td>274</td>\n",
       "      <td>1</td>\n",
       "      <td>12.0</td>\n",
       "      <td>12</td>\n",
       "      <td>72.400709</td>\n",
       "      <td>25.083333</td>\n",
       "      <td>0</td>\n",
       "      <td>1</td>\n",
       "      <td>25.083333</td>\n",
       "      <td>72.400709</td>\n",
       "      <td>40.195599</td>\n",
       "      <td>19.415730</td>\n",
       "    </tr>\n",
       "    <tr>\n",
       "      <th>1</th>\n",
       "      <td>2009</td>\n",
       "      <td>1</td>\n",
       "      <td>1</td>\n",
       "      <td>16511</td>\n",
       "      <td>22</td>\n",
       "      <td>11.000000</td>\n",
       "      <td>264</td>\n",
       "      <td>1</td>\n",
       "      <td>19.0</td>\n",
       "      <td>17</td>\n",
       "      <td>38.680422</td>\n",
       "      <td>34.700000</td>\n",
       "      <td>0</td>\n",
       "      <td>1</td>\n",
       "      <td>34.700000</td>\n",
       "      <td>38.680422</td>\n",
       "      <td>24.000000</td>\n",
       "      <td>18.994413</td>\n",
       "    </tr>\n",
       "    <tr>\n",
       "      <th>2</th>\n",
       "      <td>2009</td>\n",
       "      <td>1</td>\n",
       "      <td>1</td>\n",
       "      <td>8327</td>\n",
       "      <td>4</td>\n",
       "      <td>3.966667</td>\n",
       "      <td>80</td>\n",
       "      <td>2</td>\n",
       "      <td>40.0</td>\n",
       "      <td>46</td>\n",
       "      <td>-526.536570</td>\n",
       "      <td>107.816667</td>\n",
       "      <td>0</td>\n",
       "      <td>2</td>\n",
       "      <td>53.908333</td>\n",
       "      <td>-263.268285</td>\n",
       "      <td>20.168067</td>\n",
       "      <td>18.671778</td>\n",
       "    </tr>\n",
       "    <tr>\n",
       "      <th>3</th>\n",
       "      <td>2009</td>\n",
       "      <td>1</td>\n",
       "      <td>1</td>\n",
       "      <td>8360</td>\n",
       "      <td>17</td>\n",
       "      <td>10.700000</td>\n",
       "      <td>186</td>\n",
       "      <td>2</td>\n",
       "      <td>44.0</td>\n",
       "      <td>39</td>\n",
       "      <td>-947.522072</td>\n",
       "      <td>96.033333</td>\n",
       "      <td>0</td>\n",
       "      <td>2</td>\n",
       "      <td>48.016667</td>\n",
       "      <td>-473.761036</td>\n",
       "      <td>17.383178</td>\n",
       "      <td>16.710307</td>\n",
       "    </tr>\n",
       "    <tr>\n",
       "      <th>4</th>\n",
       "      <td>2009</td>\n",
       "      <td>1</td>\n",
       "      <td>1</td>\n",
       "      <td>8380</td>\n",
       "      <td>6</td>\n",
       "      <td>5.083333</td>\n",
       "      <td>78</td>\n",
       "      <td>1</td>\n",
       "      <td>26.0</td>\n",
       "      <td>22</td>\n",
       "      <td>657.139597</td>\n",
       "      <td>22.116667</td>\n",
       "      <td>0</td>\n",
       "      <td>1</td>\n",
       "      <td>22.116667</td>\n",
       "      <td>657.139597</td>\n",
       "      <td>15.344262</td>\n",
       "      <td>27.433322</td>\n",
       "    </tr>\n",
       "  </tbody>\n",
       "</table>\n",
       "</div>"
      ],
      "text/plain": [
       "   year  month  day  driverID  tripNumber  operatingHour  Fare  apNumber  \\\n",
       "0  2009      1    1      8240          22       6.816667   274         1   \n",
       "1  2009      1    1     16511          22      11.000000   264         1   \n",
       "2  2009      1    1      8327           4       3.966667    80         2   \n",
       "3  2009      1    1      8360          17      10.700000   186         2   \n",
       "4  2009      1    1      8380           6       5.083333    78         1   \n",
       "\n",
       "   apDuration  apFare  apEconomicProfit     apQTime  apInNumber  apOutNumber  \\\n",
       "0        12.0      12         72.400709   25.083333           0            1   \n",
       "1        19.0      17         38.680422   34.700000           0            1   \n",
       "2        40.0      46       -526.536570  107.816667           0            2   \n",
       "3        44.0      39       -947.522072   96.033333           0            2   \n",
       "4        26.0      22        657.139597   22.116667           0            1   \n",
       "\n",
       "   QTime/apTrip  economicProfit/apTrip  Productivity  apProductivity  \n",
       "0     25.083333              72.400709     40.195599       19.415730  \n",
       "1     34.700000              38.680422     24.000000       18.994413  \n",
       "2     53.908333            -263.268285     20.168067       18.671778  \n",
       "3     48.016667            -473.761036     17.383178       16.710307  \n",
       "4     22.116667             657.139597     15.344262       27.433322  "
      ]
     },
     "metadata": {},
     "output_type": "display_data"
    }
   ],
   "source": [
    "from information_boards import ssDriversStatisticsDayBased_ap_fpath\n",
    "df = pd.read_csv(ssDriversStatisticsDayBased_ap_fpath)\n",
    "display(df.head())"
   ]
  },
  {
   "cell_type": "code",
   "execution_count": 3,
   "metadata": {
    "collapsed": false
   },
   "outputs": [
    {
     "data": {
      "text/html": [
       "<table><tr><td>tripNumber</td><td>operatingHour</td><td>Fare</td></tr><tr><td>20.7517159579</td><td>9.50398798283</td><td>237.288602419</td></tr></table>"
      ],
      "text/plain": [
       "<IPython.core.display.HTML object>"
      ]
     },
     "metadata": {},
     "output_type": "display_data"
    },
    {
     "data": {
      "text/html": [
       "<table><tr><td>apNumber</td><td>apInNumber</td><td>apOutNumber</td><td>apQTime</td><td>apDuration</td><td>apFare</td><td>apEconomicProfit</td></tr><tr><td>1.48652672649</td><td>0.763249317206</td><td>0.723277409286</td><td>51.1175071401</td><td>33.0808770972</td><td>30.1942848225</td><td>-316.058436358</td></tr></table>"
      ],
      "text/plain": [
       "<IPython.core.display.HTML object>"
      ]
     },
     "metadata": {},
     "output_type": "display_data"
    },
    {
     "data": {
      "text/html": [
       "<table><tr><td>QTime/apTrip</td><td>economicProfit/apTrip</td><td>Productivity</td><td>apProductivity</td></tr><tr><td>35.3979132848</td><td>-242.161622648</td><td>25.3206228802</td><td>22.5094033858</td></tr></table>"
      ],
      "text/plain": [
       "<IPython.core.display.HTML object>"
      ]
     },
     "metadata": {},
     "output_type": "display_data"
    }
   ],
   "source": [
    "attributes = ['tripNumber','operatingHour','Fare']\n",
    "stats = [np.mean(df[attr]) for attr in attributes]\n",
    "table_display([attributes, stats])\n",
    "attributes = ['apNumber','apInNumber','apOutNumber', 'apQTime','apDuration','apFare','apEconomicProfit']\n",
    "stats = [np.mean(df[attr]) for attr in attributes]\n",
    "table_display([attributes, stats])\n",
    "attributes = ['QTime/apTrip', 'economicProfit/apTrip', 'Productivity', 'apProductivity']\n",
    "stats = [np.mean(df[attr]) for attr in attributes]\n",
    "table_display([attributes, stats])"
   ]
  },
  {
   "cell_type": "code",
   "execution_count": 4,
   "metadata": {
    "collapsed": false
   },
   "outputs": [
    {
     "data": {
      "text/html": [
       "<table><tr><td>Year</td><td>QTime/apTrip</td><td>economicProfit/apTrip</td><td>Productivity</td><td>apProductivity</td></tr><tr><td>2009</td><td>38.70(17.77)</td><td>-272.16(717.88)</td><td>24.02(5.43)</td><td>21.26(6.69)</td></tr><tr><td>2010</td><td>32.74(15.07)</td><td>-218.05(668.71)</td><td>26.37(6.05)</td><td>23.51(6.78)</td></tr><tr><td>Diff.</td><td>-5.95</td><td>54.11</td><td>2.35</td><td>2.25</td></tr><tr><td>t-test</td><td>-102.59(0.00)</td><td>22.03(0.00)</td><td>114.49(0.00)</td><td>94.04(0.00)</td></tr></table>"
      ],
      "text/plain": [
       "<IPython.core.display.HTML object>"
      ]
     },
     "metadata": {},
     "output_type": "display_data"
    }
   ],
   "source": [
    "Y2009, Y2010 = df[(df['year'] == 2009)], df[(df['year'] == 2010)]\n",
    "# statistics\n",
    "attributes = ['QTime/apTrip', 'economicProfit/apTrip', 'Productivity', 'apProductivity']\n",
    "Y2009_avg_std = [(Y2009[attr].mean(), Y2009[attr].std()) for attr in attributes]\n",
    "Y2010_avg_std = [(Y2010[attr].mean(), Y2010[attr].std()) for attr in attributes]\n",
    "t_test = [ttest_ind(Y2010[attr], Y2009[attr]) for attr in attributes]\n",
    "# display\n",
    "table_display([ ['Year'] + attributes,\n",
    "                ['2009'] + ['%.2f(%.2f)' % (a, v) for a, v in Y2009_avg_std],\n",
    "                ['2010'] + ['%.2f(%.2f)' % (a, v) for a, v in Y2010_avg_std],\n",
    "                ['Diff.'] + ['%.2f' % (Y2010_avg_std[i][0] - Y2009_avg_std[i][0]) for i in range(len(Y2009_avg_std))],\n",
    "                ['t-test'] + ['%.2f(%.2f)' % (t, p) for t, p in t_test]\n",
    "                ])"
   ]
  },
  {
   "cell_type": "code",
   "execution_count": 8,
   "metadata": {
    "collapsed": false
   },
   "outputs": [
    {
     "data": {
      "text/plain": [
       "<class 'pandas.core.panel.Panel'>\n",
       "Dimensions: 15 (items) x 11 (major_axis) x 711 (minor_axis)\n",
       "Items axis: Fare to tripNumber\n",
       "Major_axis axis: 1 to 12\n",
       "Minor_axis axis: 87 to 49415"
      ]
     },
     "execution_count": 8,
     "metadata": {},
     "output_type": "execute_result"
    }
   ],
   "source": [
    "from information_boards import ssDriversStatisticsMonthBased2009_ap_fpath\n",
    "from information_boards import ssDriversStatisticsMonthBased2010_ap_fpath\n",
    "\n",
    "Y2009_df = pd.read_csv(ssDriversStatisticsMonthBased2009_ap_fpath)\n",
    "Y2010_df = pd.read_csv(ssDriversStatisticsMonthBased2010_ap_fpath)\n",
    "\n",
    "items = [cn for cn in Y2009_df.columns if cn not in ['month', 'driverID']]\n",
    "\n",
    "Y2009_pd = pd.Panel(dict(zip(items, [Y2009_df.pivot(index='month', columns='driverID', values=i) for i in items])))\n",
    "Y2010_pd = pd.Panel(dict(zip(items, [Y2010_df.pivot(index='month', columns='driverID', values=i) for i in items])))"
   ]
  },
  {
   "cell_type": "code",
   "execution_count": null,
   "metadata": {
    "collapsed": true
   },
   "outputs": [],
   "source": []
  }
 ],
 "metadata": {
  "anaconda-cloud": {},
  "kernelspec": {
   "display_name": "Python [conda root]",
   "language": "python",
   "name": "conda-root-py"
  },
  "language_info": {
   "codemirror_mode": {
    "name": "ipython",
    "version": 2
   },
   "file_extension": ".py",
   "mimetype": "text/x-python",
   "name": "python",
   "nbconvert_exporter": "python",
   "pygments_lexer": "ipython2",
   "version": "2.7.12"
  }
 },
 "nbformat": 4,
 "nbformat_minor": 1
}
