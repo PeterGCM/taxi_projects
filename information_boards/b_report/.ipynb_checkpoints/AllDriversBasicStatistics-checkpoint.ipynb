{
 "cells": [
  {
   "cell_type": "code",
   "execution_count": 1,
   "metadata": {
    "collapsed": false
   },
   "outputs": [],
   "source": [
    "import __init__\n",
    "#\n",
    "from IPython.display import HTML, display\n",
    "import pandas as pd\n",
    "import numpy as np\n",
    "from scipy.stats import ttest_ind"
   ]
  },
  {
   "cell_type": "markdown",
   "metadata": {},
   "source": [
    "# Airport"
   ]
  },
  {
   "cell_type": "code",
   "execution_count": 2,
   "metadata": {
    "collapsed": false
   },
   "outputs": [],
   "source": [
    "from information_boards import statisticsAllDrivers_ap_dpath\n",
    "from information_boards import statisticsAllDriversDay_ap_prefix\n",
    "#\n",
    "dfDayAP = pd.read_csv('%s/%sall.csv' % (statisticsAllDrivers_ap_dpath, statisticsAllDriversDay_ap_prefix))\n",
    "for cn in dfDayAP.columns:\n",
    "    if cn in ['year', 'month', 'day', 'driverID']:\n",
    "        continue\n",
    "    dfDayAP = dfDayAP[~(np.abs(dfDayAP[cn] - dfDayAP[cn].mean()) > (3 * dfDayAP[cn].std()))]"
   ]
  },
  {
   "cell_type": "code",
   "execution_count": 3,
   "metadata": {
    "collapsed": false
   },
   "outputs": [
    {
     "name": "stdout",
     "output_type": "stream",
     "text": [
      "The number of drivers: 34129\n"
     ]
    }
   ],
   "source": [
    "print 'The number of drivers: %d' % len(set(dfDayAP['driverID']))"
   ]
  },
  {
   "cell_type": "code",
   "execution_count": 4,
   "metadata": {
    "collapsed": false
   },
   "outputs": [
    {
     "data": {
      "text/plain": [
       "Index([u'year', u'month', u'day', u'driverID', u'wleTripNumber',\n",
       "       u'wleOperatingHour', u'wleFare', u'wleProductivity', u'locTripNumber',\n",
       "       u'locInNumber', u'locOutNumber', u'locQTime', u'locEP', u'locDuration',\n",
       "       u'locFare', u'QTime/locTrip', u'EP/locTrip', u'locProductivity'],\n",
       "      dtype='object')"
      ]
     },
     "execution_count": 4,
     "metadata": {},
     "output_type": "execute_result"
    }
   ],
   "source": [
    "dfDayAP.columns"
   ]
  },
  {
   "cell_type": "markdown",
   "metadata": {},
   "source": [
    "## Average and S.D."
   ]
  },
  {
   "cell_type": "code",
   "execution_count": 5,
   "metadata": {
    "collapsed": false
   },
   "outputs": [
    {
     "name": "stdout",
     "output_type": "stream",
     "text": [
      "wleTripNumber:16.547390,7.037661\n",
      "wleOperatingHour:7.531336,2.621011\n",
      "wleFare:191.292392,70.612666\n",
      "wleProductivity:25.823985,6.164935\n",
      "locTripNumber:1.390366,0.636667\n",
      "locInNumber:0.656461,0.606760\n",
      "locOutNumber:0.733905,0.816080\n",
      "locQTime:44.862045,31.960243\n",
      "locEP:-1.404011,9.624038\n",
      "locDuration:29.715359,15.265754\n",
      "locFare:28.374754,14.360779\n",
      "QTime/locTrip:32.017145,17.612425\n",
      "EP/locTrip:-0.890492,7.073896\n",
      "locProductivity:25.258037,9.207726\n"
     ]
    }
   ],
   "source": [
    "for cn in dfDayAP.columns:\n",
    "    if cn in ['year', 'month', 'day', 'driverID']:\n",
    "        continue\n",
    "    print '%s:%f,%f' % (cn, dfDayAP[cn].mean(), dfDayAP[cn].std())"
   ]
  },
  {
   "cell_type": "markdown",
   "metadata": {},
   "source": [
    "## t-test"
   ]
  },
  {
   "cell_type": "code",
   "execution_count": 13,
   "metadata": {
    "collapsed": false
   },
   "outputs": [
    {
     "name": "stdout",
     "output_type": "stream",
     "text": [
      "2009:34.895518876,18.8931278012,-1.04421983425,7.26940457846,24.4083461004,5.9053539495,23.9815409062,9.15655112695\n",
      "2010:29.7315749735,16.1638860892,-0.76842444008,6.91228431364,26.9480723562,6.13510487013,26.2716369841,9.12180147046\n",
      "Diff.:-5.16394390255,0.275795394169,2.53972625576,2.29009607791\n",
      "t score:-235.300064069,30.9609755922,334.157227243,198.996578245\n",
      "p value:0.0,1.97856518584e-210,0.0,0.0\n"
     ]
    }
   ],
   "source": [
    "Y2009, Y2010 = dfDayAP[(dfDayAP['year'] == 2009)], dfDayAP[(dfDayAP['year'] == 2010)]\n",
    "# statistics\n",
    "attributes = ['QTime/locTrip', 'EP/locTrip', 'wleProductivity', 'locProductivity']\n",
    "for strY, dfY in [('2009:', Y2009),('2010:', Y2010)]:\n",
    "    values = []\n",
    "    for attr in attributes:\n",
    "        values.append(dfY[attr].mean())\n",
    "        values.append(dfY[attr].std())\n",
    "    print strY + ','.join(map(str, values))\n",
    "#\n",
    "values = []\n",
    "for attr in attributes:\n",
    "    values.append(Y2010[attr].mean() - Y2009[attr].mean())\n",
    "print 'Diff.:' + ','.join(map(str, values))\n",
    "#\n",
    "t_test = [ttest_ind(Y2010[attr], Y2009[attr]) for attr in attributes]\n",
    "print 't score:' + ','.join(map(str, [t for t, _ in t_test]))\n",
    "print 'p value:' + ','.join(map(str, [p for _, p in t_test]))"
   ]
  },
  {
   "cell_type": "markdown",
   "metadata": {},
   "source": [
    "# Zoo"
   ]
  },
  {
   "cell_type": "code",
   "execution_count": 3,
   "metadata": {
    "collapsed": false
   },
   "outputs": [],
   "source": [
    "from information_boards import statisticsAllDrivers_ns_dpath\n",
    "from information_boards import statisticsAllDriversDay_ns1519_prefix\n",
    "#\n",
    "dfDayZ = pd.read_csv('%s/%sall.csv' % (statisticsAllDrivers_ns_dpath, statisticsAllDriversDay_ns1519_prefix))\n",
    "#\n",
    "for cn in dfDayZ.columns:\n",
    "    if cn in ['year', 'month', 'day', 'driverID']:\n",
    "        continue\n",
    "    dfDayZ = dfDayZ[~(np.abs(dfDayZ[cn] - dfDayZ[cn].mean()) > (3 * dfDayZ[cn].std()))]"
   ]
  },
  {
   "cell_type": "code",
   "execution_count": 6,
   "metadata": {
    "collapsed": false
   },
   "outputs": [
    {
     "name": "stdout",
     "output_type": "stream",
     "text": [
      "The number of drivers: 15450\n"
     ]
    }
   ],
   "source": [
    "print 'The number of drivers: %d' % len(set(dfDayZ['driverID']))"
   ]
  },
  {
   "cell_type": "markdown",
   "metadata": {},
   "source": [
    "## Average and S.D."
   ]
  },
  {
   "cell_type": "code",
   "execution_count": 4,
   "metadata": {
    "collapsed": false
   },
   "outputs": [
    {
     "name": "stdout",
     "output_type": "stream",
     "text": [
      "wleTripNumber:7.396908,3.294415\n",
      "wleOperatingHour:3.324437,1.118847\n",
      "wleFare:89.152826,35.581446\n",
      "wleProductivity:26.943339,7.356214\n",
      "locTripNumber:1.000000,0.000000\n",
      "locInNumber:0.527403,0.499254\n",
      "locOutNumber:0.472597,0.499254\n",
      "locQTime:9.957705,10.522566\n",
      "locEP:2.714687,4.563965\n",
      "locDuration:22.870936,8.323360\n",
      "locFare:15.971628,5.812122\n",
      "QTime/locTrip:9.957705,10.522566\n",
      "EP/locTrip:2.714687,4.563965\n",
      "locProductivity:31.352465,9.269939\n"
     ]
    }
   ],
   "source": [
    "for cn in dfDayZ.columns:\n",
    "    if cn in ['year', 'month', 'day', 'driverID']:\n",
    "        continue\n",
    "    print '%s:%f,%f' % (cn, dfDayZ[cn].mean(), dfDayZ[cn].std())"
   ]
  },
  {
   "cell_type": "markdown",
   "metadata": {},
   "source": [
    "## t-test"
   ]
  },
  {
   "cell_type": "code",
   "execution_count": 5,
   "metadata": {
    "collapsed": false
   },
   "outputs": [
    {
     "name": "stdout",
     "output_type": "stream",
     "text": [
      "2009:11.7509994329,11.2756717503,2.47327131553,4.70162471685,25.6922358745,7.05598112711,29.6890377818,9.36276587237\n",
      "2010:8.24617853546,9.4373040097,2.94509532144,4.41640825917,28.1373960773,7.4381616929,32.9400470034,8.89513365027\n",
      "Diff.:-3.50482089749,0.471824005908,2.44516020274,3.25100922156\n",
      "t score:-35.1491464966,10.7717076206,35.0750431886,37.0668490099\n",
      "p value:6.88246070831e-267,5.06657335922e-27,8.65712939616e-266,4.18678419779e-296\n"
     ]
    }
   ],
   "source": [
    "Y2009, Y2010 = dfDayZ[(dfDayZ['year'] == 2009)], dfDayZ[(dfDayZ['year'] == 2010)]\n",
    "# statistics\n",
    "attributes = ['QTime/locTrip', 'EP/locTrip', 'wleProductivity', 'locProductivity']\n",
    "for strY, dfY in [('2009:', Y2009),('2010:', Y2010)]:\n",
    "    values = []\n",
    "    for attr in attributes:\n",
    "        values.append(dfY[attr].mean())\n",
    "        values.append(dfY[attr].std())\n",
    "    print strY + ','.join(map(str, values))\n",
    "#\n",
    "values = []\n",
    "for attr in attributes:\n",
    "    values.append(Y2010[attr].mean() - Y2009[attr].mean())\n",
    "print 'Diff.:' + ','.join(map(str, values))\n",
    "#\n",
    "t_test = [ttest_ind(Y2010[attr], Y2009[attr]) for attr in attributes]\n",
    "print 't score:' + ','.join(map(str, [t for t, _ in t_test]))\n",
    "print 'p value:' + ','.join(map(str, [p for _, p in t_test]))"
   ]
  },
  {
   "cell_type": "markdown",
   "metadata": {},
   "source": [
    "# Night Safari"
   ]
  },
  {
   "cell_type": "code",
   "execution_count": 9,
   "metadata": {
    "collapsed": false
   },
   "outputs": [],
   "source": [
    "from information_boards import statisticsAllDrivers_ns_dpath\n",
    "from information_boards import statisticsAllDriversDay_ns2000_prefix\n",
    "#\n",
    "dfDayNS = pd.read_csv('%s/%sall.csv' % (statisticsAllDrivers_ns_dpath, statisticsAllDriversDay_ns2000_prefix))\n",
    "#\n",
    "for cn in dfDayNS.columns:\n",
    "    if cn in ['year', 'month', 'day', 'driverID']:\n",
    "        continue\n",
    "    dfDayNS = dfDayNS[~(np.abs(dfDayNS[cn] - dfDayNS[cn].mean()) > (3 * dfDayNS[cn].std()))]"
   ]
  },
  {
   "cell_type": "code",
   "execution_count": 10,
   "metadata": {
    "collapsed": false
   },
   "outputs": [
    {
     "name": "stdout",
     "output_type": "stream",
     "text": [
      "The number of drivers: 10451\n"
     ]
    }
   ],
   "source": [
    "print 'The number of drivers: %d' % len(set(dfDayNS['driverID']))"
   ]
  },
  {
   "cell_type": "markdown",
   "metadata": {},
   "source": [
    "## Average and S.D."
   ]
  },
  {
   "cell_type": "code",
   "execution_count": 12,
   "metadata": {
    "collapsed": false
   },
   "outputs": [
    {
     "name": "stdout",
     "output_type": "stream",
     "text": [
      "wleTripNumber:7.992240,2.724077\n",
      "wleOperatingHour:3.886473,0.827195\n",
      "wleFare:95.266802,29.201606\n",
      "wleProductivity:24.545006,5.647156\n",
      "locTripNumber:1.000000,0.000000\n",
      "locInNumber:0.189523,0.391926\n",
      "locOutNumber:0.810477,0.391926\n",
      "locQTime:17.979848,12.495076\n",
      "locEP:-1.649798,5.337050\n",
      "locDuration:21.947645,5.876240\n",
      "locFare:14.992280,3.821487\n",
      "QTime/locTrip:17.979848,12.495076\n",
      "EP/locTrip:-1.649798,5.337050\n",
      "locProductivity:24.555071,8.472751\n"
     ]
    }
   ],
   "source": [
    "for cn in dfDayNS.columns:\n",
    "    if cn in ['year', 'month', 'day', 'driverID']:\n",
    "        continue\n",
    "    print '%s:%f,%f' % (cn, dfDayNS[cn].mean(), dfDayNS[cn].std())"
   ]
  },
  {
   "cell_type": "markdown",
   "metadata": {},
   "source": [
    "## t-test"
   ]
  },
  {
   "cell_type": "code",
   "execution_count": 13,
   "metadata": {
    "collapsed": false
   },
   "outputs": [
    {
     "name": "stdout",
     "output_type": "stream",
     "text": [
      "2009:19.8973251678,13.0030466926,-1.66345648399,5.35954520049,23.1707346572,5.44041971718,23.2576929225,8.15883556845\n",
      "2010:16.1108100762,11.6802958311,-1.63648447022,5.31508067093,25.8845598393,5.52179562656,25.8196747003,8.58130179661\n",
      "Diff.:-3.78651509163,0.0269720137678,2.71382518216,2.56198177783\n",
      "t score:-38.8297215849,0.640079992473,62.70244869,38.7429645402\n",
      "p value:0.0,0.522122880768,0.0,0.0\n"
     ]
    }
   ],
   "source": [
    "Y2009, Y2010 = dfDayNS[(dfDayNS['year'] == 2009)], dfDayNS[(dfDayNS['year'] == 2010)]\n",
    "# statistics\n",
    "attributes = ['QTime/locTrip', 'EP/locTrip', 'wleProductivity', 'locProductivity']\n",
    "for strY, dfY in [('2009:', Y2009),('2010:', Y2010)]:\n",
    "    values = []\n",
    "    for attr in attributes:\n",
    "        values.append(dfY[attr].mean())\n",
    "        values.append(dfY[attr].std())\n",
    "    print strY + ','.join(map(str, values))\n",
    "#\n",
    "values = []\n",
    "for attr in attributes:\n",
    "    values.append(Y2010[attr].mean() - Y2009[attr].mean())\n",
    "print 'Diff.:' + ','.join(map(str, values))\n",
    "#\n",
    "t_test = [ttest_ind(Y2010[attr], Y2009[attr]) for attr in attributes]\n",
    "print 't score:' + ','.join(map(str, [t for t, _ in t_test]))\n",
    "print 'p value:' + ','.join(map(str, [p for _, p in t_test]))"
   ]
  },
  {
   "cell_type": "code",
   "execution_count": null,
   "metadata": {
    "collapsed": true
   },
   "outputs": [],
   "source": []
  }
 ],
 "metadata": {
  "kernelspec": {
   "display_name": "Python 2",
   "language": "python",
   "name": "python2"
  },
  "language_info": {
   "codemirror_mode": {
    "name": "ipython",
    "version": 2
   },
   "file_extension": ".py",
   "mimetype": "text/x-python",
   "name": "python",
   "nbconvert_exporter": "python",
   "pygments_lexer": "ipython2",
   "version": "2.7.12"
  }
 },
 "nbformat": 4,
 "nbformat_minor": 2
}
