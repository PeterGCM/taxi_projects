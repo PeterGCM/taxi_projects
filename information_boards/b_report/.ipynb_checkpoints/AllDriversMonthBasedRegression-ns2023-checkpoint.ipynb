{
 "cells": [
  {
   "cell_type": "code",
   "execution_count": 1,
   "metadata": {
    "collapsed": true
   },
   "outputs": [],
   "source": [
    "import __init__\n",
    "#\n",
    "from IPython.display import HTML, display\n",
    "import pandas as pd\n",
    "import numpy as np\n",
    "import statsmodels.api as sm"
   ]
  },
  {
   "cell_type": "code",
   "execution_count": 2,
   "metadata": {
    "collapsed": true
   },
   "outputs": [],
   "source": [
    "def significance(pvalue):\n",
    "    if pvalue < 0.01:\n",
    "        num_stars = 3\n",
    "    elif pvalue < 0.05:\n",
    "        num_stars = 2\n",
    "    elif pvalue < 0.1:\n",
    "        num_stars = 1\n",
    "    else:\n",
    "        num_stars = 0    \n",
    "    return '*' * num_stars"
   ]
  },
  {
   "cell_type": "code",
   "execution_count": 3,
   "metadata": {
    "collapsed": true
   },
   "outputs": [],
   "source": [
    "def display_res(Y2009, Y2010, inDepV):\n",
    "    results = []\n",
    "    for df in [Y2009, Y2010]:\n",
    "        y = df[dep_v]\n",
    "        X = df[inDepV]\n",
    "        X = sm.add_constant(X)\n",
    "        results.append(sm.OLS(y, X, missing='drop').fit())\n",
    "    res2009, res2010 = results\n",
    "    for idv in inDepV + ['const']:\n",
    "        coef2009 = '%.4f' % res2009.params[idv] + significance(res2009.pvalues[idv])\n",
    "        coef2010 = '%.4f' % res2010.params[idv] + significance(res2010.pvalues[idv])\n",
    "        print '%s:' % idv + ','.join([coef2009, coef2010])\n",
    "        ste2009 = res2009.params[idv] / res2009.tvalues[idv]\n",
    "        ste2010 = res2010.params[idv] / res2010.tvalues[idv]\n",
    "        print '(%.4f),(%.4f)' % (ste2009, ste2010)\n",
    "    print\n",
    "\n",
    "    fvalue2009 = '%.4f' % res2009.fvalue + significance(res2009.f_pvalue)\n",
    "    fvalue2010 = '%.4f' % res2010.fvalue + significance(res2010.f_pvalue)\n",
    "    print 'N:%d,%d' % (res2009.nobs, res2010.nobs)\n",
    "    print 'R-squared:%.4f,%.4f' % (res2009.rsquared, res2010.rsquared)\n",
    "    print 'Adj R-squared:%.4f,%.4f' % (res2009.rsquared_adj, res2010.rsquared_adj)\n",
    "    print 'F-statistics:%s,%s' % (fvalue2009, fvalue2010)"
   ]
  },
  {
   "cell_type": "markdown",
   "metadata": {},
   "source": [
    "# Night Safari"
   ]
  },
  {
   "cell_type": "code",
   "execution_count": 4,
   "metadata": {
    "collapsed": false
   },
   "outputs": [],
   "source": [
    "from information_boards import statisticsAllDrivers_ns_dpath\n",
    "from information_boards import statisticsAllDriversMonth_ns2023_prefix\n",
    "Y2009 = pd.read_csv('%s/Filtered-%s2009.csv' % (statisticsAllDrivers_ns_dpath, statisticsAllDriversMonth_ns2023_prefix))\n",
    "Y2010 = pd.read_csv('%s/Filtered-%s2010.csv' % (statisticsAllDrivers_ns_dpath, statisticsAllDriversMonth_ns2023_prefix))"
   ]
  },
  {
   "cell_type": "code",
   "execution_count": 6,
   "metadata": {
    "collapsed": false
   },
   "outputs": [
    {
     "name": "stdout",
     "output_type": "stream",
     "text": [
      "6753 7051\n"
     ]
    }
   ],
   "source": [
    "print len(set(Y2009['driverID'])), len(set(Y2010['driverID']))"
   ]
  },
  {
   "cell_type": "code",
   "execution_count": 7,
   "metadata": {
    "collapsed": true
   },
   "outputs": [],
   "source": [
    "# Models\n",
    "dep_v = 'QTime/locTrip'\n",
    "ib_impact = ['locInRatio']\n",
    "cv0 = ['wleTripNumber', 'locTripNumber', 'wleProductivity']\n",
    "# cv0 = ['wleTripNumber', 'wleProductivity']\n",
    "cv1 = cv0 + ['EP/locTrip']\n",
    "cv2 = cv0 + ['locProductivity']\n",
    "cv3 = cv0 + ['EP/locTrip', 'locProductivity']\n",
    "m1_inDepV = ib_impact\n",
    "m2a_inDepV = ib_impact + cv0\n",
    "m2b_inDepV = ib_impact + cv1\n",
    "m2c_inDepV = ib_impact + cv2\n",
    "m2d_inDepV = ib_impact + cv3"
   ]
  },
  {
   "cell_type": "code",
   "execution_count": 9,
   "metadata": {
    "collapsed": false
   },
   "outputs": [
    {
     "name": "stdout",
     "output_type": "stream",
     "text": [
      "CPU times: user 2 µs, sys: 1 µs, total: 3 µs\n",
      "Wall time: 5.01 µs\n",
      "\n",
      "locInRatio:3.0727***,1.2414***\n",
      "(0.2138),(0.1866)\n",
      "const:17.8716***,14.5067***\n",
      "(0.1173),(0.1009)\n",
      "\n",
      "N:15038,15544\n",
      "R-squared:0.0136,0.0028\n",
      "Adj R-squared:0.0135,0.0028\n",
      "F-statistics:206.6339***,44.2624***\n"
     ]
    }
   ],
   "source": [
    "%time\n",
    "print ''\n",
    "# M1\n",
    "display_res(Y2009, Y2010, m1_inDepV)"
   ]
  },
  {
   "cell_type": "code",
   "execution_count": 10,
   "metadata": {
    "collapsed": false,
    "scrolled": false
   },
   "outputs": [
    {
     "name": "stdout",
     "output_type": "stream",
     "text": [
      "CPU times: user 3 µs, sys: 1e+03 ns, total: 4 µs\n",
      "Wall time: 7.87 µs\n",
      "\n",
      "locInRatio:4.6564***,2.4652***\n",
      "(0.2119),(0.1863)\n",
      "wleTripNumber:-0.3477***,-0.2295***\n",
      "(0.0366),(0.0313)\n",
      "locTripNumber:2.4692***,1.7242***\n",
      "(0.3074),(0.2778)\n",
      "wleProductivity:-0.7204***,-0.6013***\n",
      "(0.0219),(0.0184)\n",
      "const:34.4833***,29.9574***\n",
      "(0.5810),(0.5338)\n",
      "\n",
      "N:15038,15544\n",
      "R-squared:0.1239,0.0967\n",
      "Adj R-squared:0.1237,0.0965\n",
      "F-statistics:531.7154***,415.9042***\n"
     ]
    }
   ],
   "source": [
    "%time\n",
    "print ''\n",
    "# M2a\n",
    "display_res(Y2009, Y2010, m2a_inDepV)"
   ]
  },
  {
   "cell_type": "code",
   "execution_count": 11,
   "metadata": {
    "collapsed": false
   },
   "outputs": [
    {
     "name": "stdout",
     "output_type": "stream",
     "text": [
      "CPU times: user 3 µs, sys: 1 µs, total: 4 µs\n",
      "Wall time: 6.91 µs\n",
      "\n",
      "locInRatio:-0.7348***,-0.8618***\n",
      "(0.1094),(0.0945)\n",
      "wleTripNumber:-0.2809***,-0.1989***\n",
      "(0.0184),(0.0157)\n",
      "locTripNumber:1.9760***,1.3660***\n",
      "(0.1543),(0.1390)\n",
      "wleProductivity:-0.0232**,0.0018\n",
      "(0.0115),(0.0096)\n",
      "EP/locTrip:-2.0802***,-1.8979***\n",
      "(0.0098),(0.0088)\n",
      "const:16.3094***,12.6642***\n",
      "(0.3041),(0.2788)\n",
      "\n",
      "N:15038,15544\n",
      "R-squared:0.7792,0.7739\n",
      "Adj R-squared:0.7791,0.7739\n",
      "F-statistics:10608.4430***,10638.6195***\n"
     ]
    }
   ],
   "source": [
    "%time\n",
    "print ''\n",
    "# M2b\n",
    "display_res(Y2009, Y2010, m2b_inDepV)"
   ]
  },
  {
   "cell_type": "code",
   "execution_count": 12,
   "metadata": {
    "collapsed": false
   },
   "outputs": [
    {
     "name": "stdout",
     "output_type": "stream",
     "text": [
      "CPU times: user 2 µs, sys: 1 µs, total: 3 µs\n",
      "Wall time: 3.81 µs\n",
      "\n",
      "locInRatio:1.1257***,-0.2402**\n",
      "(0.1168),(0.1016)\n",
      "wleTripNumber:-0.3224***,-0.2348***\n",
      "(0.0199),(0.0169)\n",
      "locTripNumber:1.2141***,0.7708***\n",
      "(0.1673),(0.1502)\n",
      "wleProductivity:0.0707***,0.0733***\n",
      "(0.0126),(0.0105)\n",
      "locProductivity:-1.3150***,-1.1117***\n",
      "(0.0070),(0.0057)\n",
      "const:48.7972***,43.2823***\n",
      "(0.3250),(0.2965)\n",
      "\n",
      "N:15038,15544\n",
      "R-squared:0.7407,0.7362\n",
      "Adj R-squared:0.7406,0.7361\n",
      "F-statistics:8589.2696***,8674.0555***\n"
     ]
    }
   ],
   "source": [
    "%time\n",
    "print ''\n",
    "# M2c\n",
    "display_res(Y2009, Y2010, m2c_inDepV)"
   ]
  },
  {
   "cell_type": "code",
   "execution_count": 13,
   "metadata": {
    "collapsed": false,
    "scrolled": true
   },
   "outputs": [
    {
     "name": "stdout",
     "output_type": "stream",
     "text": [
      "CPU times: user 1e+03 ns, sys: 1e+03 ns, total: 2 µs\n",
      "Wall time: 5.01 µs\n",
      "\n",
      "locInRatio:-0.2865***,-0.7854***\n",
      "(0.1053),(0.0903)\n",
      "wleTripNumber:-0.2937***,-0.2115***\n",
      "(0.0176),(0.0150)\n",
      "locTripNumber:1.6532***,1.1131***\n",
      "(0.1479),(0.1330)\n",
      "wleProductivity:0.0494***,0.0606***\n",
      "(0.0112),(0.0093)\n",
      "EP/locTrip:-1.3754***,-1.2457***\n",
      "(0.0211),(0.0190)\n",
      "locProductivity:-0.5133***,-0.4384***\n",
      "(0.0137),(0.0114)\n",
      "const:28.0544***,23.8617***\n",
      "(0.4282),(0.3956)\n",
      "\n",
      "N:15038,15544\n",
      "R-squared:0.7980,0.7934\n",
      "Adj R-squared:0.7979,0.7933\n",
      "F-statistics:9894.1475***,9946.1739***\n"
     ]
    }
   ],
   "source": [
    "%time\n",
    "print ''\n",
    "# M2d\n",
    "display_res(Y2009, Y2010, m2d_inDepV)"
   ]
  },
  {
   "cell_type": "code",
   "execution_count": 17,
   "metadata": {
    "collapsed": false
   },
   "outputs": [
    {
     "name": "stdout",
     "output_type": "stream",
     "text": [
      "locInRatio:-4.3341***,-4.3223***\n",
      "(0.0785),(0.0604)\n",
      "wleTripNumber:-0.0003,-0.0025***\n",
      "(0.0004),(0.0003)\n",
      "locTripNumber:0.0375***,0.0740***\n",
      "(0.0068),(0.0044)\n",
      "wleProductivity:0.0506***,0.0473***\n",
      "(0.0058),(0.0038)\n",
      "EP/locTrip:-1.4359***,-1.1051***\n",
      "(0.0097),(0.0078)\n",
      "locProductivity:-0.8191***,-0.8007***\n",
      "(0.0082),(0.0060)\n",
      "timePassed:0.3462***,-1.0850***\n",
      "(0.0220),(0.0435)\n",
      "timePassed^2:-0.0510***,0.0273***\n",
      "(0.0021),(0.0012)\n",
      "const:51.7958***,59.0955***\n",
      "(0.2370),(0.4050)\n",
      "\n",
      "N:69958,97232\n",
      "R-squared:0.8020,0.7889\n",
      "Adj R-squared:0.8020,0.7889\n",
      "F-statistics:35416.2855***,45410.8602***\n"
     ]
    }
   ],
   "source": [
    "# M3\n",
    "display_res(Y2009, Y2010, m3_inDepV)"
   ]
  },
  {
   "cell_type": "markdown",
   "metadata": {},
   "source": [
    "# Zoo"
   ]
  },
  {
   "cell_type": "code",
   "execution_count": 18,
   "metadata": {
    "collapsed": true
   },
   "outputs": [],
   "source": [
    "from information_boards import statisticsAllDrivers_ns_dpath\n",
    "from information_boards import statisticsAllDriversMonth_ns1519_prefix\n",
    "Y2009 = pd.read_csv('%s/%s2009.csv' % (statisticsAllDrivers_ns_dpath, statisticsAllDriversMonth_ns1519_prefix))\n",
    "Y2010 = pd.read_csv('%s/%s2010.csv' % (statisticsAllDrivers_ns_dpath, statisticsAllDriversMonth_ns1519_prefix))"
   ]
  },
  {
   "cell_type": "code",
   "execution_count": 19,
   "metadata": {
    "collapsed": false
   },
   "outputs": [
    {
     "name": "stdout",
     "output_type": "stream",
     "text": [
      "The number of drivers: (Y2009, 9836), (Y2010, 11018)\n"
     ]
    }
   ],
   "source": [
    "print 'The number of drivers: (Y2009, %d), (Y2010, %d)' % (len(set(Y2009['driverID'])), len(set(Y2010['driverID'])))"
   ]
  },
  {
   "cell_type": "code",
   "execution_count": 20,
   "metadata": {
    "collapsed": false
   },
   "outputs": [
    {
     "name": "stdout",
     "output_type": "stream",
     "text": [
      "locInRatio:-474.7671***,-620.3563***\n",
      "(28.3808),(28.9798)\n",
      "const:484.8799***,623.9428***\n",
      "(21.1517),(22.6268)\n",
      "\n",
      "N:17795,19251\n",
      "R-squared:0.0155,0.0233\n",
      "Adj R-squared:0.0154,0.0232\n",
      "F-statistics:279.8417***,458.2374***\n"
     ]
    }
   ],
   "source": [
    "# M1\n",
    "display_res(Y2009, Y2010, m1_inDepV)"
   ]
  },
  {
   "cell_type": "code",
   "execution_count": 16,
   "metadata": {
    "collapsed": false
   },
   "outputs": [
    {
     "name": "stdout",
     "output_type": "stream",
     "text": [
      "locInRatio:-517.2908***,-652.4528***\n",
      "(29.6313),(30.1250)\n",
      "wleTripNumber:8.4251***,2.5459\n",
      "(3.2056),(3.1103)\n",
      "locTripNumber:-96.8063***,-63.9445***\n",
      "(22.0812),(21.5070)\n",
      "wleProductivity:1.9392**,0.1815\n",
      "(0.8335),(0.2720)\n",
      "const:508.1354***,698.0090***\n",
      "(37.4400),(33.1498)\n",
      "\n",
      "N:17795,19251\n",
      "R-squared:0.0170,0.0240\n",
      "Adj R-squared:0.0168,0.0238\n",
      "F-statistics:77.1047***,118.4940***\n"
     ]
    }
   ],
   "source": [
    "# M2a\n",
    "display_res(Y2009, Y2010, m2a_inDepV)"
   ]
  },
  {
   "cell_type": "code",
   "execution_count": 17,
   "metadata": {
    "collapsed": false
   },
   "outputs": [
    {
     "name": "stdout",
     "output_type": "stream",
     "text": [
      "locInRatio:-22.0277***,-19.0202***\n",
      "(4.4853),(3.1130)\n",
      "wleTripNumber:-0.2294,0.4446\n",
      "(0.4815),(0.3177)\n",
      "locTripNumber:1.1342,-1.3515\n",
      "(3.3178),(2.1976)\n",
      "wleProductivity:-0.0634,0.0116\n",
      "(0.1252),(0.0278)\n",
      "EP/locTrip:-2.2357***,-2.1444***\n",
      "(0.0025),(0.0016)\n",
      "const:39.5927***,29.3285***\n",
      "(5.6476),(3.4224)\n",
      "\n",
      "N:17795,19251\n",
      "R-squared:0.9778,0.9898\n",
      "Adj R-squared:0.9778,0.9898\n",
      "F-statistics:156954.1517***,374076.2246***\n"
     ]
    }
   ],
   "source": [
    "# M2b\n",
    "display_res(Y2009, Y2010, m2b_inDepV)"
   ]
  },
  {
   "cell_type": "markdown",
   "metadata": {},
   "source": [
    "# Night Safari"
   ]
  },
  {
   "cell_type": "code",
   "execution_count": 18,
   "metadata": {
    "collapsed": true
   },
   "outputs": [],
   "source": [
    "from information_boards import statisticsAllDrivers_ns_dpath\n",
    "from information_boards import statisticsAllDriversMonth_ns2000_prefix\n",
    "Y2009 = pd.read_csv('%s/%s2009.csv' % (statisticsAllDrivers_ns_dpath, statisticsAllDriversMonth_ns2000_prefix))\n",
    "Y2010 = pd.read_csv('%s/%s2010.csv' % (statisticsAllDrivers_ns_dpath, statisticsAllDriversMonth_ns2000_prefix))"
   ]
  },
  {
   "cell_type": "code",
   "execution_count": 19,
   "metadata": {
    "collapsed": false
   },
   "outputs": [
    {
     "name": "stdout",
     "output_type": "stream",
     "text": [
      "The number of drivers: (Y2009, 13572), (Y2010, 14852)\n"
     ]
    }
   ],
   "source": [
    "print 'The number of drivers: (Y2009, %d), (Y2010, %d)' % (len(set(Y2009['driverID'])), len(set(Y2010['driverID'])))"
   ]
  },
  {
   "cell_type": "code",
   "execution_count": 15,
   "metadata": {
    "collapsed": true
   },
   "outputs": [],
   "source": [
    "def display_res(Y2009, Y2010, inDepV, fixEF):\n",
    "    results = []\n",
    "    for i, df in enumerate([Y2009, Y2010]):\n",
    "        y = df[dep_v]\n",
    "        X = df[inDepV + fixEF[i]]\n",
    "        X = sm.add_constant(X)\n",
    "        results.append(sm.OLS(y, X, missing='drop').fit())\n",
    "    res2009, res2010 = results\n",
    "    for idv in inDepV + ['const']:\n",
    "        coef2009 = '%.4f' % res2009.params[idv] + significance(res2009.pvalues[idv])\n",
    "        coef2010 = '%.4f' % res2010.params[idv] + significance(res2010.pvalues[idv])\n",
    "        print '%s:' % idv + ','.join([coef2009, coef2010])\n",
    "        ste2009 = res2009.params[idv] / res2009.tvalues[idv]\n",
    "        ste2010 = res2010.params[idv] / res2010.tvalues[idv]\n",
    "        print '(%.4f),(%.4f)' % (ste2009, ste2010)\n",
    "    print\n",
    "\n",
    "    fvalue2009 = '%.4f' % res2009.fvalue + significance(res2009.f_pvalue)\n",
    "    fvalue2010 = '%.4f' % res2010.fvalue + significance(res2010.f_pvalue)\n",
    "    print 'N:%d,%d' % (res2009.nobs, res2010.nobs)\n",
    "    print 'R-squared:%.4f,%.4f' % (res2009.rsquared, res2010.rsquared)\n",
    "    print 'Adj R-squared:%.4f,%.4f' % (res2009.rsquared_adj, res2010.rsquared_adj)\n",
    "    print 'F-statistics:%s,%s' % (fvalue2009, fvalue2010)"
   ]
  },
  {
   "cell_type": "code",
   "execution_count": 17,
   "metadata": {
    "collapsed": false
   },
   "outputs": [
    {
     "ename": "KeyboardInterrupt",
     "evalue": "",
     "output_type": "error",
     "traceback": [
      "\u001b[0;31m---------------------------------------------------------------------------\u001b[0m",
      "\u001b[0;31mKeyboardInterrupt\u001b[0m                         Traceback (most recent call last)",
      "\u001b[0;32m<ipython-input-17-9288aff3b95c>\u001b[0m in \u001b[0;36m<module>\u001b[0;34m()\u001b[0m\n\u001b[1;32m      2\u001b[0m \u001b[0mY2009_drivers\u001b[0m \u001b[0;34m=\u001b[0m \u001b[0;34m[\u001b[0m\u001b[0mstr\u001b[0m\u001b[0;34m(\u001b[0m\u001b[0mdid\u001b[0m\u001b[0;34m)\u001b[0m \u001b[0;32mfor\u001b[0m \u001b[0mdid\u001b[0m \u001b[0;32min\u001b[0m \u001b[0mset\u001b[0m\u001b[0;34m(\u001b[0m\u001b[0mY2009\u001b[0m\u001b[0;34m[\u001b[0m\u001b[0;34m'driverID'\u001b[0m\u001b[0;34m]\u001b[0m\u001b[0;34m)\u001b[0m\u001b[0;34m]\u001b[0m\u001b[0;34m\u001b[0m\u001b[0m\n\u001b[1;32m      3\u001b[0m \u001b[0;32mfor\u001b[0m \u001b[0mdid\u001b[0m \u001b[0;32min\u001b[0m \u001b[0mY2009_drivers\u001b[0m\u001b[0;34m:\u001b[0m\u001b[0;34m\u001b[0m\u001b[0m\n\u001b[0;32m----> 4\u001b[0;31m     \u001b[0mY2009\u001b[0m\u001b[0;34m[\u001b[0m\u001b[0mdid\u001b[0m\u001b[0;34m]\u001b[0m \u001b[0;34m=\u001b[0m \u001b[0mnp\u001b[0m\u001b[0;34m.\u001b[0m\u001b[0mwhere\u001b[0m\u001b[0;34m(\u001b[0m\u001b[0mY2009\u001b[0m\u001b[0;34m[\u001b[0m\u001b[0;34m'driverID'\u001b[0m\u001b[0;34m]\u001b[0m \u001b[0;34m==\u001b[0m \u001b[0mint\u001b[0m\u001b[0;34m(\u001b[0m\u001b[0mdid\u001b[0m\u001b[0;34m)\u001b[0m\u001b[0;34m,\u001b[0m \u001b[0;36m1\u001b[0m\u001b[0;34m,\u001b[0m \u001b[0;36m0\u001b[0m\u001b[0;34m)\u001b[0m\u001b[0;34m\u001b[0m\u001b[0m\n\u001b[0m\u001b[1;32m      5\u001b[0m \u001b[0mY2010_drivers\u001b[0m \u001b[0;34m=\u001b[0m \u001b[0;34m[\u001b[0m\u001b[0mstr\u001b[0m\u001b[0;34m(\u001b[0m\u001b[0mdid\u001b[0m\u001b[0;34m)\u001b[0m \u001b[0;32mfor\u001b[0m \u001b[0mdid\u001b[0m \u001b[0;32min\u001b[0m \u001b[0mset\u001b[0m\u001b[0;34m(\u001b[0m\u001b[0mY2010\u001b[0m\u001b[0;34m[\u001b[0m\u001b[0;34m'driverID'\u001b[0m\u001b[0;34m]\u001b[0m\u001b[0;34m)\u001b[0m\u001b[0;34m]\u001b[0m\u001b[0;34m\u001b[0m\u001b[0m\n\u001b[1;32m      6\u001b[0m \u001b[0;32mfor\u001b[0m \u001b[0mdid\u001b[0m \u001b[0;32min\u001b[0m \u001b[0mY2010_drivers\u001b[0m\u001b[0;34m:\u001b[0m\u001b[0;34m\u001b[0m\u001b[0m\n",
      "\u001b[0;32m/Library/Frameworks/Python.framework/Versions/2.7/lib/python2.7/site-packages/pandas/core/frame.pyc\u001b[0m in \u001b[0;36m__setitem__\u001b[0;34m(self, key, value)\u001b[0m\n\u001b[1;32m   2417\u001b[0m         \u001b[0;32melse\u001b[0m\u001b[0;34m:\u001b[0m\u001b[0;34m\u001b[0m\u001b[0m\n\u001b[1;32m   2418\u001b[0m             \u001b[0;31m# set column\u001b[0m\u001b[0;34m\u001b[0m\u001b[0;34m\u001b[0m\u001b[0m\n\u001b[0;32m-> 2419\u001b[0;31m             \u001b[0mself\u001b[0m\u001b[0;34m.\u001b[0m\u001b[0m_set_item\u001b[0m\u001b[0;34m(\u001b[0m\u001b[0mkey\u001b[0m\u001b[0;34m,\u001b[0m \u001b[0mvalue\u001b[0m\u001b[0;34m)\u001b[0m\u001b[0;34m\u001b[0m\u001b[0m\n\u001b[0m\u001b[1;32m   2420\u001b[0m \u001b[0;34m\u001b[0m\u001b[0m\n\u001b[1;32m   2421\u001b[0m     \u001b[0;32mdef\u001b[0m \u001b[0m_setitem_slice\u001b[0m\u001b[0;34m(\u001b[0m\u001b[0mself\u001b[0m\u001b[0;34m,\u001b[0m \u001b[0mkey\u001b[0m\u001b[0;34m,\u001b[0m \u001b[0mvalue\u001b[0m\u001b[0;34m)\u001b[0m\u001b[0;34m:\u001b[0m\u001b[0;34m\u001b[0m\u001b[0m\n",
      "\u001b[0;32m/Library/Frameworks/Python.framework/Versions/2.7/lib/python2.7/site-packages/pandas/core/frame.pyc\u001b[0m in \u001b[0;36m_set_item\u001b[0;34m(self, key, value)\u001b[0m\n\u001b[1;32m   2484\u001b[0m         \u001b[0mself\u001b[0m\u001b[0;34m.\u001b[0m\u001b[0m_ensure_valid_index\u001b[0m\u001b[0;34m(\u001b[0m\u001b[0mvalue\u001b[0m\u001b[0;34m)\u001b[0m\u001b[0;34m\u001b[0m\u001b[0m\n\u001b[1;32m   2485\u001b[0m         \u001b[0mvalue\u001b[0m \u001b[0;34m=\u001b[0m \u001b[0mself\u001b[0m\u001b[0;34m.\u001b[0m\u001b[0m_sanitize_column\u001b[0m\u001b[0;34m(\u001b[0m\u001b[0mkey\u001b[0m\u001b[0;34m,\u001b[0m \u001b[0mvalue\u001b[0m\u001b[0;34m)\u001b[0m\u001b[0;34m\u001b[0m\u001b[0m\n\u001b[0;32m-> 2486\u001b[0;31m         \u001b[0mNDFrame\u001b[0m\u001b[0;34m.\u001b[0m\u001b[0m_set_item\u001b[0m\u001b[0;34m(\u001b[0m\u001b[0mself\u001b[0m\u001b[0;34m,\u001b[0m \u001b[0mkey\u001b[0m\u001b[0;34m,\u001b[0m \u001b[0mvalue\u001b[0m\u001b[0;34m)\u001b[0m\u001b[0;34m\u001b[0m\u001b[0m\n\u001b[0m\u001b[1;32m   2487\u001b[0m \u001b[0;34m\u001b[0m\u001b[0m\n\u001b[1;32m   2488\u001b[0m         \u001b[0;31m# check if we are modifying a copy\u001b[0m\u001b[0;34m\u001b[0m\u001b[0;34m\u001b[0m\u001b[0m\n",
      "\u001b[0;32m/Library/Frameworks/Python.framework/Versions/2.7/lib/python2.7/site-packages/pandas/core/generic.pyc\u001b[0m in \u001b[0;36m_set_item\u001b[0;34m(self, key, value)\u001b[0m\n\u001b[1;32m   1498\u001b[0m \u001b[0;34m\u001b[0m\u001b[0m\n\u001b[1;32m   1499\u001b[0m     \u001b[0;32mdef\u001b[0m \u001b[0m_set_item\u001b[0m\u001b[0;34m(\u001b[0m\u001b[0mself\u001b[0m\u001b[0;34m,\u001b[0m \u001b[0mkey\u001b[0m\u001b[0;34m,\u001b[0m \u001b[0mvalue\u001b[0m\u001b[0;34m)\u001b[0m\u001b[0;34m:\u001b[0m\u001b[0;34m\u001b[0m\u001b[0m\n\u001b[0;32m-> 1500\u001b[0;31m         \u001b[0mself\u001b[0m\u001b[0;34m.\u001b[0m\u001b[0m_data\u001b[0m\u001b[0;34m.\u001b[0m\u001b[0mset\u001b[0m\u001b[0;34m(\u001b[0m\u001b[0mkey\u001b[0m\u001b[0;34m,\u001b[0m \u001b[0mvalue\u001b[0m\u001b[0;34m)\u001b[0m\u001b[0;34m\u001b[0m\u001b[0m\n\u001b[0m\u001b[1;32m   1501\u001b[0m         \u001b[0mself\u001b[0m\u001b[0;34m.\u001b[0m\u001b[0m_clear_item_cache\u001b[0m\u001b[0;34m(\u001b[0m\u001b[0;34m)\u001b[0m\u001b[0;34m\u001b[0m\u001b[0m\n\u001b[1;32m   1502\u001b[0m \u001b[0;34m\u001b[0m\u001b[0m\n",
      "\u001b[0;32m/Library/Frameworks/Python.framework/Versions/2.7/lib/python2.7/site-packages/pandas/core/internals.pyc\u001b[0m in \u001b[0;36mset\u001b[0;34m(self, item, value, check)\u001b[0m\n\u001b[1;32m   3669\u001b[0m         \u001b[0;32mexcept\u001b[0m \u001b[0mKeyError\u001b[0m\u001b[0;34m:\u001b[0m\u001b[0;34m\u001b[0m\u001b[0m\n\u001b[1;32m   3670\u001b[0m             \u001b[0;31m# This item wasn't present, just insert at end\u001b[0m\u001b[0;34m\u001b[0m\u001b[0;34m\u001b[0m\u001b[0m\n\u001b[0;32m-> 3671\u001b[0;31m             \u001b[0mself\u001b[0m\u001b[0;34m.\u001b[0m\u001b[0minsert\u001b[0m\u001b[0;34m(\u001b[0m\u001b[0mlen\u001b[0m\u001b[0;34m(\u001b[0m\u001b[0mself\u001b[0m\u001b[0;34m.\u001b[0m\u001b[0mitems\u001b[0m\u001b[0;34m)\u001b[0m\u001b[0;34m,\u001b[0m \u001b[0mitem\u001b[0m\u001b[0;34m,\u001b[0m \u001b[0mvalue\u001b[0m\u001b[0;34m)\u001b[0m\u001b[0;34m\u001b[0m\u001b[0m\n\u001b[0m\u001b[1;32m   3672\u001b[0m             \u001b[0;32mreturn\u001b[0m\u001b[0;34m\u001b[0m\u001b[0m\n\u001b[1;32m   3673\u001b[0m \u001b[0;34m\u001b[0m\u001b[0m\n",
      "\u001b[0;32m/Library/Frameworks/Python.framework/Versions/2.7/lib/python2.7/site-packages/pandas/core/internals.pyc\u001b[0m in \u001b[0;36minsert\u001b[0;34m(self, loc, item, value, allow_duplicates)\u001b[0m\n\u001b[1;32m   3797\u001b[0m \u001b[0;34m\u001b[0m\u001b[0m\n\u001b[1;32m   3798\u001b[0m         \u001b[0;32mif\u001b[0m \u001b[0mlen\u001b[0m\u001b[0;34m(\u001b[0m\u001b[0mself\u001b[0m\u001b[0;34m.\u001b[0m\u001b[0mblocks\u001b[0m\u001b[0;34m)\u001b[0m \u001b[0;34m>\u001b[0m \u001b[0;36m100\u001b[0m\u001b[0;34m:\u001b[0m\u001b[0;34m\u001b[0m\u001b[0m\n\u001b[0;32m-> 3799\u001b[0;31m             \u001b[0mself\u001b[0m\u001b[0;34m.\u001b[0m\u001b[0m_consolidate_inplace\u001b[0m\u001b[0;34m(\u001b[0m\u001b[0;34m)\u001b[0m\u001b[0;34m\u001b[0m\u001b[0m\n\u001b[0m\u001b[1;32m   3800\u001b[0m \u001b[0;34m\u001b[0m\u001b[0m\n\u001b[1;32m   3801\u001b[0m     def reindex_axis(self, new_index, axis, method=None, limit=None,\n",
      "\u001b[0;32m/Library/Frameworks/Python.framework/Versions/2.7/lib/python2.7/site-packages/pandas/core/internals.pyc\u001b[0m in \u001b[0;36m_consolidate_inplace\u001b[0;34m(self)\u001b[0m\n\u001b[1;32m   3529\u001b[0m     \u001b[0;32mdef\u001b[0m \u001b[0m_consolidate_inplace\u001b[0m\u001b[0;34m(\u001b[0m\u001b[0mself\u001b[0m\u001b[0;34m)\u001b[0m\u001b[0;34m:\u001b[0m\u001b[0;34m\u001b[0m\u001b[0m\n\u001b[1;32m   3530\u001b[0m         \u001b[0;32mif\u001b[0m \u001b[0;32mnot\u001b[0m \u001b[0mself\u001b[0m\u001b[0;34m.\u001b[0m\u001b[0mis_consolidated\u001b[0m\u001b[0;34m(\u001b[0m\u001b[0;34m)\u001b[0m\u001b[0;34m:\u001b[0m\u001b[0;34m\u001b[0m\u001b[0m\n\u001b[0;32m-> 3531\u001b[0;31m             \u001b[0mself\u001b[0m\u001b[0;34m.\u001b[0m\u001b[0mblocks\u001b[0m \u001b[0;34m=\u001b[0m \u001b[0mtuple\u001b[0m\u001b[0;34m(\u001b[0m\u001b[0m_consolidate\u001b[0m\u001b[0;34m(\u001b[0m\u001b[0mself\u001b[0m\u001b[0;34m.\u001b[0m\u001b[0mblocks\u001b[0m\u001b[0;34m)\u001b[0m\u001b[0;34m)\u001b[0m\u001b[0;34m\u001b[0m\u001b[0m\n\u001b[0m\u001b[1;32m   3532\u001b[0m             \u001b[0mself\u001b[0m\u001b[0;34m.\u001b[0m\u001b[0m_is_consolidated\u001b[0m \u001b[0;34m=\u001b[0m \u001b[0mTrue\u001b[0m\u001b[0;34m\u001b[0m\u001b[0m\n\u001b[1;32m   3533\u001b[0m             \u001b[0mself\u001b[0m\u001b[0;34m.\u001b[0m\u001b[0m_known_consolidated\u001b[0m \u001b[0;34m=\u001b[0m \u001b[0mTrue\u001b[0m\u001b[0;34m\u001b[0m\u001b[0m\n",
      "\u001b[0;32m/Library/Frameworks/Python.framework/Versions/2.7/lib/python2.7/site-packages/pandas/core/internals.pyc\u001b[0m in \u001b[0;36m_consolidate\u001b[0;34m(blocks)\u001b[0m\n\u001b[1;32m   4521\u001b[0m     \u001b[0;32mfor\u001b[0m \u001b[0;34m(\u001b[0m\u001b[0m_can_consolidate\u001b[0m\u001b[0;34m,\u001b[0m \u001b[0mdtype\u001b[0m\u001b[0;34m)\u001b[0m\u001b[0;34m,\u001b[0m \u001b[0mgroup_blocks\u001b[0m \u001b[0;32min\u001b[0m \u001b[0mgrouper\u001b[0m\u001b[0;34m:\u001b[0m\u001b[0;34m\u001b[0m\u001b[0m\n\u001b[1;32m   4522\u001b[0m         merged_blocks = _merge_blocks(list(group_blocks), dtype=dtype,\n\u001b[0;32m-> 4523\u001b[0;31m                                       _can_consolidate=_can_consolidate)\n\u001b[0m\u001b[1;32m   4524\u001b[0m         \u001b[0mnew_blocks\u001b[0m \u001b[0;34m=\u001b[0m \u001b[0m_extend_blocks\u001b[0m\u001b[0;34m(\u001b[0m\u001b[0mmerged_blocks\u001b[0m\u001b[0;34m,\u001b[0m \u001b[0mnew_blocks\u001b[0m\u001b[0;34m)\u001b[0m\u001b[0;34m\u001b[0m\u001b[0m\n\u001b[1;32m   4525\u001b[0m     \u001b[0;32mreturn\u001b[0m \u001b[0mnew_blocks\u001b[0m\u001b[0;34m\u001b[0m\u001b[0m\n",
      "\u001b[0;32m/Library/Frameworks/Python.framework/Versions/2.7/lib/python2.7/site-packages/pandas/core/internals.pyc\u001b[0m in \u001b[0;36m_merge_blocks\u001b[0;34m(blocks, dtype, _can_consolidate)\u001b[0m\n\u001b[1;32m   4544\u001b[0m \u001b[0;34m\u001b[0m\u001b[0m\n\u001b[1;32m   4545\u001b[0m         \u001b[0margsort\u001b[0m \u001b[0;34m=\u001b[0m \u001b[0mnp\u001b[0m\u001b[0;34m.\u001b[0m\u001b[0margsort\u001b[0m\u001b[0;34m(\u001b[0m\u001b[0mnew_mgr_locs\u001b[0m\u001b[0;34m)\u001b[0m\u001b[0;34m\u001b[0m\u001b[0m\n\u001b[0;32m-> 4546\u001b[0;31m         \u001b[0mnew_values\u001b[0m \u001b[0;34m=\u001b[0m \u001b[0mnew_values\u001b[0m\u001b[0;34m[\u001b[0m\u001b[0margsort\u001b[0m\u001b[0;34m]\u001b[0m\u001b[0;34m\u001b[0m\u001b[0m\n\u001b[0m\u001b[1;32m   4547\u001b[0m         \u001b[0mnew_mgr_locs\u001b[0m \u001b[0;34m=\u001b[0m \u001b[0mnew_mgr_locs\u001b[0m\u001b[0;34m[\u001b[0m\u001b[0margsort\u001b[0m\u001b[0;34m]\u001b[0m\u001b[0;34m\u001b[0m\u001b[0m\n\u001b[1;32m   4548\u001b[0m \u001b[0;34m\u001b[0m\u001b[0m\n",
      "\u001b[0;31mKeyboardInterrupt\u001b[0m: "
     ]
    }
   ],
   "source": [
    "# M4\n",
    "Y2009_drivers = [str(did) for did in set(Y2009['driverID'])]\n",
    "for did in Y2009_drivers:\n",
    "    Y2009[did] = np.where(Y2009['driverID'] == int(did), 1, 0)\n",
    "Y2010_drivers = [str(did) for did in set(Y2010['driverID'])]\n",
    "for did in Y2010_drivers:\n",
    "    Y2010[did] = np.where(Y2010['driverID'] == int(did), 1, 0)\n",
    "display_res(Y2009, Y2010, m3_inDepV, (Y2009_drivers[:-1], Y2010_drivers[:-1]))"
   ]
  },
  {
   "cell_type": "code",
   "execution_count": null,
   "metadata": {
    "collapsed": true
   },
   "outputs": [],
   "source": [
    "# M5\n",
    "hours = ['H%d' % x for x in range(24) if x not in [2, 3, 4, 5]]\n",
    "month2009 = ['M%d' % m for m in Y2009['month']]\n",
    "month2010 = ['M%d' % m for m in Y2010['month']]\n",
    "for Mmonth in hours:\n",
    "    Y2009[Mmonth] = np.where(Y2009['month'] == int(Mmonth[1:]), 1, 0)\n",
    "    Y2010[Mmonth] = np.where(Y2010['month'] == int(Mmonth[1:]), 1, 0)"
   ]
  }
 ],
 "metadata": {
  "kernelspec": {
   "display_name": "Python 2",
   "language": "python",
   "name": "python2"
  },
  "language_info": {
   "codemirror_mode": {
    "name": "ipython",
    "version": 2
   },
   "file_extension": ".py",
   "mimetype": "text/x-python",
   "name": "python",
   "nbconvert_exporter": "python",
   "pygments_lexer": "ipython2",
   "version": "2.7.12"
  }
 },
 "nbformat": 4,
 "nbformat_minor": 2
}
