{
 "cells": [
  {
   "cell_type": "code",
   "execution_count": 1,
   "metadata": {
    "collapsed": true
   },
   "outputs": [],
   "source": [
    "import __init__\n",
    "#\n",
    "from IPython.display import HTML, display\n",
    "import pandas as pd\n",
    "import numpy as np\n",
    "import statsmodels.api as sm"
   ]
  },
  {
   "cell_type": "code",
   "execution_count": 2,
   "metadata": {
    "collapsed": false
   },
   "outputs": [],
   "source": [
    "from information_boards import statisticsAllDrivers_ap_dpath\n",
    "from information_boards import statisticsAllDriversMonth_ap_prefix\n",
    "Y2009 = pd.read_csv('%s/%s2009.csv' % (statisticsAllDrivers_ap_dpath, statisticsAllDriversMonth_ap_prefix))\n",
    "Y2010 = pd.read_csv('%s/%s2010.csv' % (statisticsAllDrivers_ap_dpath, statisticsAllDriversMonth_ap_prefix))"
   ]
  },
  {
   "cell_type": "code",
   "execution_count": 3,
   "metadata": {
    "collapsed": false
   },
   "outputs": [
    {
     "data": {
      "text/plain": [
       "(185317, 212362)"
      ]
     },
     "execution_count": 3,
     "metadata": {},
     "output_type": "execute_result"
    }
   ],
   "source": [
    "len(Y2009), len(Y2010)"
   ]
  },
  {
   "cell_type": "code",
   "execution_count": 4,
   "metadata": {
    "collapsed": true
   },
   "outputs": [],
   "source": [
    "# for df in [Y2009, Y2010]:\n",
    "for cn in Y2009.columns:\n",
    "    if cn in ['year', 'month', 'driverID']:\n",
    "        continue\n",
    "    Y2009 = Y2009[~(np.abs(Y2009[cn] - Y2009[cn].mean()) > (3 * Y2009[cn].std()))]\n",
    "    \n",
    "for cn in Y2010.columns:\n",
    "    if cn in ['year', 'month', 'driverID']:\n",
    "        continue\n",
    "    Y2010 = Y2010[~(np.abs(Y2010[cn] - Y2010[cn].mean()) > (3 * Y2010[cn].std()))]"
   ]
  },
  {
   "cell_type": "code",
   "execution_count": 5,
   "metadata": {
    "collapsed": false
   },
   "outputs": [
    {
     "data": {
      "text/plain": [
       "(150268, 175587)"
      ]
     },
     "execution_count": 5,
     "metadata": {},
     "output_type": "execute_result"
    }
   ],
   "source": [
    "len(Y2009), len(Y2010)"
   ]
  },
  {
   "cell_type": "code",
   "execution_count": 6,
   "metadata": {
    "collapsed": false
   },
   "outputs": [
    {
     "name": "stdout",
     "output_type": "stream",
     "text": [
      "Index([u'year', u'month', u'driverID', u'wleTripNumber', u'wleOperatingHour',\n",
      "       u'wleFare', u'wleProductivity', u'locTripNumber', u'locInNumber',\n",
      "       u'locOutNumber', u'locQTime', u'locEP', u'locDuration', u'locFare',\n",
      "       u'QTime/locTrip', u'EP/locTrip', u'locProductivity', u'locInRatio',\n",
      "       u'timePassed', u'timePassed^2'],\n",
      "      dtype='object')\n",
      "The number of drivers: (Y2009, 27339), (Y2010, 28930)\n"
     ]
    }
   ],
   "source": [
    "print Y2009.columns\n",
    "print 'The number of drivers: (Y2009, %d), (Y2010, %d)' % (len(set(Y2009['driverID'])), len(set(Y2010['driverID'])))"
   ]
  },
  {
   "cell_type": "code",
   "execution_count": 7,
   "metadata": {
    "collapsed": true
   },
   "outputs": [],
   "source": [
    "def significance(pvalue):\n",
    "    if pvalue < 0.01:\n",
    "        num_stars = 3\n",
    "    elif pvalue < 0.05:\n",
    "        num_stars = 2\n",
    "    elif pvalue < 0.1:\n",
    "        num_stars = 1\n",
    "    else:\n",
    "        num_stars = 0    \n",
    "    return '*' * num_stars"
   ]
  },
  {
   "cell_type": "code",
   "execution_count": 8,
   "metadata": {
    "collapsed": true
   },
   "outputs": [],
   "source": [
    "def display_res(Y2009, Y2010, inDepV):\n",
    "    results = []\n",
    "    for df in [Y2009, Y2010]:\n",
    "        y = df[dep_v]\n",
    "        X = df[inDepV]\n",
    "        X = sm.add_constant(X)\n",
    "        results.append(sm.OLS(y, X, missing='drop').fit())\n",
    "    res2009, res2010 = results\n",
    "    for idv in inDepV + ['const']:\n",
    "        coef2009 = '%.4f' % res2009.params[idv] + significance(res2009.pvalues[idv])\n",
    "        coef2010 = '%.4f' % res2010.params[idv] + significance(res2010.pvalues[idv])\n",
    "        print '%s:' % idv + ','.join([coef2009, coef2010])\n",
    "        ste2009 = res2009.params[idv] / res2009.tvalues[idv]\n",
    "        ste2010 = res2010.params[idv] / res2010.tvalues[idv]\n",
    "        print '(%.4f),(%.4f)' % (ste2009, ste2010)\n",
    "    print\n",
    "\n",
    "    fvalue2009 = '%.4f' % res2009.fvalue + significance(res2009.f_pvalue)\n",
    "    fvalue2010 = '%.4f' % res2010.fvalue + significance(res2010.f_pvalue)\n",
    "    print 'N:%d,%d' % (res2009.nobs, res2010.nobs)\n",
    "    print 'R-squared:%.4f,%.4f' % (res2009.rsquared, res2010.rsquared)\n",
    "    print 'Adj R-squared:%.4f,%.4f' % (res2009.rsquared_adj, res2010.rsquared_adj)\n",
    "    print 'F-statistics:%s,%s' % (fvalue2009, fvalue2010)"
   ]
  },
  {
   "cell_type": "code",
   "execution_count": 9,
   "metadata": {
    "collapsed": true
   },
   "outputs": [],
   "source": [
    "# Models\n",
    "dep_v = 'QTime/locTrip'\n",
    "ib_impact = ['locInRatio']\n",
    "cv0 = ['wleTripNumber', 'locTripNumber', 'wleProductivity']\n",
    "cv1 = cv0 + ['EP/locTrip']\n",
    "cv2 = cv0 + ['locProductivity']\n",
    "cv3 = cv0 + ['EP/locTrip', 'locProductivity']\n",
    "learning_variables = ['timePassed', 'timePassed^2']\n",
    "m1_inDepV = ib_impact\n",
    "m2a_inDepV = ib_impact + cv0\n",
    "m2b_inDepV = ib_impact + cv1\n",
    "m2c_inDepV = ib_impact + cv2\n",
    "m2d_inDepV = ib_impact + cv3\n",
    "m3_inDepV = ib_impact + cv3 + learning_variables"
   ]
  },
  {
   "cell_type": "markdown",
   "metadata": {},
   "source": [
    "# Aiport"
   ]
  },
  {
   "cell_type": "code",
   "execution_count": 10,
   "metadata": {
    "collapsed": false
   },
   "outputs": [],
   "source": [
    "Y2009 = Y2009[(Y2009['locTripNumber'] >= 4)]\n",
    "Y2010 = Y2010[(Y2010['locTripNumber'] >= 4)]"
   ]
  },
  {
   "cell_type": "code",
   "execution_count": 11,
   "metadata": {
    "collapsed": false
   },
   "outputs": [
    {
     "data": {
      "text/plain": [
       "(69958, 97232)"
      ]
     },
     "execution_count": 11,
     "metadata": {},
     "output_type": "execute_result"
    }
   ],
   "source": [
    "len(Y2009), len(Y2010)"
   ]
  },
  {
   "cell_type": "code",
   "execution_count": 21,
   "metadata": {
    "collapsed": false
   },
   "outputs": [
    {
     "data": {
      "text/plain": [
       "(9836, 11018)"
      ]
     },
     "execution_count": 21,
     "metadata": {},
     "output_type": "execute_result"
    }
   ],
   "source": [
    "len(set(Y2009['driverID'])),len(set(Y2010['driverID'])) "
   ]
  },
  {
   "cell_type": "code",
   "execution_count": 12,
   "metadata": {
    "collapsed": false
   },
   "outputs": [
    {
     "name": "stdout",
     "output_type": "stream",
     "text": [
      "locInRatio:-1.3050***,-2.6842***\n",
      "(0.1411),(0.1035)\n",
      "const:35.1536***,30.5233***\n",
      "(0.1003),(0.0787)\n",
      "\n",
      "N:69958,97232\n",
      "R-squared:0.0012,0.0069\n",
      "Adj R-squared:0.0012,0.0069\n",
      "F-statistics:85.5634***,672.7028***\n"
     ]
    }
   ],
   "source": [
    "# M1\n",
    "display_res(Y2009, Y2010, m1_inDepV)"
   ]
  },
  {
   "cell_type": "code",
   "execution_count": 13,
   "metadata": {
    "collapsed": false,
    "scrolled": true
   },
   "outputs": [
    {
     "name": "stdout",
     "output_type": "stream",
     "text": [
      "locInRatio:1.9127***,0.4302***\n",
      "(0.1632),(0.1218)\n",
      "wleTripNumber:0.0054***,-0.0018***\n",
      "(0.0009),(0.0006)\n",
      "locTripNumber:0.2610***,0.2850***\n",
      "(0.0144),(0.0090)\n",
      "wleProductivity:-0.9212***,-0.6672***\n",
      "(0.0113),(0.0071)\n",
      "const:52.7453***,43.7269***\n",
      "(0.3237),(0.2307)\n",
      "\n",
      "N:69958,97232\n",
      "R-squared:0.1083,0.1174\n",
      "Adj R-squared:0.1082,0.1173\n",
      "F-statistics:2123.4591***,3232.7436***\n"
     ]
    }
   ],
   "source": [
    "# M2a\n",
    "display_res(Y2009, Y2010, m2a_inDepV)"
   ]
  },
  {
   "cell_type": "code",
   "execution_count": 14,
   "metadata": {
    "collapsed": false
   },
   "outputs": [
    {
     "name": "stdout",
     "output_type": "stream",
     "text": [
      "locInRatio:-5.0473***,-4.5972***\n",
      "(0.0851),(0.0666)\n",
      "wleTripNumber:0.0054***,0.0035***\n",
      "(0.0005),(0.0003)\n",
      "locTripNumber:0.0099,0.0375***\n",
      "(0.0074),(0.0049)\n",
      "wleProductivity:-0.0925***,-0.0925***\n",
      "(0.0061),(0.0040)\n",
      "EP/locTrip:-2.2784***,-2.0254***\n",
      "(0.0051),(0.0042)\n",
      "const:35.8891***,31.6040***\n",
      "(0.1702),(0.1270)\n",
      "\n",
      "N:69958,97232\n",
      "R-squared:0.7658,0.7430\n",
      "Adj R-squared:0.7658,0.7430\n",
      "F-statistics:45757.1577***,56220.4188***\n"
     ]
    }
   ],
   "source": [
    "# M2b\n",
    "display_res(Y2009, Y2010, m2b_inDepV)"
   ]
  },
  {
   "cell_type": "code",
   "execution_count": 15,
   "metadata": {
    "collapsed": false
   },
   "outputs": [
    {
     "name": "stdout",
     "output_type": "stream",
     "text": [
      "locInRatio:-2.7872***,-3.6701***\n",
      "(0.0891),(0.0662)\n",
      "wleTripNumber:-0.0069***,-0.0081***\n",
      "(0.0005),(0.0003)\n",
      "locTripNumber:0.0830***,0.1240***\n",
      "(0.0078),(0.0049)\n",
      "wleProductivity:0.0542***,0.0746***\n",
      "(0.0066),(0.0041)\n",
      "locProductivity:-1.8813***,-1.5435***\n",
      "(0.0046),(0.0032)\n",
      "const:76.6298***,67.3526***\n",
      "(0.1846),(0.1335)\n",
      "\n",
      "N:69958,97232\n",
      "R-squared:0.7386,0.7436\n",
      "Adj R-squared:0.7386,0.7436\n",
      "F-statistics:39530.2444***,56400.4434***\n"
     ]
    }
   ],
   "source": [
    "# M2c\n",
    "display_res(Y2009, Y2010, m2c_inDepV)"
   ]
  },
  {
   "cell_type": "code",
   "execution_count": 16,
   "metadata": {
    "collapsed": false,
    "scrolled": true
   },
   "outputs": [
    {
     "name": "stdout",
     "output_type": "stream",
     "text": [
      "locInRatio:-4.4851***,-4.4408***\n",
      "(0.0792),(0.0608)\n",
      "wleTripNumber:-0.0002,-0.0024***\n",
      "(0.0004),(0.0003)\n",
      "locTripNumber:0.0263***,0.0671***\n",
      "(0.0069),(0.0045)\n",
      "wleProductivity:0.0312***,0.0359***\n",
      "(0.0058),(0.0038)\n",
      "EP/locTrip:-1.3888***,-1.0776***\n",
      "(0.0097),(0.0078)\n",
      "locProductivity:-0.8627***,-0.8268***\n",
      "(0.0082),(0.0059)\n",
      "const:53.4230***,49.9315***\n",
      "(0.2290),(0.1755)\n",
      "\n",
      "N:69958,97232\n",
      "R-squared:0.7981,0.7857\n",
      "Adj R-squared:0.7981,0.7857\n",
      "F-statistics:46098.5272***,59401.9037***\n"
     ]
    }
   ],
   "source": [
    "# M2d\n",
    "display_res(Y2009, Y2010, m2d_inDepV)"
   ]
  },
  {
   "cell_type": "code",
   "execution_count": 17,
   "metadata": {
    "collapsed": false
   },
   "outputs": [
    {
     "name": "stdout",
     "output_type": "stream",
     "text": [
      "locInRatio:-4.3341***,-4.3223***\n",
      "(0.0785),(0.0604)\n",
      "wleTripNumber:-0.0003,-0.0025***\n",
      "(0.0004),(0.0003)\n",
      "locTripNumber:0.0375***,0.0740***\n",
      "(0.0068),(0.0044)\n",
      "wleProductivity:0.0506***,0.0473***\n",
      "(0.0058),(0.0038)\n",
      "EP/locTrip:-1.4359***,-1.1051***\n",
      "(0.0097),(0.0078)\n",
      "locProductivity:-0.8191***,-0.8007***\n",
      "(0.0082),(0.0060)\n",
      "timePassed:0.3462***,-1.0850***\n",
      "(0.0220),(0.0435)\n",
      "timePassed^2:-0.0510***,0.0273***\n",
      "(0.0021),(0.0012)\n",
      "const:51.7958***,59.0955***\n",
      "(0.2370),(0.4050)\n",
      "\n",
      "N:69958,97232\n",
      "R-squared:0.8020,0.7889\n",
      "Adj R-squared:0.8020,0.7889\n",
      "F-statistics:35416.2855***,45410.8602***\n"
     ]
    }
   ],
   "source": [
    "# M3\n",
    "display_res(Y2009, Y2010, m3_inDepV)"
   ]
  },
  {
   "cell_type": "markdown",
   "metadata": {},
   "source": [
    "# Zoo"
   ]
  },
  {
   "cell_type": "code",
   "execution_count": 18,
   "metadata": {
    "collapsed": true
   },
   "outputs": [],
   "source": [
    "from information_boards import statisticsAllDrivers_ns_dpath\n",
    "from information_boards import statisticsAllDriversMonth_ns1519_prefix\n",
    "Y2009 = pd.read_csv('%s/%s2009.csv' % (statisticsAllDrivers_ns_dpath, statisticsAllDriversMonth_ns1519_prefix))\n",
    "Y2010 = pd.read_csv('%s/%s2010.csv' % (statisticsAllDrivers_ns_dpath, statisticsAllDriversMonth_ns1519_prefix))"
   ]
  },
  {
   "cell_type": "code",
   "execution_count": 19,
   "metadata": {
    "collapsed": false
   },
   "outputs": [
    {
     "name": "stdout",
     "output_type": "stream",
     "text": [
      "The number of drivers: (Y2009, 9836), (Y2010, 11018)\n"
     ]
    }
   ],
   "source": [
    "print 'The number of drivers: (Y2009, %d), (Y2010, %d)' % (len(set(Y2009['driverID'])), len(set(Y2010['driverID'])))"
   ]
  },
  {
   "cell_type": "code",
   "execution_count": 20,
   "metadata": {
    "collapsed": false
   },
   "outputs": [
    {
     "name": "stdout",
     "output_type": "stream",
     "text": [
      "locInRatio:-474.7671***,-620.3563***\n",
      "(28.3808),(28.9798)\n",
      "const:484.8799***,623.9428***\n",
      "(21.1517),(22.6268)\n",
      "\n",
      "N:17795,19251\n",
      "R-squared:0.0155,0.0233\n",
      "Adj R-squared:0.0154,0.0232\n",
      "F-statistics:279.8417***,458.2374***\n"
     ]
    }
   ],
   "source": [
    "# M1\n",
    "display_res(Y2009, Y2010, m1_inDepV)"
   ]
  },
  {
   "cell_type": "code",
   "execution_count": 16,
   "metadata": {
    "collapsed": false
   },
   "outputs": [
    {
     "name": "stdout",
     "output_type": "stream",
     "text": [
      "locInRatio:-517.2908***,-652.4528***\n",
      "(29.6313),(30.1250)\n",
      "wleTripNumber:8.4251***,2.5459\n",
      "(3.2056),(3.1103)\n",
      "locTripNumber:-96.8063***,-63.9445***\n",
      "(22.0812),(21.5070)\n",
      "wleProductivity:1.9392**,0.1815\n",
      "(0.8335),(0.2720)\n",
      "const:508.1354***,698.0090***\n",
      "(37.4400),(33.1498)\n",
      "\n",
      "N:17795,19251\n",
      "R-squared:0.0170,0.0240\n",
      "Adj R-squared:0.0168,0.0238\n",
      "F-statistics:77.1047***,118.4940***\n"
     ]
    }
   ],
   "source": [
    "# M2a\n",
    "display_res(Y2009, Y2010, m2a_inDepV)"
   ]
  },
  {
   "cell_type": "code",
   "execution_count": 17,
   "metadata": {
    "collapsed": false
   },
   "outputs": [
    {
     "name": "stdout",
     "output_type": "stream",
     "text": [
      "locInRatio:-22.0277***,-19.0202***\n",
      "(4.4853),(3.1130)\n",
      "wleTripNumber:-0.2294,0.4446\n",
      "(0.4815),(0.3177)\n",
      "locTripNumber:1.1342,-1.3515\n",
      "(3.3178),(2.1976)\n",
      "wleProductivity:-0.0634,0.0116\n",
      "(0.1252),(0.0278)\n",
      "EP/locTrip:-2.2357***,-2.1444***\n",
      "(0.0025),(0.0016)\n",
      "const:39.5927***,29.3285***\n",
      "(5.6476),(3.4224)\n",
      "\n",
      "N:17795,19251\n",
      "R-squared:0.9778,0.9898\n",
      "Adj R-squared:0.9778,0.9898\n",
      "F-statistics:156954.1517***,374076.2246***\n"
     ]
    }
   ],
   "source": [
    "# M2b\n",
    "display_res(Y2009, Y2010, m2b_inDepV)"
   ]
  },
  {
   "cell_type": "markdown",
   "metadata": {},
   "source": [
    "# Night Safari"
   ]
  },
  {
   "cell_type": "code",
   "execution_count": 18,
   "metadata": {
    "collapsed": true
   },
   "outputs": [],
   "source": [
    "from information_boards import statisticsAllDrivers_ns_dpath\n",
    "from information_boards import statisticsAllDriversMonth_ns2000_prefix\n",
    "Y2009 = pd.read_csv('%s/%s2009.csv' % (statisticsAllDrivers_ns_dpath, statisticsAllDriversMonth_ns2000_prefix))\n",
    "Y2010 = pd.read_csv('%s/%s2010.csv' % (statisticsAllDrivers_ns_dpath, statisticsAllDriversMonth_ns2000_prefix))"
   ]
  },
  {
   "cell_type": "code",
   "execution_count": 19,
   "metadata": {
    "collapsed": false
   },
   "outputs": [
    {
     "name": "stdout",
     "output_type": "stream",
     "text": [
      "The number of drivers: (Y2009, 13572), (Y2010, 14852)\n"
     ]
    }
   ],
   "source": [
    "print 'The number of drivers: (Y2009, %d), (Y2010, %d)' % (len(set(Y2009['driverID'])), len(set(Y2010['driverID'])))"
   ]
  },
  {
   "cell_type": "code",
   "execution_count": 15,
   "metadata": {
    "collapsed": true
   },
   "outputs": [],
   "source": [
    "def display_res(Y2009, Y2010, inDepV, fixEF):\n",
    "    results = []\n",
    "    for i, df in enumerate([Y2009, Y2010]):\n",
    "        y = df[dep_v]\n",
    "        X = df[inDepV + fixEF[i]]\n",
    "        X = sm.add_constant(X)\n",
    "        results.append(sm.OLS(y, X, missing='drop').fit())\n",
    "    res2009, res2010 = results\n",
    "    for idv in inDepV + ['const']:\n",
    "        coef2009 = '%.4f' % res2009.params[idv] + significance(res2009.pvalues[idv])\n",
    "        coef2010 = '%.4f' % res2010.params[idv] + significance(res2010.pvalues[idv])\n",
    "        print '%s:' % idv + ','.join([coef2009, coef2010])\n",
    "        ste2009 = res2009.params[idv] / res2009.tvalues[idv]\n",
    "        ste2010 = res2010.params[idv] / res2010.tvalues[idv]\n",
    "        print '(%.4f),(%.4f)' % (ste2009, ste2010)\n",
    "    print\n",
    "\n",
    "    fvalue2009 = '%.4f' % res2009.fvalue + significance(res2009.f_pvalue)\n",
    "    fvalue2010 = '%.4f' % res2010.fvalue + significance(res2010.f_pvalue)\n",
    "    print 'N:%d,%d' % (res2009.nobs, res2010.nobs)\n",
    "    print 'R-squared:%.4f,%.4f' % (res2009.rsquared, res2010.rsquared)\n",
    "    print 'Adj R-squared:%.4f,%.4f' % (res2009.rsquared_adj, res2010.rsquared_adj)\n",
    "    print 'F-statistics:%s,%s' % (fvalue2009, fvalue2010)"
   ]
  },
  {
   "cell_type": "code",
   "execution_count": 17,
   "metadata": {
    "collapsed": false
   },
   "outputs": [
    {
     "ename": "KeyboardInterrupt",
     "evalue": "",
     "output_type": "error",
     "traceback": [
      "\u001b[0;31m---------------------------------------------------------------------------\u001b[0m",
      "\u001b[0;31mKeyboardInterrupt\u001b[0m                         Traceback (most recent call last)",
      "\u001b[0;32m<ipython-input-17-9288aff3b95c>\u001b[0m in \u001b[0;36m<module>\u001b[0;34m()\u001b[0m\n\u001b[1;32m      2\u001b[0m \u001b[0mY2009_drivers\u001b[0m \u001b[0;34m=\u001b[0m \u001b[0;34m[\u001b[0m\u001b[0mstr\u001b[0m\u001b[0;34m(\u001b[0m\u001b[0mdid\u001b[0m\u001b[0;34m)\u001b[0m \u001b[0;32mfor\u001b[0m \u001b[0mdid\u001b[0m \u001b[0;32min\u001b[0m \u001b[0mset\u001b[0m\u001b[0;34m(\u001b[0m\u001b[0mY2009\u001b[0m\u001b[0;34m[\u001b[0m\u001b[0;34m'driverID'\u001b[0m\u001b[0;34m]\u001b[0m\u001b[0;34m)\u001b[0m\u001b[0;34m]\u001b[0m\u001b[0;34m\u001b[0m\u001b[0m\n\u001b[1;32m      3\u001b[0m \u001b[0;32mfor\u001b[0m \u001b[0mdid\u001b[0m \u001b[0;32min\u001b[0m \u001b[0mY2009_drivers\u001b[0m\u001b[0;34m:\u001b[0m\u001b[0;34m\u001b[0m\u001b[0m\n\u001b[0;32m----> 4\u001b[0;31m     \u001b[0mY2009\u001b[0m\u001b[0;34m[\u001b[0m\u001b[0mdid\u001b[0m\u001b[0;34m]\u001b[0m \u001b[0;34m=\u001b[0m \u001b[0mnp\u001b[0m\u001b[0;34m.\u001b[0m\u001b[0mwhere\u001b[0m\u001b[0;34m(\u001b[0m\u001b[0mY2009\u001b[0m\u001b[0;34m[\u001b[0m\u001b[0;34m'driverID'\u001b[0m\u001b[0;34m]\u001b[0m \u001b[0;34m==\u001b[0m \u001b[0mint\u001b[0m\u001b[0;34m(\u001b[0m\u001b[0mdid\u001b[0m\u001b[0;34m)\u001b[0m\u001b[0;34m,\u001b[0m \u001b[0;36m1\u001b[0m\u001b[0;34m,\u001b[0m \u001b[0;36m0\u001b[0m\u001b[0;34m)\u001b[0m\u001b[0;34m\u001b[0m\u001b[0m\n\u001b[0m\u001b[1;32m      5\u001b[0m \u001b[0mY2010_drivers\u001b[0m \u001b[0;34m=\u001b[0m \u001b[0;34m[\u001b[0m\u001b[0mstr\u001b[0m\u001b[0;34m(\u001b[0m\u001b[0mdid\u001b[0m\u001b[0;34m)\u001b[0m \u001b[0;32mfor\u001b[0m \u001b[0mdid\u001b[0m \u001b[0;32min\u001b[0m \u001b[0mset\u001b[0m\u001b[0;34m(\u001b[0m\u001b[0mY2010\u001b[0m\u001b[0;34m[\u001b[0m\u001b[0;34m'driverID'\u001b[0m\u001b[0;34m]\u001b[0m\u001b[0;34m)\u001b[0m\u001b[0;34m]\u001b[0m\u001b[0;34m\u001b[0m\u001b[0m\n\u001b[1;32m      6\u001b[0m \u001b[0;32mfor\u001b[0m \u001b[0mdid\u001b[0m \u001b[0;32min\u001b[0m \u001b[0mY2010_drivers\u001b[0m\u001b[0;34m:\u001b[0m\u001b[0;34m\u001b[0m\u001b[0m\n",
      "\u001b[0;32m/Library/Frameworks/Python.framework/Versions/2.7/lib/python2.7/site-packages/pandas/core/frame.pyc\u001b[0m in \u001b[0;36m__setitem__\u001b[0;34m(self, key, value)\u001b[0m\n\u001b[1;32m   2417\u001b[0m         \u001b[0;32melse\u001b[0m\u001b[0;34m:\u001b[0m\u001b[0;34m\u001b[0m\u001b[0m\n\u001b[1;32m   2418\u001b[0m             \u001b[0;31m# set column\u001b[0m\u001b[0;34m\u001b[0m\u001b[0;34m\u001b[0m\u001b[0m\n\u001b[0;32m-> 2419\u001b[0;31m             \u001b[0mself\u001b[0m\u001b[0;34m.\u001b[0m\u001b[0m_set_item\u001b[0m\u001b[0;34m(\u001b[0m\u001b[0mkey\u001b[0m\u001b[0;34m,\u001b[0m \u001b[0mvalue\u001b[0m\u001b[0;34m)\u001b[0m\u001b[0;34m\u001b[0m\u001b[0m\n\u001b[0m\u001b[1;32m   2420\u001b[0m \u001b[0;34m\u001b[0m\u001b[0m\n\u001b[1;32m   2421\u001b[0m     \u001b[0;32mdef\u001b[0m \u001b[0m_setitem_slice\u001b[0m\u001b[0;34m(\u001b[0m\u001b[0mself\u001b[0m\u001b[0;34m,\u001b[0m \u001b[0mkey\u001b[0m\u001b[0;34m,\u001b[0m \u001b[0mvalue\u001b[0m\u001b[0;34m)\u001b[0m\u001b[0;34m:\u001b[0m\u001b[0;34m\u001b[0m\u001b[0m\n",
      "\u001b[0;32m/Library/Frameworks/Python.framework/Versions/2.7/lib/python2.7/site-packages/pandas/core/frame.pyc\u001b[0m in \u001b[0;36m_set_item\u001b[0;34m(self, key, value)\u001b[0m\n\u001b[1;32m   2484\u001b[0m         \u001b[0mself\u001b[0m\u001b[0;34m.\u001b[0m\u001b[0m_ensure_valid_index\u001b[0m\u001b[0;34m(\u001b[0m\u001b[0mvalue\u001b[0m\u001b[0;34m)\u001b[0m\u001b[0;34m\u001b[0m\u001b[0m\n\u001b[1;32m   2485\u001b[0m         \u001b[0mvalue\u001b[0m \u001b[0;34m=\u001b[0m \u001b[0mself\u001b[0m\u001b[0;34m.\u001b[0m\u001b[0m_sanitize_column\u001b[0m\u001b[0;34m(\u001b[0m\u001b[0mkey\u001b[0m\u001b[0;34m,\u001b[0m \u001b[0mvalue\u001b[0m\u001b[0;34m)\u001b[0m\u001b[0;34m\u001b[0m\u001b[0m\n\u001b[0;32m-> 2486\u001b[0;31m         \u001b[0mNDFrame\u001b[0m\u001b[0;34m.\u001b[0m\u001b[0m_set_item\u001b[0m\u001b[0;34m(\u001b[0m\u001b[0mself\u001b[0m\u001b[0;34m,\u001b[0m \u001b[0mkey\u001b[0m\u001b[0;34m,\u001b[0m \u001b[0mvalue\u001b[0m\u001b[0;34m)\u001b[0m\u001b[0;34m\u001b[0m\u001b[0m\n\u001b[0m\u001b[1;32m   2487\u001b[0m \u001b[0;34m\u001b[0m\u001b[0m\n\u001b[1;32m   2488\u001b[0m         \u001b[0;31m# check if we are modifying a copy\u001b[0m\u001b[0;34m\u001b[0m\u001b[0;34m\u001b[0m\u001b[0m\n",
      "\u001b[0;32m/Library/Frameworks/Python.framework/Versions/2.7/lib/python2.7/site-packages/pandas/core/generic.pyc\u001b[0m in \u001b[0;36m_set_item\u001b[0;34m(self, key, value)\u001b[0m\n\u001b[1;32m   1498\u001b[0m \u001b[0;34m\u001b[0m\u001b[0m\n\u001b[1;32m   1499\u001b[0m     \u001b[0;32mdef\u001b[0m \u001b[0m_set_item\u001b[0m\u001b[0;34m(\u001b[0m\u001b[0mself\u001b[0m\u001b[0;34m,\u001b[0m \u001b[0mkey\u001b[0m\u001b[0;34m,\u001b[0m \u001b[0mvalue\u001b[0m\u001b[0;34m)\u001b[0m\u001b[0;34m:\u001b[0m\u001b[0;34m\u001b[0m\u001b[0m\n\u001b[0;32m-> 1500\u001b[0;31m         \u001b[0mself\u001b[0m\u001b[0;34m.\u001b[0m\u001b[0m_data\u001b[0m\u001b[0;34m.\u001b[0m\u001b[0mset\u001b[0m\u001b[0;34m(\u001b[0m\u001b[0mkey\u001b[0m\u001b[0;34m,\u001b[0m \u001b[0mvalue\u001b[0m\u001b[0;34m)\u001b[0m\u001b[0;34m\u001b[0m\u001b[0m\n\u001b[0m\u001b[1;32m   1501\u001b[0m         \u001b[0mself\u001b[0m\u001b[0;34m.\u001b[0m\u001b[0m_clear_item_cache\u001b[0m\u001b[0;34m(\u001b[0m\u001b[0;34m)\u001b[0m\u001b[0;34m\u001b[0m\u001b[0m\n\u001b[1;32m   1502\u001b[0m \u001b[0;34m\u001b[0m\u001b[0m\n",
      "\u001b[0;32m/Library/Frameworks/Python.framework/Versions/2.7/lib/python2.7/site-packages/pandas/core/internals.pyc\u001b[0m in \u001b[0;36mset\u001b[0;34m(self, item, value, check)\u001b[0m\n\u001b[1;32m   3669\u001b[0m         \u001b[0;32mexcept\u001b[0m \u001b[0mKeyError\u001b[0m\u001b[0;34m:\u001b[0m\u001b[0;34m\u001b[0m\u001b[0m\n\u001b[1;32m   3670\u001b[0m             \u001b[0;31m# This item wasn't present, just insert at end\u001b[0m\u001b[0;34m\u001b[0m\u001b[0;34m\u001b[0m\u001b[0m\n\u001b[0;32m-> 3671\u001b[0;31m             \u001b[0mself\u001b[0m\u001b[0;34m.\u001b[0m\u001b[0minsert\u001b[0m\u001b[0;34m(\u001b[0m\u001b[0mlen\u001b[0m\u001b[0;34m(\u001b[0m\u001b[0mself\u001b[0m\u001b[0;34m.\u001b[0m\u001b[0mitems\u001b[0m\u001b[0;34m)\u001b[0m\u001b[0;34m,\u001b[0m \u001b[0mitem\u001b[0m\u001b[0;34m,\u001b[0m \u001b[0mvalue\u001b[0m\u001b[0;34m)\u001b[0m\u001b[0;34m\u001b[0m\u001b[0m\n\u001b[0m\u001b[1;32m   3672\u001b[0m             \u001b[0;32mreturn\u001b[0m\u001b[0;34m\u001b[0m\u001b[0m\n\u001b[1;32m   3673\u001b[0m \u001b[0;34m\u001b[0m\u001b[0m\n",
      "\u001b[0;32m/Library/Frameworks/Python.framework/Versions/2.7/lib/python2.7/site-packages/pandas/core/internals.pyc\u001b[0m in \u001b[0;36minsert\u001b[0;34m(self, loc, item, value, allow_duplicates)\u001b[0m\n\u001b[1;32m   3797\u001b[0m \u001b[0;34m\u001b[0m\u001b[0m\n\u001b[1;32m   3798\u001b[0m         \u001b[0;32mif\u001b[0m \u001b[0mlen\u001b[0m\u001b[0;34m(\u001b[0m\u001b[0mself\u001b[0m\u001b[0;34m.\u001b[0m\u001b[0mblocks\u001b[0m\u001b[0;34m)\u001b[0m \u001b[0;34m>\u001b[0m \u001b[0;36m100\u001b[0m\u001b[0;34m:\u001b[0m\u001b[0;34m\u001b[0m\u001b[0m\n\u001b[0;32m-> 3799\u001b[0;31m             \u001b[0mself\u001b[0m\u001b[0;34m.\u001b[0m\u001b[0m_consolidate_inplace\u001b[0m\u001b[0;34m(\u001b[0m\u001b[0;34m)\u001b[0m\u001b[0;34m\u001b[0m\u001b[0m\n\u001b[0m\u001b[1;32m   3800\u001b[0m \u001b[0;34m\u001b[0m\u001b[0m\n\u001b[1;32m   3801\u001b[0m     def reindex_axis(self, new_index, axis, method=None, limit=None,\n",
      "\u001b[0;32m/Library/Frameworks/Python.framework/Versions/2.7/lib/python2.7/site-packages/pandas/core/internals.pyc\u001b[0m in \u001b[0;36m_consolidate_inplace\u001b[0;34m(self)\u001b[0m\n\u001b[1;32m   3529\u001b[0m     \u001b[0;32mdef\u001b[0m \u001b[0m_consolidate_inplace\u001b[0m\u001b[0;34m(\u001b[0m\u001b[0mself\u001b[0m\u001b[0;34m)\u001b[0m\u001b[0;34m:\u001b[0m\u001b[0;34m\u001b[0m\u001b[0m\n\u001b[1;32m   3530\u001b[0m         \u001b[0;32mif\u001b[0m \u001b[0;32mnot\u001b[0m \u001b[0mself\u001b[0m\u001b[0;34m.\u001b[0m\u001b[0mis_consolidated\u001b[0m\u001b[0;34m(\u001b[0m\u001b[0;34m)\u001b[0m\u001b[0;34m:\u001b[0m\u001b[0;34m\u001b[0m\u001b[0m\n\u001b[0;32m-> 3531\u001b[0;31m             \u001b[0mself\u001b[0m\u001b[0;34m.\u001b[0m\u001b[0mblocks\u001b[0m \u001b[0;34m=\u001b[0m \u001b[0mtuple\u001b[0m\u001b[0;34m(\u001b[0m\u001b[0m_consolidate\u001b[0m\u001b[0;34m(\u001b[0m\u001b[0mself\u001b[0m\u001b[0;34m.\u001b[0m\u001b[0mblocks\u001b[0m\u001b[0;34m)\u001b[0m\u001b[0;34m)\u001b[0m\u001b[0;34m\u001b[0m\u001b[0m\n\u001b[0m\u001b[1;32m   3532\u001b[0m             \u001b[0mself\u001b[0m\u001b[0;34m.\u001b[0m\u001b[0m_is_consolidated\u001b[0m \u001b[0;34m=\u001b[0m \u001b[0mTrue\u001b[0m\u001b[0;34m\u001b[0m\u001b[0m\n\u001b[1;32m   3533\u001b[0m             \u001b[0mself\u001b[0m\u001b[0;34m.\u001b[0m\u001b[0m_known_consolidated\u001b[0m \u001b[0;34m=\u001b[0m \u001b[0mTrue\u001b[0m\u001b[0;34m\u001b[0m\u001b[0m\n",
      "\u001b[0;32m/Library/Frameworks/Python.framework/Versions/2.7/lib/python2.7/site-packages/pandas/core/internals.pyc\u001b[0m in \u001b[0;36m_consolidate\u001b[0;34m(blocks)\u001b[0m\n\u001b[1;32m   4521\u001b[0m     \u001b[0;32mfor\u001b[0m \u001b[0;34m(\u001b[0m\u001b[0m_can_consolidate\u001b[0m\u001b[0;34m,\u001b[0m \u001b[0mdtype\u001b[0m\u001b[0;34m)\u001b[0m\u001b[0;34m,\u001b[0m \u001b[0mgroup_blocks\u001b[0m \u001b[0;32min\u001b[0m \u001b[0mgrouper\u001b[0m\u001b[0;34m:\u001b[0m\u001b[0;34m\u001b[0m\u001b[0m\n\u001b[1;32m   4522\u001b[0m         merged_blocks = _merge_blocks(list(group_blocks), dtype=dtype,\n\u001b[0;32m-> 4523\u001b[0;31m                                       _can_consolidate=_can_consolidate)\n\u001b[0m\u001b[1;32m   4524\u001b[0m         \u001b[0mnew_blocks\u001b[0m \u001b[0;34m=\u001b[0m \u001b[0m_extend_blocks\u001b[0m\u001b[0;34m(\u001b[0m\u001b[0mmerged_blocks\u001b[0m\u001b[0;34m,\u001b[0m \u001b[0mnew_blocks\u001b[0m\u001b[0;34m)\u001b[0m\u001b[0;34m\u001b[0m\u001b[0m\n\u001b[1;32m   4525\u001b[0m     \u001b[0;32mreturn\u001b[0m \u001b[0mnew_blocks\u001b[0m\u001b[0;34m\u001b[0m\u001b[0m\n",
      "\u001b[0;32m/Library/Frameworks/Python.framework/Versions/2.7/lib/python2.7/site-packages/pandas/core/internals.pyc\u001b[0m in \u001b[0;36m_merge_blocks\u001b[0;34m(blocks, dtype, _can_consolidate)\u001b[0m\n\u001b[1;32m   4544\u001b[0m \u001b[0;34m\u001b[0m\u001b[0m\n\u001b[1;32m   4545\u001b[0m         \u001b[0margsort\u001b[0m \u001b[0;34m=\u001b[0m \u001b[0mnp\u001b[0m\u001b[0;34m.\u001b[0m\u001b[0margsort\u001b[0m\u001b[0;34m(\u001b[0m\u001b[0mnew_mgr_locs\u001b[0m\u001b[0;34m)\u001b[0m\u001b[0;34m\u001b[0m\u001b[0m\n\u001b[0;32m-> 4546\u001b[0;31m         \u001b[0mnew_values\u001b[0m \u001b[0;34m=\u001b[0m \u001b[0mnew_values\u001b[0m\u001b[0;34m[\u001b[0m\u001b[0margsort\u001b[0m\u001b[0;34m]\u001b[0m\u001b[0;34m\u001b[0m\u001b[0m\n\u001b[0m\u001b[1;32m   4547\u001b[0m         \u001b[0mnew_mgr_locs\u001b[0m \u001b[0;34m=\u001b[0m \u001b[0mnew_mgr_locs\u001b[0m\u001b[0;34m[\u001b[0m\u001b[0margsort\u001b[0m\u001b[0;34m]\u001b[0m\u001b[0;34m\u001b[0m\u001b[0m\n\u001b[1;32m   4548\u001b[0m \u001b[0;34m\u001b[0m\u001b[0m\n",
      "\u001b[0;31mKeyboardInterrupt\u001b[0m: "
     ]
    }
   ],
   "source": [
    "# M4\n",
    "Y2009_drivers = [str(did) for did in set(Y2009['driverID'])]\n",
    "for did in Y2009_drivers:\n",
    "    Y2009[did] = np.where(Y2009['driverID'] == int(did), 1, 0)\n",
    "Y2010_drivers = [str(did) for did in set(Y2010['driverID'])]\n",
    "for did in Y2010_drivers:\n",
    "    Y2010[did] = np.where(Y2010['driverID'] == int(did), 1, 0)\n",
    "display_res(Y2009, Y2010, m3_inDepV, (Y2009_drivers[:-1], Y2010_drivers[:-1]))"
   ]
  },
  {
   "cell_type": "code",
   "execution_count": null,
   "metadata": {
    "collapsed": true
   },
   "outputs": [],
   "source": [
    "# M5\n",
    "hours = ['H%d' % x for x in range(24) if x not in [2, 3, 4, 5]]\n",
    "month2009 = ['M%d' % m for m in Y2009['month']]\n",
    "month2010 = ['M%d' % m for m in Y2010['month']]\n",
    "for Mmonth in hours:\n",
    "    Y2009[Mmonth] = np.where(Y2009['month'] == int(Mmonth[1:]), 1, 0)\n",
    "    Y2010[Mmonth] = np.where(Y2010['month'] == int(Mmonth[1:]), 1, 0)"
   ]
  }
 ],
 "metadata": {
  "kernelspec": {
   "display_name": "Python 2",
   "language": "python",
   "name": "python2"
  },
  "language_info": {
   "codemirror_mode": {
    "name": "ipython",
    "version": 2
   },
   "file_extension": ".py",
   "mimetype": "text/x-python",
   "name": "python",
   "nbconvert_exporter": "python",
   "pygments_lexer": "ipython2",
   "version": "2.7.13"
  }
 },
 "nbformat": 4,
 "nbformat_minor": 2
}
