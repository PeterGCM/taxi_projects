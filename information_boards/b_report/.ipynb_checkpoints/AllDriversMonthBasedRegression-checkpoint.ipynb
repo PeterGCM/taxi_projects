{
 "cells": [
  {
   "cell_type": "code",
   "execution_count": 1,
   "metadata": {
    "collapsed": true
   },
   "outputs": [],
   "source": [
    "import __init__\n",
    "#\n",
    "from IPython.display import HTML, display\n",
    "import pandas as pd\n",
    "import numpy as np\n",
    "import statsmodels.api as sm"
   ]
  },
  {
   "cell_type": "code",
   "execution_count": 2,
   "metadata": {
    "collapsed": false
   },
   "outputs": [],
   "source": [
    "from information_boards import statisticsAllDrivers_ap_dpath\n",
    "from information_boards import statisticsAllDriversMonth_ap_prefix\n",
    "Y2009 = pd.read_csv('%s/%s2009.csv' % (statisticsAllDrivers_ap_dpath, statisticsAllDriversMonth_ap_prefix))\n",
    "Y2010 = pd.read_csv('%s/%s2010.csv' % (statisticsAllDrivers_ap_dpath, statisticsAllDriversMonth_ap_prefix))"
   ]
  },
  {
   "cell_type": "code",
   "execution_count": 4,
   "metadata": {
    "collapsed": false
   },
   "outputs": [
    {
     "name": "stdout",
     "output_type": "stream",
     "text": [
      "Index([u'year', u'month', u'driverID', u'wleTripNumber', u'wleOperatingHour',\n",
      "       u'wleFare', u'wleProductivity', u'locTripNumber', u'locInNumber',\n",
      "       u'locOutNumber', u'locQTime', u'locEP', u'locDuration', u'locFare',\n",
      "       u'QTime/locTrip', u'EP/locTrip', u'locProductivity', u'locInRatio',\n",
      "       u'timePassed', u'timePassed^2'],\n",
      "      dtype='object')\n",
      "The number of drivers: (2009, 29057), (2010, 30598)\n"
     ]
    }
   ],
   "source": [
    "print Y2009.columns\n",
    "print 'The number of drivers: (2009, %d), (2010, %d)' % (len(set(Y2009['driverID'])), len(set(Y2010['driverID'])))"
   ]
  },
  {
   "cell_type": "code",
   "execution_count": 5,
   "metadata": {
    "collapsed": true
   },
   "outputs": [],
   "source": [
    "def significance(pvalue):\n",
    "    if pvalue < 0.01:\n",
    "        num_stars = 3\n",
    "    elif pvalue < 0.05:\n",
    "        num_stars = 2\n",
    "    elif pvalue < 0.1:\n",
    "        num_stars = 1\n",
    "    else:\n",
    "        num_stars = 0    \n",
    "    return '*' * num_stars"
   ]
  },
  {
   "cell_type": "code",
   "execution_count": 6,
   "metadata": {
    "collapsed": true
   },
   "outputs": [],
   "source": [
    "def display_res(Y2009, Y2010, inDepV):\n",
    "    results = []\n",
    "    for df in [Y2009, Y2010]:\n",
    "        y = df[dep_v]\n",
    "        X = df[inDepV]\n",
    "        X = sm.add_constant(X)\n",
    "        results.append(sm.OLS(y, X, missing='drop').fit())\n",
    "    res2009, res2010 = results\n",
    "    for idv in inDepV + ['const']:\n",
    "        coef2009 = '%.4f' % res2009.params[idv] + significance(res2009.pvalues[idv])\n",
    "        coef2010 = '%.4f' % res2010.params[idv] + significance(res2010.pvalues[idv])\n",
    "        print '%s:' % idv + ','.join([coef2009, coef2010])\n",
    "        ste2009 = res2009.params[idv] / res2009.tvalues[idv]\n",
    "        ste2010 = res2010.params[idv] / res2010.tvalues[idv]\n",
    "        print '(%.4f),(%.4f)' % (ste2009, ste2010)\n",
    "    print\n",
    "\n",
    "    fvalue2009 = '%.4f' % res2009.fvalue + significance(res2009.f_pvalue)\n",
    "    fvalue2010 = '%.4f' % res2010.fvalue + significance(res2010.f_pvalue)\n",
    "    print 'N:%d,%d' % (res2009.nobs, res2010.nobs)\n",
    "    print 'R-squared:%.4f,%.4f' % (res2009.rsquared, res2010.rsquared)\n",
    "    print 'Adj R-squared:%.4f,%.4f' % (res2009.rsquared_adj, res2010.rsquared_adj)\n",
    "    print 'F-statistics:%s,%s' % (fvalue2009, fvalue2010)"
   ]
  },
  {
   "cell_type": "code",
   "execution_count": 7,
   "metadata": {
    "collapsed": true
   },
   "outputs": [],
   "source": [
    "# Models\n",
    "dep_v = 'QTime/locTrip'\n",
    "ib_impact = ['locInRatio']\n",
    "cv0 = ['wleTripNumber', 'locTripNumber', 'wleProductivity']\n",
    "cv1 = cv0 + ['EP/locTrip']\n",
    "cv2 = cv0 + ['locProductivity']\n",
    "cv3 = cv0 + ['EP/locTrip', 'locProductivity']\n",
    "learning_variables = ['timePassed', 'timePassed^2']\n",
    "m1_inDepV = ib_impact\n",
    "m2a_inDepV = ib_impact + cv0\n",
    "m2b_inDepV = ib_impact + cv1\n",
    "m2c_inDepV = ib_impact + cv2\n",
    "m2d_inDepV = ib_impact + cv3\n",
    "m3_inDepV = ib_impact + cv3 + learning_variables"
   ]
  },
  {
   "cell_type": "markdown",
   "metadata": {},
   "source": [
    "# Aiport"
   ]
  },
  {
   "cell_type": "code",
   "execution_count": 8,
   "metadata": {
    "collapsed": false
   },
   "outputs": [
    {
     "name": "stdout",
     "output_type": "stream",
     "text": [
      "locInRatio:-41.1420***,-34.7586***\n",
      "(1.0871),(0.7697)\n",
      "const:64.8325***,55.9198***\n",
      "(0.8431),(0.6119)\n",
      "\n",
      "N:185317,212362\n",
      "R-squared:0.0077,0.0095\n",
      "Adj R-squared:0.0077,0.0095\n",
      "F-statistics:1432.2321***,2039.3006***\n"
     ]
    }
   ],
   "source": [
    "# M1\n",
    "display_res(Y2009, Y2010, m1_inDepV)"
   ]
  },
  {
   "cell_type": "code",
   "execution_count": 9,
   "metadata": {
    "collapsed": false,
    "scrolled": true
   },
   "outputs": [
    {
     "name": "stdout",
     "output_type": "stream",
     "text": [
      "locInRatio:-53.4923***,-45.7522***\n",
      "(1.2971),(0.9301)\n",
      "wleTripNumber:-0.0032,0.0077**\n",
      "(0.0048),(0.0030)\n",
      "locTripNumber:-0.4175***,-0.3978***\n",
      "(0.0337),(0.0235)\n",
      "wleProductivity:-0.0046,-0.0012\n",
      "(0.0058),(0.0037)\n",
      "const:78.6297***,67.7941***\n",
      "(1.2012),(0.8709)\n",
      "\n",
      "N:185317,212362\n",
      "R-squared:0.0093,0.0116\n",
      "Adj R-squared:0.0093,0.0116\n",
      "F-statistics:435.4124***,622.0262***\n"
     ]
    }
   ],
   "source": [
    "# M2a\n",
    "display_res(Y2009, Y2010, m2a_inDepV)"
   ]
  },
  {
   "cell_type": "code",
   "execution_count": 11,
   "metadata": {
    "collapsed": false
   },
   "outputs": [
    {
     "name": "stdout",
     "output_type": "stream",
     "text": [
      "locInRatio:-10.4891***,-7.9056***\n",
      "(0.1958),(0.2005)\n",
      "wleTripNumber:0.0103***,0.0106***\n",
      "(0.0007),(0.0006)\n",
      "locTripNumber:-0.0457***,-0.0258***\n",
      "(0.0051),(0.0050)\n",
      "wleProductivity:0.0002,-0.0009\n",
      "(0.0009),(0.0008)\n",
      "EP/locTrip:-2.4962***,-2.2461***\n",
      "(0.0009),(0.0011)\n",
      "const:35.8706***,30.0135***\n",
      "(0.1813),(0.1878)\n",
      "\n",
      "N:185317,212362\n",
      "R-squared:0.9776,0.9544\n",
      "Adj R-squared:0.9776,0.9544\n",
      "F-statistics:1615648.2723***,889854.9742***\n"
     ]
    }
   ],
   "source": [
    "# M2b\n",
    "display_res(Y2009, Y2010, m2b_inDepV)"
   ]
  },
  {
   "cell_type": "code",
   "execution_count": 12,
   "metadata": {
    "collapsed": false
   },
   "outputs": [
    {
     "name": "stdout",
     "output_type": "stream",
     "text": [
      "locInRatio:-52.3326***,-44.9076***\n",
      "(1.2949),(0.9265)\n",
      "wleTripNumber:-0.0159***,-0.0048\n",
      "(0.0048),(0.0030)\n",
      "locTripNumber:-0.4070***,-0.3891***\n",
      "(0.0336),(0.0234)\n",
      "wleProductivity:-0.0026,0.0006\n",
      "(0.0058),(0.0037)\n",
      "locProductivity:-0.3849***,-0.4610***\n",
      "(0.0134),(0.0110)\n",
      "const:89.2153***,81.4648***\n",
      "(1.2536),(0.9263)\n",
      "\n",
      "N:185317,212362\n",
      "R-squared:0.0137,0.0197\n",
      "Adj R-squared:0.0137,0.0197\n",
      "F-statistics:515.6996***,854.4595***\n"
     ]
    }
   ],
   "source": [
    "# M2c\n",
    "display_res(Y2009, Y2010, m2c_inDepV)"
   ]
  },
  {
   "cell_type": "code",
   "execution_count": 13,
   "metadata": {
    "collapsed": false,
    "scrolled": true
   },
   "outputs": [
    {
     "name": "stdout",
     "output_type": "stream",
     "text": [
      "locInRatio:-10.4891***,-7.9130***\n",
      "(0.1958),(0.2005)\n",
      "wleTripNumber:0.0103***,0.0108***\n",
      "(0.0007),(0.0006)\n",
      "locTripNumber:-0.0457***,-0.0259***\n",
      "(0.0051),(0.0050)\n",
      "wleProductivity:0.0002,-0.0009\n",
      "(0.0009),(0.0008)\n",
      "EP/locTrip:-2.4962***,-2.2464***\n",
      "(0.0009),(0.0011)\n",
      "locProductivity:0.0000,0.0066***\n",
      "(0.0020),(0.0024)\n",
      "const:35.8705***,29.8140***\n",
      "(0.1900),(0.2012)\n",
      "\n",
      "N:185317,212362\n",
      "R-squared:0.9776,0.9544\n",
      "Adj R-squared:0.9776,0.9544\n",
      "F-statistics:1346366.2948***,741570.2641***\n"
     ]
    }
   ],
   "source": [
    "# M2d\n",
    "display_res(Y2009, Y2010, m2d_inDepV)"
   ]
  },
  {
   "cell_type": "code",
   "execution_count": 14,
   "metadata": {
    "collapsed": false
   },
   "outputs": [
    {
     "name": "stdout",
     "output_type": "stream",
     "text": [
      "locInRatio:-10.3557***,-7.8260***\n",
      "(0.1958),(0.2004)\n",
      "wleTripNumber:0.0107***,0.0110***\n",
      "(0.0007),(0.0006)\n",
      "locTripNumber:-0.0452***,-0.0256***\n",
      "(0.0051),(0.0050)\n",
      "wleProductivity:0.0004,-0.0009\n",
      "(0.0009),(0.0008)\n",
      "EP/locTrip:-2.4963***,-2.2466***\n",
      "(0.0009),(0.0011)\n",
      "locProductivity:0.0007,0.0070***\n",
      "(0.0020),(0.0024)\n",
      "timePassed:0.7357***,-0.4262**\n",
      "(0.0671),(0.1739)\n",
      "timePassed^2:-0.0956***,0.0037\n",
      "(0.0065),(0.0049)\n",
      "const:35.3959***,35.9179***\n",
      "(0.2294),(1.4970)\n",
      "\n",
      "N:185317,212362\n",
      "R-squared:0.9776,0.9545\n",
      "Adj R-squared:0.9776,0.9545\n",
      "F-statistics:1011834.0692***,557147.0841***\n"
     ]
    }
   ],
   "source": [
    "# M3\n",
    "display_res(Y2009, Y2010, m3_inDepV)"
   ]
  },
  {
   "cell_type": "code",
   "execution_count": 15,
   "metadata": {
    "collapsed": true
   },
   "outputs": [],
   "source": [
    "def display_res(Y2009, Y2010, inDepV, fixEF):\n",
    "    results = []\n",
    "    for i, df in enumerate([Y2009, Y2010]):\n",
    "        y = df[dep_v]\n",
    "        X = df[inDepV + fixEF[i]]\n",
    "        X = sm.add_constant(X)\n",
    "        results.append(sm.OLS(y, X, missing='drop').fit())\n",
    "    res2009, res2010 = results\n",
    "    for idv in inDepV + ['const']:\n",
    "        coef2009 = '%.4f' % res2009.params[idv] + significance(res2009.pvalues[idv])\n",
    "        coef2010 = '%.4f' % res2010.params[idv] + significance(res2010.pvalues[idv])\n",
    "        print '%s:' % idv + ','.join([coef2009, coef2010])\n",
    "        ste2009 = res2009.params[idv] / res2009.tvalues[idv]\n",
    "        ste2010 = res2010.params[idv] / res2010.tvalues[idv]\n",
    "        print '(%.4f),(%.4f)' % (ste2009, ste2010)\n",
    "    print\n",
    "\n",
    "    fvalue2009 = '%.4f' % res2009.fvalue + significance(res2009.f_pvalue)\n",
    "    fvalue2010 = '%.4f' % res2010.fvalue + significance(res2010.f_pvalue)\n",
    "    print 'N:%d,%d' % (res2009.nobs, res2010.nobs)\n",
    "    print 'R-squared:%.4f,%.4f' % (res2009.rsquared, res2010.rsquared)\n",
    "    print 'Adj R-squared:%.4f,%.4f' % (res2009.rsquared_adj, res2010.rsquared_adj)\n",
    "    print 'F-statistics:%s,%s' % (fvalue2009, fvalue2010)"
   ]
  },
  {
   "cell_type": "code",
   "execution_count": null,
   "metadata": {
    "collapsed": false
   },
   "outputs": [],
   "source": [
    "# M4\n",
    "Y2009_drivers = [str(did) for did in set(Y2009['driverID'])]\n",
    "for did in Y2009_drivers:\n",
    "    Y2009[did] = np.where(Y2009['driverID'] == int(did), 1, 0)\n",
    "Y2010_drivers = [str(did) for did in set(Y2010['driverID'])]\n",
    "for did in Y2010_drivers:\n",
    "    Y2010[did] = np.where(Y2010['driverID'] == int(did), 1, 0)\n",
    "display_res(Y2009, Y2010, m3_inDepV, (Y2009_drivers[:-1], Y2010_drivers[:-1]))"
   ]
  },
  {
   "cell_type": "code",
   "execution_count": null,
   "metadata": {
    "collapsed": true
   },
   "outputs": [],
   "source": [
    "# M5\n",
    "hours = ['H%d' % x for x in range(24) if x not in [2, 3, 4, 5]]\n",
    "month2009 = ['M%d' % m for m in Y2009['month']]\n",
    "month2010 = ['M%d' % m for m in Y2010['month']]\n",
    "for Mmonth in hours:\n",
    "    Y2009[Mmonth] = np.where(Y2009['month'] == int(Mmonth[1:]), 1, 0)\n",
    "    Y2010[Mmonth] = np.where(Y2010['month'] == int(Mmonth[1:]), 1, 0)"
   ]
  }
 ],
 "metadata": {
  "kernelspec": {
   "display_name": "Python 2",
   "language": "python",
   "name": "python2"
  },
  "language_info": {
   "codemirror_mode": {
    "name": "ipython",
    "version": 2
   },
   "file_extension": ".py",
   "mimetype": "text/x-python",
   "name": "python",
   "nbconvert_exporter": "python",
   "pygments_lexer": "ipython2",
   "version": "2.7.13"
  }
 },
 "nbformat": 4,
 "nbformat_minor": 2
}
