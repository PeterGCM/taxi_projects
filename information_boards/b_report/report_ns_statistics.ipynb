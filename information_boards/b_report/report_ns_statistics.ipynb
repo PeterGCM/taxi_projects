{
 "cells": [
  {
   "cell_type": "code",
   "execution_count": 1,
   "metadata": {
    "collapsed": true
   },
   "outputs": [],
   "source": [
    "import __init__\n",
    "#\n",
    "from IPython.display import HTML, display\n",
    "import pandas as pd\n",
    "import numpy as np\n",
    "from scipy.stats import ttest_ind\n",
    "#\n",
    "# some functions\n",
    "#\n",
    "def text_display(text, font_size):\n",
    "    display(HTML('<font size=%d>' % font_size + text + '</font>'))\n",
    "\n",
    "def table_display(table_data):\n",
    "    display(HTML(\n",
    "    '<table><tr>{}</tr></table>'.format(\n",
    "        '</tr><tr>'.join(\n",
    "            '<td>{}</td>'.format('</td><td>'.join(str(_) for _ in row)) for row in table_data)\n",
    "        )\n",
    "    ))"
   ]
  },
  {
   "cell_type": "code",
   "execution_count": 19,
   "metadata": {
    "collapsed": false
   },
   "outputs": [
    {
     "data": {
      "text/plain": [
       "1653"
      ]
     },
     "execution_count": 19,
     "metadata": {},
     "output_type": "execute_result"
    }
   ],
   "source": [
    "from information_boards import ssDriversStatisticsDayBasedModi_ns1519_fpath\n",
    "from information_boards import ssDriversStatisticsDayBasedModi_ns2000_fpath\n",
    "# df = pd.read_csv(ssDriversStatisticsDayBasedModi_ns1519_fpath)\n",
    "df = pd.read_csv(ssDriversStatisticsDayBasedModi_ns2000_fpath)\n",
    "len(set(df['driverID']))\n",
    "\n",
    "# display(df.head())"
   ]
  },
  {
   "cell_type": "markdown",
   "metadata": {},
   "source": [
    "# Average"
   ]
  },
  {
   "cell_type": "code",
   "execution_count": 20,
   "metadata": {
    "collapsed": false
   },
   "outputs": [
    {
     "data": {
      "text/html": [
       "<table><tr><td>tripNumber</td><td>operatingHour</td><td>Fare</td></tr><tr><td>6.33637621024</td><td>3.43133471646</td><td>76.6235131397</td></tr></table>"
      ],
      "text/plain": [
       "<IPython.core.display.HTML object>"
      ]
     },
     "metadata": {},
     "output_type": "display_data"
    },
    {
     "data": {
      "text/html": [
       "<table><tr><td>nsNumber</td><td>nsInNumber</td><td>nsOutNumber</td><td>nsQTime</td><td>nsDuration</td><td>nsFare</td><td>nsEconomicProfit</td></tr><tr><td>1.0</td><td>0.198478561549</td><td>0.801521438451</td><td>24.1124965422</td><td>22.4438450899</td><td>14.6654218534</td><td>-4.1968596172</td></tr></table>"
      ],
      "text/plain": [
       "<IPython.core.display.HTML object>"
      ]
     },
     "metadata": {},
     "output_type": "display_data"
    },
    {
     "data": {
      "text/html": [
       "<table><tr><td>QTime/nsTrip</td><td>economicProfit/nsTrip</td><td>Productivity</td><td>nsProductivity</td></tr><tr><td>24.1124965422</td><td>-4.1968596172</td><td>22.4058802453</td><td>19.5199304287</td></tr></table>"
      ],
      "text/plain": [
       "<IPython.core.display.HTML object>"
      ]
     },
     "metadata": {},
     "output_type": "display_data"
    }
   ],
   "source": [
    "attributes = ['tripNumber','operatingHour','Fare']\n",
    "stats = [np.mean(df[attr]) for attr in attributes]\n",
    "table_display([attributes, stats])\n",
    "attributes = ['nsNumber','nsInNumber','nsOutNumber', 'nsQTime','nsDuration','nsFare','nsEconomicProfit']\n",
    "stats = [np.mean(df[attr]) for attr in attributes]\n",
    "table_display([attributes, stats])\n",
    "attributes = ['QTime/nsTrip', 'economicProfit/nsTrip', 'Productivity', 'nsProductivity']\n",
    "stats = [np.mean(df[attr]) for attr in attributes]\n",
    "table_display([attributes, stats])"
   ]
  },
  {
   "cell_type": "markdown",
   "metadata": {},
   "source": [
    "# Standard deviation"
   ]
  },
  {
   "cell_type": "code",
   "execution_count": 21,
   "metadata": {
    "collapsed": false
   },
   "outputs": [
    {
     "data": {
      "text/html": [
       "<table><tr><td>tripNumber</td><td>operatingHour</td><td>Fare</td></tr><tr><td>2.58193353563</td><td>0.964520379897</td><td>28.6932100796</td></tr></table>"
      ],
      "text/plain": [
       "<IPython.core.display.HTML object>"
      ]
     },
     "metadata": {},
     "output_type": "display_data"
    },
    {
     "data": {
      "text/html": [
       "<table><tr><td>nsNumber</td><td>nsInNumber</td><td>nsOutNumber</td><td>nsQTime</td><td>nsDuration</td><td>nsFare</td><td>nsEconomicProfit</td></tr><tr><td>0.0</td><td>0.398854387157</td><td>0.398854387157</td><td>10.2528492188</td><td>5.95274964775</td><td>3.87572605902</td><td>4.90045822641</td></tr></table>"
      ],
      "text/plain": [
       "<IPython.core.display.HTML object>"
      ]
     },
     "metadata": {},
     "output_type": "display_data"
    },
    {
     "data": {
      "text/html": [
       "<table><tr><td>QTime/nsTrip</td><td>economicProfit/nsTrip</td><td>Productivity</td><td>nsProductivity</td></tr><tr><td>10.2528492188</td><td>4.90045822641</td><td>6.50869939584</td><td>5.29627641123</td></tr></table>"
      ],
      "text/plain": [
       "<IPython.core.display.HTML object>"
      ]
     },
     "metadata": {},
     "output_type": "display_data"
    }
   ],
   "source": [
    "attributes = ['tripNumber','operatingHour','Fare']\n",
    "stats = [np.std(df[attr]) for attr in attributes]\n",
    "table_display([attributes, stats])\n",
    "attributes = ['nsNumber','nsInNumber','nsOutNumber', 'nsQTime','nsDuration','nsFare','nsEconomicProfit']\n",
    "stats = [np.std(df[attr]) for attr in attributes]\n",
    "table_display([attributes, stats])\n",
    "attributes = ['QTime/nsTrip', 'economicProfit/nsTrip', 'Productivity', 'nsProductivity']\n",
    "stats = [np.std(df[attr]) for attr in attributes]\n",
    "table_display([attributes, stats])"
   ]
  },
  {
   "cell_type": "markdown",
   "metadata": {},
   "source": [
    "# t-test"
   ]
  },
  {
   "cell_type": "code",
   "execution_count": 22,
   "metadata": {
    "collapsed": false
   },
   "outputs": [
    {
     "data": {
      "text/html": [
       "<table><tr><td>Year</td><td>QTime/nsTrip</td><td>economicProfit/nsTrip</td><td>Productivity</td><td>nsProductivity</td></tr><tr><td>2009</td><td>25.165059(10.439509)</td><td>-3.812125(4.765689)</td><td>21.329042(5.930197)</td><td>18.929923(5.110481)</td></tr><tr><td>2010</td><td>22.860388(9.884490)</td><td>-4.654533(5.019275)</td><td>23.686868(6.923015)</td><td>20.221793(5.427776)</td></tr><tr><td>Diff.</td><td>-2.304671</td><td>-0.842408</td><td>2.357826</td><td>1.291870</td></tr><tr><td>t-test</td><td>-9.579636(0.000000)</td><td>-7.306827(0.000000)</td><td>15.597357(0.000000)</td><td>10.406933(0.000000)</td></tr></table>"
      ],
      "text/plain": [
       "<IPython.core.display.HTML object>"
      ]
     },
     "metadata": {},
     "output_type": "display_data"
    }
   ],
   "source": [
    "Y2009, Y2010 = df[(df['year'] == 2009)], df[(df['year'] == 2010)]\n",
    "# statistics\n",
    "attributes = ['QTime/nsTrip', 'economicProfit/nsTrip', 'Productivity', 'nsProductivity']\n",
    "Y2009_avg_std = [(Y2009[attr].mean(), Y2009[attr].std()) for attr in attributes]\n",
    "Y2010_avg_std = [(Y2010[attr].mean(), Y2010[attr].std()) for attr in attributes]\n",
    "t_test = [ttest_ind(Y2010[attr], Y2009[attr]) for attr in attributes]\n",
    "# display\n",
    "# table_display([ ['Year'] + attributes,\n",
    "#                 ['2009'] + ['%.2f(%.2f)' % (a, v) for a, v in Y2009_avg_std],\n",
    "#                 ['2010'] + ['%.2f(%.2f)' % (a, v) for a, v in Y2010_avg_std],\n",
    "#                 ['Diff.'] + ['%.2f' % (Y2010_avg_std[i][0] - Y2009_avg_std[i][0]) for i in range(len(Y2009_avg_std))],\n",
    "#                 ['t-test'] + ['%.2f(%.2f)' % (t, p) for t, p in t_test]\n",
    "#                 ])\n",
    "table_display([ ['Year'] + attributes,\n",
    "                ['2009'] + ['%f(%f)' % (a, v) for a, v in Y2009_avg_std],\n",
    "                ['2010'] + ['%f(%f)' % (a, v) for a, v in Y2010_avg_std],\n",
    "                ['Diff.'] + ['%f' % (Y2010_avg_std[i][0] - Y2009_avg_std[i][0]) for i in range(len(Y2009_avg_std))],\n",
    "                ['t-test'] + ['%f(%f)' % (t, p) for t, p in t_test]\n",
    "                ])"
   ]
  }
 ],
 "metadata": {
  "anaconda-cloud": {},
  "kernelspec": {
   "display_name": "Python [default]",
   "language": "python",
   "name": "python2"
  },
  "language_info": {
   "codemirror_mode": {
    "name": "ipython",
    "version": 2
   },
   "file_extension": ".py",
   "mimetype": "text/x-python",
   "name": "python",
   "nbconvert_exporter": "python",
   "pygments_lexer": "ipython2",
   "version": "2.7.12"
  }
 },
 "nbformat": 4,
 "nbformat_minor": 1
}
