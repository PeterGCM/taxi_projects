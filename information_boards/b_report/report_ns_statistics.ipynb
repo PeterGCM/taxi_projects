{
 "cells": [
  {
   "cell_type": "code",
   "execution_count": 1,
   "metadata": {
    "collapsed": true
   },
   "outputs": [],
   "source": [
    "import __init__\n",
    "#\n",
    "from IPython.display import HTML, display\n",
    "import pandas as pd\n",
    "import numpy as np\n",
    "from scipy.stats import ttest_ind\n",
    "#\n",
    "# some functions\n",
    "#\n",
    "def text_display(text, font_size):\n",
    "    display(HTML('<font size=%d>' % font_size + text + '</font>'))\n",
    "\n",
    "def table_display(table_data):\n",
    "    display(HTML(\n",
    "    '<table><tr>{}</tr></table>'.format(\n",
    "        '</tr><tr>'.join(\n",
    "            '<td>{}</td>'.format('</td><td>'.join(str(_) for _ in row)) for row in table_data)\n",
    "        )\n",
    "    ))"
   ]
  },
  {
   "cell_type": "code",
   "execution_count": 2,
   "metadata": {
    "collapsed": false
   },
   "outputs": [
    {
     "data": {
      "text/html": [
       "<div>\n",
       "<table border=\"1\" class=\"dataframe\">\n",
       "  <thead>\n",
       "    <tr style=\"text-align: right;\">\n",
       "      <th></th>\n",
       "      <th>year</th>\n",
       "      <th>month</th>\n",
       "      <th>day</th>\n",
       "      <th>driverID</th>\n",
       "      <th>tripNumber</th>\n",
       "      <th>operatingHour</th>\n",
       "      <th>Fare</th>\n",
       "      <th>nsNumber</th>\n",
       "      <th>nsDuration</th>\n",
       "      <th>nsFare</th>\n",
       "      <th>nsEconomicProfit</th>\n",
       "      <th>nsQTime</th>\n",
       "      <th>nsInNumber</th>\n",
       "      <th>nsOutNumber</th>\n",
       "      <th>QTime/nsTrip</th>\n",
       "      <th>economicProfit/nsTrip</th>\n",
       "      <th>Productivity</th>\n",
       "      <th>nsProductivity</th>\n",
       "    </tr>\n",
       "  </thead>\n",
       "  <tbody>\n",
       "    <tr>\n",
       "      <th>0</th>\n",
       "      <td>2009</td>\n",
       "      <td>1</td>\n",
       "      <td>1</td>\n",
       "      <td>4143</td>\n",
       "      <td>27</td>\n",
       "      <td>9.716667</td>\n",
       "      <td>217</td>\n",
       "      <td>1</td>\n",
       "      <td>28.0</td>\n",
       "      <td>17</td>\n",
       "      <td>0.040893</td>\n",
       "      <td>21.000000</td>\n",
       "      <td>1</td>\n",
       "      <td>0</td>\n",
       "      <td>21.000000</td>\n",
       "      <td>0.040893</td>\n",
       "      <td>22.332762</td>\n",
       "      <td>20.816327</td>\n",
       "    </tr>\n",
       "    <tr>\n",
       "      <th>1</th>\n",
       "      <td>2009</td>\n",
       "      <td>1</td>\n",
       "      <td>1</td>\n",
       "      <td>17118</td>\n",
       "      <td>14</td>\n",
       "      <td>10.700000</td>\n",
       "      <td>182</td>\n",
       "      <td>2</td>\n",
       "      <td>38.0</td>\n",
       "      <td>25</td>\n",
       "      <td>8.667744</td>\n",
       "      <td>14.100000</td>\n",
       "      <td>0</td>\n",
       "      <td>2</td>\n",
       "      <td>7.050000</td>\n",
       "      <td>4.333872</td>\n",
       "      <td>17.009346</td>\n",
       "      <td>28.790787</td>\n",
       "    </tr>\n",
       "    <tr>\n",
       "      <th>2</th>\n",
       "      <td>2009</td>\n",
       "      <td>1</td>\n",
       "      <td>1</td>\n",
       "      <td>836</td>\n",
       "      <td>21</td>\n",
       "      <td>8.716667</td>\n",
       "      <td>192</td>\n",
       "      <td>1</td>\n",
       "      <td>12.0</td>\n",
       "      <td>8</td>\n",
       "      <td>-11.360831</td>\n",
       "      <td>45.000000</td>\n",
       "      <td>1</td>\n",
       "      <td>0</td>\n",
       "      <td>45.000000</td>\n",
       "      <td>-11.360831</td>\n",
       "      <td>22.026769</td>\n",
       "      <td>8.421053</td>\n",
       "    </tr>\n",
       "    <tr>\n",
       "      <th>3</th>\n",
       "      <td>2009</td>\n",
       "      <td>1</td>\n",
       "      <td>1</td>\n",
       "      <td>33768</td>\n",
       "      <td>22</td>\n",
       "      <td>7.433333</td>\n",
       "      <td>209</td>\n",
       "      <td>1</td>\n",
       "      <td>27.0</td>\n",
       "      <td>19</td>\n",
       "      <td>4.175687</td>\n",
       "      <td>17.000000</td>\n",
       "      <td>1</td>\n",
       "      <td>0</td>\n",
       "      <td>17.000000</td>\n",
       "      <td>4.175687</td>\n",
       "      <td>28.116592</td>\n",
       "      <td>25.909091</td>\n",
       "    </tr>\n",
       "    <tr>\n",
       "      <th>4</th>\n",
       "      <td>2009</td>\n",
       "      <td>1</td>\n",
       "      <td>1</td>\n",
       "      <td>17460</td>\n",
       "      <td>17</td>\n",
       "      <td>7.183333</td>\n",
       "      <td>180</td>\n",
       "      <td>2</td>\n",
       "      <td>38.0</td>\n",
       "      <td>24</td>\n",
       "      <td>7.094531</td>\n",
       "      <td>14.083333</td>\n",
       "      <td>0</td>\n",
       "      <td>2</td>\n",
       "      <td>7.041667</td>\n",
       "      <td>3.547265</td>\n",
       "      <td>25.058005</td>\n",
       "      <td>27.648000</td>\n",
       "    </tr>\n",
       "  </tbody>\n",
       "</table>\n",
       "</div>"
      ],
      "text/plain": [
       "   year  month  day  driverID  tripNumber  operatingHour  Fare  nsNumber  \\\n",
       "0  2009      1    1      4143          27       9.716667   217         1   \n",
       "1  2009      1    1     17118          14      10.700000   182         2   \n",
       "2  2009      1    1       836          21       8.716667   192         1   \n",
       "3  2009      1    1     33768          22       7.433333   209         1   \n",
       "4  2009      1    1     17460          17       7.183333   180         2   \n",
       "\n",
       "   nsDuration  nsFare  nsEconomicProfit    nsQTime  nsInNumber  nsOutNumber  \\\n",
       "0        28.0      17          0.040893  21.000000           1            0   \n",
       "1        38.0      25          8.667744  14.100000           0            2   \n",
       "2        12.0       8        -11.360831  45.000000           1            0   \n",
       "3        27.0      19          4.175687  17.000000           1            0   \n",
       "4        38.0      24          7.094531  14.083333           0            2   \n",
       "\n",
       "   QTime/nsTrip  economicProfit/nsTrip  Productivity  nsProductivity  \n",
       "0     21.000000               0.040893     22.332762       20.816327  \n",
       "1      7.050000               4.333872     17.009346       28.790787  \n",
       "2     45.000000             -11.360831     22.026769        8.421053  \n",
       "3     17.000000               4.175687     28.116592       25.909091  \n",
       "4      7.041667               3.547265     25.058005       27.648000  "
      ]
     },
     "metadata": {},
     "output_type": "display_data"
    }
   ],
   "source": [
    "from information_boards import ssDriversStatisticsDayBasedModi_ns_fpath\n",
    "df = pd.read_csv(ssDriversStatisticsDayBasedModi_ns_fpath)\n",
    "display(df.head())"
   ]
  },
  {
   "cell_type": "markdown",
   "metadata": {},
   "source": [
    "# Average"
   ]
  },
  {
   "cell_type": "code",
   "execution_count": 3,
   "metadata": {
    "collapsed": false
   },
   "outputs": [
    {
     "data": {
      "text/html": [
       "<table><tr><td>tripNumber</td><td>operatingHour</td><td>Fare</td></tr><tr><td>21.01579172</td><td>10.1075513688</td><td>240.636851411</td></tr></table>"
      ],
      "text/plain": [
       "<IPython.core.display.HTML object>"
      ]
     },
     "metadata": {},
     "output_type": "display_data"
    },
    {
     "data": {
      "text/html": [
       "<table><tr><td>nsNumber</td><td>nsInNumber</td><td>nsOutNumber</td><td>nsQTime</td><td>nsDuration</td><td>nsFare</td><td>nsEconomicProfit</td></tr><tr><td>1.04493628437</td><td>0.382781537711</td><td>0.662154746662</td><td>23.6714387334</td><td>23.9546978843</td><td>15.7164197305</td><td>-2.78143613553</td></tr></table>"
      ],
      "text/plain": [
       "<IPython.core.display.HTML object>"
      ]
     },
     "metadata": {},
     "output_type": "display_data"
    },
    {
     "data": {
      "text/html": [
       "<table><tr><td>QTime/nsTrip</td><td>economicProfit/nsTrip</td><td>Productivity</td><td>nsProductivity</td></tr><tr><td>22.9399807939</td><td>-2.73467315322</td><td>24.0981434117</td><td>20.3481779218</td></tr></table>"
      ],
      "text/plain": [
       "<IPython.core.display.HTML object>"
      ]
     },
     "metadata": {},
     "output_type": "display_data"
    }
   ],
   "source": [
    "attributes = ['tripNumber','operatingHour','Fare']\n",
    "stats = [np.mean(df[attr]) for attr in attributes]\n",
    "table_display([attributes, stats])\n",
    "attributes = ['nsNumber','nsInNumber','nsOutNumber', 'nsQTime','nsDuration','nsFare','nsEconomicProfit']\n",
    "stats = [np.mean(df[attr]) for attr in attributes]\n",
    "table_display([attributes, stats])\n",
    "attributes = ['QTime/nsTrip', 'economicProfit/nsTrip', 'Productivity', 'nsProductivity']\n",
    "stats = [np.mean(df[attr]) for attr in attributes]\n",
    "table_display([attributes, stats])"
   ]
  },
  {
   "cell_type": "markdown",
   "metadata": {},
   "source": [
    "# Standard deviation"
   ]
  },
  {
   "cell_type": "code",
   "execution_count": 4,
   "metadata": {
    "collapsed": false
   },
   "outputs": [
    {
     "data": {
      "text/html": [
       "<table><tr><td>tripNumber</td><td>operatingHour</td><td>Fare</td></tr><tr><td>6.66912449333</td><td>2.63852082345</td><td>68.7963724521</td></tr></table>"
      ],
      "text/plain": [
       "<IPython.core.display.HTML object>"
      ]
     },
     "metadata": {},
     "output_type": "display_data"
    },
    {
     "ename": "KeyError",
     "evalue": "'apNumber'",
     "output_type": "error",
     "traceback": [
      "\u001b[0;31m---------------------------------------------------------------------------\u001b[0m",
      "\u001b[0;31mKeyError\u001b[0m                                  Traceback (most recent call last)",
      "\u001b[0;32m<ipython-input-4-9e5213806c2f>\u001b[0m in \u001b[0;36m<module>\u001b[0;34m()\u001b[0m\n\u001b[1;32m      3\u001b[0m \u001b[0mtable_display\u001b[0m\u001b[0;34m(\u001b[0m\u001b[0;34m[\u001b[0m\u001b[0mattributes\u001b[0m\u001b[0;34m,\u001b[0m \u001b[0mstats\u001b[0m\u001b[0;34m]\u001b[0m\u001b[0;34m)\u001b[0m\u001b[0;34m\u001b[0m\u001b[0m\n\u001b[1;32m      4\u001b[0m \u001b[0mattributes\u001b[0m \u001b[0;34m=\u001b[0m \u001b[0;34m[\u001b[0m\u001b[0;34m'apNumber'\u001b[0m\u001b[0;34m,\u001b[0m\u001b[0;34m'apInNumber'\u001b[0m\u001b[0;34m,\u001b[0m\u001b[0;34m'apOutNumber'\u001b[0m\u001b[0;34m,\u001b[0m \u001b[0;34m'apQTime'\u001b[0m\u001b[0;34m,\u001b[0m\u001b[0;34m'apDuration'\u001b[0m\u001b[0;34m,\u001b[0m\u001b[0;34m'apFare'\u001b[0m\u001b[0;34m,\u001b[0m\u001b[0;34m'apEconomicProfit'\u001b[0m\u001b[0;34m]\u001b[0m\u001b[0;34m\u001b[0m\u001b[0m\n\u001b[0;32m----> 5\u001b[0;31m \u001b[0mstats\u001b[0m \u001b[0;34m=\u001b[0m \u001b[0;34m[\u001b[0m\u001b[0mnp\u001b[0m\u001b[0;34m.\u001b[0m\u001b[0mstd\u001b[0m\u001b[0;34m(\u001b[0m\u001b[0mdf\u001b[0m\u001b[0;34m[\u001b[0m\u001b[0mattr\u001b[0m\u001b[0;34m]\u001b[0m\u001b[0;34m)\u001b[0m \u001b[0;32mfor\u001b[0m \u001b[0mattr\u001b[0m \u001b[0;32min\u001b[0m \u001b[0mattributes\u001b[0m\u001b[0;34m]\u001b[0m\u001b[0;34m\u001b[0m\u001b[0m\n\u001b[0m\u001b[1;32m      6\u001b[0m \u001b[0mtable_display\u001b[0m\u001b[0;34m(\u001b[0m\u001b[0;34m[\u001b[0m\u001b[0mattributes\u001b[0m\u001b[0;34m,\u001b[0m \u001b[0mstats\u001b[0m\u001b[0;34m]\u001b[0m\u001b[0;34m)\u001b[0m\u001b[0;34m\u001b[0m\u001b[0m\n\u001b[1;32m      7\u001b[0m \u001b[0mattributes\u001b[0m \u001b[0;34m=\u001b[0m \u001b[0;34m[\u001b[0m\u001b[0;34m'QTime/apTrip'\u001b[0m\u001b[0;34m,\u001b[0m \u001b[0;34m'economicProfit/apTrip'\u001b[0m\u001b[0;34m,\u001b[0m \u001b[0;34m'Productivity'\u001b[0m\u001b[0;34m,\u001b[0m \u001b[0;34m'apProductivity'\u001b[0m\u001b[0;34m]\u001b[0m\u001b[0;34m\u001b[0m\u001b[0m\n",
      "\u001b[0;32m/Users/JerryHan88/anaconda/lib/python2.7/site-packages/pandas/core/frame.pyc\u001b[0m in \u001b[0;36m__getitem__\u001b[0;34m(self, key)\u001b[0m\n\u001b[1;32m   1995\u001b[0m             \u001b[0;32mreturn\u001b[0m \u001b[0mself\u001b[0m\u001b[0;34m.\u001b[0m\u001b[0m_getitem_multilevel\u001b[0m\u001b[0;34m(\u001b[0m\u001b[0mkey\u001b[0m\u001b[0;34m)\u001b[0m\u001b[0;34m\u001b[0m\u001b[0m\n\u001b[1;32m   1996\u001b[0m         \u001b[0;32melse\u001b[0m\u001b[0;34m:\u001b[0m\u001b[0;34m\u001b[0m\u001b[0m\n\u001b[0;32m-> 1997\u001b[0;31m             \u001b[0;32mreturn\u001b[0m \u001b[0mself\u001b[0m\u001b[0;34m.\u001b[0m\u001b[0m_getitem_column\u001b[0m\u001b[0;34m(\u001b[0m\u001b[0mkey\u001b[0m\u001b[0;34m)\u001b[0m\u001b[0;34m\u001b[0m\u001b[0m\n\u001b[0m\u001b[1;32m   1998\u001b[0m \u001b[0;34m\u001b[0m\u001b[0m\n\u001b[1;32m   1999\u001b[0m     \u001b[0;32mdef\u001b[0m \u001b[0m_getitem_column\u001b[0m\u001b[0;34m(\u001b[0m\u001b[0mself\u001b[0m\u001b[0;34m,\u001b[0m \u001b[0mkey\u001b[0m\u001b[0;34m)\u001b[0m\u001b[0;34m:\u001b[0m\u001b[0;34m\u001b[0m\u001b[0m\n",
      "\u001b[0;32m/Users/JerryHan88/anaconda/lib/python2.7/site-packages/pandas/core/frame.pyc\u001b[0m in \u001b[0;36m_getitem_column\u001b[0;34m(self, key)\u001b[0m\n\u001b[1;32m   2002\u001b[0m         \u001b[0;31m# get column\u001b[0m\u001b[0;34m\u001b[0m\u001b[0;34m\u001b[0m\u001b[0m\n\u001b[1;32m   2003\u001b[0m         \u001b[0;32mif\u001b[0m \u001b[0mself\u001b[0m\u001b[0;34m.\u001b[0m\u001b[0mcolumns\u001b[0m\u001b[0;34m.\u001b[0m\u001b[0mis_unique\u001b[0m\u001b[0;34m:\u001b[0m\u001b[0;34m\u001b[0m\u001b[0m\n\u001b[0;32m-> 2004\u001b[0;31m             \u001b[0;32mreturn\u001b[0m \u001b[0mself\u001b[0m\u001b[0;34m.\u001b[0m\u001b[0m_get_item_cache\u001b[0m\u001b[0;34m(\u001b[0m\u001b[0mkey\u001b[0m\u001b[0;34m)\u001b[0m\u001b[0;34m\u001b[0m\u001b[0m\n\u001b[0m\u001b[1;32m   2005\u001b[0m \u001b[0;34m\u001b[0m\u001b[0m\n\u001b[1;32m   2006\u001b[0m         \u001b[0;31m# duplicate columns & possible reduce dimensionality\u001b[0m\u001b[0;34m\u001b[0m\u001b[0;34m\u001b[0m\u001b[0m\n",
      "\u001b[0;32m/Users/JerryHan88/anaconda/lib/python2.7/site-packages/pandas/core/generic.pyc\u001b[0m in \u001b[0;36m_get_item_cache\u001b[0;34m(self, item)\u001b[0m\n\u001b[1;32m   1348\u001b[0m         \u001b[0mres\u001b[0m \u001b[0;34m=\u001b[0m \u001b[0mcache\u001b[0m\u001b[0;34m.\u001b[0m\u001b[0mget\u001b[0m\u001b[0;34m(\u001b[0m\u001b[0mitem\u001b[0m\u001b[0;34m)\u001b[0m\u001b[0;34m\u001b[0m\u001b[0m\n\u001b[1;32m   1349\u001b[0m         \u001b[0;32mif\u001b[0m \u001b[0mres\u001b[0m \u001b[0;32mis\u001b[0m \u001b[0mNone\u001b[0m\u001b[0;34m:\u001b[0m\u001b[0;34m\u001b[0m\u001b[0m\n\u001b[0;32m-> 1350\u001b[0;31m             \u001b[0mvalues\u001b[0m \u001b[0;34m=\u001b[0m \u001b[0mself\u001b[0m\u001b[0;34m.\u001b[0m\u001b[0m_data\u001b[0m\u001b[0;34m.\u001b[0m\u001b[0mget\u001b[0m\u001b[0;34m(\u001b[0m\u001b[0mitem\u001b[0m\u001b[0;34m)\u001b[0m\u001b[0;34m\u001b[0m\u001b[0m\n\u001b[0m\u001b[1;32m   1351\u001b[0m             \u001b[0mres\u001b[0m \u001b[0;34m=\u001b[0m \u001b[0mself\u001b[0m\u001b[0;34m.\u001b[0m\u001b[0m_box_item_values\u001b[0m\u001b[0;34m(\u001b[0m\u001b[0mitem\u001b[0m\u001b[0;34m,\u001b[0m \u001b[0mvalues\u001b[0m\u001b[0;34m)\u001b[0m\u001b[0;34m\u001b[0m\u001b[0m\n\u001b[1;32m   1352\u001b[0m             \u001b[0mcache\u001b[0m\u001b[0;34m[\u001b[0m\u001b[0mitem\u001b[0m\u001b[0;34m]\u001b[0m \u001b[0;34m=\u001b[0m \u001b[0mres\u001b[0m\u001b[0;34m\u001b[0m\u001b[0m\n",
      "\u001b[0;32m/Users/JerryHan88/anaconda/lib/python2.7/site-packages/pandas/core/internals.pyc\u001b[0m in \u001b[0;36mget\u001b[0;34m(self, item, fastpath)\u001b[0m\n\u001b[1;32m   3288\u001b[0m \u001b[0;34m\u001b[0m\u001b[0m\n\u001b[1;32m   3289\u001b[0m             \u001b[0;32mif\u001b[0m \u001b[0;32mnot\u001b[0m \u001b[0misnull\u001b[0m\u001b[0;34m(\u001b[0m\u001b[0mitem\u001b[0m\u001b[0;34m)\u001b[0m\u001b[0;34m:\u001b[0m\u001b[0;34m\u001b[0m\u001b[0m\n\u001b[0;32m-> 3290\u001b[0;31m                 \u001b[0mloc\u001b[0m \u001b[0;34m=\u001b[0m \u001b[0mself\u001b[0m\u001b[0;34m.\u001b[0m\u001b[0mitems\u001b[0m\u001b[0;34m.\u001b[0m\u001b[0mget_loc\u001b[0m\u001b[0;34m(\u001b[0m\u001b[0mitem\u001b[0m\u001b[0;34m)\u001b[0m\u001b[0;34m\u001b[0m\u001b[0m\n\u001b[0m\u001b[1;32m   3291\u001b[0m             \u001b[0;32melse\u001b[0m\u001b[0;34m:\u001b[0m\u001b[0;34m\u001b[0m\u001b[0m\n\u001b[1;32m   3292\u001b[0m                 \u001b[0mindexer\u001b[0m \u001b[0;34m=\u001b[0m \u001b[0mnp\u001b[0m\u001b[0;34m.\u001b[0m\u001b[0marange\u001b[0m\u001b[0;34m(\u001b[0m\u001b[0mlen\u001b[0m\u001b[0;34m(\u001b[0m\u001b[0mself\u001b[0m\u001b[0;34m.\u001b[0m\u001b[0mitems\u001b[0m\u001b[0;34m)\u001b[0m\u001b[0;34m)\u001b[0m\u001b[0;34m[\u001b[0m\u001b[0misnull\u001b[0m\u001b[0;34m(\u001b[0m\u001b[0mself\u001b[0m\u001b[0;34m.\u001b[0m\u001b[0mitems\u001b[0m\u001b[0;34m)\u001b[0m\u001b[0;34m]\u001b[0m\u001b[0;34m\u001b[0m\u001b[0m\n",
      "\u001b[0;32m/Users/JerryHan88/anaconda/lib/python2.7/site-packages/pandas/indexes/base.pyc\u001b[0m in \u001b[0;36mget_loc\u001b[0;34m(self, key, method, tolerance)\u001b[0m\n\u001b[1;32m   1945\u001b[0m                 \u001b[0;32mreturn\u001b[0m \u001b[0mself\u001b[0m\u001b[0;34m.\u001b[0m\u001b[0m_engine\u001b[0m\u001b[0;34m.\u001b[0m\u001b[0mget_loc\u001b[0m\u001b[0;34m(\u001b[0m\u001b[0mkey\u001b[0m\u001b[0;34m)\u001b[0m\u001b[0;34m\u001b[0m\u001b[0m\n\u001b[1;32m   1946\u001b[0m             \u001b[0;32mexcept\u001b[0m \u001b[0mKeyError\u001b[0m\u001b[0;34m:\u001b[0m\u001b[0;34m\u001b[0m\u001b[0m\n\u001b[0;32m-> 1947\u001b[0;31m                 \u001b[0;32mreturn\u001b[0m \u001b[0mself\u001b[0m\u001b[0;34m.\u001b[0m\u001b[0m_engine\u001b[0m\u001b[0;34m.\u001b[0m\u001b[0mget_loc\u001b[0m\u001b[0;34m(\u001b[0m\u001b[0mself\u001b[0m\u001b[0;34m.\u001b[0m\u001b[0m_maybe_cast_indexer\u001b[0m\u001b[0;34m(\u001b[0m\u001b[0mkey\u001b[0m\u001b[0;34m)\u001b[0m\u001b[0;34m)\u001b[0m\u001b[0;34m\u001b[0m\u001b[0m\n\u001b[0m\u001b[1;32m   1948\u001b[0m \u001b[0;34m\u001b[0m\u001b[0m\n\u001b[1;32m   1949\u001b[0m         \u001b[0mindexer\u001b[0m \u001b[0;34m=\u001b[0m \u001b[0mself\u001b[0m\u001b[0;34m.\u001b[0m\u001b[0mget_indexer\u001b[0m\u001b[0;34m(\u001b[0m\u001b[0;34m[\u001b[0m\u001b[0mkey\u001b[0m\u001b[0;34m]\u001b[0m\u001b[0;34m,\u001b[0m \u001b[0mmethod\u001b[0m\u001b[0;34m=\u001b[0m\u001b[0mmethod\u001b[0m\u001b[0;34m,\u001b[0m \u001b[0mtolerance\u001b[0m\u001b[0;34m=\u001b[0m\u001b[0mtolerance\u001b[0m\u001b[0;34m)\u001b[0m\u001b[0;34m\u001b[0m\u001b[0m\n",
      "\u001b[0;32mpandas/index.pyx\u001b[0m in \u001b[0;36mpandas.index.IndexEngine.get_loc (pandas/index.c:4154)\u001b[0;34m()\u001b[0m\n",
      "\u001b[0;32mpandas/index.pyx\u001b[0m in \u001b[0;36mpandas.index.IndexEngine.get_loc (pandas/index.c:4018)\u001b[0;34m()\u001b[0m\n",
      "\u001b[0;32mpandas/hashtable.pyx\u001b[0m in \u001b[0;36mpandas.hashtable.PyObjectHashTable.get_item (pandas/hashtable.c:12368)\u001b[0;34m()\u001b[0m\n",
      "\u001b[0;32mpandas/hashtable.pyx\u001b[0m in \u001b[0;36mpandas.hashtable.PyObjectHashTable.get_item (pandas/hashtable.c:12322)\u001b[0;34m()\u001b[0m\n",
      "\u001b[0;31mKeyError\u001b[0m: 'apNumber'"
     ]
    }
   ],
   "source": [
    "attributes = ['tripNumber','operatingHour','Fare']\n",
    "stats = [np.std(df[attr]) for attr in attributes]\n",
    "table_display([attributes, stats])\n",
    "attributes = ['nsNumber','nsInNumber','nsOutNumber', 'nsQTime','nsDuration','nsFare','nsEconomicProfit']\n",
    "stats = [np.std(df[attr]) for attr in attributes]\n",
    "table_display([attributes, stats])\n",
    "attributes = ['QTime/nsTrip', 'economicProfit/nsTrip', 'Productivity', 'nsProductivity']\n",
    "stats = [np.std(df[attr]) for attr in attributes]\n",
    "table_display([attributes, stats])"
   ]
  },
  {
   "cell_type": "markdown",
   "metadata": {},
   "source": [
    "# t-test"
   ]
  },
  {
   "cell_type": "code",
   "execution_count": 7,
   "metadata": {
    "collapsed": false
   },
   "outputs": [
    {
     "data": {
      "text/html": [
       "<table><tr><td>Year</td><td>QTime/apTrip</td><td>economicProfit/apTrip</td><td>Productivity</td><td>apProductivity</td></tr><tr><td>2009</td><td>38.915466(17.891110)</td><td>-2.704482(7.204491)</td><td>23.883347(5.435751)</td><td>21.269859(6.699606)</td></tr><tr><td>2010</td><td>32.870265(15.104609)</td><td>-2.255984(6.743986)</td><td>26.205827(5.896494)</td><td>23.508759(6.811910)</td></tr><tr><td>Diff.</td><td>-6.045201</td><td>0.448498</td><td>2.322480</td><td>2.238900</td></tr><tr><td>t-test</td><td>-120.018634(0.000000)</td><td>20.988980(0.000000)</td><td>132.502021(0.000000)</td><td>107.653457(0.000000)</td></tr></table>"
      ],
      "text/plain": [
       "<IPython.core.display.HTML object>"
      ]
     },
     "metadata": {},
     "output_type": "display_data"
    }
   ],
   "source": [
    "Y2009, Y2010 = df[(df['year'] == 2009)], df[(df['year'] == 2010)]\n",
    "# statistics\n",
    "attributes = ['QTime/apTrip', 'economicProfit/apTrip', 'Productivity', 'apProductivity']\n",
    "Y2009_avg_std = [(Y2009[attr].mean(), Y2009[attr].std()) for attr in attributes]\n",
    "Y2010_avg_std = [(Y2010[attr].mean(), Y2010[attr].std()) for attr in attributes]\n",
    "t_test = [ttest_ind(Y2010[attr], Y2009[attr]) for attr in attributes]\n",
    "# display\n",
    "# table_display([ ['Year'] + attributes,\n",
    "#                 ['2009'] + ['%.2f(%.2f)' % (a, v) for a, v in Y2009_avg_std],\n",
    "#                 ['2010'] + ['%.2f(%.2f)' % (a, v) for a, v in Y2010_avg_std],\n",
    "#                 ['Diff.'] + ['%.2f' % (Y2010_avg_std[i][0] - Y2009_avg_std[i][0]) for i in range(len(Y2009_avg_std))],\n",
    "#                 ['t-test'] + ['%.2f(%.2f)' % (t, p) for t, p in t_test]\n",
    "#                 ])\n",
    "table_display([ ['Year'] + attributes,\n",
    "                ['2009'] + ['%f(%f)' % (a, v) for a, v in Y2009_avg_std],\n",
    "                ['2010'] + ['%f(%f)' % (a, v) for a, v in Y2010_avg_std],\n",
    "                ['Diff.'] + ['%f' % (Y2010_avg_std[i][0] - Y2009_avg_std[i][0]) for i in range(len(Y2009_avg_std))],\n",
    "                ['t-test'] + ['%f(%f)' % (t, p) for t, p in t_test]\n",
    "                ])"
   ]
  }
 ],
 "metadata": {
  "anaconda-cloud": {},
  "kernelspec": {
   "display_name": "Python [default]",
   "language": "python",
   "name": "python2"
  },
  "language_info": {
   "codemirror_mode": {
    "name": "ipython",
    "version": 2
   },
   "file_extension": ".py",
   "mimetype": "text/x-python",
   "name": "python",
   "nbconvert_exporter": "python",
   "pygments_lexer": "ipython2",
   "version": "2.7.12"
  }
 },
 "nbformat": 4,
 "nbformat_minor": 1
}
