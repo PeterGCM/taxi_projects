{
 "cells": [
  {
   "cell_type": "code",
   "execution_count": 1,
   "metadata": {
    "collapsed": true
   },
   "outputs": [],
   "source": [
    "import __init__\n",
    "#\n",
    "from information_boards.c_individual_analysis import ssd_apIn_fpath\n",
    "#\n",
    "import pandas as pd\n",
    "import statsmodels.api as sm\n",
    "from scipy.stats import ttest_ind"
   ]
  },
  {
   "cell_type": "code",
   "execution_count": 2,
   "metadata": {
    "collapsed": true
   },
   "outputs": [],
   "source": [
    "df = pd.read_csv(ssd_apIn_fpath)"
   ]
  },
  {
   "cell_type": "code",
   "execution_count": 7,
   "metadata": {
    "collapsed": false,
    "scrolled": true
   },
   "outputs": [
    {
     "data": {
      "text/html": [
       "<div>\n",
       "<table border=\"1\" class=\"dataframe\">\n",
       "  <thead>\n",
       "    <tr style=\"text-align: right;\">\n",
       "      <th></th>\n",
       "      <th>apQTime</th>\n",
       "      <th>apIn</th>\n",
       "      <th>did</th>\n",
       "    </tr>\n",
       "  </thead>\n",
       "  <tbody>\n",
       "    <tr>\n",
       "      <th>599452</th>\n",
       "      <td>8.016667</td>\n",
       "      <td>0</td>\n",
       "      <td>51606</td>\n",
       "    </tr>\n",
       "    <tr>\n",
       "      <th>599453</th>\n",
       "      <td>11.566667</td>\n",
       "      <td>0</td>\n",
       "      <td>20471</td>\n",
       "    </tr>\n",
       "    <tr>\n",
       "      <th>599454</th>\n",
       "      <td>11.816667</td>\n",
       "      <td>0</td>\n",
       "      <td>52262</td>\n",
       "    </tr>\n",
       "    <tr>\n",
       "      <th>599455</th>\n",
       "      <td>14.800000</td>\n",
       "      <td>0</td>\n",
       "      <td>26707</td>\n",
       "    </tr>\n",
       "    <tr>\n",
       "      <th>599456</th>\n",
       "      <td>29.483333</td>\n",
       "      <td>0</td>\n",
       "      <td>48109</td>\n",
       "    </tr>\n",
       "  </tbody>\n",
       "</table>\n",
       "</div>"
      ],
      "text/plain": [
       "          apQTime  apIn    did\n",
       "599452   8.016667     0  51606\n",
       "599453  11.566667     0  20471\n",
       "599454  11.816667     0  52262\n",
       "599455  14.800000     0  26707\n",
       "599456  29.483333     0  48109"
      ]
     },
     "execution_count": 7,
     "metadata": {},
     "output_type": "execute_result"
    }
   ],
   "source": [
    "df.tail()"
   ]
  },
  {
   "cell_type": "code",
   "execution_count": 6,
   "metadata": {
    "collapsed": false
   },
   "outputs": [
    {
     "name": "stdout",
     "output_type": "stream",
     "text": [
      "apIn, average QTime  36.0748424269\n",
      "apOut, average QTime  37.0060365974\n",
      "Difference  0.931194170554\n"
     ]
    },
    {
     "data": {
      "text/plain": [
       "Ttest_indResult(statistic=-3.5988868295595076, pvalue=0.00031960794628483312)"
      ]
     },
     "execution_count": 6,
     "metadata": {},
     "output_type": "execute_result"
    }
   ],
   "source": [
    "apIn_df = df[(df['apIn'] == 1)]\n",
    "apOut_df = df[(df['apIn'] != 1)]\n",
    "print 'apIn, average QTime ', apIn_df['apQTime'].mean()\n",
    "print 'apOut, average QTime ', apOut_df['apQTime'].mean()\n",
    "print 'Difference ', (apOut_df['apQTime'].mean()-apIn_df['apQTime'].mean())\n",
    "\n",
    "ttest_ind(apIn_df['apQTime'], apOut_df['apQTime'])"
   ]
  },
  {
   "cell_type": "code",
   "execution_count": 8,
   "metadata": {
    "collapsed": false
   },
   "outputs": [
    {
     "data": {
      "text/plain": [
       "6547"
      ]
     },
     "execution_count": 8,
     "metadata": {},
     "output_type": "execute_result"
    }
   ],
   "source": [
    "len(set(df['did']))"
   ]
  },
  {
   "cell_type": "code",
   "execution_count": null,
   "metadata": {
    "collapsed": true
   },
   "outputs": [],
   "source": []
  }
 ],
 "metadata": {
  "kernelspec": {
   "display_name": "Python 2",
   "language": "python",
   "name": "python2"
  },
  "language_info": {
   "codemirror_mode": {
    "name": "ipython",
    "version": 2
   },
   "file_extension": ".py",
   "mimetype": "text/x-python",
   "name": "python",
   "nbconvert_exporter": "python",
   "pygments_lexer": "ipython2",
   "version": "2.7.12"
  }
 },
 "nbformat": 4,
 "nbformat_minor": 2
}
