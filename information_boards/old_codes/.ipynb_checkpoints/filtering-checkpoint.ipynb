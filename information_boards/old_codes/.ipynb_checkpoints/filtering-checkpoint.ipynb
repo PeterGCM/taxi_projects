{
 "cells": [
  {
   "cell_type": "code",
   "execution_count": 8,
   "metadata": {
    "collapsed": true
   },
   "outputs": [],
   "source": [
    "import __init__\n",
    "from information_boards.c_individual_analysis import ftd_ap_daily_stat_filtered_fpath\n",
    "#\n",
    "import pandas as pd\n",
    "import numpy as np"
   ]
  },
  {
   "cell_type": "code",
   "execution_count": 9,
   "metadata": {
    "collapsed": false
   },
   "outputs": [
    {
     "data": {
      "text/plain": [
       "Index([u'yy', u'mm', u'dd', u'did', u'all-num', u'all-dur', u'all-fare',\n",
       "       u'ap-num', u'ap-dur', u'ap-fare', u'ap-ep', u'ap-queueing-time',\n",
       "       u'apIn-num', u'apIn-dur', u'apIn-fare', u'apIn-ep',\n",
       "       u'apIn-queueing-time', u'apOut-num', u'apOut-dur', u'apOut-fare',\n",
       "       u'apOut-ep', u'apOut-queueing-time'],\n",
       "      dtype='object')"
      ]
     },
     "execution_count": 9,
     "metadata": {},
     "output_type": "execute_result"
    }
   ],
   "source": [
    "df = pd.read_csv(ftd_ap_daily_stat_filtered_fpath)\n",
    "df.columns"
   ]
  },
  {
   "cell_type": "code",
   "execution_count": 10,
   "metadata": {
    "collapsed": false
   },
   "outputs": [],
   "source": [
    "# remove outlier\n",
    "fdf = df.copy(deep=True)\n",
    "for v in df.columns:\n",
    "    if v in [u'yy', u'mm', u'dd', u'did']:\n",
    "        continue\n",
    "    fdf = fdf[~(np.abs(fdf[v] - fdf[v].mean()) > ( 3 * fdf[v].std()))]"
   ]
  },
  {
   "cell_type": "code",
   "execution_count": 11,
   "metadata": {
    "collapsed": false
   },
   "outputs": [
    {
     "name": "stdout",
     "output_type": "stream",
     "text": [
      "495231 606943\n"
     ]
    }
   ],
   "source": [
    "print len(fdf), len(df)"
   ]
  },
  {
   "cell_type": "code",
   "execution_count": 14,
   "metadata": {
    "collapsed": false
   },
   "outputs": [
    {
     "name": "stdout",
     "output_type": "stream",
     "text": [
      "5\n"
     ]
    }
   ],
   "source": [
    "fdf[['all-num', 'ap-num']]\n",
    "print max(fdf['ap-num'])"
   ]
  },
  {
   "cell_type": "code",
   "execution_count": 15,
   "metadata": {
    "collapsed": true
   },
   "outputs": [],
   "source": [
    "fdf = fdf[[u'yy', u'mm', u'dd', u'did', u'all-num', u'all-dur', u'all-fare',\n",
    "       u'ap-num', u'ap-dur', u'ap-fare', u'ap-ep', u'ap-queueing-time',\n",
    "       u'apIn-num', u'apOut-num']]"
   ]
  },
  {
   "cell_type": "code",
   "execution_count": 19,
   "metadata": {
    "collapsed": false
   },
   "outputs": [
    {
     "name": "stdout",
     "output_type": "stream",
     "text": [
      "6178 6500\n"
     ]
    }
   ],
   "source": [
    "df09 = fdf[(fdf['yy'] == 9)]\n",
    "df10 = fdf[(fdf['yy'] == 10)]\n",
    "\n",
    "drivers09 = set(df09['did'])\n",
    "drivers10 = set(df10['did'])\n",
    "print len(drivers09), len(drivers10)"
   ]
  },
  {
   "cell_type": "code",
   "execution_count": null,
   "metadata": {
    "collapsed": true
   },
   "outputs": [],
   "source": [
    "fdf.to_csv('temp.csv')"
   ]
  }
 ],
 "metadata": {
  "kernelspec": {
   "display_name": "Python 2",
   "language": "python",
   "name": "python2"
  },
  "language_info": {
   "codemirror_mode": {
    "name": "ipython",
    "version": 2
   },
   "file_extension": ".py",
   "mimetype": "text/x-python",
   "name": "python",
   "nbconvert_exporter": "python",
   "pygments_lexer": "ipython2",
   "version": "2.7.12"
  }
 },
 "nbformat": 4,
 "nbformat_minor": 0
}
