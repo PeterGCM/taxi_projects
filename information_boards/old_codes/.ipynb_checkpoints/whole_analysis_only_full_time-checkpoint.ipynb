{
 "cells": [
  {
   "cell_type": "code",
   "execution_count": 6,
   "metadata": {
    "collapsed": false
   },
   "outputs": [
    {
     "name": "stderr",
     "output_type": "stream",
     "text": [
      "/usr/local/lib/python2.7/site-packages/matplotlib/font_manager.py:273: UserWarning: Matplotlib is building the font cache using fc-list. This may take a moment.\n",
      "  warnings.warn('Matplotlib is building the font cache using fc-list. This may take a moment.')\n"
     ]
    }
   ],
   "source": [
    "import __init__\n",
    "#\n",
    "from information_boards.c_individual_analysis import ftd_ap_linear_fpath\n",
    "from information_boards import SEC60, SEC3600, CENT\n",
    "#\n",
    "from taxi_common.charts import histo_cumulative\n",
    "#\n",
    "from scipy.stats import ttest_ind\n",
    "from IPython.display import HTML, display\n",
    "import statsmodels.formula.api as sm\n",
    "import pandas as pd\n",
    "import numpy as np\n",
    "#\n",
    "%matplotlib inline\n",
    "#\n",
    "filtering_outliers = lambda s: s[~((s - s.mean()).abs() > 3 * s.std())]\n",
    "trans_2decimal = lambda v: '%.2f' % v\n",
    "def text_display(text, font_size):\n",
    "    display(HTML('<font size=%d>' % font_size + text + '</font>'))\n",
    "def table_display(table_data):\n",
    "    display(HTML(\n",
    "    '<table><tr>{}</tr></table>'.format(\n",
    "        '</tr><tr>'.join(\n",
    "            '<td>{}</td>'.format('</td><td>'.join(str(_) for _ in row)) for row in table_data)\n",
    "        )\n",
    "    ))\n",
    "def t_test(hypo_statement, s1, s2, unit):\n",
    "    table_data = [\n",
    "    ['Year', 'Average', 'S.D.', 'Minimum', 'Median', 'Maximum'],\n",
    "    ['2009'] + [trans_2decimal(v) for v in [s1.mean(), s1.std(), s1.min(), s1.median(), s1.max()]],\n",
    "    ['2010'] + [trans_2decimal(v) for v in [s2.mean(), s2.std(), s2.min(), s2.median(), s2.max()]]\n",
    "                 ]\n",
    "    #\n",
    "    text_display(hypo_statement, 5)\n",
    "    table_display(table_data)\n",
    "    text_display('Unit: %s' % unit, 2)\n",
    "    t_stat, p_value = [trans_2decimal(v) for v in tuple(ttest_ind(s1, s2))]\n",
    "    print't-statistics: %s, p-value: %s' % (t_stat, p_value)\n",
    "df = pd.read_csv(ftd_ap_linear_fpath)"
   ]
  },
  {
   "cell_type": "markdown",
   "metadata": {},
   "source": [
    "# Overview\n",
    "## Question\n",
    "* What was changed after the installation?\n",
    "    * H1: **Queueing time** at the airport in 2009 and 2010 is different\n",
    "    * H2: **Airport productivity** in 2009 and 2010 is different\n",
    "    * H3: **Economic profit** in 2009 and 2010 is different\n",
    "* Which drivers got benefit from the information? \n",
    "    * How did they change their behaviors in terms of the following variables?\n",
    "        * Type of trips\n",
    "            * All trips\n",
    "            * General trips\n",
    "            * Airport trips\n",
    "            * Airport trips whose drop off position of the previous trip was the airport\n",
    "            * Airport trips whose drop off position of the previous trip was out of the airport\n",
    "        * Total (summation) statistics\n",
    "            * Total number of trips\n",
    "            * Total duration\n",
    "            * Total fare\n",
    "            * Total queueing time\n",
    "            * Total economic profit\n",
    "        * Average statistics\n",
    "            * Duration per trip\n",
    "            * Fare per trip\n",
    "            * Economic profit per trip\n",
    "            * Queueing time per trip\n",
    "        * Productivity\n",
    "        * Airport trip proportion\n",
    "    * **How about correlation between variables?**\n",
    "    * **How about causality between variables?**\n",
    "        * Dependent variables\n",
    "            * Queueing time per trip\n",
    "            * Economic profit per trip\n",
    "            * Productivity\n",
    "        * Independent variables\n",
    "            * The other variables (should consider correlation between variables because of **collinearity**)"
   ]
  },
  {
   "cell_type": "markdown",
   "metadata": {},
   "source": [
    "## Datasets\n",
    "* Only 2242 full-time drivers who did not share own vehicle with other drivers and worked in both years (Y2009 and Y2010) are considered in the following analysis"
   ]
  },
  {
   "cell_type": "code",
   "execution_count": 7,
   "metadata": {
    "collapsed": false
   },
   "outputs": [
    {
     "data": {
      "text/html": [
       "<font size=5>H1: Queueing time at the airport in 2009 and 2010 is different</font>"
      ],
      "text/plain": [
       "<IPython.core.display.HTML object>"
      ]
     },
     "metadata": {},
     "output_type": "display_data"
    },
    {
     "data": {
      "text/html": [
       "<table><tr><td>Year</td><td>Average</td><td>S.D.</td><td>Minimum</td><td>Median</td><td>Maximum</td></tr><tr><td>2009</td><td>42.13</td><td>33.65</td><td>0.53</td><td>38.28</td><td>554.75</td></tr><tr><td>2010</td><td>34.92</td><td>19.00</td><td>1.31</td><td>32.57</td><td>236.45</td></tr></table>"
      ],
      "text/plain": [
       "<IPython.core.display.HTML object>"
      ]
     },
     "metadata": {},
     "output_type": "display_data"
    },
    {
     "data": {
      "text/html": [
       "<font size=2>Unit: Minute</font>"
      ],
      "text/plain": [
       "<IPython.core.display.HTML object>"
      ]
     },
     "metadata": {},
     "output_type": "display_data"
    },
    {
     "name": "stdout",
     "output_type": "stream",
     "text": [
      "t-statistics: 8.81, p-value: 0.00\n"
     ]
    }
   ],
   "source": [
    "Y09Q = df['Y09-ap-avg-qtime-per-trip'].apply(lambda x: x / float(SEC60))\n",
    "Y10Q = df['Y10-ap-avg-qtime-per-trip'].apply(lambda x: x / float(SEC60))\n",
    "Y09Q = filtering_outliers(Y09Q); Y10Q = filtering_outliers(Y10Q)\n",
    "t_test('H1: Queueing time at the airport in 2009 and 2010 is different', Y09Q, Y10Q, 'Minute')"
   ]
  },
  {
   "cell_type": "code",
   "execution_count": 8,
   "metadata": {
    "collapsed": false
   },
   "outputs": [
    {
     "data": {
      "text/html": [
       "<font size=5>H2: Airport productivity in 2009 and 2010 is different</font>"
      ],
      "text/plain": [
       "<IPython.core.display.HTML object>"
      ]
     },
     "metadata": {},
     "output_type": "display_data"
    },
    {
     "data": {
      "text/html": [
       "<table><tr><td>Year</td><td>Average</td><td>S.D.</td><td>Minimum</td><td>Median</td><td>Maximum</td></tr><tr><td>2009</td><td>54.73</td><td>4.22</td><td>38.61</td><td>54.57</td><td>71.84</td></tr><tr><td>2010</td><td>55.44</td><td>4.60</td><td>30.79</td><td>55.20</td><td>88.97</td></tr></table>"
      ],
      "text/plain": [
       "<IPython.core.display.HTML object>"
      ]
     },
     "metadata": {},
     "output_type": "display_data"
    },
    {
     "data": {
      "text/html": [
       "<font size=2>Unit: S$/Hour</font>"
      ],
      "text/plain": [
       "<IPython.core.display.HTML object>"
      ]
     },
     "metadata": {},
     "output_type": "display_data"
    },
    {
     "name": "stdout",
     "output_type": "stream",
     "text": [
      "t-statistics: -5.32, p-value: 0.00\n"
     ]
    }
   ],
   "source": [
    "Y09P = df['Y09-ap-productivity'].apply(lambda x: x * SEC3600 / float(CENT))\n",
    "Y10P = df['Y10-ap-productivity'].apply(lambda x: x * SEC3600 / float(CENT))\n",
    "Y09P = filtering_outliers(Y09P); Y10P = filtering_outliers(Y10P)\n",
    "t_test('H2: Airport productivity in 2009 and 2010 is different', Y09P, Y10P, 'S$/Hour')"
   ]
  },
  {
   "cell_type": "code",
   "execution_count": 9,
   "metadata": {
    "collapsed": false
   },
   "outputs": [
    {
     "data": {
      "text/html": [
       "<font size=5>H3: Economic profit in 2009 and 2010 is different</font>"
      ],
      "text/plain": [
       "<IPython.core.display.HTML object>"
      ]
     },
     "metadata": {},
     "output_type": "display_data"
    },
    {
     "data": {
      "text/html": [
       "<table><tr><td>Year</td><td>Average</td><td>S.D.</td><td>Minimum</td><td>Median</td><td>Maximum</td></tr><tr><td>2009</td><td>-4.70</td><td>13.22</td><td>-194.46</td><td>-2.94</td><td>14.19</td></tr><tr><td>2010</td><td>-3.31</td><td>6.96</td><td>-88.85</td><td>-2.24</td><td>11.12</td></tr></table>"
      ],
      "text/plain": [
       "<IPython.core.display.HTML object>"
      ]
     },
     "metadata": {},
     "output_type": "display_data"
    },
    {
     "data": {
      "text/html": [
       "<font size=2>Unit: S$</font>"
      ],
      "text/plain": [
       "<IPython.core.display.HTML object>"
      ]
     },
     "metadata": {},
     "output_type": "display_data"
    },
    {
     "name": "stdout",
     "output_type": "stream",
     "text": [
      "t-statistics: -4.40, p-value: 0.00\n"
     ]
    }
   ],
   "source": [
    "Y09EP = df['Y09-ap-avg-economic-profit-per-trip'].apply(lambda x: x / float(CENT))\n",
    "Y10EP = df['Y10-ap-avg-economic-profit-per-trip'].apply(lambda x: x / float(CENT))\n",
    "Y09EP = filtering_outliers(Y09EP); Y10EP = filtering_outliers(Y10EP)\n",
    "t_test('H3: Economic profit in 2009 and 2010 is different', Y09EP, Y10EP, 'S$')"
   ]
  },
  {
   "cell_type": "markdown",
   "metadata": {},
   "source": [
    "# Correlation between variables\n",
    "* Only focus on difference between Y2009 and Y2010"
   ]
  },
  {
   "cell_type": "code",
   "execution_count": 10,
   "metadata": {
    "collapsed": false,
    "scrolled": true
   },
   "outputs": [
    {
     "data": {
      "image/png": "[encoded data removed]",
      "text/plain": [
       "<matplotlib.figure.Figure at 0x10e0126d0>"
      ]
     },
     "metadata": {},
     "output_type": "display_data"
    },
    {
     "name": "stdout",
     "output_type": "stream",
     "text": [
      "all-total-trip-num:\n",
      "all-total-trip-num, gen-total-trip-num, ap-total-trip-num, apIn-total-trip-num, apOut-total-trip-num, all-total-dur, gen-total-dur, ap-total-dur, apIn-total-dur, apOut-total-dur, all-total-fare, gen-total-fare, ap-total-fare, apIn-total-fare, apOut-total-fare, ap-total-economic-profit, apIn-total-economic-profit, ap-total-qtime, apIn-total-qtime, apOut-total-qtime\n",
      "\n",
      "gen-total-trip-num:\n",
      "all-total-trip-num, gen-total-trip-num, ap-total-trip-num, apIn-total-trip-num, apOut-total-trip-num, all-total-dur, gen-total-dur, ap-total-dur, apIn-total-dur, apOut-total-dur, all-total-fare, gen-total-fare, ap-total-fare, apIn-total-fare, apOut-total-fare, apIn-total-economic-profit, ap-total-qtime, apIn-total-qtime, apOut-total-qtime\n",
      "\n",
      "ap-total-trip-num:\n",
      "all-total-trip-num, gen-total-trip-num, ap-total-trip-num, apIn-total-trip-num, apOut-total-trip-num, all-total-dur, gen-total-dur, ap-total-dur, apIn-total-dur, apOut-total-dur, all-total-fare, gen-total-fare, ap-total-fare, apIn-total-fare, apOut-total-fare, ap-total-economic-profit, apIn-total-economic-profit, apOut-total-economic-profit, ap-total-qtime, apIn-total-qtime, apOut-total-qtime, all-avg-fare-per-trip, proportion-ap-num-by-all-num\n",
      "\n",
      "apIn-total-trip-num:\n",
      "all-total-trip-num, gen-total-trip-num, ap-total-trip-num, apIn-total-trip-num, apOut-total-trip-num, all-total-dur, gen-total-dur, ap-total-dur, apIn-total-dur, apOut-total-dur, all-total-fare, gen-total-fare, ap-total-fare, apIn-total-fare, apOut-total-fare, ap-total-economic-profit, apIn-total-economic-profit, apOut-total-economic-profit, ap-total-qtime, apIn-total-qtime, apOut-total-qtime\n",
      "\n",
      "apOut-total-trip-num:\n",
      "all-total-trip-num, gen-total-trip-num, ap-total-trip-num, apIn-total-trip-num, apOut-total-trip-num, all-total-dur, gen-total-dur, ap-total-dur, apIn-total-dur, apOut-total-dur, all-total-fare, gen-total-fare, ap-total-fare, apIn-total-fare, apOut-total-fare, ap-total-economic-profit, apIn-total-economic-profit, apOut-total-economic-profit, ap-total-qtime, apIn-total-qtime, apOut-total-qtime, all-avg-fare-per-trip, proportion-ap-num-by-all-num\n",
      "\n",
      "all-total-dur:\n",
      "all-total-trip-num, gen-total-trip-num, ap-total-trip-num, apIn-total-trip-num, apOut-total-trip-num, all-total-dur, gen-total-dur, ap-total-dur, apIn-total-dur, apOut-total-dur, all-total-fare, gen-total-fare, ap-total-fare, apIn-total-fare, apOut-total-fare, ap-total-economic-profit, apIn-total-economic-profit, ap-total-qtime, apIn-total-qtime, apOut-total-qtime\n",
      "\n",
      "gen-total-dur:\n",
      "all-total-trip-num, gen-total-trip-num, ap-total-trip-num, apIn-total-trip-num, apOut-total-trip-num, all-total-dur, gen-total-dur, ap-total-dur, apIn-total-dur, apOut-total-dur, all-total-fare, gen-total-fare, ap-total-fare, apIn-total-fare, apOut-total-fare, ap-total-qtime, apIn-total-qtime, apOut-total-qtime\n",
      "\n",
      "ap-total-dur:\n",
      "all-total-trip-num, gen-total-trip-num, ap-total-trip-num, apIn-total-trip-num, apOut-total-trip-num, all-total-dur, gen-total-dur, ap-total-dur, apIn-total-dur, apOut-total-dur, all-total-fare, gen-total-fare, ap-total-fare, apIn-total-fare, apOut-total-fare, ap-total-economic-profit, apIn-total-economic-profit, apOut-total-economic-profit, ap-total-qtime, apIn-total-qtime, apOut-total-qtime, all-avg-fare-per-trip, proportion-ap-num-by-all-num\n",
      "\n",
      "apIn-total-dur:\n",
      "all-total-trip-num, gen-total-trip-num, ap-total-trip-num, apIn-total-trip-num, apOut-total-trip-num, all-total-dur, gen-total-dur, ap-total-dur, apIn-total-dur, apOut-total-dur, all-total-fare, gen-total-fare, ap-total-fare, apIn-total-fare, apOut-total-fare, ap-total-economic-profit, apIn-total-economic-profit, apOut-total-economic-profit, ap-total-qtime, apIn-total-qtime, apOut-total-qtime\n",
      "\n",
      "apOut-total-dur:\n",
      "all-total-trip-num, gen-total-trip-num, ap-total-trip-num, apIn-total-trip-num, apOut-total-trip-num, all-total-dur, gen-total-dur, ap-total-dur, apIn-total-dur, apOut-total-dur, all-total-fare, gen-total-fare, ap-total-fare, apIn-total-fare, apOut-total-fare, ap-total-economic-profit, apIn-total-economic-profit, apOut-total-economic-profit, ap-total-qtime, apIn-total-qtime, apOut-total-qtime, all-avg-fare-per-trip, proportion-ap-num-by-all-num\n",
      "\n",
      "all-total-fare:\n",
      "all-total-trip-num, gen-total-trip-num, ap-total-trip-num, apIn-total-trip-num, apOut-total-trip-num, all-total-dur, gen-total-dur, ap-total-dur, apIn-total-dur, apOut-total-dur, all-total-fare, gen-total-fare, ap-total-fare, apIn-total-fare, apOut-total-fare, ap-total-economic-profit, apIn-total-economic-profit, ap-total-qtime, apIn-total-qtime, apOut-total-qtime\n",
      "\n",
      "gen-total-fare:\n",
      "all-total-trip-num, gen-total-trip-num, ap-total-trip-num, apIn-total-trip-num, apOut-total-trip-num, all-total-dur, gen-total-dur, ap-total-dur, apIn-total-dur, apOut-total-dur, all-total-fare, gen-total-fare, ap-total-fare, apIn-total-fare, apOut-total-fare, apIn-total-economic-profit, ap-total-qtime, apIn-total-qtime, apOut-total-qtime\n",
      "\n",
      "ap-total-fare:\n",
      "all-total-trip-num, gen-total-trip-num, ap-total-trip-num, apIn-total-trip-num, apOut-total-trip-num, all-total-dur, gen-total-dur, ap-total-dur, apIn-total-dur, apOut-total-dur, all-total-fare, gen-total-fare, ap-total-fare, apIn-total-fare, apOut-total-fare, ap-total-economic-profit, apIn-total-economic-profit, apOut-total-economic-profit, ap-total-qtime, apIn-total-qtime, apOut-total-qtime, all-avg-fare-per-trip, proportion-ap-num-by-all-num\n",
      "\n",
      "apIn-total-fare:\n",
      "all-total-trip-num, gen-total-trip-num, ap-total-trip-num, apIn-total-trip-num, apOut-total-trip-num, all-total-dur, gen-total-dur, ap-total-dur, apIn-total-dur, apOut-total-dur, all-total-fare, gen-total-fare, ap-total-fare, apIn-total-fare, apOut-total-fare, ap-total-economic-profit, apIn-total-economic-profit, apOut-total-economic-profit, ap-total-qtime, apIn-total-qtime, apOut-total-qtime, all-avg-fare-per-trip, proportion-ap-num-by-all-num\n",
      "\n",
      "apOut-total-fare:\n",
      "all-total-trip-num, gen-total-trip-num, ap-total-trip-num, apIn-total-trip-num, apOut-total-trip-num, all-total-dur, gen-total-dur, ap-total-dur, apIn-total-dur, apOut-total-dur, all-total-fare, gen-total-fare, ap-total-fare, apIn-total-fare, apOut-total-fare, ap-total-economic-profit, apIn-total-economic-profit, apOut-total-economic-profit, ap-total-qtime, apIn-total-qtime, apOut-total-qtime, all-avg-fare-per-trip, proportion-ap-num-by-all-num\n",
      "\n",
      "ap-total-economic-profit:\n",
      "all-total-trip-num, ap-total-trip-num, apIn-total-trip-num, apOut-total-trip-num, all-total-dur, ap-total-dur, apIn-total-dur, apOut-total-dur, all-total-fare, ap-total-fare, apIn-total-fare, apOut-total-fare, ap-total-economic-profit, apIn-total-economic-profit, apOut-total-economic-profit, ap-total-qtime, apIn-total-qtime, apOut-total-qtime, all-avg-fare-per-trip, ap-avg-economic-profit-per-trip, apOut-avg-economic-profit-per-trip, ap-avg-qtime-per-trip, apOut-avg-qtime-per-trip, proportion-ap-num-by-all-num\n",
      "\n",
      "apIn-total-economic-profit:\n",
      "all-total-trip-num, gen-total-trip-num, ap-total-trip-num, apIn-total-trip-num, apOut-total-trip-num, all-total-dur, ap-total-dur, apIn-total-dur, apOut-total-dur, all-total-fare, gen-total-fare, ap-total-fare, apIn-total-fare, apOut-total-fare, ap-total-economic-profit, apIn-total-economic-profit, apOut-total-economic-profit, ap-total-qtime, apIn-total-qtime, apOut-total-qtime, all-avg-fare-per-trip, proportion-ap-num-by-all-num\n",
      "\n",
      "apOut-total-economic-profit:\n",
      "ap-total-trip-num, apIn-total-trip-num, apOut-total-trip-num, ap-total-dur, apIn-total-dur, apOut-total-dur, ap-total-fare, apIn-total-fare, apOut-total-fare, ap-total-economic-profit, apIn-total-economic-profit, apOut-total-economic-profit, ap-total-qtime, apIn-total-qtime, apOut-total-qtime, all-avg-fare-per-trip, ap-avg-economic-profit-per-trip, apOut-avg-economic-profit-per-trip, ap-avg-qtime-per-trip, apOut-avg-qtime-per-trip, proportion-ap-num-by-all-num\n",
      "\n",
      "ap-total-qtime:\n",
      "all-total-trip-num, gen-total-trip-num, ap-total-trip-num, apIn-total-trip-num, apOut-total-trip-num, all-total-dur, gen-total-dur, ap-total-dur, apIn-total-dur, apOut-total-dur, all-total-fare, gen-total-fare, ap-total-fare, apIn-total-fare, apOut-total-fare, ap-total-economic-profit, apIn-total-economic-profit, apOut-total-economic-profit, ap-total-qtime, apIn-total-qtime, apOut-total-qtime, all-avg-fare-per-trip, proportion-ap-num-by-all-num\n",
      "\n",
      "apIn-total-qtime:\n",
      "all-total-trip-num, gen-total-trip-num, ap-total-trip-num, apIn-total-trip-num, apOut-total-trip-num, all-total-dur, gen-total-dur, ap-total-dur, apIn-total-dur, apOut-total-dur, all-total-fare, gen-total-fare, ap-total-fare, apIn-total-fare, apOut-total-fare, ap-total-economic-profit, apIn-total-economic-profit, apOut-total-economic-profit, ap-total-qtime, apIn-total-qtime, apOut-total-qtime, all-avg-fare-per-trip, proportion-ap-num-by-all-num\n",
      "\n",
      "apOut-total-qtime:\n",
      "all-total-trip-num, gen-total-trip-num, ap-total-trip-num, apIn-total-trip-num, apOut-total-trip-num, all-total-dur, gen-total-dur, ap-total-dur, apIn-total-dur, apOut-total-dur, all-total-fare, gen-total-fare, ap-total-fare, apIn-total-fare, apOut-total-fare, ap-total-economic-profit, apIn-total-economic-profit, apOut-total-economic-profit, ap-total-qtime, apIn-total-qtime, apOut-total-qtime, all-avg-fare-per-trip, proportion-ap-num-by-all-num\n",
      "\n",
      "all-avg-dur-per-trip:\n",
      "all-avg-dur-per-trip, gen-avg-dur-per-trip, all-productivity\n",
      "\n",
      "gen-avg-dur-per-trip:\n",
      "all-avg-dur-per-trip, gen-avg-dur-per-trip, all-productivity\n",
      "\n",
      "ap-avg-dur-per-trip:\n",
      "ap-avg-dur-per-trip, apIn-avg-dur-per-trip, apOut-avg-dur-per-trip, ap-avg-fare-per-trip, apIn-avg-fare-per-trip, apOut-avg-fare-per-trip, ap-productivity, apIn-productivity, apOut-productivity\n",
      "\n",
      "apIn-avg-dur-per-trip:\n",
      "ap-avg-dur-per-trip, apIn-avg-dur-per-trip, ap-avg-fare-per-trip, apIn-avg-fare-per-trip, ap-productivity, apIn-productivity\n",
      "\n",
      "apOut-avg-dur-per-trip:\n",
      "ap-avg-dur-per-trip, apOut-avg-dur-per-trip, ap-avg-fare-per-trip, apOut-avg-fare-per-trip, apOut-productivity\n",
      "\n",
      "all-avg-fare-per-trip:\n",
      "ap-total-trip-num, apOut-total-trip-num, ap-total-dur, apOut-total-dur, ap-total-fare, apIn-total-fare, apOut-total-fare, ap-total-economic-profit, apIn-total-economic-profit, apOut-total-economic-profit, ap-total-qtime, apIn-total-qtime, apOut-total-qtime, all-avg-fare-per-trip, gen-avg-fare-per-trip, ap-avg-fare-per-trip, apIn-avg-fare-per-trip, apIn-productivity, proportion-ap-num-by-all-num\n",
      "\n",
      "gen-avg-fare-per-trip:\n",
      "all-avg-fare-per-trip, gen-avg-fare-per-trip, ap-avg-fare-per-trip, apIn-productivity, proportion-ap-num-by-all-num\n",
      "\n",
      "ap-avg-fare-per-trip:\n",
      "ap-avg-dur-per-trip, apIn-avg-dur-per-trip, apOut-avg-dur-per-trip, all-avg-fare-per-trip, gen-avg-fare-per-trip, ap-avg-fare-per-trip, apIn-avg-fare-per-trip, apOut-avg-fare-per-trip\n",
      "\n",
      "apIn-avg-fare-per-trip:\n",
      "ap-avg-dur-per-trip, apIn-avg-dur-per-trip, all-avg-fare-per-trip, ap-avg-fare-per-trip, apIn-avg-fare-per-trip\n",
      "\n",
      "apOut-avg-fare-per-trip:\n",
      "ap-avg-dur-per-trip, apOut-avg-dur-per-trip, ap-avg-fare-per-trip, apOut-avg-fare-per-trip\n",
      "\n",
      "ap-avg-economic-profit-per-trip:\n",
      "ap-total-economic-profit, apOut-total-economic-profit, ap-avg-economic-profit-per-trip, apOut-avg-economic-profit-per-trip, ap-avg-qtime-per-trip, apOut-avg-qtime-per-trip\n",
      "\n",
      "apIn-avg-economic-profit-per-trip:\n",
      "apIn-avg-economic-profit-per-trip, apIn-avg-qtime-per-trip\n",
      "\n",
      "apOut-avg-economic-profit-per-trip:\n",
      "ap-total-economic-profit, apOut-total-economic-profit, ap-avg-economic-profit-per-trip, apOut-avg-economic-profit-per-trip, ap-avg-qtime-per-trip, apOut-avg-qtime-per-trip\n",
      "\n",
      "ap-avg-qtime-per-trip:\n",
      "ap-total-economic-profit, apOut-total-economic-profit, ap-avg-economic-profit-per-trip, apOut-avg-economic-profit-per-trip, ap-avg-qtime-per-trip, apOut-avg-qtime-per-trip\n",
      "\n",
      "apIn-avg-qtime-per-trip:\n",
      "apIn-avg-economic-profit-per-trip, apIn-avg-qtime-per-trip\n",
      "\n",
      "apOut-avg-qtime-per-trip:\n",
      "ap-total-economic-profit, apOut-total-economic-profit, ap-avg-economic-profit-per-trip, apOut-avg-economic-profit-per-trip, ap-avg-qtime-per-trip, apOut-avg-qtime-per-trip\n",
      "\n",
      "all-productivity:\n",
      "all-avg-dur-per-trip, gen-avg-dur-per-trip, all-productivity\n",
      "\n",
      "gen-productivity:\n",
      "gen-productivity\n",
      "\n",
      "ap-productivity:\n",
      "ap-avg-dur-per-trip, apIn-avg-dur-per-trip, ap-productivity, apIn-productivity, apOut-productivity\n",
      "\n",
      "apIn-productivity:\n",
      "ap-avg-dur-per-trip, apIn-avg-dur-per-trip, all-avg-fare-per-trip, gen-avg-fare-per-trip, ap-productivity, apIn-productivity\n",
      "\n",
      "apOut-productivity:\n",
      "ap-avg-dur-per-trip, apOut-avg-dur-per-trip, ap-productivity, apOut-productivity\n",
      "\n",
      "proportion-ap-num-by-all-num:\n",
      "ap-total-trip-num, apOut-total-trip-num, ap-total-dur, apOut-total-dur, ap-total-fare, apIn-total-fare, apOut-total-fare, ap-total-economic-profit, apIn-total-economic-profit, apOut-total-economic-profit, ap-total-qtime, apIn-total-qtime, apOut-total-qtime, all-avg-fare-per-trip, gen-avg-fare-per-trip, proportion-ap-num-by-all-num\n",
      "\n"
     ]
    }
   ],
   "source": [
    "diff_variables = [cn for cn in df.columns if cn.startswith('Diff')]\n",
    "diff_df = df.loc[:, diff_variables]\n",
    "%matplotlib inline  \n",
    "import numpy as np\n",
    "from matplotlib import pyplot as plt\n",
    "from matplotlib import cm as cm\n",
    "\n",
    "fig = plt.figure(figsize=(12,12))\n",
    "ax1 = fig.add_subplot(111)\n",
    "cmap = cm.get_cmap('jet', 30)\n",
    "cax = ax1.imshow(df.corr(), interpolation=\"nearest\", cmap=cmap)\n",
    "ax1.grid(True)\n",
    "plt.title('Correlation')\n",
    "labels = [cn[len('Diff-'):] for cn in diff_df.columns]\n",
    "ax1.set_xticklabels(labels,fontsize=6)\n",
    "ax1.set_yticklabels(labels,fontsize=6)\n",
    "# Add colorbar, make sure to specify tick locations to match desired ticklabels\n",
    "cbar = fig.colorbar(cax, ticks=np.arange(-1.1, 1.1, 0.1))\n",
    "plt.show()\n",
    "\n",
    "TH_COEF = 0.2\n",
    "for index, row in diff_df.corr().iterrows():\n",
    "    print '%s:' % index[len('Diff-'):]\n",
    "    co_variables = [diff_df.columns[i][len('Diff-'):] \n",
    "                    for i, v in enumerate(row) if abs(v) > TH_COEF]\n",
    "    print ', '.join(co_variables)\n",
    "    print ''"
   ]
  },
  {
   "cell_type": "code",
   "execution_count": 18,
   "metadata": {
    "collapsed": true
   },
   "outputs": [],
   "source": [
    "def do_MLR(diff_df, dv, idvs):\n",
    "    anal_variables = [dv] + included_idv\n",
    "    dict_for_reg = {v: v.replace('-', '_') for v in anal_variables}\n",
    "    # Filtering outlier\n",
    "    for v in anal_variables:\n",
    "        diff_df = diff_df[~(np.abs(diff_df[v] - diff_df[v].mean()) > ( 3 * diff_df[v].std()))]\n",
    "    # Check correleation\n",
    "    TH_COEF = 0.4\n",
    "    for idv1 in included_idv:\n",
    "        for idv2 in included_idv:\n",
    "            if idv1 == idv2:\n",
    "                continue\n",
    "            if abs(diff_df.corr().ix[idv1, idv2]) > TH_COEF:\n",
    "#                 print idv1, idv2\n",
    "                break\n",
    "\n",
    "    candi_idv = []\n",
    "    for cn in [cn for cn in diff_df.columns if cn != dv]:\n",
    "        for idv in included_idv:\n",
    "            if abs(diff_df.corr().ix[cn, idv]) > TH_COEF:\n",
    "                break\n",
    "        else:\n",
    "            candi_idv.append(cn)\n",
    "\n",
    "#     print len(candi_idv)\n",
    "#     for cn in candi_idv:\n",
    "#         print cn\n",
    "\n",
    "\n",
    "    anal_df = diff_df[anal_variables]\n",
    "    anal_df.rename(columns={v : dict_for_reg[v] for v in anal_variables}, inplace=True)\n",
    "    form = '%s ~ %s' % (dict_for_reg[dv], ' + '.join([dict_for_reg[v] for v in included_idv]))\n",
    "    result = sm.ols(formula=form, data=anal_df).fit()\n",
    "    print result.summary()    "
   ]
  },
  {
   "cell_type": "code",
   "execution_count": 19,
   "metadata": {
    "collapsed": false
   },
   "outputs": [
    {
     "name": "stdout",
     "output_type": "stream",
     "text": [
      "                             OLS Regression Results                             \n",
      "================================================================================\n",
      "Dep. Variable:     Diff_ap_productivity   R-squared:                       0.994\n",
      "Model:                              OLS   Adj. R-squared:                  0.993\n",
      "Method:                   Least Squares   F-statistic:                     5439.\n",
      "Date:                  Mon, 26 Sep 2016   Prob (F-statistic):               0.00\n",
      "Time:                          14:05:24   Log-Likelihood:                 4494.4\n",
      "No. Observations:                  1212   AIC:                            -8919.\n",
      "Df Residuals:                      1177   BIC:                            -8740.\n",
      "Df Model:                            34                                         \n",
      "Covariance Type:              nonrobust                                         \n",
      "===========================================================================================================\n",
      "                                              coef    std err          t      P>|t|      [0.025      0.975]\n",
      "-----------------------------------------------------------------------------------------------------------\n",
      "Intercept                                  -0.0009      0.001     -1.742      0.082      -0.002       0.000\n",
      "Diff_all_total_trip_num                  9.415e-06   1.08e-05      0.869      0.385   -1.18e-05    3.07e-05\n",
      "Diff_gen_total_trip_num                 -1.082e-05   1.08e-05     -1.005      0.315   -3.19e-05    1.03e-05\n",
      "Diff_ap_total_trip_num                   2.023e-05   2.16e-05      0.938      0.348   -2.21e-05    6.25e-05\n",
      "Diff_apIn_total_trip_num                -3.423e-06   3.94e-05     -0.087      0.931   -8.07e-05    7.39e-05\n",
      "Diff_apOut_total_trip_num                2.365e-05   4.06e-05      0.583      0.560   -5.59e-05       0.000\n",
      "Diff_all_total_dur                      -6.854e-09   6.15e-09     -1.115      0.265   -1.89e-08    5.21e-09\n",
      "Diff_gen_total_dur                       6.792e-09   6.23e-09      1.090      0.276   -5.43e-09     1.9e-08\n",
      "Diff_ap_total_dur                       -2.608e-08   1.52e-08     -1.721      0.085   -5.58e-08    3.65e-09\n",
      "Diff_apIn_total_dur                      7.098e-08   3.72e-08      1.907      0.057   -2.05e-09    1.44e-07\n",
      "Diff_apOut_total_dur                    -9.681e-08    3.3e-08     -2.930      0.003   -1.62e-07    -3.2e-08\n",
      "Diff_all_total_fare                     -4.935e-09   4.82e-09     -1.024      0.306   -1.44e-08    4.52e-09\n",
      "Diff_gen_total_fare                      6.295e-09   5.07e-09      1.241      0.215   -3.66e-09    1.62e-08\n",
      "Diff_ap_total_fare                      -5.353e-10   1.05e-08     -0.051      0.959   -2.11e-08       2e-08\n",
      "Diff_apIn_total_fare                    -5.171e-08   2.69e-08     -1.924      0.055   -1.04e-07    1.01e-09\n",
      "Diff_apOut_total_fare                    5.127e-08   2.35e-08      2.181      0.029    5.16e-09    9.74e-08\n",
      "Diff_ap_total_economic_profit            1.099e-08   8.24e-09      1.334      0.183   -5.18e-09    2.71e-08\n",
      "Diff_apIn_total_economic_profit          1.101e-08   1.78e-08      0.620      0.536   -2.39e-08    4.59e-08\n",
      "Diff_apOut_total_economic_profit        -1.107e-10   1.54e-08     -0.007      0.994   -3.02e-08       3e-08\n",
      "Diff_ap_total_qtime                      1.641e-08   4.57e-09      3.592      0.000    7.44e-09    2.54e-08\n",
      "Diff_apIn_total_qtime                    1.206e-08   9.76e-09      1.236      0.217   -7.09e-09    3.12e-08\n",
      "Diff_apOut_total_qtime                   4.311e-09    8.5e-09      0.507      0.612   -1.24e-08     2.1e-08\n",
      "Diff_all_avg_dur_per_trip               -4.949e-05   3.31e-05     -1.493      0.136      -0.000    1.55e-05\n",
      "Diff_gen_avg_dur_per_trip                5.072e-05   3.34e-05      1.518      0.129   -1.48e-05       0.000\n",
      "Diff_ap_avg_dur_per_trip                   -0.0012   8.01e-06   -143.580      0.000      -0.001      -0.001\n",
      "Diff_apIn_avg_dur_per_trip                  0.0008    1.8e-05     42.312      0.000       0.001       0.001\n",
      "Diff_apOut_avg_dur_per_trip              4.064e-05   4.41e-06      9.223      0.000     3.2e-05    4.93e-05\n",
      "Diff_all_avg_fare_per_trip                 -0.0002   8.33e-05     -2.057      0.040      -0.000    -7.9e-06\n",
      "Diff_gen_avg_fare_per_trip                  0.0002   8.14e-05      2.038      0.042    6.22e-06       0.000\n",
      "Diff_ap_avg_fare_per_trip                   0.0008   6.63e-06    115.132      0.000       0.001       0.001\n",
      "Diff_apIn_avg_fare_per_trip                -0.0005   1.21e-05    -41.396      0.000      -0.001      -0.000\n",
      "Diff_apOut_avg_fare_per_trip            -2.552e-05   3.08e-06     -8.272      0.000   -3.16e-05   -1.95e-05\n",
      "Diff_ap_avg_economic_profit_per_trip     1.148e-05   4.81e-06      2.386      0.017    2.04e-06    2.09e-05\n",
      "Diff_apIn_avg_economic_profit_per_trip  -1.503e-05   4.06e-06     -3.702      0.000    -2.3e-05   -7.07e-06\n",
      "Diff_apOut_avg_economic_profit_per_trip -1.468e-06   1.13e-06     -1.303      0.193   -3.68e-06    7.43e-07\n",
      "Diff_ap_avg_qtime_per_trip               7.822e-06   3.19e-06      2.455      0.014    1.57e-06    1.41e-05\n",
      "Diff_apIn_avg_qtime_per_trip            -1.042e-05   2.67e-06     -3.902      0.000   -1.57e-05   -5.18e-06\n",
      "Diff_apOut_avg_qtime_per_trip           -1.033e-06   7.86e-07     -1.315      0.189   -2.58e-06    5.09e-07\n",
      "Diff_all_productivity                      -0.0193      0.064     -0.301      0.763      -0.145       0.106\n",
      "Diff_gen_productivity                       0.0192      0.061      0.314      0.753      -0.100       0.139\n",
      "Diff_apIn_productivity                      0.6669      0.015     43.913      0.000       0.637       0.697\n",
      "Diff_apOut_productivity                     0.0341      0.004      9.440      0.000       0.027       0.041\n",
      "Diff_proportion_ap_num_by_all_num           0.2689      0.079      3.393      0.001       0.113       0.424\n",
      "==============================================================================\n",
      "Omnibus:                      263.891   Durbin-Watson:                   2.115\n",
      "Prob(Omnibus):                  0.000   Jarque-Bera (JB):             9047.171\n",
      "Skew:                           0.133   Prob(JB):                         0.00\n",
      "Kurtosis:                      16.382   Cond. No.                     3.82e+16\n",
      "==============================================================================\n",
      "\n",
      "Warnings:\n",
      "[1] Standard Errors assume that the covariance matrix of the errors is correctly specified.\n",
      "[2] The smallest eigenvalue is 1.74e-17. This might indicate that there are\n",
      "strong multicollinearity problems or that the design matrix is singular.\n"
     ]
    }
   ],
   "source": [
    "dv = 'Diff-ap-productivity'\n",
    "included_idv = [cn for cn in diff_df.columns if cn != dv]\n",
    "do_MLR(diff_df, dv, included_idv)"
   ]
  },
  {
   "cell_type": "code",
   "execution_count": 12,
   "metadata": {
    "collapsed": false
   },
   "outputs": [
    {
     "name": "stdout",
     "output_type": "stream",
     "text": [
      "6\n",
      "Diff-apOut-avg-fare-per-trip\n",
      "Diff-ap-avg-economic-profit-per-trip\n",
      "Diff-apOut-avg-economic-profit-per-trip\n",
      "Diff-ap-avg-qtime-per-trip\n",
      "Diff-apOut-avg-qtime-per-trip\n",
      "Diff-gen-productivity\n",
      "                             OLS Regression Results                             \n",
      "================================================================================\n",
      "Dep. Variable:     Diff_ap_productivity   R-squared:                       0.662\n",
      "Model:                              OLS   Adj. R-squared:                  0.660\n",
      "Method:                   Least Squares   F-statistic:                     425.7\n",
      "Date:                  Mon, 26 Sep 2016   Prob (F-statistic):               0.00\n",
      "Time:                          14:02:12   Log-Likelihood:                 2887.7\n",
      "No. Observations:                  1966   AIC:                            -5755.\n",
      "Df Residuals:                      1956   BIC:                            -5699.\n",
      "Df Model:                             9                                         \n",
      "Covariance Type:              nonrobust                                         \n",
      "==========================================================================================================\n",
      "                                             coef    std err          t      P>|t|      [0.025      0.975]\n",
      "----------------------------------------------------------------------------------------------------------\n",
      "Intercept                                 -0.0058      0.002     -2.565      0.010      -0.010      -0.001\n",
      "Diff_all_productivity                      0.0772      0.026      2.925      0.003       0.025       0.129\n",
      "Diff_apIn_productivity                     0.6770      0.013     50.890      0.000       0.651       0.703\n",
      "Diff_apOut_productivity                    0.0738      0.004     21.061      0.000       0.067       0.081\n",
      "Diff_proportion_ap_num_by_all_num          0.2555      0.066      3.843      0.000       0.125       0.386\n",
      "Diff_apIn_total_trip_num                1.835e-05    2.9e-05      0.633      0.527   -3.85e-05    7.52e-05\n",
      "Diff_apIn_avg_economic_profit_per_trip -2.044e-06    1.8e-06     -1.137      0.256   -5.57e-06    1.48e-06\n",
      "Diff_apOut_total_economic_profit        1.057e-08   2.45e-08      0.431      0.667   -3.76e-08    5.87e-08\n",
      "Diff_ap_avg_fare_per_trip                4.94e-05   8.25e-06      5.986      0.000    3.32e-05    6.56e-05\n",
      "Diff_gen_avg_fare_per_trip              8.202e-05   2.79e-05      2.943      0.003    2.74e-05       0.000\n",
      "==============================================================================\n",
      "Omnibus:                      546.822   Durbin-Watson:                   1.978\n",
      "Prob(Omnibus):                  0.000   Jarque-Bera (JB):            43579.698\n",
      "Skew:                          -0.267   Prob(JB):                         0.00\n",
      "Kurtosis:                      26.059   Cond. No.                     2.82e+06\n",
      "==============================================================================\n",
      "\n",
      "Warnings:\n",
      "[1] Standard Errors assume that the covariance matrix of the errors is correctly specified.\n",
      "[2] The condition number is large, 2.82e+06. This might indicate that there are\n",
      "strong multicollinearity or other numerical problems.\n"
     ]
    },
    {
     "name": "stderr",
     "output_type": "stream",
     "text": [
      "/usr/local/lib/python2.7/site-packages/pandas/core/frame.py:2754: SettingWithCopyWarning: \n",
      "A value is trying to be set on a copy of a slice from a DataFrame\n",
      "\n",
      "See the caveats in the documentation: http://pandas.pydata.org/pandas-docs/stable/indexing.html#indexing-view-versus-copy\n",
      "  **kwargs)\n"
     ]
    }
   ],
   "source": [
    "dv = 'Diff-ap-productivity'\n",
    "included_idv = ['Diff-all-productivity',\n",
    "                'Diff-apIn-productivity',\n",
    "                'Diff-apOut-productivity',\n",
    "                'Diff-proportion-ap-num-by-all-num',\n",
    "                'Diff-apIn-total-trip-num',\n",
    "                'Diff-apIn-avg-economic-profit-per-trip',\n",
    "                'Diff-apOut-total-economic-profit',\n",
    "                'Diff-ap-avg-fare-per-trip',\n",
    "                'Diff-gen-avg-fare-per-trip',\n",
    "               ]\n",
    "do_MLR(diff_df, dv, included_idv)"
   ]
  },
  {
   "cell_type": "code",
   "execution_count": 7,
   "metadata": {
    "collapsed": false
   },
   "outputs": [
    {
     "name": "stdout",
     "output_type": "stream",
     "text": [
      "2\n",
      "Diff-ap-total-economic-profit\n",
      "Diff-apOut-total-qtime\n",
      "                                OLS Regression Results                                \n",
      "======================================================================================\n",
      "Dep. Variable:     Diff_ap_avg_qtime_per_trip   R-squared:                       0.621\n",
      "Model:                                    OLS   Adj. R-squared:                  0.619\n",
      "Method:                         Least Squares   F-statistic:                     304.3\n",
      "Date:                        Mon, 26 Sep 2016   Prob (F-statistic):               0.00\n",
      "Time:                                12:46:39   Log-Likelihood:                -12589.\n",
      "No. Observations:                        1683   AIC:                         2.520e+04\n",
      "Df Residuals:                            1673   BIC:                         2.525e+04\n",
      "Df Model:                                   9                                         \n",
      "Covariance Type:                    nonrobust                                         \n",
      "===========================================================================================================\n",
      "                                              coef    std err          t      P>|t|      [0.025      0.975]\n",
      "-----------------------------------------------------------------------------------------------------------\n",
      "Intercept                                -233.4970     19.295    -12.101      0.000    -271.343    -195.651\n",
      "Diff_proportion_ap_num_by_all_num        -334.6655    659.147     -0.508      0.612   -1627.505     958.174\n",
      "Diff_ap_productivity                      921.0455    159.343      5.780      0.000     608.512    1233.579\n",
      "Diff_gen_productivity                    -199.1528    219.415     -0.908      0.364    -629.509     231.203\n",
      "Diff_apIn_avg_economic_profit_per_trip     -0.7725      0.028    -27.996      0.000      -0.827      -0.718\n",
      "Diff_apOut_avg_economic_profit_per_trip    -0.3057      0.007    -42.803      0.000      -0.320      -0.292\n",
      "Diff_apIn_avg_dur_per_trip                  0.4930      0.094      5.260      0.000       0.309       0.677\n",
      "Diff_apOut_avg_dur_per_trip                 0.2112      0.045      4.685      0.000       0.123       0.300\n",
      "Diff_gen_avg_fare_per_trip                 -0.4479      0.255     -1.754      0.080      -0.949       0.053\n",
      "Diff_all_total_trip_num                    -0.0055      0.005     -1.028      0.304      -0.016       0.005\n",
      "==============================================================================\n",
      "Omnibus:                     1030.048   Durbin-Watson:                   1.998\n",
      "Prob(Omnibus):                  0.000   Jarque-Bera (JB):           102113.490\n",
      "Skew:                          -1.967   Prob(JB):                         0.00\n",
      "Kurtosis:                      40.956   Cond. No.                     1.26e+05\n",
      "==============================================================================\n",
      "\n",
      "Warnings:\n",
      "[1] Standard Errors assume that the covariance matrix of the errors is correctly specified.\n",
      "[2] The condition number is large, 1.26e+05. This might indicate that there are\n",
      "strong multicollinearity or other numerical problems.\n"
     ]
    }
   ],
   "source": [
    "dv = 'Diff-ap-avg-qtime-per-trip'\n",
    "included_idv = ['Diff-proportion-ap-num-by-all-num', \n",
    "                'Diff-ap-productivity',\n",
    "                'Diff-gen-productivity',\n",
    "                'Diff-apIn-avg-economic-profit-per-trip',\n",
    "                'Diff-apOut-avg-economic-profit-per-trip',\n",
    "                'Diff-apIn-avg-dur-per-trip',\n",
    "                'Diff-apOut-avg-dur-per-trip',\n",
    "                'Diff-gen-avg-fare-per-trip',\n",
    "                'Diff-all-total-trip-num'\n",
    "               ]\n",
    "do_MLR(diff_df, dv, included_idv) "
   ]
  },
  {
   "cell_type": "code",
   "execution_count": 13,
   "metadata": {
    "collapsed": false
   },
   "outputs": [
    {
     "name": "stdout",
     "output_type": "stream",
     "text": [
      "7\n",
      "Diff-ap-total-economic-profit\n",
      "Diff-apOut-total-economic-profit\n",
      "Diff-apOut-total-qtime\n",
      "Diff-apOut-avg-dur-per-trip\n",
      "Diff-apOut-avg-fare-per-trip\n",
      "Diff-gen-productivity\n",
      "Diff-apOut-productivity\n",
      "                                     OLS Regression Results                                     \n",
      "================================================================================================\n",
      "Dep. Variable:     Diff_ap_avg_economic_profit_per_trip   R-squared:                       0.636\n",
      "Model:                                              OLS   Adj. R-squared:                  0.634\n",
      "Method:                                   Least Squares   F-statistic:                     426.7\n",
      "Date:                                  Mon, 26 Sep 2016   Prob (F-statistic):               0.00\n",
      "Time:                                          14:02:48   Log-Likelihood:                -14916.\n",
      "No. Observations:                                  1966   AIC:                         2.985e+04\n",
      "Df Residuals:                                      1957   BIC:                         2.990e+04\n",
      "Df Model:                                             8                                         \n",
      "Covariance Type:                              nonrobust                                         \n",
      "===========================================================================================================\n",
      "                                              coef    std err          t      P>|t|      [0.025      0.975]\n",
      "-----------------------------------------------------------------------------------------------------------\n",
      "Intercept                                  11.4962     19.151      0.600      0.548     -26.063      49.055\n",
      "Diff_proportion_ap_num_by_all_num        -124.2997    523.540     -0.237      0.812   -1151.054     902.455\n",
      "Diff_all_productivity                     -29.7073    226.031     -0.131      0.895    -472.993     413.579\n",
      "Diff_ap_productivity                      524.0661    131.903      3.973      0.000     265.381     782.751\n",
      "Diff_all_total_trip_num                     0.0088      0.005      1.696      0.090      -0.001       0.019\n",
      "Diff_ap_avg_fare_per_trip                   0.1983      0.074      2.666      0.008       0.052       0.344\n",
      "Diff_gen_avg_fare_per_trip                  0.0626      0.239      0.262      0.793      -0.406       0.532\n",
      "Diff_apIn_avg_economic_profit_per_trip      0.4232      0.024     17.912      0.000       0.377       0.470\n",
      "Diff_apOut_avg_economic_profit_per_trip     0.2375      0.004     54.840      0.000       0.229       0.246\n",
      "==============================================================================\n",
      "Omnibus:                     3107.793   Durbin-Watson:                   2.030\n",
      "Prob(Omnibus):                  0.000   Jarque-Bera (JB):          4005894.822\n",
      "Skew:                           9.472   Prob(JB):                         0.00\n",
      "Kurtosis:                     223.325   Cond. No.                     1.21e+05\n",
      "==============================================================================\n",
      "\n",
      "Warnings:\n",
      "[1] Standard Errors assume that the covariance matrix of the errors is correctly specified.\n",
      "[2] The condition number is large, 1.21e+05. This might indicate that there are\n",
      "strong multicollinearity or other numerical problems.\n"
     ]
    }
   ],
   "source": [
    "dv = 'Diff-ap-avg-economic-profit-per-trip'\n",
    "included_idv = ['Diff-proportion-ap-num-by-all-num', \n",
    "                'Diff-all-productivity',\n",
    "                'Diff-ap-productivity',\n",
    "                'Diff-all-total-trip-num',\n",
    "                'Diff-ap-avg-fare-per-trip',\n",
    "                'Diff-gen-avg-fare-per-trip',\n",
    "                'Diff-apIn-avg-economic-profit-per-trip',\n",
    "                'Diff-apOut-avg-economic-profit-per-trip',\n",
    "               ]\n",
    "do_MLR(diff_df, dv, included_idv)   "
   ]
  },
  {
   "cell_type": "code",
   "execution_count": null,
   "metadata": {
    "collapsed": true
   },
   "outputs": [],
   "source": []
  }
 ],
 "metadata": {
  "kernelspec": {
   "display_name": "Python 2",
   "language": "python",
   "name": "python2"
  },
  "language_info": {
   "codemirror_mode": {
    "name": "ipython",
    "version": 2
   },
   "file_extension": ".py",
   "mimetype": "text/x-python",
   "name": "python",
   "nbconvert_exporter": "python",
   "pygments_lexer": "ipython2",
   "version": "2.7.12"
  }
 },
 "nbformat": 4,
 "nbformat_minor": 0
}
