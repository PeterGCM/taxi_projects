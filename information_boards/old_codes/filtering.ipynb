{
 "cells": [
  {
   "cell_type": "code",
   "execution_count": 1,
   "metadata": {
    "collapsed": true
   },
   "outputs": [],
   "source": [
    "import __init__\n",
    "from information_boards.c_individual_analysis import ftd_ap_daily_stat_filtered_fpath\n",
    "#\n",
    "import pandas as pd\n",
    "import numpy as np"
   ]
  },
  {
   "cell_type": "code",
   "execution_count": 2,
   "metadata": {
    "collapsed": false
   },
   "outputs": [
    {
     "data": {
      "text/plain": [
       "Index([u'yy', u'mm', u'dd', u'did', u'all-num', u'all-dur', u'all-fare',\n",
       "       u'ap-num', u'ap-dur', u'ap-fare', u'ap-ep', u'ap-queueing-time',\n",
       "       u'apIn-num', u'apIn-dur', u'apIn-fare', u'apIn-ep',\n",
       "       u'apIn-queueing-time', u'apOut-num', u'apOut-dur', u'apOut-fare',\n",
       "       u'apOut-ep', u'apOut-queueing-time'],\n",
       "      dtype='object')"
      ]
     },
     "execution_count": 2,
     "metadata": {},
     "output_type": "execute_result"
    }
   ],
   "source": [
    "df = pd.read_csv(ftd_ap_daily_stat_filtered_fpath)\n",
    "df.columns"
   ]
  },
  {
   "cell_type": "code",
   "execution_count": 3,
   "metadata": {
    "collapsed": false
   },
   "outputs": [],
   "source": [
    "# remove outlier\n",
    "fdf = df.copy(deep=True)\n",
    "fdf = fdf[(fdf['ap-queueing-time'] >= 10 * 60)]\n",
    "for v in df.columns:\n",
    "    if v in [u'yy', u'mm', u'dd', u'did']:\n",
    "        continue\n",
    "    fdf = fdf[~(np.abs(fdf[v] - fdf[v].mean()) > ( 3 * fdf[v].std()))]"
   ]
  },
  {
   "cell_type": "code",
   "execution_count": 4,
   "metadata": {
    "collapsed": false
   },
   "outputs": [
    {
     "name": "stdout",
     "output_type": "stream",
     "text": [
      "460215 606943\n"
     ]
    }
   ],
   "source": [
    "print len(fdf), len(df)"
   ]
  },
  {
   "cell_type": "code",
   "execution_count": 5,
   "metadata": {
    "collapsed": false
   },
   "outputs": [
    {
     "name": "stdout",
     "output_type": "stream",
     "text": [
      "5\n"
     ]
    }
   ],
   "source": [
    "fdf[['all-num', 'ap-num']]\n",
    "print max(fdf['ap-num'])"
   ]
  },
  {
   "cell_type": "code",
   "execution_count": 6,
   "metadata": {
    "collapsed": true
   },
   "outputs": [],
   "source": [
    "fdf = fdf[[u'yy', u'mm', u'dd', u'did', u'all-num', u'all-dur', u'all-fare',\n",
    "       u'ap-num', u'ap-dur', u'ap-fare', u'ap-ep', u'ap-queueing-time',\n",
    "       u'apIn-num', u'apOut-num']]"
   ]
  },
  {
   "cell_type": "code",
   "execution_count": 7,
   "metadata": {
    "collapsed": false
   },
   "outputs": [
    {
     "name": "stdout",
     "output_type": "stream",
     "text": [
      "5203 5638 3077\n",
      "347461\n"
     ]
    }
   ],
   "source": [
    "df09 = fdf[(fdf['yy'] == 9)]\n",
    "df10 = fdf[(fdf['yy'] == 10)]\n",
    "\n",
    "drivers09 = set(df09['did'])\n",
    "drivers10 = set(df10['did'])\n",
    "both_year_drivers = drivers09.intersection(drivers10)\n",
    "print len(drivers09), len(drivers10), len(both_year_drivers)\n",
    "fdf = fdf[(fdf['did'].isin(both_year_drivers))]\n",
    "print len(fdf)"
   ]
  },
  {
   "cell_type": "code",
   "execution_count": 8,
   "metadata": {
    "collapsed": true
   },
   "outputs": [],
   "source": [
    "col_renaming_map = {\n",
    "    u'yy': 'year', u'mm': 'month', u'dd': 'day', \n",
    "    u'did': 'driverID', \n",
    "    u'all-num': 'allNumber', u'all-dur': 'allDuration', u'all-fare': 'allFare',\n",
    "    u'ap-num': 'apTripNumber', u'ap-dur': 'apTripDuration', u'ap-fare': 'apTripFare', \n",
    "    u'ap-ep': 'apTripEconomicProfit', u'ap-queueing-time': 'apQTime',\n",
    "    u'apIn-num': 'apInTripNumber', u'apOut-num': 'apOutTripNumber'\n",
    "}\n",
    "\n",
    "fdf = fdf.rename(columns=col_renaming_map)\n",
    "fdf['year'] = fdf['year'] + 2000\n",
    "\n",
    "\n",
    "fdf.to_csv('information_boards_effect.csv', index=False)"
   ]
  },
  {
   "cell_type": "code",
   "execution_count": null,
   "metadata": {
    "collapsed": true
   },
   "outputs": [],
   "source": [
    ""
   ]
  }
 ],
 "metadata": {
  "kernelspec": {
   "display_name": "Python 2",
   "language": "python",
   "name": "python2"
  },
  "language_info": {
   "codemirror_mode": {
    "name": "ipython",
    "version": 2.0
   },
   "file_extension": ".py",
   "mimetype": "text/x-python",
   "name": "python",
   "nbconvert_exporter": "python",
   "pygments_lexer": "ipython2",
   "version": "2.7.12"
  }
 },
 "nbformat": 4,
 "nbformat_minor": 0
}