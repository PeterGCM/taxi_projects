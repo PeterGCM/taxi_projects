{
 "cells": [
  {
   "cell_type": "code",
   "execution_count": 3,
   "metadata": {
    "collapsed": false
   },
   "outputs": [],
   "source": [
    "from pandas.io.data import DataReader\n",
    "from pandas import *\n",
    "symbols = ['MSFT', 'GOOG', 'AAPL']\n",
    "data = dict((sym, DataReader(sym, \"yahoo\")) for sym in symbols)"
   ]
  },
  {
   "cell_type": "code",
   "execution_count": 4,
   "metadata": {
    "collapsed": false
   },
   "outputs": [],
   "source": [
    "panel = Panel(data).swapaxes('items', 'minor')"
   ]
  },
  {
   "cell_type": "code",
   "execution_count": 5,
   "metadata": {
    "collapsed": false
   },
   "outputs": [
    {
     "data": {
      "text/plain": [
       "<class 'pandas.core.panel.Panel'>\n",
       "Dimensions: 6 (items) x 1724 (major_axis) x 3 (minor_axis)\n",
       "Items axis: Open to Adj Close\n",
       "Major_axis axis: 2010-01-04 00:00:00 to 2016-11-04 00:00:00\n",
       "Minor_axis axis: AAPL to MSFT"
      ]
     },
     "execution_count": 5,
     "metadata": {},
     "output_type": "execute_result"
    }
   ],
   "source": [
    "panel"
   ]
  },
  {
   "cell_type": "code",
   "execution_count": 10,
   "metadata": {
    "collapsed": false
   },
   "outputs": [],
   "source": [
    "close_px = panel['Close']\n",
    "rets = close_px / close_px.shift(1) - 1"
   ]
  },
  {
   "cell_type": "code",
   "execution_count": 13,
   "metadata": {
    "collapsed": false
   },
   "outputs": [
    {
     "data": {
      "text/plain": [
       "\n",
       "-------------------------Summary of Regression Analysis-------------------------\n",
       "\n",
       "Formula: Y ~ <GOOG> + <intercept>\n",
       "\n",
       "Number of Observations:         1723\n",
       "Number of Degrees of Freedom:   2\n",
       "\n",
       "R-squared:         0.0384\n",
       "Adj R-squared:     0.0378\n",
       "\n",
       "Rmse:              0.0260\n",
       "\n",
       "F-stat (1, 1721):    68.7144, p-value:     0.0000\n",
       "\n",
       "Degrees of Freedom: model 1, resid 1721\n",
       "\n",
       "-----------------------Summary of Estimated Coefficients------------------------\n",
       "      Variable       Coef    Std Err     t-stat    p-value    CI 2.5%   CI 97.5%\n",
       "--------------------------------------------------------------------------------\n",
       "          GOOG     0.2598     0.0313       8.29     0.0000     0.1983     0.3212\n",
       "     intercept     0.0003     0.0006       0.44     0.6565    -0.0009     0.0015\n",
       "---------------------------------End of Summary---------------------------------"
      ]
     },
     "execution_count": 13,
     "metadata": {},
     "output_type": "execute_result"
    }
   ],
   "source": [
    "model = ols(y=rets['AAPL'], x=rets.ix[:, ['GOOG']])\n",
    "model"
   ]
  },
  {
   "cell_type": "code",
   "execution_count": 14,
   "metadata": {
    "collapsed": false
   },
   "outputs": [
    {
     "name": "stderr",
     "output_type": "stream",
     "text": [
      "/usr/local/lib/python2.7/site-packages/IPython/core/interactiveshell.py:2869: FutureWarning: The pandas.stats.plm module is deprecated and will be removed in a future version. We refer to external packages like statsmodels, see some examples here: http://statsmodels.sourceforge.net/stable/mixed_linear.html\n",
      "  exec(code_obj, self.user_global_ns, self.user_ns)\n"
     ]
    },
    {
     "data": {
      "text/plain": [
       "\n",
       "-------------------------Summary of Regression Analysis-------------------------\n",
       "\n",
       "Formula: Y ~ <return> + <intercept>\n",
       "\n",
       "Number of Observations:         5169\n",
       "Number of Degrees of Freedom:   2\n",
       "\n",
       "R-squared:         0.0333\n",
       "Adj R-squared:     0.0331\n",
       "\n",
       "Rmse:              0.5206\n",
       "\n",
       "F-stat (1, 5167):   177.9028, p-value:     0.0000\n",
       "\n",
       "Degrees of Freedom: model 1, resid 5167\n",
       "\n",
       "-----------------------Summary of Estimated Coefficients------------------------\n",
       "      Variable       Coef    Std Err     t-stat    p-value    CI 2.5%   CI 97.5%\n",
       "--------------------------------------------------------------------------------\n",
       "        return     5.4716     0.4102      13.34     0.0000     4.6675     6.2756\n",
       "     intercept     0.4247     0.0086      49.45     0.0000     0.4079     0.4416\n",
       "---------------------------------End of Summary---------------------------------"
      ]
     },
     "execution_count": 14,
     "metadata": {},
     "output_type": "execute_result"
    }
   ],
   "source": [
    "volume = panel['Volume'] / 1e8\n",
    "model = ols(y=volume, x={'return' : np.abs(rets)})\n",
    "model"
   ]
  },
  {
   "cell_type": "code",
   "execution_count": null,
   "metadata": {
    "collapsed": true
   },
   "outputs": [],
   "source": [
    ""
   ]
  }
 ],
 "metadata": {
  "kernelspec": {
   "display_name": "Python 2",
   "language": "python",
   "name": "python2"
  },
  "language_info": {
   "codemirror_mode": {
    "name": "ipython",
    "version": 2.0
   },
   "file_extension": ".py",
   "mimetype": "text/x-python",
   "name": "python",
   "nbconvert_exporter": "python",
   "pygments_lexer": "ipython2",
   "version": "2.7.12"
  }
 },
 "nbformat": 4,
 "nbformat_minor": 0
}