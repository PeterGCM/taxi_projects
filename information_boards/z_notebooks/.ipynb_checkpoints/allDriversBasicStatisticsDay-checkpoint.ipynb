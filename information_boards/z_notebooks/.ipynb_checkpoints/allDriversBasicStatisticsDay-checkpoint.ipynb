{
 "cells": [
  {
   "cell_type": "code",
   "execution_count": 4,
   "metadata": {
    "collapsed": true
   },
   "outputs": [],
   "source": [
    "import __init__\n",
    "#\n",
    "from IPython.display import HTML, display\n",
    "import pandas as pd\n",
    "import numpy as np"
   ]
  },
  {
   "cell_type": "markdown",
   "metadata": {},
   "source": [
    "# Airport"
   ]
  },
  {
   "cell_type": "code",
   "execution_count": 5,
   "metadata": {
    "collapsed": false
   },
   "outputs": [
    {
     "name": "stdout",
     "output_type": "stream",
     "text": [
      "The number of drivers: 34321\n",
      "wleTripNumber:16.598211,7.356357\n",
      "wleOperatingHour:7.704482,2.774899\n",
      "wleFare:194.466782,73.837474\n",
      "wleProductivity:25.683064,5.862265\n",
      "locTripNumber:1.614976,1.046426\n",
      "locInNumber:0.684149,0.668958\n",
      "locOutNumber:0.930827,1.163257\n",
      "locQTime:54.731222,47.748150\n",
      "locEP:-2.577318,13.284117\n",
      "locDuration:34.656156,23.786917\n",
      "locFare:33.264779,22.828580\n",
      "QTime/locTrip:33.817671,21.328678\n",
      "EP/locTrip:-1.580585,8.664472\n",
      "locProductivity:25.009269,9.712096\n"
     ]
    }
   ],
   "source": [
    "from information_boards import statisticsAllDrivers_ap_dpath\n",
    "from information_boards import statisticsAllDriversDay_ap_prefix\n",
    "#\n",
    "df2009 = pd.read_csv('%s/Filtered-%s2009.csv' % (statisticsAllDrivers_ap_dpath, statisticsAllDriversDay_ap_prefix))\n",
    "df2010 = pd.read_csv('%s/Filtered-%s2010.csv' % (statisticsAllDrivers_ap_dpath, statisticsAllDriversDay_ap_prefix))\n",
    "df = pd.concat([df2009, df2010])\n",
    "#\n",
    "print 'The number of drivers: %d' % len(set(df['driverID']))\n",
    "for cn in df.columns:\n",
    "    if cn in ['year', 'month', 'day', 'driverID']:\n",
    "        continue\n",
    "    print '%s:%f,%f' % (cn, df[cn].mean(), df[cn].std())"
   ]
  },
  {
   "cell_type": "markdown",
   "metadata": {},
   "source": [
    "# Zoo"
   ]
  },
  {
   "cell_type": "code",
   "execution_count": 7,
   "metadata": {
    "collapsed": false
   },
   "outputs": [
    {
     "name": "stdout",
     "output_type": "stream",
     "text": [
      "The number of drivers: 11060\n",
      "day:15.788945,8.919715\n",
      "wleTripNumber:4.839891,2.278871\n",
      "wleOperatingHour:2.169597,0.704196\n",
      "wleFare:56.515352,22.918796\n",
      "wleProductivity:26.443380,8.041807\n",
      "locTripNumber:1.025144,0.165595\n",
      "locInNumber:0.445834,0.500261\n",
      "locOutNumber:0.579310,0.530407\n",
      "locQTime:74.172263,521.124407\n",
      "locEP:-23.171421,212.704260\n",
      "locDuration:23.540833,8.564093\n",
      "locFare:15.982214,5.927894\n",
      "QTime/locTrip:72.518908,513.347111\n",
      "EP/locTrip:-22.647243,209.565535\n",
      "locProductivity:29.730384,9.759763\n"
     ]
    }
   ],
   "source": [
    "from information_boards import statisticsAllDrivers_ns_dpath\n",
    "from information_boards import statisticsAllDriversDay_ns1517_prefix\n",
    "#\n",
    "df2009 = pd.read_csv('%s/Filtered-%s2009.csv' % (statisticsAllDrivers_ns_dpath, statisticsAllDriversDay_ns1517_prefix))\n",
    "df2010 = pd.read_csv('%s/Filtered-%s2010.csv' % (statisticsAllDrivers_ns_dpath, statisticsAllDriversDay_ns1517_prefix))\n",
    "df = pd.concat([df2009, df2010])\n",
    "#\n",
    "print 'The number of drivers: %d' % len(set(df['driverID']))\n",
    "for cn in df.columns:\n",
    "    if cn in ['year', 'month', 'day', 'driverID']:\n",
    "        continue\n",
    "    print '%s:%f,%f' % (cn, df[cn].mean(), df[cn].std())"
   ]
  },
  {
   "cell_type": "markdown",
   "metadata": {},
   "source": [
    "# Night Safari"
   ]
  },
  {
   "cell_type": "code",
   "execution_count": 8,
   "metadata": {
    "collapsed": false
   },
   "outputs": [
    {
     "name": "stdout",
     "output_type": "stream",
     "text": [
      "The number of drivers: 10809\n",
      "wleTripNumber:7.027113,2.414690\n",
      "wleOperatingHour:3.315511,0.673032\n",
      "wleFare:81.674305,23.618962\n",
      "wleProductivity:24.738078,5.783414\n",
      "locTripNumber:1.038848,0.199877\n",
      "locInNumber:0.195820,0.398313\n",
      "locOutNumber:0.843029,0.447394\n",
      "locQTime:50.648510,326.009175\n",
      "locEP:-16.729854,153.165526\n",
      "locDuration:22.893511,7.317134\n",
      "locFare:15.563885,4.860457\n",
      "QTime/locTrip:48.596125,315.539641\n",
      "EP/locTrip:-16.030626,148.583206\n",
      "locProductivity:24.245423,9.188335\n"
     ]
    }
   ],
   "source": [
    "from information_boards import statisticsAllDrivers_ns_dpath\n",
    "from information_boards import statisticsAllDriversDay_ns2023_prefix\n",
    "#\n",
    "df2009 = pd.read_csv('%s/Filtered-%s2009.csv' % (statisticsAllDrivers_ns_dpath, statisticsAllDriversDay_ns2023_prefix))\n",
    "df2010 = pd.read_csv('%s/Filtered-%s2010.csv' % (statisticsAllDrivers_ns_dpath, statisticsAllDriversDay_ns2023_prefix))\n",
    "df = pd.concat([df2009, df2010])\n",
    "#\n",
    "print 'The number of drivers: %d' % len(set(df['driverID']))\n",
    "for cn in df.columns:\n",
    "    if cn in ['year', 'month', 'day', 'driverID']:\n",
    "        continue\n",
    "    print '%s:%f,%f' % (cn, df[cn].mean(), df[cn].std())"
   ]
  },
  {
   "cell_type": "code",
   "execution_count": null,
   "metadata": {
    "collapsed": true
   },
   "outputs": [],
   "source": []
  }
 ],
 "metadata": {
  "kernelspec": {
   "display_name": "Python 2",
   "language": "python",
   "name": "python2"
  },
  "language_info": {
   "codemirror_mode": {
    "name": "ipython",
    "version": 2
   },
   "file_extension": ".py",
   "mimetype": "text/x-python",
   "name": "python",
   "nbconvert_exporter": "python",
   "pygments_lexer": "ipython2",
   "version": "2.7.13"
  }
 },
 "nbformat": 4,
 "nbformat_minor": 2
}
