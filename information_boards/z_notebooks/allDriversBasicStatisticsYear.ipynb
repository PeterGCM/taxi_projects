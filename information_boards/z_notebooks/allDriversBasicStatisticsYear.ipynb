{
 "cells": [
  {
   "cell_type": "code",
   "execution_count": 1,
   "metadata": {
    "collapsed": true
   },
   "outputs": [],
   "source": [
    "import __init__\n",
    "#\n",
    "from IPython.display import HTML, display\n",
    "import pandas as pd\n",
    "import numpy as np"
   ]
  },
  {
   "cell_type": "markdown",
   "metadata": {},
   "source": [
    "# Airport"
   ]
  },
  {
   "cell_type": "code",
   "execution_count": 2,
   "metadata": {
    "collapsed": false
   },
   "outputs": [
    {
     "name": "stdout",
     "output_type": "stream",
     "text": [
      "The number of drivers: 21718\n",
      "wleTripNumber:1232.867519,1256.507268\n",
      "wleOperatingHour:580.143141,619.678118\n",
      "wleFare:14584.837739,15173.767033\n",
      "wleProductivity:25.824841,3.587754\n",
      "locTripNumber:125.501633,184.612607\n",
      "locInNumber:49.639455,50.931388\n",
      "locOutNumber:75.862179,160.236473\n",
      "locQTime:4344.458432,6906.333821\n",
      "locEP:-220.637754,722.015401\n",
      "locDuration:2703.754836,3994.893196\n",
      "locFare:2605.332965,3914.908223\n",
      "QTime/locTrip:31.202660,9.833519\n",
      "EP/locTrip:-1.153425,3.554463\n",
      "locProductivity:23.592030,4.863748\n",
      "locInRatio:0.642938,0.297311\n"
     ]
    }
   ],
   "source": [
    "from information_boards import statisticsAllDrivers_ap_dpath\n",
    "from information_boards import statisticsAllDriversYear_ap_prefix\n",
    "#\n",
    "df2009 = pd.read_csv('%s/%s2009.csv' % (statisticsAllDrivers_ap_dpath, statisticsAllDriversYear_ap_prefix))\n",
    "df2010 = pd.read_csv('%s/%s2010.csv' % (statisticsAllDrivers_ap_dpath, statisticsAllDriversYear_ap_prefix))\n",
    "df = pd.concat([df2009, df2010])\n",
    "#\n",
    "print 'The number of drivers: %d' % len(set(df['driverID']))\n",
    "for cn in df.columns:\n",
    "    if cn in ['year', 'driverID']:\n",
    "        continue\n",
    "    print '%s:%f,%f' % (cn, df[cn].mean(), df[cn].std())"
   ]
  },
  {
   "cell_type": "markdown",
   "metadata": {},
   "source": [
    "# Zoo"
   ]
  },
  {
   "cell_type": "code",
   "execution_count": 3,
   "metadata": {
    "collapsed": false
   },
   "outputs": [
    {
     "name": "stdout",
     "output_type": "stream",
     "text": [
      "The number of drivers: 11060\n",
      "wleTripNumber:10.087851,14.370796\n",
      "wleOperatingHour:4.522120,7.318660\n",
      "wleFare:117.795732,179.119669\n",
      "wleProductivity:27.265030,7.453284\n",
      "locTripNumber:2.136721,3.701377\n",
      "locInNumber:0.929257,0.759988\n",
      "locOutNumber:1.207464,3.687725\n",
      "locQTime:154.598277,1039.732983\n",
      "locEP:-48.296515,410.618815\n",
      "locDuration:49.066484,88.192019\n",
      "locFare:33.311950,62.983439\n",
      "QTime/locTrip:42.625775,318.084587\n",
      "EP/locTrip:-10.978304,130.400517\n",
      "locProductivity:30.093226,9.342798\n",
      "locInRatio:0.644311,0.445238\n"
     ]
    }
   ],
   "source": [
    "from information_boards import statisticsAllDrivers_ns_dpath\n",
    "from information_boards import statisticsAllDriversYear_ns1517_prefix\n",
    "#\n",
    "df2009 = pd.read_csv('%s/%s2009.csv' % (statisticsAllDrivers_ns_dpath, statisticsAllDriversYear_ns1517_prefix))\n",
    "df2010 = pd.read_csv('%s/%s2010.csv' % (statisticsAllDrivers_ns_dpath, statisticsAllDriversYear_ns1517_prefix))\n",
    "df = pd.concat([df2009, df2010])\n",
    "#\n",
    "print 'The number of drivers: %d' % len(set(df['driverID']))\n",
    "for cn in df.columns:\n",
    "    if cn in ['year', 'driverID']:\n",
    "        continue\n",
    "    print '%s:%f,%f' % (cn, df[cn].mean(), df[cn].std())"
   ]
  },
  {
   "cell_type": "markdown",
   "metadata": {},
   "source": [
    "# Night Safari"
   ]
  },
  {
   "cell_type": "code",
   "execution_count": 4,
   "metadata": {
    "collapsed": false
   },
   "outputs": [
    {
     "name": "stdout",
     "output_type": "stream",
     "text": [
      "The number of drivers: 10809\n",
      "wleTripNumber:33.112891,58.068122\n",
      "wleOperatingHour:15.623223,28.615123\n",
      "wleFare:384.862487,688.228141\n",
      "wleProductivity:25.481581,5.004618\n",
      "locTripNumber:4.895221,9.143608\n",
      "locInNumber:0.922734,1.012519\n",
      "locOutNumber:3.972487,9.005909\n",
      "locQTime:238.663941,963.710821\n",
      "locEP:-78.833767,423.491302\n",
      "locDuration:107.877915,203.532401\n",
      "locFare:73.339534,139.110305\n",
      "QTime/locTrip:35.106387,159.113171\n",
      "EP/locTrip:-10.136525,75.164478\n",
      "locProductivity:23.457019,8.702028\n",
      "locInRatio:0.448735,0.447167\n"
     ]
    }
   ],
   "source": [
    "from information_boards import statisticsAllDrivers_ns_dpath\n",
    "from information_boards import statisticsAllDriversYear_ns2023_prefix\n",
    "#\n",
    "df2009 = pd.read_csv('%s/%s2009.csv' % (statisticsAllDrivers_ns_dpath, statisticsAllDriversYear_ns2023_prefix))\n",
    "df2010 = pd.read_csv('%s/%s2010.csv' % (statisticsAllDrivers_ns_dpath, statisticsAllDriversYear_ns2023_prefix))\n",
    "df = pd.concat([df2009, df2010])\n",
    "#\n",
    "print 'The number of drivers: %d' % len(set(df['driverID']))\n",
    "for cn in df.columns:\n",
    "    if cn in ['year', 'driverID']:\n",
    "        continue\n",
    "    print '%s:%f,%f' % (cn, df[cn].mean(), df[cn].std())"
   ]
  },
  {
   "cell_type": "code",
   "execution_count": null,
   "metadata": {
    "collapsed": true
   },
   "outputs": [],
   "source": []
  }
 ],
 "metadata": {
  "kernelspec": {
   "display_name": "Python 2",
   "language": "python",
   "name": "python2"
  },
  "language_info": {
   "codemirror_mode": {
    "name": "ipython",
    "version": 2
   },
   "file_extension": ".py",
   "mimetype": "text/x-python",
   "name": "python",
   "nbconvert_exporter": "python",
   "pygments_lexer": "ipython2",
   "version": "2.7.13"
  }
 },
 "nbformat": 4,
 "nbformat_minor": 2
}
