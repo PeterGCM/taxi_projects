{
 "cells": [
  {
   "cell_type": "code",
   "execution_count": 1,
   "metadata": {
    "collapsed": true
   },
   "outputs": [],
   "source": [
    "import __init__\n",
    "#\n",
    "import pandas as pd\n",
    "import numpy as np"
   ]
  },
  {
   "cell_type": "code",
   "execution_count": 2,
   "metadata": {
    "collapsed": true
   },
   "outputs": [],
   "source": [
    "from information_boards import trip_ap_summary_fpath\n",
    "df = pd.read_csv(trip_ap_summary_fpath)"
   ]
  },
  {
   "cell_type": "code",
   "execution_count": 3,
   "metadata": {
    "collapsed": false
   },
   "outputs": [
    {
     "data": {
      "text/html": [
       "<div>\n",
       "<table border=\"1\" class=\"dataframe\">\n",
       "  <thead>\n",
       "    <tr style=\"text-align: right;\">\n",
       "      <th></th>\n",
       "      <th>year</th>\n",
       "      <th>month</th>\n",
       "      <th>day</th>\n",
       "      <th>dayOfWeek</th>\n",
       "      <th>hour</th>\n",
       "      <th>pickUpTerminalAP</th>\n",
       "      <th>prevEndTerminalAP</th>\n",
       "      <th>totalNum</th>\n",
       "    </tr>\n",
       "  </thead>\n",
       "  <tbody>\n",
       "    <tr>\n",
       "      <th>0</th>\n",
       "      <td>2009</td>\n",
       "      <td>1</td>\n",
       "      <td>11</td>\n",
       "      <td>Sun</td>\n",
       "      <td>6</td>\n",
       "      <td>T2</td>\n",
       "      <td>T1</td>\n",
       "      <td>2</td>\n",
       "    </tr>\n",
       "    <tr>\n",
       "      <th>1</th>\n",
       "      <td>2009</td>\n",
       "      <td>1</td>\n",
       "      <td>9</td>\n",
       "      <td>Fri</td>\n",
       "      <td>10</td>\n",
       "      <td>T1</td>\n",
       "      <td>X</td>\n",
       "      <td>17</td>\n",
       "    </tr>\n",
       "    <tr>\n",
       "      <th>2</th>\n",
       "      <td>2009</td>\n",
       "      <td>1</td>\n",
       "      <td>13</td>\n",
       "      <td>Tue</td>\n",
       "      <td>22</td>\n",
       "      <td>T3</td>\n",
       "      <td>T1</td>\n",
       "      <td>11</td>\n",
       "    </tr>\n",
       "    <tr>\n",
       "      <th>3</th>\n",
       "      <td>2009</td>\n",
       "      <td>1</td>\n",
       "      <td>9</td>\n",
       "      <td>Fri</td>\n",
       "      <td>1</td>\n",
       "      <td>T3</td>\n",
       "      <td>T2</td>\n",
       "      <td>1</td>\n",
       "    </tr>\n",
       "    <tr>\n",
       "      <th>4</th>\n",
       "      <td>2009</td>\n",
       "      <td>1</td>\n",
       "      <td>22</td>\n",
       "      <td>Thu</td>\n",
       "      <td>8</td>\n",
       "      <td>BudgetT</td>\n",
       "      <td>X</td>\n",
       "      <td>1</td>\n",
       "    </tr>\n",
       "  </tbody>\n",
       "</table>\n",
       "</div>"
      ],
      "text/plain": [
       "   year  month  day dayOfWeek  hour pickUpTerminalAP prevEndTerminalAP  \\\n",
       "0  2009      1   11       Sun     6               T2                T1   \n",
       "1  2009      1    9       Fri    10               T1                 X   \n",
       "2  2009      1   13       Tue    22               T3                T1   \n",
       "3  2009      1    9       Fri     1               T3                T2   \n",
       "4  2009      1   22       Thu     8          BudgetT                 X   \n",
       "\n",
       "   totalNum  \n",
       "0         2  \n",
       "1        17  \n",
       "2        11  \n",
       "3         1  \n",
       "4         1  "
      ]
     },
     "execution_count": 3,
     "metadata": {},
     "output_type": "execute_result"
    }
   ],
   "source": [
    "df.head()"
   ]
  },
  {
   "cell_type": "code",
   "execution_count": 12,
   "metadata": {
    "collapsed": false
   },
   "outputs": [
    {
     "name": "stdout",
     "output_type": "stream",
     "text": [
      "['DropBudgetT', 'PickBudgetT', 40528],\n",
      "['DropBudgetT', 'PickT1', 9951],\n",
      "['DropBudgetT', 'PickT2', 11102],\n",
      "['DropBudgetT', 'PickT3', 6668],\n",
      "['DropBudgetT', 'PickX', 218263],\n",
      "['DropT1', 'PickBudgetT', 32166],\n",
      "['DropT1', 'PickT1', 85625],\n",
      "['DropT1', 'PickT2', 108144],\n",
      "['DropT1', 'PickT3', 30076],\n",
      "['DropT1', 'PickX', 684300],\n",
      "['DropT2', 'PickBudgetT', 36293],\n",
      "['DropT2', 'PickT1', 35234],\n",
      "['DropT2', 'PickT2', 150947],\n",
      "['DropT2', 'PickT3', 36970],\n",
      "['DropT2', 'PickX', 761446],\n",
      "['DropT3', 'PickBudgetT', 21744],\n",
      "['DropT3', 'PickT1', 53986],\n",
      "['DropT3', 'PickT2', 53556],\n",
      "['DropT3', 'PickT3', 85702],\n",
      "['DropT3', 'PickX', 550125],\n",
      "['DropX', 'PickBudgetT', 11],\n",
      "['DropX', 'PickT1', 13],\n",
      "['DropX', 'PickT2', 12],\n",
      "['DropX', 'PickT3', 12],\n",
      "['DropX', 'PickX', 18],\n"
     ]
    }
   ],
   "source": [
    "Y2009 = df[(df['year'] == 2009)]\n",
    "Y2009 = Y2009.groupby(['year', 'pickUpTerminalAP', 'prevEndTerminalAP']).sum()['totalNum'].reset_index()\n",
    "Y2009 = Y2009.sort_values(by=['prevEndTerminalAP', 'pickUpTerminalAP'])\n",
    "for prevEndTerminalAP, pickUpTerminalAP, totalNum in Y2009.loc[:,['prevEndTerminalAP', 'pickUpTerminalAP', 'totalNum']].values:\n",
    "    if prevEndTerminalAP == 'X':\n",
    "        print \"['Drop%s', 'Pick%s', %d],\" % (prevEndTerminalAP, pickUpTerminalAP, np.log(totalNum))\n",
    "    else:\n",
    "        print \"['Drop%s', 'Pick%s', %d],\" % (prevEndTerminalAP, pickUpTerminalAP, totalNum)"
   ]
  },
  {
   "cell_type": "code",
   "execution_count": 13,
   "metadata": {
    "collapsed": false
   },
   "outputs": [
    {
     "name": "stdout",
     "output_type": "stream",
     "text": [
      "['DropBudgetT', 'PickBudgetT', 56721],\n",
      "['DropBudgetT', 'PickT1', 20314],\n",
      "['DropBudgetT', 'PickT2', 17696],\n",
      "['DropBudgetT', 'PickT3', 13603],\n",
      "['DropBudgetT', 'PickX', 238938],\n",
      "['DropT1', 'PickBudgetT', 44310],\n",
      "['DropT1', 'PickT1', 143148],\n",
      "['DropT1', 'PickT2', 145580],\n",
      "['DropT1', 'PickT3', 50306],\n",
      "['DropT1', 'PickX', 766128],\n",
      "['DropT2', 'PickBudgetT', 48076],\n",
      "['DropT2', 'PickT1', 54530],\n",
      "['DropT2', 'PickT2', 195246],\n",
      "['DropT2', 'PickT3', 59151],\n",
      "['DropT2', 'PickX', 776591],\n",
      "['DropT3', 'PickBudgetT', 28963],\n",
      "['DropT3', 'PickT1', 88354],\n",
      "['DropT3', 'PickT2', 74787],\n",
      "['DropT3', 'PickT3', 117582],\n",
      "['DropT3', 'PickX', 571779],\n",
      "['DropX', 'PickBudgetT', 11],\n",
      "['DropX', 'PickT1', 13],\n",
      "['DropX', 'PickT2', 12],\n",
      "['DropX', 'PickT3', 12],\n",
      "['DropX', 'PickX', 18],\n"
     ]
    }
   ],
   "source": [
    "Y2010 = df[(df['year'] == 2010)]\n",
    "Y2010 = Y2010.groupby(['year', 'pickUpTerminalAP', 'prevEndTerminalAP']).sum()['totalNum'].reset_index()\n",
    "Y2010 = Y2010.sort_values(by=['prevEndTerminalAP', 'pickUpTerminalAP'])\n",
    "for prevEndTerminalAP, pickUpTerminalAP, totalNum in Y2010.loc[:,['prevEndTerminalAP', 'pickUpTerminalAP', 'totalNum']].values:\n",
    "    if prevEndTerminalAP == 'X':\n",
    "        print \"['Drop%s', 'Pick%s', %d],\" % (prevEndTerminalAP, pickUpTerminalAP, np.log(totalNum))\n",
    "    else:\n",
    "        print \"['Drop%s', 'Pick%s', %d],\" % (prevEndTerminalAP, pickUpTerminalAP, totalNum)"
   ]
  },
  {
   "cell_type": "markdown",
   "metadata": {},
   "source": [
    "# Percentile"
   ]
  },
  {
   "cell_type": "code",
   "execution_count": 14,
   "metadata": {
    "collapsed": true
   },
   "outputs": [],
   "source": [
    "Ydf = Y2009\n",
    "pickUpAP2009, pickUpX2009 = {}, {}\n",
    "for prevEndTerminalAP, pickUpTerminalAP, totalNum in Ydf.loc[:,['prevEndTerminalAP', 'pickUpTerminalAP', 'totalNum']].values:\n",
    "    if prevEndTerminalAP == 'X':\n",
    "        pickUpX2009[pickUpTerminalAP] = totalNum\n",
    "    else:\n",
    "        pickUpAP2009[pickUpTerminalAP] = totalNum\n",
    "#\n",
    "Ydf = Y2010\n",
    "pickUpAP2010, pickUpX2010 = {}, {}\n",
    "for prevEndTerminalAP, pickUpTerminalAP, totalNum in Ydf.loc[:,['prevEndTerminalAP', 'pickUpTerminalAP', 'totalNum']].values:\n",
    "    if prevEndTerminalAP == 'X':\n",
    "        pickUpX2010[pickUpTerminalAP] = totalNum\n",
    "    else:\n",
    "        pickUpAP2010[pickUpTerminalAP] = totalNum"
   ]
  },
  {
   "cell_type": "code",
   "execution_count": 20,
   "metadata": {
    "collapsed": false
   },
   "outputs": [
    {
     "name": "stdout",
     "output_type": "stream",
     "text": [
      "Drop AP\n",
      "\t Year 2009\n",
      "\t\t PickX 0.72\n",
      "\t\t PickBudgetT 0.03\n",
      "\t\t PickT2 0.07\n",
      "\t\t PickT3 0.11\n",
      "\t\t PickT1 0.07\n",
      "\t Year 2010\n",
      "\t\t PickX 0.65\n",
      "\t\t PickBudgetT 0.03\n",
      "\t\t PickT2 0.08\n",
      "\t\t PickT3 0.13\n",
      "\t\t PickT1 0.10\n",
      "Drop X (other areas)\n",
      "\t Year 2009\n",
      "\t\t PickX 0.9893\n",
      "\t\t PickBudgetT 0.0008\n",
      "\t\t PickT2 0.0033\n",
      "\t\t PickT3 0.0024\n",
      "\t\t PickT1 0.0043\n",
      "\t Year 2010\n",
      "\t\t PickX 0.9887\n",
      "\t\t PickBudgetT 0.0009\n",
      "\t\t PickT2 0.0033\n",
      "\t\t PickT3 0.0026\n",
      "\t\t PickT1 0.0045\n"
     ]
    }
   ],
   "source": [
    "print 'Drop AP'\n",
    "print '\\t Year 2009'\n",
    "for pickUpLoc, num in pickUpAP2009.iteritems():\n",
    "    print '\\t\\t Pick%s %.2f' % (pickUpLoc, num/float(sum(pickUpAP2009.values())))\n",
    "print '\\t Year 2010'\n",
    "for pickUpLoc, num in pickUpAP2010.iteritems():\n",
    "    print '\\t\\t Pick%s %.2f' % (pickUpLoc, num/float(sum(pickUpAP2010.values())))\n",
    "#\n",
    "print 'Drop X (other areas)'\n",
    "    \n",
    "print '\\t Year 2009'\n",
    "for pickUpLoc, num in pickUpX2009.iteritems():\n",
    "    print '\\t\\t Pick%s %.4f' % (pickUpLoc, num/float(sum(pickUpX2009.values())))\n",
    "print '\\t Year 2010'\n",
    "for pickUpLoc, num in pickUpX2010.iteritems():\n",
    "    print '\\t\\t Pick%s %.4f' % (pickUpLoc, num/float(sum(pickUpX2010.values())))"
   ]
  },
  {
   "cell_type": "code",
   "execution_count": null,
   "metadata": {
    "collapsed": true
   },
   "outputs": [],
   "source": []
  }
 ],
 "metadata": {
  "kernelspec": {
   "display_name": "Python 2",
   "language": "python",
   "name": "python2"
  },
  "language_info": {
   "codemirror_mode": {
    "name": "ipython",
    "version": 2
   },
   "file_extension": ".py",
   "mimetype": "text/x-python",
   "name": "python",
   "nbconvert_exporter": "python",
   "pygments_lexer": "ipython2",
   "version": "2.7.13"
  }
 },
 "nbformat": 4,
 "nbformat_minor": 2
}
