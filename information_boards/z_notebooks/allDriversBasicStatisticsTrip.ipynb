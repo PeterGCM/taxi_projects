{
 "cells": [
  {
   "cell_type": "code",
   "execution_count": 1,
   "metadata": {
    "collapsed": true
   },
   "outputs": [],
   "source": [
    "import __init__\n",
    "#\n",
    "from IPython.display import HTML, display\n",
    "import pandas as pd\n",
    "import numpy as np"
   ]
  },
  {
   "cell_type": "markdown",
   "metadata": {},
   "source": [
    "# Airport"
   ]
  },
  {
   "cell_type": "code",
   "execution_count": 10,
   "metadata": {
    "collapsed": false
   },
   "outputs": [
    {
     "name": "stdout",
     "output_type": "stream",
     "text": [
      "The number of drivers: 34384\n",
      "locQTime:33.894332,23.542651\n",
      "locEP:-1.597165,9.731648\n",
      "locDuration:21.459952,7.952188\n",
      "locFare:20.599924,6.567624\n",
      "locProductivity:25.485615,10.773771\n",
      "locIn:0.423450,0.494105\n",
      "weekEnd:0.322216,0.467325\n"
     ]
    }
   ],
   "source": [
    "from information_boards import statisticsAllDrivers_ap_dpath\n",
    "from information_boards import statisticsAllDriversTrip_ap_prefix\n",
    "#\n",
    "df2009 = pd.read_csv('%s/Filtered-%s2009.csv' % (statisticsAllDrivers_ap_dpath, statisticsAllDriversTrip_ap_prefix))\n",
    "df2010 = pd.read_csv('%s/Filtered-%s2010.csv' % (statisticsAllDrivers_ap_dpath, statisticsAllDriversTrip_ap_prefix))\n",
    "df = pd.concat([df2009, df2010])\n",
    "#\n",
    "print 'The number of drivers: %d' % len(set(df['driverID']))\n",
    "for cn in df.columns:\n",
    "    if cn in ['year', 'month', 'day', 'hour', 'driverID']:\n",
    "        continue\n",
    "    print '%s:%f,%f' % (cn, df[cn].mean(), df[cn].std())"
   ]
  },
  {
   "cell_type": "markdown",
   "metadata": {},
   "source": [
    "# Zoo"
   ]
  },
  {
   "cell_type": "code",
   "execution_count": 12,
   "metadata": {
    "collapsed": false
   },
   "outputs": [
    {
     "name": "stdout",
     "output_type": "stream",
     "text": [
      "The number of drivers: 11160\n",
      "locQTime:75.590934,527.245483\n",
      "locEP:-23.840820,214.308058\n",
      "locDuration:22.970389,8.326430\n",
      "locFare:15.591954,5.728305\n",
      "locProductivity:29.701513,9.899401\n",
      "locIn:0.435854,0.495877\n",
      "weekEnd:0.482481,0.499701\n"
     ]
    }
   ],
   "source": [
    "from information_boards import statisticsAllDrivers_ns_dpath\n",
    "from information_boards import statisticsAllDriversTrip_ns1517_prefix\n",
    "#\n",
    "df2009 = pd.read_csv('%s/Filtered-%s2009.csv' % (statisticsAllDrivers_ns_dpath, statisticsAllDriversTrip_ns1517_prefix))\n",
    "df2010 = pd.read_csv('%s/Filtered-%s2010.csv' % (statisticsAllDrivers_ns_dpath, statisticsAllDriversTrip_ns1517_prefix))\n",
    "df = pd.concat([df2009, df2010])\n",
    "#\n",
    "print 'The number of drivers: %d' % len(set(df['driverID']))\n",
    "for cn in df.columns:\n",
    "    if cn in ['year', 'month', 'day', 'hour', 'driverID']:\n",
    "        continue\n",
    "    print '%s:%f,%f' % (cn, df[cn].mean(), df[cn].std())"
   ]
  },
  {
   "cell_type": "markdown",
   "metadata": {},
   "source": [
    "# Night Safari"
   ]
  },
  {
   "cell_type": "code",
   "execution_count": 13,
   "metadata": {
    "collapsed": false
   },
   "outputs": [
    {
     "name": "stdout",
     "output_type": "stream",
     "text": [
      "The number of drivers: 10893\n",
      "locQTime:50.189876,327.198903\n",
      "locEP:-16.739866,153.381398\n",
      "locDuration:22.040110,6.528079\n",
      "locFare:14.982020,4.220875\n",
      "locProductivity:24.333148,9.344503\n",
      "locIn:0.189168,0.391645\n",
      "weekEnd:0.355303,0.478608\n"
     ]
    }
   ],
   "source": [
    "from information_boards import statisticsAllDrivers_ns_dpath\n",
    "from information_boards import statisticsAllDriversTrip_ns2023_prefix\n",
    "#\n",
    "df2009 = pd.read_csv('%s/Filtered-%s2009.csv' % (statisticsAllDrivers_ns_dpath, statisticsAllDriversTrip_ns2023_prefix))\n",
    "df2010 = pd.read_csv('%s/Filtered-%s2010.csv' % (statisticsAllDrivers_ns_dpath, statisticsAllDriversTrip_ns2023_prefix))\n",
    "df = pd.concat([df2009, df2010])\n",
    "#\n",
    "print 'The number of drivers: %d' % len(set(df['driverID']))\n",
    "for cn in df.columns:\n",
    "    if cn in ['year', 'month', 'day', 'hour', 'driverID']:\n",
    "        continue\n",
    "    print '%s:%f,%f' % (cn, df[cn].mean(), df[cn].std())"
   ]
  }
 ],
 "metadata": {
  "kernelspec": {
   "display_name": "Python 2",
   "language": "python",
   "name": "python2"
  },
  "language_info": {
   "codemirror_mode": {
    "name": "ipython",
    "version": 2
   },
   "file_extension": ".py",
   "mimetype": "text/x-python",
   "name": "python",
   "nbconvert_exporter": "python",
   "pygments_lexer": "ipython2",
   "version": "2.7.13"
  }
 },
 "nbformat": 4,
 "nbformat_minor": 2
}
