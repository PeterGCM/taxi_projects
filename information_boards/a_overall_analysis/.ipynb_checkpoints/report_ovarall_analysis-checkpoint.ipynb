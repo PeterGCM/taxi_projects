{
 "cells": [
  {
   "cell_type": "code",
   "execution_count": 3,
   "metadata": {
    "collapsed": false
   },
   "outputs": [],
   "source": [
    "import __init__\n",
    "#\n",
    "from information_boards import DIn_PIn, DIn_POut, DOut_PIn, DOut_POut\n",
    "from information_boards import CENT, SEC60\n",
    "from information_boards import charts_dir\n",
    "#\n",
    "from taxi_common.file_handling_functions import check_dir_create\n",
    "from taxi_common.charts import simple_barchart\n",
    "#\n",
    "import pandas as pd"
   ]
  },
  {
   "cell_type": "markdown",
   "metadata": {},
   "source": [
    "# Overall analysis\n",
    "In this analysis, regardless of years, some basic statistics about fare and duration are calculated."
   ]
  },
  {
   "cell_type": "markdown",
   "metadata": {},
   "source": [
    "## Airport trip analysis"
   ]
  },
  {
   "cell_type": "markdown",
   "metadata": {},
   "source": [
    "### Data loading and specification"
   ]
  },
  {
   "cell_type": "code",
   "execution_count": 5,
   "metadata": {
    "collapsed": false
   },
   "outputs": [
    {
     "data": {
      "text/html": [
       "<div>\n",
       "<table border=\"1\" class=\"dataframe\">\n",
       "  <thead>\n",
       "    <tr style=\"text-align: right;\">\n",
       "      <th></th>\n",
       "      <th>yy</th>\n",
       "      <th>mm</th>\n",
       "      <th>dd</th>\n",
       "      <th>hh</th>\n",
       "      <th>day-of-week</th>\n",
       "      <th>total-num</th>\n",
       "      <th>total-dur</th>\n",
       "      <th>total-fare</th>\n",
       "      <th>trip-mode</th>\n",
       "    </tr>\n",
       "  </thead>\n",
       "  <tbody>\n",
       "    <tr>\n",
       "      <th>0</th>\n",
       "      <td>9</td>\n",
       "      <td>1</td>\n",
       "      <td>1</td>\n",
       "      <td>0</td>\n",
       "      <td>Thu</td>\n",
       "      <td>10</td>\n",
       "      <td>10560</td>\n",
       "      <td>18730</td>\n",
       "      <td>0</td>\n",
       "    </tr>\n",
       "    <tr>\n",
       "      <th>1</th>\n",
       "      <td>9</td>\n",
       "      <td>1</td>\n",
       "      <td>1</td>\n",
       "      <td>0</td>\n",
       "      <td>Thu</td>\n",
       "      <td>25</td>\n",
       "      <td>20460</td>\n",
       "      <td>35389</td>\n",
       "      <td>1</td>\n",
       "    </tr>\n",
       "    <tr>\n",
       "      <th>2</th>\n",
       "      <td>9</td>\n",
       "      <td>1</td>\n",
       "      <td>1</td>\n",
       "      <td>0</td>\n",
       "      <td>Thu</td>\n",
       "      <td>335</td>\n",
       "      <td>410640</td>\n",
       "      <td>847700</td>\n",
       "      <td>2</td>\n",
       "    </tr>\n",
       "    <tr>\n",
       "      <th>3</th>\n",
       "      <td>9</td>\n",
       "      <td>1</td>\n",
       "      <td>1</td>\n",
       "      <td>0</td>\n",
       "      <td>Thu</td>\n",
       "      <td>20139</td>\n",
       "      <td>18249900</td>\n",
       "      <td>28976656</td>\n",
       "      <td>3</td>\n",
       "    </tr>\n",
       "    <tr>\n",
       "      <th>4</th>\n",
       "      <td>9</td>\n",
       "      <td>1</td>\n",
       "      <td>1</td>\n",
       "      <td>1</td>\n",
       "      <td>Thu</td>\n",
       "      <td>43</td>\n",
       "      <td>46800</td>\n",
       "      <td>101045</td>\n",
       "      <td>0</td>\n",
       "    </tr>\n",
       "  </tbody>\n",
       "</table>\n",
       "</div>"
      ],
      "text/plain": [
       "   yy  mm  dd  hh day-of-week  total-num  total-dur  total-fare  trip-mode\n",
       "0   9   1   1   0         Thu         10      10560       18730          0\n",
       "1   9   1   1   0         Thu         25      20460       35389          1\n",
       "2   9   1   1   0         Thu        335     410640      847700          2\n",
       "3   9   1   1   0         Thu      20139   18249900    28976656          3\n",
       "4   9   1   1   1         Thu         43      46800      101045          0"
      ]
     },
     "execution_count": 5,
     "metadata": {},
     "output_type": "execute_result"
    }
   ],
   "source": [
    "from information_boards.a_overall_analysis import ap_tm_num_dur_fare_fpath\n",
    "df = pd.read_csv(ap_tm_num_dur_fare_fpath)\n",
    "df.head()"
   ]
  },
  {
   "cell_type": "markdown",
   "metadata": {},
   "source": [
    "## Average fare and duration per trip"
   ]
  },
  {
   "cell_type": "markdown",
   "metadata": {},
   "source": [
    "* Airport trips vs. General trips"
   ]
  },
  {
   "cell_type": "markdown",
   "metadata": {},
   "source": [
    "    * Average fare per trip"
   ]
  },
  {
   "cell_type": "markdown",
   "metadata": {},
   "source": [
    "    * Average duration per trip"
   ]
  },
  {
   "cell_type": "markdown",
   "metadata": {},
   "source": [
    "# Night safari trip analysis"
   ]
  },
  {
   "cell_type": "code",
   "execution_count": null,
   "metadata": {
    "collapsed": true
   },
   "outputs": [],
   "source": [
    "from information_boards.a_overall_analysis import ns_tm_num_dur_fare_fpath"
   ]
  },
  {
   "cell_type": "code",
   "execution_count": null,
   "metadata": {
    "collapsed": true
   },
   "outputs": [],
   "source": []
  }
 ],
 "metadata": {
  "kernelspec": {
   "display_name": "Python 2",
   "language": "python",
   "name": "python2"
  },
  "language_info": {
   "codemirror_mode": {
    "name": "ipython",
    "version": 2
   },
   "file_extension": ".py",
   "mimetype": "text/x-python",
   "name": "python",
   "nbconvert_exporter": "python",
   "pygments_lexer": "ipython2",
   "version": "2.7.12"
  }
 },
 "nbformat": 4,
 "nbformat_minor": 0
}
