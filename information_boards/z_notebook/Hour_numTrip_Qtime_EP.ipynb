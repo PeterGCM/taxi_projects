{
 "cells": [
  {
   "cell_type": "code",
   "execution_count": 1,
   "metadata": {
    "collapsed": true
   },
   "outputs": [],
   "source": [
    "import __init__\n",
    "#\n",
    "from IPython.display import HTML, display\n",
    "import pandas as pd"
   ]
  },
  {
   "cell_type": "markdown",
   "metadata": {},
   "source": [
    "# Airport"
   ]
  },
  {
   "cell_type": "code",
   "execution_count": 12,
   "metadata": {
    "collapsed": false
   },
   "outputs": [
    {
     "name": "stdout",
     "output_type": "stream",
     "text": [
      "0,14338,17868,41.7402647975,30.6399279904,0.568516343062,2.77416519875\n",
      "1,8673,11696,39.2462143049,33.0625057,5.14744642911,5.08792562779\n",
      "6,9800,10560,39.9392363946,35.0018939394,0.455831862314,1.07929600542\n",
      "7,8901,11708,45.4533292139,35.3888196105,-3.93188521298,-2.17914500525\n",
      "8,6627,10190,49.8939741462,38.3952175335,-9.99279384854,-7.14259329261\n",
      "9,5435,7000,58.0238699785,35.9891095238,-16.1187732202,-8.20472886287\n",
      "10,5295,5480,44.5044822159,36.4828345499,-6.23524319965,-4.65598450768\n",
      "11,6108,6155,43.5879011133,45.9913566206,-4.56765941107,-7.85011677886\n",
      "12,7945,10632,38.991071953,30.3859371081,-4.21828778385,-2.30291046586\n",
      "13,9136,10211,32.4816805312,22.1985962851,-1.84341967851,1.16131708232\n",
      "14,10156,10532,29.2410643954,28.5146774908,-0.791144151767,-1.85070951451\n",
      "15,10255,12270,29.4999821225,29.1084474328,-0.271631515904,-1.27598336192\n",
      "16,9163,13569,32.1341991342,21.7098668534,-1.36923164113,1.75123602779\n",
      "17,12681,13406,38.6971729359,32.4975545776,-1.52170726043,-0.451812036561\n",
      "18,14385,13723,33.1288749855,34.1592010979,-0.812222622981,-2.8291414144\n",
      "19,11350,13321,37.4818135095,35.435342692,-4.72408431408,-5.79256346212\n",
      "20,16061,15700,27.5961749995,23.2794872611,-1.5850292882,-1.26373716509\n",
      "21,13495,15164,32.5297245894,26.2100270377,-2.70502402212,-1.90895578018\n",
      "22,21272,22571,29.6210581986,22.8336427274,-1.93071992907,-0.44993701376\n",
      "23,17497,20951,24.2952820484,18.5059376641,2.53347234471,3.2985109439\n"
     ]
    }
   ],
   "source": [
    "from information_boards import statisticsAllDrivers_ap_dpath\n",
    "from information_boards import statisticsAllDriversTrip_ap_prefix\n",
    "#\n",
    "df2009 = pd.read_csv('%s/Filtered-%s2009.csv' % (statisticsAllDrivers_ap_dpath, statisticsAllDriversTrip_ap_prefix))\n",
    "df2010 = pd.read_csv('%s/Filtered-%s2010.csv' % (statisticsAllDrivers_ap_dpath, statisticsAllDriversTrip_ap_prefix))\n",
    "#\n",
    "Nov2009 = df2009[(df2009['month'] == 11)]\n",
    "Nov2010 = df2010[(df2010['month'] == 11)]\n",
    "#\n",
    "hours = Nov2009.groupby(['hour']).count()['locQTime'].index.tolist()\n",
    "NumTrip2009 = Nov2009.groupby(['hour']).count()['locQTime'].values.tolist()\n",
    "NumTrip2010 = Nov2010.groupby(['hour']).count()['locQTime'].values.tolist()\n",
    "QTime2009 = Nov2009.groupby(['hour']).mean()['locQTime'].values.tolist()\n",
    "QTime2010 = Nov2010.groupby(['hour']).mean()['locQTime'].values.tolist()\n",
    "EP2009 = Nov2009.groupby(['hour']).mean()['locEP'].values.tolist()\n",
    "EP2010 = Nov2010.groupby(['hour']).mean()['locEP'].values.tolist()\n",
    "#\n",
    "for x in zip(hours, NumTrip2009, NumTrip2010, QTime2009, QTime2010, EP2009, EP2010):\n",
    "    print ','.join(map(str, x))"
   ]
  },
  {
   "cell_type": "markdown",
   "metadata": {},
   "source": [
    "# Zoo"
   ]
  },
  {
   "cell_type": "code",
   "execution_count": 14,
   "metadata": {
    "collapsed": false
   },
   "outputs": [
    {
     "name": "stdout",
     "output_type": "stream",
     "text": [
      "15,447,484,72.6162938106,128.820041322,-20.9416657882,-46.5545972527\n",
      "16,386,301,63.7045768566,223.287541528,-18.4206837546,-92.3474482285\n",
      "17,371,403,100.767115903,113.97770885,-34.5257175514,-43.0852046211\n"
     ]
    }
   ],
   "source": [
    "from information_boards import statisticsAllDrivers_ns_dpath\n",
    "from information_boards import statisticsAllDriversTrip_ns1517_prefix\n",
    "#\n",
    "df2009 = pd.read_csv('%s/Filtered-%s2009.csv' % (statisticsAllDrivers_ns_dpath, statisticsAllDriversTrip_ns1517_prefix))\n",
    "df2010 = pd.read_csv('%s/Filtered-%s2010.csv' % (statisticsAllDrivers_ns_dpath, statisticsAllDriversTrip_ns1517_prefix))\n",
    "#\n",
    "Nov2009 = df2009[(df2009['month'] == 11)]\n",
    "Nov2010 = df2010[(df2010['month'] == 11)]\n",
    "#\n",
    "hours = Nov2009.groupby(['hour']).count()['locQTime'].index.tolist()\n",
    "NumTrip2009 = Nov2009.groupby(['hour']).count()['locQTime'].values.tolist()\n",
    "NumTrip2010 = Nov2010.groupby(['hour']).count()['locQTime'].values.tolist()\n",
    "QTime2009 = Nov2009.groupby(['hour']).mean()['locQTime'].values.tolist()\n",
    "QTime2010 = Nov2010.groupby(['hour']).mean()['locQTime'].values.tolist()\n",
    "EP2009 = Nov2009.groupby(['hour']).mean()['locEP'].values.tolist()\n",
    "EP2010 = Nov2010.groupby(['hour']).mean()['locEP'].values.tolist()\n",
    "#\n",
    "for x in zip(hours, NumTrip2009, NumTrip2010, QTime2009, QTime2010, EP2009, EP2010):\n",
    "    print ','.join(map(str, x))"
   ]
  },
  {
   "cell_type": "markdown",
   "metadata": {},
   "source": [
    "# Night Safari"
   ]
  },
  {
   "cell_type": "code",
   "execution_count": 15,
   "metadata": {
    "collapsed": false
   },
   "outputs": [
    {
     "name": "stdout",
     "output_type": "stream",
     "text": [
      "20,373,415,39.3841376229,35.3197590361,-11.2764895317,-11.8814038698\n",
      "21,726,820,36.1484848485,59.5718292683,-8.82683196056,-21.2381733949\n",
      "22,816,912,38.1990604575,137.612317251,-11.1217347742,-75.2161425445\n",
      "23,623,751,48.9714018192,70.6861739903,-14.0558988091,-29.6296427393\n"
     ]
    }
   ],
   "source": [
    "from information_boards import statisticsAllDrivers_ns_dpath\n",
    "from information_boards import statisticsAllDriversTrip_ns2023_prefix\n",
    "#\n",
    "df2009 = pd.read_csv('%s/Filtered-%s2009.csv' % (statisticsAllDrivers_ns_dpath, statisticsAllDriversTrip_ns2023_prefix))\n",
    "df2010 = pd.read_csv('%s/Filtered-%s2010.csv' % (statisticsAllDrivers_ns_dpath, statisticsAllDriversTrip_ns2023_prefix))\n",
    "#\n",
    "Nov2009 = df2009[(df2009['month'] == 11)]\n",
    "Nov2010 = df2010[(df2010['month'] == 11)]\n",
    "#\n",
    "hours = Nov2009.groupby(['hour']).count()['locQTime'].index.tolist()\n",
    "NumTrip2009 = Nov2009.groupby(['hour']).count()['locQTime'].values.tolist()\n",
    "NumTrip2010 = Nov2010.groupby(['hour']).count()['locQTime'].values.tolist()\n",
    "QTime2009 = Nov2009.groupby(['hour']).mean()['locQTime'].values.tolist()\n",
    "QTime2010 = Nov2010.groupby(['hour']).mean()['locQTime'].values.tolist()\n",
    "EP2009 = Nov2009.groupby(['hour']).mean()['locEP'].values.tolist()\n",
    "EP2010 = Nov2010.groupby(['hour']).mean()['locEP'].values.tolist()\n",
    "#\n",
    "for x in zip(hours, NumTrip2009, NumTrip2010, QTime2009, QTime2010, EP2009, EP2010):\n",
    "    print ','.join(map(str, x))"
   ]
  },
  {
   "cell_type": "code",
   "execution_count": null,
   "metadata": {
    "collapsed": true
   },
   "outputs": [],
   "source": []
  }
 ],
 "metadata": {
  "kernelspec": {
   "display_name": "Python 2",
   "language": "python",
   "name": "python2"
  },
  "language_info": {
   "codemirror_mode": {
    "name": "ipython",
    "version": 2
   },
   "file_extension": ".py",
   "mimetype": "text/x-python",
   "name": "python",
   "nbconvert_exporter": "python",
   "pygments_lexer": "ipython2",
   "version": "2.7.13"
  }
 },
 "nbformat": 4,
 "nbformat_minor": 2
}
