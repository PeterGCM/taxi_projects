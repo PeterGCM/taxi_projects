{
 "cells": [
  {
   "cell_type": "code",
   "execution_count": 1,
   "metadata": {
    "collapsed": true
   },
   "outputs": [],
   "source": [
    "import __init__\n",
    "#\n",
    "from IPython.display import HTML, display\n",
    "import pandas as pd\n",
    "import numpy as np\n",
    "import statsmodels.api as sm"
   ]
  },
  {
   "cell_type": "code",
   "execution_count": 2,
   "metadata": {
    "collapsed": true
   },
   "outputs": [],
   "source": [
    "def significance(pvalue):\n",
    "    if pvalue < 0.01:\n",
    "        num_stars = 3\n",
    "    elif pvalue < 0.05:\n",
    "        num_stars = 2\n",
    "    elif pvalue < 0.1:\n",
    "        num_stars = 1\n",
    "    else:\n",
    "        num_stars = 0    \n",
    "    return '*' * num_stars"
   ]
  },
  {
   "cell_type": "code",
   "execution_count": 3,
   "metadata": {
    "collapsed": true
   },
   "outputs": [],
   "source": [
    "def display_res(Y2009, Y2010, inDepV):\n",
    "    results = []\n",
    "    for df in [Y2009, Y2010]:\n",
    "        y = df[dep_v]\n",
    "        X = df[inDepV]\n",
    "        X = sm.add_constant(X)\n",
    "        results.append(sm.OLS(y, X, missing='drop').fit())\n",
    "    res2009, res2010 = results\n",
    "    for idv in inDepV + ['const']:\n",
    "        coef2009 = '%.4f' % res2009.params[idv] + significance(res2009.pvalues[idv])\n",
    "        coef2010 = '%.4f' % res2010.params[idv] + significance(res2010.pvalues[idv])\n",
    "        print '%s:' % idv + ','.join([coef2009, coef2010])\n",
    "        ste2009 = res2009.params[idv] / res2009.tvalues[idv]\n",
    "        ste2010 = res2010.params[idv] / res2010.tvalues[idv]\n",
    "        print '(%.4f),(%.4f)' % (ste2009, ste2010)\n",
    "    print\n",
    "\n",
    "    fvalue2009 = '%.4f' % res2009.fvalue + significance(res2009.f_pvalue)\n",
    "    fvalue2010 = '%.4f' % res2010.fvalue + significance(res2010.f_pvalue)\n",
    "    print 'N:%d,%d' % (res2009.nobs, res2010.nobs)\n",
    "    print 'R-squared:%.4f,%.4f' % (res2009.rsquared, res2010.rsquared)\n",
    "    print 'Adj R-squared:%.4f,%.4f' % (res2009.rsquared_adj, res2010.rsquared_adj)\n",
    "    print 'F-statistics:%s,%s' % (fvalue2009, fvalue2010)"
   ]
  },
  {
   "cell_type": "code",
   "execution_count": 5,
   "metadata": {
    "collapsed": false
   },
   "outputs": [
    {
     "name": "stdout",
     "output_type": "stream",
     "text": [
      "6492 7361\n"
     ]
    }
   ],
   "source": [
    "from information_boards import statisticsAllDrivers_ns_dpath\n",
    "from information_boards import statisticsAllDriversMonth_ns1517_prefix\n",
    "Y2009 = pd.read_csv('%s/%s2009.csv' % (statisticsAllDrivers_ns_dpath, statisticsAllDriversMonth_ns1517_prefix))\n",
    "Y2010 = pd.read_csv('%s/%s2010.csv' % (statisticsAllDrivers_ns_dpath, statisticsAllDriversMonth_ns1517_prefix))\n",
    "print len(set(Y2009['driverID'])), len(set(Y2010['driverID']))"
   ]
  },
  {
   "cell_type": "code",
   "execution_count": 6,
   "metadata": {
    "collapsed": true
   },
   "outputs": [],
   "source": [
    "# Models\n",
    "dep_v = 'QTime/locTrip'\n",
    "ib_impact = ['locInRatio']\n",
    "cv0 = ['wleTripNumber', 'locTripNumber', 'wleProductivity']\n",
    "cv1 = cv0 + ['EP/locTrip']\n",
    "cv2 = cv0 + ['locProductivity']\n",
    "cv3 = cv0 + ['EP/locTrip', 'locProductivity']\n",
    "m1_inDepV = ib_impact\n",
    "m2a_inDepV = ib_impact + cv0\n",
    "m2b_inDepV = ib_impact + cv1\n",
    "m2c_inDepV = ib_impact + cv2\n",
    "m2d_inDepV = ib_impact + cv3"
   ]
  },
  {
   "cell_type": "code",
   "execution_count": 7,
   "metadata": {
    "collapsed": false
   },
   "outputs": [
    {
     "name": "stdout",
     "output_type": "stream",
     "text": [
      "CPU times: user 2 µs, sys: 1e+03 ns, total: 3 µs\n",
      "Wall time: 5.01 µs\n",
      "\n",
      "locInRatio:-76.3637***,-135.8951***\n",
      "(6.8238),(8.6328)\n",
      "const:86.1902***,141.7538***\n",
      "(4.7206),(6.4269)\n",
      "\n",
      "N:11098,11766\n",
      "R-squared:0.0112,0.0206\n",
      "Adj R-squared:0.0111,0.0205\n",
      "F-statistics:125.2347***,247.8015***\n"
     ]
    }
   ],
   "source": [
    "%time\n",
    "print ''\n",
    "# M1\n",
    "display_res(Y2009, Y2010, m1_inDepV)"
   ]
  },
  {
   "cell_type": "code",
   "execution_count": 8,
   "metadata": {
    "collapsed": false
   },
   "outputs": [
    {
     "name": "stdout",
     "output_type": "stream",
     "text": [
      "CPU times: user 2 µs, sys: 1e+03 ns, total: 3 µs\n",
      "Wall time: 5.01 µs\n",
      "\n",
      "locInRatio:-79.4859***,-138.1359***\n",
      "(7.1849),(9.0469)\n",
      "wleTripNumber:0.3940,-0.1515\n",
      "(1.2367),(1.4423)\n",
      "locTripNumber:5.3165,9.4939\n",
      "(5.5170),(6.2600)\n",
      "wleProductivity:2.0065***,2.6264***\n",
      "(0.4772),(0.5548)\n",
      "const:27.3182**,58.3679***\n",
      "(13.5469),(17.2146)\n",
      "\n",
      "N:11098,11766\n",
      "R-squared:0.0131,0.0229\n",
      "Adj R-squared:0.0128,0.0226\n",
      "F-statistics:36.9308***,68.8984***\n"
     ]
    }
   ],
   "source": [
    "%time\n",
    "print ''\n",
    "# M2a\n",
    "display_res(Y2009, Y2010, m2a_inDepV)"
   ]
  },
  {
   "cell_type": "code",
   "execution_count": 9,
   "metadata": {
    "collapsed": false
   },
   "outputs": [
    {
     "name": "stdout",
     "output_type": "stream",
     "text": [
      "CPU times: user 2 µs, sys: 1 µs, total: 3 µs\n",
      "Wall time: 5.01 µs\n",
      "\n",
      "locInRatio:-3.9749***,-2.9592***\n",
      "(0.8245),(0.7399)\n",
      "wleTripNumber:-0.3055**,-0.0412\n",
      "(0.1412),(0.1169)\n",
      "locTripNumber:2.2316***,0.4133\n",
      "(0.6299),(0.5072)\n",
      "wleProductivity:0.1275**,0.0828*\n",
      "(0.0545),(0.0450)\n",
      "EP/locTrip:-2.4529***,-2.4095***\n",
      "(0.0027),(0.0018)\n",
      "const:16.1918***,14.0755***\n",
      "(1.5468),(1.3951)\n",
      "\n",
      "N:11098,11766\n",
      "R-squared:0.9871,0.9936\n",
      "Adj R-squared:0.9871,0.9936\n",
      "F-statistics:170230.7301***,364412.3548***\n"
     ]
    }
   ],
   "source": [
    "%time\n",
    "print ''\n",
    "# M2b\n",
    "display_res(Y2009, Y2010, m2b_inDepV)"
   ]
  },
  {
   "cell_type": "code",
   "execution_count": 10,
   "metadata": {
    "collapsed": false
   },
   "outputs": [
    {
     "name": "stdout",
     "output_type": "stream",
     "text": [
      "CPU times: user 2 µs, sys: 0 ns, total: 2 µs\n",
      "Wall time: 5.01 µs\n",
      "\n",
      "locInRatio:-62.0852***,-93.7240***\n",
      "(6.7230),(8.2278)\n",
      "wleTripNumber:-2.1597*,-1.7733\n",
      "(1.1565),(1.3048)\n",
      "locTripNumber:-1.4712,-15.7267***\n",
      "(5.1545),(5.6829)\n",
      "wleProductivity:7.6337***,8.8031***\n",
      "(0.4669),(0.5161)\n",
      "locProductivity:-14.5879***,-21.4777***\n",
      "(0.3614),(0.4197)\n",
      "const:309.5504***,579.6945***\n",
      "(14.4534),(18.6049)\n",
      "\n",
      "N:11098,11766\n",
      "R-squared:0.1396,0.2009\n",
      "Adj R-squared:0.1392,0.2005\n",
      "F-statistics:359.8257***,591.2481***\n"
     ]
    }
   ],
   "source": [
    "%time\n",
    "print ''\n",
    "# M2c\n",
    "display_res(Y2009, Y2010, m2c_inDepV)"
   ]
  },
  {
   "cell_type": "code",
   "execution_count": 11,
   "metadata": {
    "collapsed": false
   },
   "outputs": [
    {
     "name": "stdout",
     "output_type": "stream",
     "text": [
      "CPU times: user 3 µs, sys: 4 µs, total: 7 µs\n",
      "Wall time: 8.11 µs\n",
      "\n",
      "locInRatio:-3.8548***,-3.2419***\n",
      "(0.8240),(0.7391)\n",
      "wleTripNumber:-0.3437**,-0.0172\n",
      "(0.1413),(0.1166)\n",
      "locTripNumber:2.1323***,0.7575\n",
      "(0.6296),(0.5081)\n",
      "wleProductivity:0.2186***,-0.0145\n",
      "(0.0577),(0.0467)\n",
      "EP/locTrip:-2.4481***,-2.4161***\n",
      "(0.0029),(0.0020)\n",
      "locProductivity:-0.2264***,0.3141***\n",
      "(0.0472),(0.0416)\n",
      "const:20.5947***,6.3312***\n",
      "(1.7975),(1.7291)\n",
      "\n",
      "N:11098,11766\n",
      "R-squared:0.9872,0.9936\n",
      "Adj R-squared:0.9872,0.9936\n",
      "F-statistics:142144.0163***,305131.8118***\n"
     ]
    }
   ],
   "source": [
    "%time\n",
    "print ''\n",
    "# M2d\n",
    "display_res(Y2009, Y2010, m2d_inDepV)"
   ]
  },
  {
   "cell_type": "code",
   "execution_count": null,
   "metadata": {
    "collapsed": true
   },
   "outputs": [],
   "source": []
  }
 ],
 "metadata": {
  "kernelspec": {
   "display_name": "Python 2",
   "language": "python",
   "name": "python2"
  },
  "language_info": {
   "codemirror_mode": {
    "name": "ipython",
    "version": 2
   },
   "file_extension": ".py",
   "mimetype": "text/x-python",
   "name": "python",
   "nbconvert_exporter": "python",
   "pygments_lexer": "ipython2",
   "version": "2.7.13"
  }
 },
 "nbformat": 4,
 "nbformat_minor": 2
}
