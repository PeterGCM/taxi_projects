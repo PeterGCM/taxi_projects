{
 "cells": [
  {
   "cell_type": "code",
   "execution_count": 1,
   "metadata": {
    "collapsed": true
   },
   "outputs": [],
   "source": [
    "import __init__\n",
    "#\n",
    "from IPython.display import HTML, display\n",
    "import pandas as pd\n",
    "import numpy as np\n",
    "import statsmodels.api as sm"
   ]
  },
  {
   "cell_type": "code",
   "execution_count": 2,
   "metadata": {
    "collapsed": true
   },
   "outputs": [],
   "source": [
    "def significance(pvalue):\n",
    "    if pvalue < 0.01:\n",
    "        num_stars = 3\n",
    "    elif pvalue < 0.05:\n",
    "        num_stars = 2\n",
    "    elif pvalue < 0.1:\n",
    "        num_stars = 1\n",
    "    else:\n",
    "        num_stars = 0    \n",
    "    return '*' * num_stars"
   ]
  },
  {
   "cell_type": "code",
   "execution_count": 3,
   "metadata": {
    "collapsed": true
   },
   "outputs": [],
   "source": [
    "def display_res(Y2009, Y2010, inDepV):\n",
    "    results = []\n",
    "    for df in [Y2009, Y2010]:\n",
    "        y = df[dep_v]\n",
    "        X = df[inDepV]\n",
    "        X = sm.add_constant(X)\n",
    "        results.append(sm.OLS(y, X, missing='drop').fit())\n",
    "    res2009, res2010 = results\n",
    "    for idv in inDepV + ['const']:\n",
    "        coef2009 = '%.4f' % res2009.params[idv] + significance(res2009.pvalues[idv])\n",
    "        coef2010 = '%.4f' % res2010.params[idv] + significance(res2010.pvalues[idv])\n",
    "        print '%s:' % idv + ','.join([coef2009, coef2010])\n",
    "        ste2009 = res2009.params[idv] / res2009.tvalues[idv]\n",
    "        ste2010 = res2010.params[idv] / res2010.tvalues[idv]\n",
    "        print '(%.4f),(%.4f)' % (ste2009, ste2010)\n",
    "    print\n",
    "\n",
    "    fvalue2009 = '%.4f' % res2009.fvalue + significance(res2009.f_pvalue)\n",
    "    fvalue2010 = '%.4f' % res2010.fvalue + significance(res2010.f_pvalue)\n",
    "    print 'N:%d,%d' % (res2009.nobs, res2010.nobs)\n",
    "    print 'R-squared:%.4f,%.4f' % (res2009.rsquared, res2010.rsquared)\n",
    "    print 'Adj R-squared:%.4f,%.4f' % (res2009.rsquared_adj, res2010.rsquared_adj)\n",
    "    print 'F-statistics:%s,%s' % (fvalue2009, fvalue2010)"
   ]
  },
  {
   "cell_type": "code",
   "execution_count": 4,
   "metadata": {
    "collapsed": false
   },
   "outputs": [
    {
     "name": "stdout",
     "output_type": "stream",
     "text": [
      "16022 19183\n"
     ]
    }
   ],
   "source": [
    "from information_boards import statisticsAllDrivers_ap_dpath\n",
    "from information_boards import statisticsAllDriversMonth_ap_prefix\n",
    "Y2009 = pd.read_csv('%s/Filtered-%s2009.csv' % (statisticsAllDrivers_ap_dpath, statisticsAllDriversMonth_ap_prefix))\n",
    "Y2010 = pd.read_csv('%s/Filtered-%s2010.csv' % (statisticsAllDrivers_ap_dpath, statisticsAllDriversMonth_ap_prefix))\n",
    "print len(set(Y2009['driverID'])), len(set(Y2010['driverID']))"
   ]
  },
  {
   "cell_type": "code",
   "execution_count": 5,
   "metadata": {
    "collapsed": true
   },
   "outputs": [],
   "source": [
    "# Models\n",
    "dep_v = 'QTime/locTrip'\n",
    "ib_impact = ['locInRatio']\n",
    "cv0 = ['wleTripNumber', 'locTripNumber', 'wleProductivity']\n",
    "cv1 = cv0 + ['EP/locTrip']\n",
    "cv2 = cv0 + ['locProductivity']\n",
    "cv3 = cv0 + ['EP/locTrip', 'locProductivity']\n",
    "m1_inDepV = ib_impact\n",
    "m2a_inDepV = ib_impact + cv0\n",
    "m2b_inDepV = ib_impact + cv1\n",
    "m2c_inDepV = ib_impact + cv2\n",
    "m2d_inDepV = ib_impact + cv3"
   ]
  },
  {
   "cell_type": "code",
   "execution_count": 6,
   "metadata": {
    "collapsed": false
   },
   "outputs": [
    {
     "name": "stdout",
     "output_type": "stream",
     "text": [
      "CPU times: user 1 µs, sys: 1e+03 ns, total: 2 µs\n",
      "Wall time: 4.05 µs\n",
      "\n",
      "locInRatio:-2.8314***,-3.6538***\n",
      "(0.1075),(0.0831)\n",
      "const:37.6371***,32.1873***\n",
      "(0.0678),(0.0576)\n",
      "\n",
      "N:100725,128898\n",
      "R-squared:0.0068,0.0148\n",
      "Adj R-squared:0.0068,0.0148\n",
      "F-statistics:693.5361***,1932.8223***\n"
     ]
    }
   ],
   "source": [
    "%time\n",
    "print ''\n",
    "# M1\n",
    "display_res(Y2009, Y2010, m1_inDepV)"
   ]
  },
  {
   "cell_type": "code",
   "execution_count": 7,
   "metadata": {
    "collapsed": false
   },
   "outputs": [
    {
     "name": "stdout",
     "output_type": "stream",
     "text": [
      "CPU times: user 3 µs, sys: 1 µs, total: 4 µs\n",
      "Wall time: 6.91 µs\n",
      "\n",
      "locInRatio:0.9789***,-0.9082***\n",
      "(0.1199),(0.0951)\n",
      "wleTripNumber:0.0134***,0.0083***\n",
      "(0.0004),(0.0003)\n",
      "locTripNumber:0.0130***,0.0219***\n",
      "(0.0023),(0.0019)\n",
      "wleProductivity:-0.9708***,-0.8568***\n",
      "(0.0094),(0.0069)\n",
      "const:56.4660***,51.5178***\n",
      "(0.2458),(0.2035)\n",
      "\n",
      "N:100725,128898\n",
      "R-squared:0.1310,0.1424\n",
      "Adj R-squared:0.1310,0.1424\n",
      "F-statistics:3796.3326***,5349.4829***\n"
     ]
    }
   ],
   "source": [
    "%time\n",
    "print ''\n",
    "# M2a\n",
    "display_res(Y2009, Y2010, m2a_inDepV)"
   ]
  },
  {
   "cell_type": "code",
   "execution_count": 8,
   "metadata": {
    "collapsed": false
   },
   "outputs": [
    {
     "name": "stdout",
     "output_type": "stream",
     "text": [
      "CPU times: user 2 µs, sys: 0 ns, total: 2 µs\n",
      "Wall time: 72 µs\n",
      "\n",
      "locInRatio:-5.7634***,-5.3174***\n",
      "(0.0638),(0.0523)\n",
      "wleTripNumber:0.0034***,0.0031***\n",
      "(0.0002),(0.0001)\n",
      "locTripNumber:-0.0071***,-0.0020*\n",
      "(0.0012),(0.0010)\n",
      "wleProductivity:-0.0506***,-0.0881***\n",
      "(0.0052),(0.0040)\n",
      "EP/locTrip:-2.2534***,-2.0450***\n",
      "(0.0043),(0.0037)\n",
      "const:35.9838***,32.5828***\n",
      "(0.1340),(0.1157)\n",
      "\n",
      "N:100725,128898\n",
      "R-squared:0.7642,0.7468\n",
      "Adj R-squared:0.7642,0.7467\n",
      "F-statistics:65284.9176***,76015.7818***\n"
     ]
    }
   ],
   "source": [
    "%time\n",
    "print ''\n",
    "# M2b\n",
    "display_res(Y2009, Y2010, m2b_inDepV)"
   ]
  },
  {
   "cell_type": "code",
   "execution_count": 9,
   "metadata": {
    "collapsed": false
   },
   "outputs": [
    {
     "name": "stdout",
     "output_type": "stream",
     "text": [
      "CPU times: user 2 µs, sys: 0 ns, total: 2 µs\n",
      "Wall time: 4.05 µs\n",
      "\n",
      "locInRatio:-3.9866***,-5.1062***\n",
      "(0.0685),(0.0562)\n",
      "wleTripNumber:-0.0006***,-0.0019***\n",
      "(0.0002),(0.0002)\n",
      "locTripNumber:0.0113***,0.0163***\n",
      "(0.0013),(0.0011)\n",
      "wleProductivity:0.0592***,0.0762***\n",
      "(0.0057),(0.0044)\n",
      "locProductivity:-1.9963***,-1.6399***\n",
      "(0.0043),(0.0033)\n",
      "const:80.1405***,71.2616***\n",
      "(0.1477),(0.1253)\n",
      "\n",
      "N:100725,128898\n",
      "R-squared:0.7237,0.7071\n",
      "Adj R-squared:0.7237,0.7070\n",
      "F-statistics:52765.3872***,62217.9167***\n"
     ]
    }
   ],
   "source": [
    "%time\n",
    "print ''\n",
    "# M2c\n",
    "display_res(Y2009, Y2010, m2c_inDepV)"
   ]
  },
  {
   "cell_type": "code",
   "execution_count": 10,
   "metadata": {
    "collapsed": false
   },
   "outputs": [
    {
     "name": "stdout",
     "output_type": "stream",
     "text": [
      "CPU times: user 2 µs, sys: 0 ns, total: 2 µs\n",
      "Wall time: 4.05 µs\n",
      "\n",
      "locInRatio:-5.4719***,-5.5354***\n",
      "(0.0604),(0.0496)\n",
      "wleTripNumber:0.0011***,0.0007***\n",
      "(0.0002),(0.0001)\n",
      "locTripNumber:-0.0008,0.0040***\n",
      "(0.0011),(0.0010)\n",
      "wleProductivity:0.0564***,0.0343***\n",
      "(0.0050),(0.0039)\n",
      "EP/locTrip:-1.4649***,-1.3289***\n",
      "(0.0083),(0.0069)\n",
      "locProductivity:-0.8314***,-0.6883***\n",
      "(0.0076),(0.0057)\n",
      "const:53.0113***,47.5009***\n",
      "(0.2000),(0.1660)\n",
      "\n",
      "N:100725,128898\n",
      "R-squared:0.7895,0.7721\n",
      "Adj R-squared:0.7895,0.7721\n",
      "F-statistics:62946.2158***,72789.8538***\n"
     ]
    }
   ],
   "source": [
    "%time\n",
    "print ''\n",
    "# M2d\n",
    "display_res(Y2009, Y2010, m2d_inDepV)"
   ]
  },
  {
   "cell_type": "code",
   "execution_count": null,
   "metadata": {
    "collapsed": true
   },
   "outputs": [],
   "source": []
  }
 ],
 "metadata": {
  "kernelspec": {
   "display_name": "Python 2",
   "language": "python",
   "name": "python2"
  },
  "language_info": {
   "codemirror_mode": {
    "name": "ipython",
    "version": 2
   },
   "file_extension": ".py",
   "mimetype": "text/x-python",
   "name": "python",
   "nbconvert_exporter": "python",
   "pygments_lexer": "ipython2",
   "version": "2.7.13"
  }
 },
 "nbformat": 4,
 "nbformat_minor": 2
}
