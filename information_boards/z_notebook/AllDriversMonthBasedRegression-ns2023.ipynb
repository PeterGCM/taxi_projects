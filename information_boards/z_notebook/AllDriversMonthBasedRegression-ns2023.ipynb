{
 "cells": [
  {
   "cell_type": "code",
   "execution_count": 1,
   "metadata": {
    "collapsed": true
   },
   "outputs": [],
   "source": [
    "import __init__\n",
    "#\n",
    "from IPython.display import HTML, display\n",
    "import pandas as pd\n",
    "import numpy as np\n",
    "import statsmodels.api as sm"
   ]
  },
  {
   "cell_type": "code",
   "execution_count": 2,
   "metadata": {
    "collapsed": true
   },
   "outputs": [],
   "source": [
    "def significance(pvalue):\n",
    "    if pvalue < 0.01:\n",
    "        num_stars = 3\n",
    "    elif pvalue < 0.05:\n",
    "        num_stars = 2\n",
    "    elif pvalue < 0.1:\n",
    "        num_stars = 1\n",
    "    else:\n",
    "        num_stars = 0    \n",
    "    return '*' * num_stars"
   ]
  },
  {
   "cell_type": "code",
   "execution_count": 3,
   "metadata": {
    "collapsed": true
   },
   "outputs": [],
   "source": [
    "def display_res(Y2009, Y2010, inDepV):\n",
    "    results = []\n",
    "    for df in [Y2009, Y2010]:\n",
    "        y = df[dep_v]\n",
    "        X = df[inDepV]\n",
    "        X = sm.add_constant(X)\n",
    "        results.append(sm.OLS(y, X, missing='drop').fit())\n",
    "    res2009, res2010 = results\n",
    "    for idv in inDepV + ['const']:\n",
    "        coef2009 = '%.4f' % res2009.params[idv] + significance(res2009.pvalues[idv])\n",
    "        coef2010 = '%.4f' % res2010.params[idv] + significance(res2010.pvalues[idv])\n",
    "        print '%s:' % idv + ','.join([coef2009, coef2010])\n",
    "        ste2009 = res2009.params[idv] / res2009.tvalues[idv]\n",
    "        ste2010 = res2010.params[idv] / res2010.tvalues[idv]\n",
    "        print '(%.4f),(%.4f)' % (ste2009, ste2010)\n",
    "    print\n",
    "\n",
    "    fvalue2009 = '%.4f' % res2009.fvalue + significance(res2009.f_pvalue)\n",
    "    fvalue2010 = '%.4f' % res2010.fvalue + significance(res2010.f_pvalue)\n",
    "    print 'N:%d,%d' % (res2009.nobs, res2010.nobs)\n",
    "    print 'R-squared:%.4f,%.4f' % (res2009.rsquared, res2010.rsquared)\n",
    "    print 'Adj R-squared:%.4f,%.4f' % (res2009.rsquared_adj, res2010.rsquared_adj)\n",
    "    print 'F-statistics:%s,%s' % (fvalue2009, fvalue2010)"
   ]
  },
  {
   "cell_type": "code",
   "execution_count": 4,
   "metadata": {
    "collapsed": false
   },
   "outputs": [
    {
     "name": "stdout",
     "output_type": "stream",
     "text": [
      "7233 7560\n"
     ]
    }
   ],
   "source": [
    "from information_boards import statisticsAllDrivers_ns_dpath\n",
    "from information_boards import statisticsAllDriversMonth_ns2023_prefix\n",
    "Y2009 = pd.read_csv('%s/%s2009.csv' % (statisticsAllDrivers_ns_dpath, statisticsAllDriversMonth_ns2023_prefix))\n",
    "Y2010 = pd.read_csv('%s/%s2010.csv' % (statisticsAllDrivers_ns_dpath, statisticsAllDriversMonth_ns2023_prefix))\n",
    "print len(set(Y2009['driverID'])), len(set(Y2010['driverID']))"
   ]
  },
  {
   "cell_type": "code",
   "execution_count": 5,
   "metadata": {
    "collapsed": true
   },
   "outputs": [],
   "source": [
    "# Models\n",
    "dep_v = 'QTime/locTrip'\n",
    "ib_impact = ['locInRatio']\n",
    "cv0 = ['wleTripNumber', 'locTripNumber', 'wleProductivity']\n",
    "cv1 = cv0 + ['EP/locTrip']\n",
    "cv2 = cv0 + ['locProductivity']\n",
    "cv3 = cv0 + ['EP/locTrip', 'locProductivity']\n",
    "m1_inDepV = ib_impact\n",
    "m2a_inDepV = ib_impact + cv0\n",
    "m2b_inDepV = ib_impact + cv1\n",
    "m2c_inDepV = ib_impact + cv2\n",
    "m2d_inDepV = ib_impact + cv3"
   ]
  },
  {
   "cell_type": "code",
   "execution_count": 6,
   "metadata": {
    "collapsed": false
   },
   "outputs": [
    {
     "name": "stdout",
     "output_type": "stream",
     "text": [
      "CPU times: user 2 µs, sys: 0 ns, total: 2 µs\n",
      "Wall time: 5.01 µs\n",
      "\n",
      "locInRatio:-15.2840***,-39.5741***\n",
      "(2.5833),(4.4439)\n",
      "const:38.8788***,57.9199***\n",
      "(1.3665),(2.3160)\n",
      "\n",
      "N:18945,19780\n",
      "R-squared:0.0018,0.0040\n",
      "Adj R-squared:0.0018,0.0039\n",
      "F-statistics:35.0035***,79.3029***\n"
     ]
    }
   ],
   "source": [
    "%time\n",
    "print ''\n",
    "# M1\n",
    "display_res(Y2009, Y2010, m1_inDepV)"
   ]
  },
  {
   "cell_type": "code",
   "execution_count": 7,
   "metadata": {
    "collapsed": false
   },
   "outputs": [
    {
     "name": "stdout",
     "output_type": "stream",
     "text": [
      "CPU times: user 2 µs, sys: 1 µs, total: 3 µs\n",
      "Wall time: 4.05 µs\n",
      "\n",
      "locInRatio:-13.4527***,-38.5651***\n",
      "(2.6904),(4.6100)\n",
      "wleTripNumber:0.0414,-0.5577\n",
      "(0.2848),(0.4621)\n",
      "locTripNumber:2.8744,7.3663**\n",
      "(1.7485),(3.0662)\n",
      "wleProductivity:0.7111***,2.0062***\n",
      "(0.2387),(0.3920)\n",
      "const:15.5623***,-1.6528\n",
      "(5.8221),(10.5882)\n",
      "\n",
      "N:18945,19780\n",
      "R-squared:0.0035,0.0059\n",
      "Adj R-squared:0.0033,0.0057\n",
      "F-statistics:16.5570***,29.1813***\n"
     ]
    }
   ],
   "source": [
    "%time\n",
    "print ''\n",
    "# M2a\n",
    "display_res(Y2009, Y2010, m2a_inDepV)"
   ]
  },
  {
   "cell_type": "code",
   "execution_count": 8,
   "metadata": {
    "collapsed": false
   },
   "outputs": [
    {
     "name": "stdout",
     "output_type": "stream",
     "text": [
      "CPU times: user 2 µs, sys: 1 µs, total: 3 µs\n",
      "Wall time: 5.96 µs\n",
      "\n",
      "locInRatio:-1.6414***,-1.1229\n",
      "(0.3748),(0.6862)\n",
      "wleTripNumber:-0.1105***,-0.0979\n",
      "(0.0397),(0.0687)\n",
      "locTripNumber:0.8252***,1.0522**\n",
      "(0.2435),(0.4557)\n",
      "wleProductivity:0.0491,0.0484\n",
      "(0.0332),(0.0583)\n",
      "EP/locTrip:-2.2998***,-2.0158***\n",
      "(0.0023),(0.0022)\n",
      "const:14.6738***,11.1166***\n",
      "(0.8106),(1.5735)\n",
      "\n",
      "N:18945,19780\n",
      "R-squared:0.9807,0.9780\n",
      "Adj R-squared:0.9807,0.9780\n",
      "F-statistics:192311.6441***,176195.6903***\n"
     ]
    }
   ],
   "source": [
    "%time\n",
    "print ''\n",
    "# M2b\n",
    "display_res(Y2009, Y2010, m2b_inDepV)"
   ]
  },
  {
   "cell_type": "code",
   "execution_count": 9,
   "metadata": {
    "collapsed": false
   },
   "outputs": [
    {
     "name": "stdout",
     "output_type": "stream",
     "text": [
      "CPU times: user 2 µs, sys: 2 µs, total: 4 µs\n",
      "Wall time: 5.96 µs\n",
      "\n",
      "locInRatio:-33.3066***,-67.0916***\n",
      "(2.5685),(4.3316)\n",
      "wleTripNumber:-0.0693,-0.6878\n",
      "(0.2685),(0.4310)\n",
      "locTripNumber:-0.3809,-1.0496\n",
      "(1.6496),(2.8640)\n",
      "wleProductivity:4.4252***,8.1240***\n",
      "(0.2376),(0.3825)\n",
      "locProductivity:-6.6883***,-11.4510***\n",
      "(0.1372),(0.2105)\n",
      "const:92.1123***,149.0078***\n",
      "(5.7082),(10.2567)\n",
      "\n",
      "N:18945,19780\n",
      "R-squared:0.1146,0.1352\n",
      "Adj R-squared:0.1144,0.1350\n",
      "F-statistics:490.3776***,618.4637***\n"
     ]
    }
   ],
   "source": [
    "%time\n",
    "print ''\n",
    "# M2c\n",
    "display_res(Y2009, Y2010, m2c_inDepV)"
   ]
  },
  {
   "cell_type": "code",
   "execution_count": 10,
   "metadata": {
    "collapsed": false
   },
   "outputs": [
    {
     "name": "stdout",
     "output_type": "stream",
     "text": [
      "CPU times: user 2 µs, sys: 0 ns, total: 2 µs\n",
      "Wall time: 5.01 µs\n",
      "\n",
      "locInRatio:-1.5841***,-1.4592**\n",
      "(0.3809),(0.6941)\n",
      "wleTripNumber:-0.1103***,-0.0998\n",
      "(0.0397),(0.0687)\n",
      "locTripNumber:0.8334***,0.9760**\n",
      "(0.2437),(0.4562)\n",
      "wleProductivity:0.0389,0.1125*\n",
      "(0.0354),(0.0616)\n",
      "EP/locTrip:-2.3006***,-2.0131***\n",
      "(0.0025),(0.0023)\n",
      "locProductivity:0.0181,-0.1151***\n",
      "(0.0215),(0.0360)\n",
      "const:14.4666***,12.6138***\n",
      "(0.8473),(1.6413)\n",
      "\n",
      "N:18945,19780\n",
      "R-squared:0.9807,0.9781\n",
      "Adj R-squared:0.9807,0.9781\n",
      "F-statistics:160257.3240***,146900.0191***\n"
     ]
    }
   ],
   "source": [
    "%time\n",
    "print ''\n",
    "# M2d\n",
    "display_res(Y2009, Y2010, m2d_inDepV)"
   ]
  },
  {
   "cell_type": "code",
   "execution_count": null,
   "metadata": {
    "collapsed": true
   },
   "outputs": [],
   "source": []
  }
 ],
 "metadata": {
  "kernelspec": {
   "display_name": "Python 2",
   "language": "python",
   "name": "python2"
  },
  "language_info": {
   "codemirror_mode": {
    "name": "ipython",
    "version": 2
   },
   "file_extension": ".py",
   "mimetype": "text/x-python",
   "name": "python",
   "nbconvert_exporter": "python",
   "pygments_lexer": "ipython2",
   "version": "2.7.13"
  }
 },
 "nbformat": 4,
 "nbformat_minor": 2
}
