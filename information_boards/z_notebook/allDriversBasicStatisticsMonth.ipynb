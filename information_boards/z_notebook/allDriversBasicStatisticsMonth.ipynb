{
 "cells": [
  {
   "cell_type": "code",
   "execution_count": 1,
   "metadata": {
    "collapsed": true
   },
   "outputs": [],
   "source": [
    "import __init__\n",
    "#\n",
    "from IPython.display import HTML, display\n",
    "import pandas as pd\n",
    "import numpy as np"
   ]
  },
  {
   "cell_type": "markdown",
   "metadata": {},
   "source": [
    "# Airport"
   ]
  },
  {
   "cell_type": "code",
   "execution_count": 2,
   "metadata": {
    "collapsed": false
   },
   "outputs": [
    {
     "name": "stdout",
     "output_type": "stream",
     "text": [
      "The number of drivers: 21718\n",
      "wleTripNumber:189.018962,125.096486\n",
      "wleOperatingHour:88.945529,63.132496\n",
      "wleFare:2236.096613,1518.834841\n",
      "wleProductivity:25.767289,3.781833\n",
      "locTripNumber:19.241474,20.776490\n",
      "locInNumber:7.610549,5.603399\n",
      "locOutNumber:11.630925,19.210002\n",
      "locQTime:666.077262,801.790534\n",
      "locEP:-33.827413,101.353833\n",
      "locDuration:414.530291,451.841359\n",
      "locFare:399.440592,444.005223\n",
      "QTime/locTrip:32.636484,10.616962\n",
      "EP/locTrip:-1.446784,4.049153\n",
      "locProductivity:23.294386,4.989996\n",
      "locInRatio:0.584884,0.319840\n"
     ]
    }
   ],
   "source": [
    "from information_boards import statisticsAllDrivers_ap_dpath\n",
    "from information_boards import statisticsAllDriversMonth_ap_prefix\n",
    "#\n",
    "df2009 = pd.read_csv('%s/Filtered-%s2009.csv' % (statisticsAllDrivers_ap_dpath, statisticsAllDriversMonth_ap_prefix))\n",
    "df2010 = pd.read_csv('%s/Filtered-%s2010.csv' % (statisticsAllDrivers_ap_dpath, statisticsAllDriversMonth_ap_prefix))\n",
    "df = pd.concat([df2009, df2010])\n",
    "#\n",
    "print 'The number of drivers: %d' % len(set(df['driverID']))\n",
    "for cn in df.columns:\n",
    "    if cn in ['year', 'month', 'driverID']:\n",
    "        continue\n",
    "    print '%s:%f,%f' % (cn, df[cn].mean(), df[cn].std())"
   ]
  },
  {
   "cell_type": "markdown",
   "metadata": {},
   "source": [
    "# Zoo"
   ]
  },
  {
   "cell_type": "code",
   "execution_count": 4,
   "metadata": {
    "collapsed": false
   },
   "outputs": [
    {
     "name": "stdout",
     "output_type": "stream",
     "text": [
      "The number of drivers: 11060\n",
      "wleTripNumber:6.112098,4.222457\n",
      "wleOperatingHour:2.739894,2.007718\n",
      "wleFare:71.370901,51.180305\n",
      "wleProductivity:26.732166,7.724902\n",
      "locTripNumber:1.294612,0.978925\n",
      "locInNumber:0.563025,0.528470\n",
      "locOutNumber:0.731587,1.168852\n",
      "locQTime:93.669084,619.054530\n",
      "locEP:-29.262230,250.521926\n",
      "locDuration:29.728744,24.968939\n",
      "locFare:20.183277,17.976609\n",
      "QTime/locTrip:57.405757,413.501412\n",
      "EP/locTrip:-16.773184,169.714724\n",
      "locProductivity:29.837257,9.567525\n",
      "locInRatio:0.526107,0.490646\n"
     ]
    }
   ],
   "source": [
    "from information_boards import statisticsAllDrivers_ns_dpath\n",
    "from information_boards import statisticsAllDriversMonth_ns1517_prefix\n",
    "#\n",
    "df2009 = pd.read_csv('%s/%s2009.csv' % (statisticsAllDrivers_ns_dpath, statisticsAllDriversMonth_ns1517_prefix))\n",
    "df2010 = pd.read_csv('%s/%s2010.csv' % (statisticsAllDrivers_ns_dpath, statisticsAllDriversMonth_ns1517_prefix))\n",
    "df = pd.concat([df2009, df2010])\n",
    "#\n",
    "print 'The number of drivers: %d' % len(set(df['driverID']))\n",
    "for cn in df.columns:\n",
    "    if cn in ['year', 'month', 'driverID']:\n",
    "        continue\n",
    "    print '%s:%f,%f' % (cn, df[cn].mean(), df[cn].std())"
   ]
  },
  {
   "cell_type": "markdown",
   "metadata": {},
   "source": [
    "# Night Safari"
   ]
  },
  {
   "cell_type": "code",
   "execution_count": 5,
   "metadata": {
    "collapsed": false
   },
   "outputs": [
    {
     "name": "stdout",
     "output_type": "stream",
     "text": [
      "The number of drivers: 10809\n",
      "wleTripNumber:12.649167,11.313706\n",
      "wleOperatingHour:5.968091,5.526764\n",
      "wleFare:147.017967,133.702920\n",
      "wleProductivity:25.051897,5.323727\n",
      "locTripNumber:1.869981,1.773235\n",
      "locInNumber:0.352485,0.518896\n",
      "locOutNumber:1.517495,1.885742\n",
      "locQTime:91.169934,462.758878\n",
      "locEP:-30.114601,214.901759\n",
      "locDuration:41.209503,40.495483\n",
      "locFare:28.015797,27.737987\n",
      "QTime/locTrip:40.617498,223.616913\n",
      "EP/locTrip:-12.579799,106.677416\n",
      "locProductivity:23.833855,8.842685\n",
      "locInRatio:0.290501,0.437310\n"
     ]
    }
   ],
   "source": [
    "from information_boards import statisticsAllDrivers_ns_dpath\n",
    "from information_boards import statisticsAllDriversMonth_ns2023_prefix\n",
    "#\n",
    "df2009 = pd.read_csv('%s/%s2009.csv' % (statisticsAllDrivers_ns_dpath, statisticsAllDriversMonth_ns2023_prefix))\n",
    "df2010 = pd.read_csv('%s/%s2010.csv' % (statisticsAllDrivers_ns_dpath, statisticsAllDriversMonth_ns2023_prefix))\n",
    "df = pd.concat([df2009, df2010])\n",
    "#\n",
    "print 'The number of drivers: %d' % len(set(df['driverID']))\n",
    "for cn in df.columns:\n",
    "    if cn in ['year', 'month', 'driverID']:\n",
    "        continue\n",
    "    print '%s:%f,%f' % (cn, df[cn].mean(), df[cn].std())"
   ]
  },
  {
   "cell_type": "code",
   "execution_count": null,
   "metadata": {
    "collapsed": true
   },
   "outputs": [],
   "source": []
  }
 ],
 "metadata": {
  "kernelspec": {
   "display_name": "Python 2",
   "language": "python",
   "name": "python2"
  },
  "language_info": {
   "codemirror_mode": {
    "name": "ipython",
    "version": 2
   },
   "file_extension": ".py",
   "mimetype": "text/x-python",
   "name": "python",
   "nbconvert_exporter": "python",
   "pygments_lexer": "ipython2",
   "version": "2.7.13"
  }
 },
 "nbformat": 4,
 "nbformat_minor": 2
}
