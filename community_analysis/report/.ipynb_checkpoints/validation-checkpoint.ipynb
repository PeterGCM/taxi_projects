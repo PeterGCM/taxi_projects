{
 "cells": [
  {
   "cell_type": "code",
   "execution_count": 1,
   "metadata": {
    "collapsed": true
   },
   "outputs": [],
   "source": [
    "import __init__\n",
    "#\n",
    "from community_analysis import SP_group_drivers_fpath\n",
    "from community_analysis import RP_group_drivers_fpath\n",
    "#\n",
    "from taxi_common.file_handling_functions import load_pickle_file\n",
    "#\n",
    "import matplotlib.pyplot as plt\n",
    "%matplotlib inline"
   ]
  },
  {
   "cell_type": "code",
   "execution_count": 2,
   "metadata": {
    "collapsed": false
   },
   "outputs": [],
   "source": [
    "SP_group_drivers, RP_group_drivers = load_pickle_file(SP_group_drivers_fpath), load_pickle_file(RP_group_drivers_fpath)"
   ]
  },
  {
   "cell_type": "code",
   "execution_count": 11,
   "metadata": {
    "collapsed": false,
    "scrolled": false
   },
   "outputs": [
    {
     "name": "stdout",
     "output_type": "stream",
     "text": [
      "SP models; G(22)  # drivers 26\n",
      "\t G(14)-1; RP models-# of intersection\n",
      "\t G(4)-2; RP models-# of intersection\n",
      "\t G(19)-1; RP models-# of intersection\n",
      "\t G(6)-2; RP models-# of intersection\n",
      "\t G(0)-2; RP models-# of intersection\n",
      "\t G(9)-2; RP models-# of intersection\n",
      "\t G(11)-1; RP models-# of intersection\n",
      "\t G(15)-2; RP models-# of intersection\n",
      "\t G(3)-1; RP models-# of intersection\n",
      "\n"
     ]
    }
   ],
   "source": [
    "for sp_gn, sp_drivers in SP_group_drivers.iteritems():\n",
    "#     if len(sp_drivers) != 3:\n",
    "#         continue\n",
    "    if sp_gn != 'G(22)':\n",
    "        continue\n",
    "#     if len(sp_drivers) < 10:\n",
    "#         continue\n",
    "    print 'SP models; %s  # drivers %d' % (sp_gn, len(sp_drivers))\n",
    "    for rp_gn, rp_drivers in RP_group_drivers.iteritems():\n",
    "        numInter = len(set(sp_drivers).intersection(set(rp_drivers)))\n",
    "        if numInter == 0:\n",
    "            continue\n",
    "        print '\\t %s-%d; RP models-# of intersection' % (rp_gn, numInter)\n",
    "    print ''"
   ]
  },
  {
   "cell_type": "code",
   "execution_count": 5,
   "metadata": {
    "collapsed": false
   },
   "outputs": [],
   "source": [
    "from community_analysis import SP_group_dpath, SP_group_prefix\n",
    "from community_analysis import RP_group_dpath, RP_group_prefix\n",
    "SP_graph = load_pickle_file('%s/%sall.pkl'% (SP_group_dpath, SP_group_prefix)) \n",
    "RP_graph = load_pickle_file('%s/%sall.pkl'% (RP_group_dpath, RP_group_prefix)) "
   ]
  },
  {
   "cell_type": "code",
   "execution_count": 6,
   "metadata": {
    "collapsed": false
   },
   "outputs": [
    {
     "data": {
      "text/plain": [
       "(217.00671466378492, 601.97064327839178)"
      ]
     },
     "execution_count": 6,
     "metadata": {},
     "output_type": "execute_result"
    }
   ],
   "source": [
    "import numpy as np\n",
    "np.mean(SP_graph.values()), np.mean(RP_graph.values())"
   ]
  },
  {
   "cell_type": "code",
   "execution_count": 7,
   "metadata": {
    "collapsed": false,
    "scrolled": true
   },
   "outputs": [],
   "source": [
    "numPairs_SP, numPairs_RP = len(SP_graph), len(RP_graph)\n",
    "countInter = 0\n",
    "SP_pairs = set(SP_graph.keys())\n",
    "RP_pairs = set(RP_graph.keys())"
   ]
  },
  {
   "cell_type": "code",
   "execution_count": 24,
   "metadata": {
    "collapsed": false,
    "scrolled": false
   },
   "outputs": [
    {
     "name": "stdout",
     "output_type": "stream",
     "text": [
      "1 199-572(268.578,788.446); SP(G(3),G(3)), RP(G(11),G(11))\n",
      "2 21698-16401(173.203,318.818); SP(G(15),G(15)), RP(G(19),G(19))\n",
      "3 1322-36158(474.881,663.540); SP(G(12),G(12)), RP(G(16),G(16))\n",
      "4 32407-20625(75.979,164.806); SP(G(5),G(5)), RP(G(9),G(9))\n",
      "5 35571-35458(130.078,339.372); SP(G(11),G(11)), RP(G(7),G(7))\n",
      "6 22331-31940(290.304,628.326); SP(G(2),G(2)), RP(G(7),G(7))\n",
      "7 10284-4611(97.222,230.760); SP(G(12),G(12)), RP(G(5),G(5))\n",
      "8 2020-21542(44.006,171.988); SP(G(13),G(13)), RP(G(20),G(20))\n",
      "9 35021-21838(1027.184,5898.558); SP(G(14),G(14)), RP(G(20),G(20))\n",
      "10 16695-35055(186.576,416.046); SP(G(6),G(6)), RP(G(10),G(10))\n",
      "11 10049-16199(37.057,137.909); SP(G(7),G(7)), RP(G(4),G(4))\n",
      "12 26155-10309(114.849,223.820); SP(G(8),G(8)), RP(G(18),G(18))\n",
      "13 37575-36158(470.983,825.979); SP(G(12),G(12)), RP(G(16),G(16))\n",
      "14 18161-42416(72.656,205.051); SP(G(12),G(12)), RP(G(0),G(0))\n",
      "15 35440-34211(131.986,424.602); SP(G(10),G(10)), RP(G(5),G(5))\n",
      "16 37532-23247(4060.302,1919.781); SP(G(22),G(22)), RP(G(15),G(15))\n",
      "17 8468-17637(712.727,1226.082); SP(G(9),G(9)), RP(G(17),G(17))\n",
      "18 36761-1267(38.379,123.202); SP(G(21),G(21)), RP(G(15),G(15))\n",
      "19 9664-22837(56.857,140.081); SP(G(1),G(1)), RP(G(7),G(7))\n",
      "20 8688-2580(41.644,114.082); SP(G(7),G(7)), RP(G(7),G(7))\n",
      "21 560-19474(20.109,120.439); SP(G(18),G(18)), RP(G(3),G(3))\n",
      "22 21848-4960(85.494,288.908); SP(G(18),G(18)), RP(G(9),G(9))\n",
      "23 16525-22268(67.208,202.147); SP(G(5),G(5)), RP(G(0),G(0))\n",
      "24 4733-25147(74.175,217.800); SP(G(10),G(10)), RP(G(3),G(3))\n",
      "25 17826-37159(1321.649,1887.339); SP(G(19),G(19)), RP(G(20),G(20))\n",
      "26 36341-7599(111.919,234.010); SP(G(16),G(16)), RP(G(32),G(32))\n",
      "27 1436-21340(243.283,668.387); SP(G(0),G(0)), RP(G(0),G(0))\n",
      "28 3606-18446(108.866,152.645); SP(G(23),G(23)), RP(G(4),G(4))\n",
      "29 8147-35256(55.330,168.108); SP(G(2),G(2)), RP(G(0),G(0))\n",
      "30 28951-12047(234.751,528.442); SP(G(15),G(15)), RP(G(21),G(21))\n",
      "31 11017-23218(42.641,158.944); SP(G(4),G(4)), RP(G(7),G(7))\n",
      "32 6933-17456(400.349,1019.214); SP(G(18),G(18)), RP(G(3),G(3))\n",
      "33 34942-21511(165.881,827.498); SP(G(6),G(6)), RP(G(22),G(22))\n",
      "34 9175-732(44.230,156.279); SP(G(6),G(6)), RP(G(7),G(7))\n",
      "35 33605-37159(1594.014,2013.773); SP(G(19),G(19)), RP(G(20),G(20))\n",
      "36 8056-37434(70.128,131.623); SP(G(1),G(1)), RP(G(0),G(0))\n",
      "37 34505-37205(127.990,225.556); SP(G(0),G(0)), RP(G(5),G(5))\n",
      "38 14088-1790(168.086,554.397); SP(G(1),G(1)), RP(G(18),G(18))\n",
      "39 33956-34529(119.875,349.916); SP(G(17),G(17)), RP(G(12),G(12))\n",
      "40 8600-15668(115.489,291.281); SP(G(8),G(8)), RP(G(21),G(21))\n",
      "41 37470-666(148.494,184.695); SP(G(4),G(4)), RP(G(4),G(4))\n",
      "42 7345-21750(53.773,226.044); SP(G(13),G(13)), RP(G(17),G(17))\n",
      "43 33599-5574(201.166,473.708); SP(G(15),G(15)), RP(G(22),G(22))\n",
      "\n",
      "{'G(8)': 2, 'G(16)': 1, 'G(10)': 2, 'G(12)': 4, 'G(18)': 3, 'G(21)': 1, 'G(23)': 1, 'G(14)': 1, 'G(2)': 2, 'G(4)': 2, 'G(19)': 2, 'G(6)': 3, 'G(0)': 2, 'G(17)': 1, 'G(11)': 1, 'G(9)': 1, 'G(13)': 2, 'G(15)': 3, 'G(22)': 1, 'G(3)': 1, 'G(5)': 2, 'G(7)': 2, 'G(1)': 3}\n",
      "\n",
      "{'G(16)': 2, 'G(3)': 3, 'G(17)': 2, 'G(4)': 3, 'G(11)': 1, 'G(21)': 2, 'G(9)': 2, 'G(10)': 1, 'G(5)': 3, 'G(12)': 1, 'G(7)': 6, 'G(19)': 1, 'G(20)': 4, 'G(18)': 2, 'G(32)': 1, 'G(0)': 5, 'G(15)': 2, 'G(22)': 2}\n"
     ]
    }
   ],
   "source": [
    "def find_group(group_drivers, did):\n",
    "    for gn, drivers in group_drivers.iteritems():\n",
    "        if did in drivers:\n",
    "            return gn\n",
    "    return 'X'\n",
    "count = 0\n",
    "sp_group_counting, rp_group_counting = {}, {}\n",
    "for did0, did1 in SP_pairs.intersection(RP_pairs):\n",
    "    did0_gn_sp, did1_gn_sp = find_group(SP_group_drivers, did0), find_group(SP_group_drivers, did1)\n",
    "    did0_gn_rp, did1_gn_rp = find_group(RP_group_drivers, did0), find_group(RP_group_drivers, did1)\n",
    "    #\n",
    "    if did0_gn_sp == did1_gn_sp:\n",
    "        if did0_gn_rp == did1_gn_rp:\n",
    "            count +=1\n",
    "            print count,'%s-%s(%.3f,%.3f); SP(%s,%s), RP(%s,%s)' % (did0, did1, \n",
    "                       SP_graph[did0, did1], RP_graph[did0, did1],\n",
    "                       did0_gn_sp, did1_gn_sp,\n",
    "                       did0_gn_rp, did1_gn_rp)\n",
    "            if not sp_group_counting.has_key(did0_gn_sp):\n",
    "                sp_group_counting[did0_gn_sp] = 0\n",
    "            sp_group_counting[did0_gn_sp] += 1\n",
    "            \n",
    "            if not rp_group_counting.has_key(did0_gn_rp):\n",
    "                rp_group_counting[did0_gn_rp] = 0\n",
    "            rp_group_counting[did0_gn_rp] += 1\n",
    "print ''\n",
    "print sp_group_counting\n",
    "print ''\n",
    "print rp_group_counting"
   ]
  },
  {
   "cell_type": "code",
   "execution_count": null,
   "metadata": {
    "collapsed": true
   },
   "outputs": [],
   "source": [
    "def find_group(group_drivers, did):\n",
    "    for gn, drivers in group_drivers.iteritems():\n",
    "        if did in drivers:\n",
    "            return gn\n",
    "    return 'X'\n",
    "count = 0\n",
    "sp_group_counting, rp_group_counting = {}, {}\n",
    "for did0, did1 in SP_pairs.intersection(RP_pairs):\n",
    "#     print '%s-%s(%.3f,%.3f); SP(%s,%s), RP(%s,%s)' % (did0, did1, \n",
    "#                        SP_graph[did0, did1], RP_graph[did0, did1],\n",
    "#                        find_group(SP_group_drivers, did0), find_group(SP_group_drivers, did1),\n",
    "#                        find_group(RP_group_drivers, did0), find_group(RP_group_drivers, did1)),\n",
    "    if find_group(SP_group_drivers, did0) == find_group(SP_group_drivers, did1):\n",
    "        if find_group(RP_group_drivers, did0) == find_group(RP_group_drivers, did1):\n",
    "            count +=1\n",
    "#             print '***'\n",
    "            print count,'%s-%s(%.3f,%.3f); SP(%s,%s), RP(%s,%s)' % (did0, did1, \n",
    "                       SP_graph[did0, did1], RP_graph[did0, did1],\n",
    "                       find_group(SP_group_drivers, did0), find_group(SP_group_drivers, did1),\n",
    "                       find_group(RP_group_drivers, did0), find_group(RP_group_drivers, did1))\n",
    "            if not sp_group_counting.haskey(find_group(SP_group_drivers, did0)):\n",
    "                sp_group_counting = 0\n",
    "                \n",
    "                \n",
    "#         else:\n",
    "#             print''\n",
    "#     else:\n",
    "#         print ''\n",
    "        "
   ]
  },
  {
   "cell_type": "code",
   "execution_count": 9,
   "metadata": {
    "collapsed": false
   },
   "outputs": [
    {
     "data": {
      "text/plain": [
       "(132, 4755, 2694)"
      ]
     },
     "execution_count": 9,
     "metadata": {},
     "output_type": "execute_result"
    }
   ],
   "source": [
    "len(SP_pairs.intersection(RP_pairs)), len(SP_pairs), len(RP_pairs)"
   ]
  },
  {
   "cell_type": "code",
   "execution_count": 10,
   "metadata": {
    "collapsed": false
   },
   "outputs": [
    {
     "data": {
      "text/plain": [
       "(array([  3.51426241e-03,   9.49740537e-03,   8.41866026e-03,\n",
       "          5.81632671e-03,   3.30296182e-03,   2.42439622e-03,\n",
       "          2.26870105e-03,   1.55695170e-03,   1.33453003e-03,\n",
       "          9.67534271e-04,   8.11839101e-04,   7.22870432e-04,\n",
       "          6.78386098e-04,   5.56054179e-04,   6.22780680e-04,\n",
       "          4.44843343e-04,   4.55964426e-04,   3.22511424e-04,\n",
       "          4.00359009e-04,   5.00448761e-04,   3.66995758e-04,\n",
       "          3.00269256e-04,   3.78116841e-04,   2.66906006e-04,\n",
       "          3.11390340e-04,   2.33542755e-04,   3.66995758e-04,\n",
       "          2.89148173e-04,   2.44663839e-04,   2.11300588e-04,\n",
       "          1.22331919e-04,   1.44574086e-04,   1.77937337e-04,\n",
       "          2.66906006e-04,   2.00179504e-04,   2.55784922e-04,\n",
       "          2.33542755e-04,   1.89058421e-04,   1.89058421e-04,\n",
       "          7.78475850e-05,   1.00089752e-04,   1.00089752e-04,\n",
       "          1.22331919e-04,   1.55695170e-04,   1.22331919e-04,\n",
       "          1.33453003e-04,   8.89686686e-05,   1.11210836e-04,\n",
       "          1.00089752e-04,   1.55695170e-04]),\n",
       " array([   9.13256871,   28.88202962,   48.63149053,   68.38095143,\n",
       "          88.13041234,  107.87987325,  127.62933415,  147.37879506,\n",
       "         167.12825597,  186.87771687,  206.62717778,  226.37663869,\n",
       "         246.12609959,  265.8755605 ,  285.62502141,  305.37448232,\n",
       "         325.12394322,  344.87340413,  364.62286504,  384.37232594,\n",
       "         404.12178685,  423.87124776,  443.62070866,  463.37016957,\n",
       "         483.11963048,  502.86909138,  522.61855229,  542.3680132 ,\n",
       "         562.11747411,  581.86693501,  601.61639592,  621.36585683,\n",
       "         641.11531773,  660.86477864,  680.61423955,  700.36370045,\n",
       "         720.11316136,  739.86262227,  759.61208317,  779.36154408,\n",
       "         799.11100499,  818.8604659 ,  838.6099268 ,  858.35938771,\n",
       "         878.10884862,  897.85830952,  917.60777043,  937.35723134,\n",
       "         957.10669224,  976.85615315,  996.60561406]),\n",
       " <a list of 50 Patch objects>)"
      ]
     },
     "execution_count": 10,
     "metadata": {},
     "output_type": "execute_result"
    },
    {
     "data": {
      "image/png": "[encoded data removed]",
      "text/plain": [
       "<matplotlib.figure.Figure at 0x10774bc90>"
      ]
     },
     "metadata": {},
     "output_type": "display_data"
    }
   ],
   "source": [
    "import matplotlib.pyplot as plt\n",
    "%matplotlib inline\n",
    "plt.hist([v for v in SP_graph.values() if v < 1000], 50, normed=1, facecolor='green', alpha=0.75)"
   ]
  },
  {
   "cell_type": "code",
   "execution_count": null,
   "metadata": {
    "collapsed": true
   },
   "outputs": [],
   "source": []
  }
 ],
 "metadata": {
  "kernelspec": {
   "display_name": "Python 2",
   "language": "python",
   "name": "python2"
  },
  "language_info": {
   "codemirror_mode": {
    "name": "ipython",
    "version": 2
   },
   "file_extension": ".py",
   "mimetype": "text/x-python",
   "name": "python",
   "nbconvert_exporter": "python",
   "pygments_lexer": "ipython2",
   "version": "2.7.13"
  }
 },
 "nbformat": 4,
 "nbformat_minor": 2
}
