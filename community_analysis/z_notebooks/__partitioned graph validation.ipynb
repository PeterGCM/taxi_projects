{
 "cells": [
  {
   "cell_type": "code",
   "execution_count": 13,
   "metadata": {
    "collapsed": true
   },
   "outputs": [],
   "source": [
    "import __init__\n",
    "#\n",
    "from taxi_common.file_handling_functions import load_pickle_file\n",
    "#\n",
    "import numpy as np\n",
    "from IPython.display import HTML, display\n",
    "#\n",
    "def text_display(text, font_size):\n",
    "    display(HTML('<font size=%d>' % font_size + text + '</font>'))   "
   ]
  },
  {
   "cell_type": "code",
   "execution_count": 2,
   "metadata": {
    "collapsed": true
   },
   "outputs": [],
   "source": [
    "from community_analysis import SP_group_drivers_fpath\n",
    "from community_analysis import RP_group_drivers_fpath\n",
    "from community_analysis import SP_group_dpath, SP_group_prefix\n",
    "from community_analysis import RP_group_dpath, RP_group_prefix\n",
    "#\n",
    "SP_group_drivers, RP_group_drivers = load_pickle_file(SP_group_drivers_fpath), load_pickle_file(RP_group_drivers_fpath)\n",
    "SP_graph = load_pickle_file('%s/%sall.pkl'% (SP_group_dpath, SP_group_prefix)) \n",
    "RP_graph = load_pickle_file('%s/%sall.pkl'% (RP_group_dpath, RP_group_prefix)) "
   ]
  },
  {
   "cell_type": "code",
   "execution_count": 3,
   "metadata": {
    "collapsed": false
   },
   "outputs": [
    {
     "name": "stdout",
     "output_type": "stream",
     "text": [
      "SP models; G(8)  # drivers 105\n",
      "\t G(8)-4; RP models-# of intersection\n",
      "\t G(10)-2; RP models-# of intersection\n",
      "\t G(12)-1; RP models-# of intersection\n",
      "\t G(18)-5; RP models-# of intersection\n",
      "\t G(21)-2; RP models-# of intersection\n",
      "\t G(14)-2; RP models-# of intersection\n",
      "\t G(2)-5; RP models-# of intersection\n",
      "\t G(22)-4; RP models-# of intersection\n",
      "\t G(4)-1; RP models-# of intersection\n",
      "\t G(6)-2; RP models-# of intersection\n",
      "\t G(24)-1; RP models-# of intersection\n",
      "\t G(0)-3; RP models-# of intersection\n",
      "\t G(49)-1; RP models-# of intersection\n",
      "\t G(9)-1; RP models-# of intersection\n",
      "\t G(17)-2; RP models-# of intersection\n",
      "\t G(11)-5; RP models-# of intersection\n",
      "\t G(28)-1; RP models-# of intersection\n",
      "\t G(13)-2; RP models-# of intersection\n",
      "\t G(20)-1; RP models-# of intersection\n",
      "\t G(15)-4; RP models-# of intersection\n",
      "\t G(3)-5; RP models-# of intersection\n",
      "\t G(5)-4; RP models-# of intersection\n",
      "\t G(7)-3; RP models-# of intersection\n",
      "\t G(1)-4; RP models-# of intersection\n",
      "\n",
      "SP models; G(16)  # drivers 57\n",
      "\t G(8)-1; RP models-# of intersection\n",
      "\t G(35)-1; RP models-# of intersection\n",
      "\t G(10)-2; RP models-# of intersection\n",
      "\t G(12)-1; RP models-# of intersection\n",
      "\t G(21)-1; RP models-# of intersection\n",
      "\t G(23)-1; RP models-# of intersection\n",
      "\t G(14)-2; RP models-# of intersection\n",
      "\t G(2)-4; RP models-# of intersection\n",
      "\t G(22)-1; RP models-# of intersection\n",
      "\t G(4)-1; RP models-# of intersection\n",
      "\t G(19)-1; RP models-# of intersection\n",
      "\t G(6)-1; RP models-# of intersection\n",
      "\t G(24)-1; RP models-# of intersection\n",
      "\t G(0)-8; RP models-# of intersection\n",
      "\t G(9)-2; RP models-# of intersection\n",
      "\t G(13)-1; RP models-# of intersection\n",
      "\t G(20)-1; RP models-# of intersection\n",
      "\t G(32)-2; RP models-# of intersection\n",
      "\t G(5)-3; RP models-# of intersection\n",
      "\t G(7)-2; RP models-# of intersection\n",
      "\t G(1)-3; RP models-# of intersection\n",
      "\n",
      "SP models; G(25)  # drivers 3\n",
      "\t G(31)-1; RP models-# of intersection\n",
      "\n",
      "SP models; G(27)  # drivers 3\n",
      "\t G(5)-1; RP models-# of intersection\n",
      "\n",
      "SP models; G(35)  # drivers 2\n",
      "\n",
      "SP models; G(10)  # drivers 92\n",
      "\t G(8)-3; RP models-# of intersection\n",
      "\t G(12)-2; RP models-# of intersection\n",
      "\t G(18)-3; RP models-# of intersection\n",
      "\t G(23)-1; RP models-# of intersection\n",
      "\t G(14)-1; RP models-# of intersection\n",
      "\t G(2)-5; RP models-# of intersection\n",
      "\t G(22)-2; RP models-# of intersection\n",
      "\t G(4)-1; RP models-# of intersection\n",
      "\t G(6)-4; RP models-# of intersection\n",
      "\t G(0)-5; RP models-# of intersection\n",
      "\t G(9)-4; RP models-# of intersection\n",
      "\t G(17)-3; RP models-# of intersection\n",
      "\t G(11)-2; RP models-# of intersection\n",
      "\t G(13)-1; RP models-# of intersection\n",
      "\t G(20)-2; RP models-# of intersection\n",
      "\t G(15)-3; RP models-# of intersection\n",
      "\t G(3)-2; RP models-# of intersection\n",
      "\t G(5)-5; RP models-# of intersection\n",
      "\t G(7)-2; RP models-# of intersection\n",
      "\t G(1)-6; RP models-# of intersection\n",
      "\n",
      "SP models; G(12)  # drivers 79\n",
      "\t G(8)-2; RP models-# of intersection\n",
      "\t G(16)-5; RP models-# of intersection\n",
      "\t G(10)-1; RP models-# of intersection\n",
      "\t G(12)-3; RP models-# of intersection\n",
      "\t G(18)-1; RP models-# of intersection\n",
      "\t G(14)-1; RP models-# of intersection\n",
      "\t G(2)-2; RP models-# of intersection\n",
      "\t G(4)-4; RP models-# of intersection\n",
      "\t G(6)-5; RP models-# of intersection\n",
      "\t G(0)-7; RP models-# of intersection\n",
      "\t G(17)-4; RP models-# of intersection\n",
      "\t G(11)-1; RP models-# of intersection\n",
      "\t G(13)-3; RP models-# of intersection\n",
      "\t G(20)-1; RP models-# of intersection\n",
      "\t G(3)-4; RP models-# of intersection\n",
      "\t G(5)-4; RP models-# of intersection\n",
      "\t G(7)-1; RP models-# of intersection\n",
      "\t G(1)-1; RP models-# of intersection\n",
      "\n",
      "SP models; G(29)  # drivers 2\n",
      "\t G(4)-1; RP models-# of intersection\n",
      "\n",
      "SP models; G(33)  # drivers 2\n",
      "\n",
      "SP models; G(18)  # drivers 47\n",
      "\t G(8)-1; RP models-# of intersection\n",
      "\t G(12)-1; RP models-# of intersection\n",
      "\t G(21)-1; RP models-# of intersection\n",
      "\t G(23)-1; RP models-# of intersection\n",
      "\t G(2)-3; RP models-# of intersection\n",
      "\t G(4)-1; RP models-# of intersection\n",
      "\t G(19)-1; RP models-# of intersection\n",
      "\t G(6)-1; RP models-# of intersection\n",
      "\t G(9)-4; RP models-# of intersection\n",
      "\t G(11)-1; RP models-# of intersection\n",
      "\t G(3)-5; RP models-# of intersection\n",
      "\t G(5)-1; RP models-# of intersection\n",
      "\t G(7)-3; RP models-# of intersection\n",
      "\n",
      "SP models; G(21)  # drivers 37\n",
      "\t G(8)-1; RP models-# of intersection\n",
      "\t G(16)-1; RP models-# of intersection\n",
      "\t G(23)-2; RP models-# of intersection\n",
      "\t G(2)-1; RP models-# of intersection\n",
      "\t G(19)-1; RP models-# of intersection\n",
      "\t G(24)-1; RP models-# of intersection\n",
      "\t G(9)-2; RP models-# of intersection\n",
      "\t G(17)-1; RP models-# of intersection\n",
      "\t G(13)-2; RP models-# of intersection\n",
      "\t G(20)-1; RP models-# of intersection\n",
      "\t G(15)-3; RP models-# of intersection\n",
      "\t G(3)-1; RP models-# of intersection\n",
      "\t G(5)-1; RP models-# of intersection\n",
      "\t G(7)-1; RP models-# of intersection\n",
      "\t G(1)-1; RP models-# of intersection\n",
      "\n",
      "SP models; G(23)  # drivers 9\n",
      "\t G(8)-1; RP models-# of intersection\n",
      "\t G(4)-3; RP models-# of intersection\n",
      "\t G(11)-1; RP models-# of intersection\n",
      "\t G(5)-2; RP models-# of intersection\n",
      "\n",
      "SP models; G(41)  # drivers 2\n",
      "\t G(1)-1; RP models-# of intersection\n",
      "\n",
      "SP models; G(31)  # drivers 2\n",
      "\t G(9)-1; RP models-# of intersection\n",
      "\n",
      "SP models; G(37)  # drivers 2\n",
      "\n",
      "SP models; G(14)  # drivers 72\n",
      "\t G(8)-2; RP models-# of intersection\n",
      "\t G(10)-2; RP models-# of intersection\n",
      "\t G(12)-2; RP models-# of intersection\n",
      "\t G(18)-1; RP models-# of intersection\n",
      "\t G(23)-2; RP models-# of intersection\n",
      "\t G(14)-2; RP models-# of intersection\n",
      "\t G(2)-4; RP models-# of intersection\n",
      "\t G(22)-2; RP models-# of intersection\n",
      "\t G(4)-5; RP models-# of intersection\n",
      "\t G(6)-2; RP models-# of intersection\n",
      "\t G(0)-2; RP models-# of intersection\n",
      "\t G(17)-2; RP models-# of intersection\n",
      "\t G(11)-2; RP models-# of intersection\n",
      "\t G(13)-2; RP models-# of intersection\n",
      "\t G(20)-2; RP models-# of intersection\n",
      "\t G(3)-3; RP models-# of intersection\n",
      "\t G(5)-4; RP models-# of intersection\n",
      "\t G(7)-2; RP models-# of intersection\n",
      "\t G(1)-3; RP models-# of intersection\n",
      "\n",
      "SP models; G(2)  # drivers 159\n",
      "\t G(8)-8; RP models-# of intersection\n",
      "\t G(16)-1; RP models-# of intersection\n",
      "\t G(25)-1; RP models-# of intersection\n",
      "\t G(10)-3; RP models-# of intersection\n",
      "\t G(12)-3; RP models-# of intersection\n",
      "\t G(21)-2; RP models-# of intersection\n",
      "\t G(23)-2; RP models-# of intersection\n",
      "\t G(14)-5; RP models-# of intersection\n",
      "\t G(2)-8; RP models-# of intersection\n",
      "\t G(22)-1; RP models-# of intersection\n",
      "\t G(4)-7; RP models-# of intersection\n",
      "\t G(19)-1; RP models-# of intersection\n",
      "\t G(6)-7; RP models-# of intersection\n",
      "\t G(24)-1; RP models-# of intersection\n",
      "\t G(39)-1; RP models-# of intersection\n",
      "\t G(0)-6; RP models-# of intersection\n",
      "\t G(9)-2; RP models-# of intersection\n",
      "\t G(17)-4; RP models-# of intersection\n",
      "\t G(11)-3; RP models-# of intersection\n",
      "\t G(13)-4; RP models-# of intersection\n",
      "\t G(15)-6; RP models-# of intersection\n",
      "\t G(3)-2; RP models-# of intersection\n",
      "\t G(5)-7; RP models-# of intersection\n",
      "\t G(7)-4; RP models-# of intersection\n",
      "\t G(45)-1; RP models-# of intersection\n",
      "\t G(1)-6; RP models-# of intersection\n",
      "\n",
      "SP models; G(4)  # drivers 129\n",
      "\t G(8)-3; RP models-# of intersection\n",
      "\t G(16)-1; RP models-# of intersection\n",
      "\t G(10)-7; RP models-# of intersection\n",
      "\t G(12)-3; RP models-# of intersection\n",
      "\t G(29)-1; RP models-# of intersection\n",
      "\t G(18)-1; RP models-# of intersection\n",
      "\t G(21)-3; RP models-# of intersection\n",
      "\t G(23)-2; RP models-# of intersection\n",
      "\t G(14)-1; RP models-# of intersection\n",
      "\t G(2)-6; RP models-# of intersection\n",
      "\t G(22)-3; RP models-# of intersection\n",
      "\t G(4)-5; RP models-# of intersection\n",
      "\t G(19)-2; RP models-# of intersection\n",
      "\t G(6)-4; RP models-# of intersection\n",
      "\t G(0)-3; RP models-# of intersection\n",
      "\t G(9)-2; RP models-# of intersection\n",
      "\t G(17)-1; RP models-# of intersection\n",
      "\t G(26)-2; RP models-# of intersection\n",
      "\t G(13)-3; RP models-# of intersection\n",
      "\t G(15)-1; RP models-# of intersection\n",
      "\t G(3)-5; RP models-# of intersection\n",
      "\t G(46)-1; RP models-# of intersection\n",
      "\t G(5)-4; RP models-# of intersection\n",
      "\t G(7)-3; RP models-# of intersection\n",
      "\t G(1)-5; RP models-# of intersection\n",
      "\n",
      "SP models; G(40)  # drivers 2\n",
      "\n",
      "SP models; G(19)  # drivers 41\n",
      "\t G(8)-2; RP models-# of intersection\n",
      "\t G(16)-1; RP models-# of intersection\n",
      "\t G(12)-2; RP models-# of intersection\n",
      "\t G(23)-1; RP models-# of intersection\n",
      "\t G(14)-2; RP models-# of intersection\n",
      "\t G(2)-1; RP models-# of intersection\n",
      "\t G(4)-1; RP models-# of intersection\n",
      "\t G(6)-2; RP models-# of intersection\n",
      "\t G(0)-2; RP models-# of intersection\n",
      "\t G(17)-1; RP models-# of intersection\n",
      "\t G(20)-3; RP models-# of intersection\n",
      "\t G(3)-1; RP models-# of intersection\n",
      "\t G(5)-1; RP models-# of intersection\n",
      "\t G(7)-1; RP models-# of intersection\n",
      "\n",
      "SP models; G(6)  # drivers 112\n",
      "\t G(8)-7; RP models-# of intersection\n",
      "\t G(16)-1; RP models-# of intersection\n",
      "\t G(27)-1; RP models-# of intersection\n",
      "\t G(10)-4; RP models-# of intersection\n",
      "\t G(12)-2; RP models-# of intersection\n",
      "\t G(18)-2; RP models-# of intersection\n",
      "\t G(14)-3; RP models-# of intersection\n",
      "\t G(2)-3; RP models-# of intersection\n",
      "\t G(22)-2; RP models-# of intersection\n",
      "\t G(4)-2; RP models-# of intersection\n",
      "\t G(19)-1; RP models-# of intersection\n",
      "\t G(6)-2; RP models-# of intersection\n",
      "\t G(24)-2; RP models-# of intersection\n",
      "\t G(0)-6; RP models-# of intersection\n",
      "\t G(9)-4; RP models-# of intersection\n",
      "\t G(11)-4; RP models-# of intersection\n",
      "\t G(13)-1; RP models-# of intersection\n",
      "\t G(15)-1; RP models-# of intersection\n",
      "\t G(3)-2; RP models-# of intersection\n",
      "\t G(5)-2; RP models-# of intersection\n",
      "\t G(7)-5; RP models-# of intersection\n",
      "\t G(1)-9; RP models-# of intersection\n",
      "\n",
      "SP models; G(24)  # drivers 5\n",
      "\t G(19)-1; RP models-# of intersection\n",
      "\t G(3)-1; RP models-# of intersection\n",
      "\t G(1)-1; RP models-# of intersection\n",
      "\n",
      "SP models; G(39)  # drivers 2\n",
      "\n",
      "SP models; G(0)  # drivers 226\n",
      "\t G(8)-11; RP models-# of intersection\n",
      "\t G(16)-8; RP models-# of intersection\n",
      "\t G(47)-1; RP models-# of intersection\n",
      "\t G(10)-3; RP models-# of intersection\n",
      "\t G(12)-2; RP models-# of intersection\n",
      "\t G(18)-1; RP models-# of intersection\n",
      "\t G(21)-3; RP models-# of intersection\n",
      "\t G(23)-3; RP models-# of intersection\n",
      "\t G(41)-1; RP models-# of intersection\n",
      "\t G(14)-3; RP models-# of intersection\n",
      "\t G(2)-6; RP models-# of intersection\n",
      "\t G(22)-2; RP models-# of intersection\n",
      "\t G(4)-6; RP models-# of intersection\n",
      "\t G(19)-4; RP models-# of intersection\n",
      "\t G(6)-6; RP models-# of intersection\n",
      "\t G(24)-1; RP models-# of intersection\n",
      "\t G(0)-8; RP models-# of intersection\n",
      "\t G(9)-3; RP models-# of intersection\n",
      "\t G(17)-3; RP models-# of intersection\n",
      "\t G(34)-1; RP models-# of intersection\n",
      "\t G(11)-9; RP models-# of intersection\n",
      "\t G(13)-4; RP models-# of intersection\n",
      "\t G(15)-4; RP models-# of intersection\n",
      "\t G(3)-12; RP models-# of intersection\n",
      "\t G(5)-8; RP models-# of intersection\n",
      "\t G(7)-10; RP models-# of intersection\n",
      "\t G(1)-8; RP models-# of intersection\n",
      "\n",
      "SP models; G(9)  # drivers 94\n",
      "\t G(8)-6; RP models-# of intersection\n",
      "\t G(10)-3; RP models-# of intersection\n",
      "\t G(12)-1; RP models-# of intersection\n",
      "\t G(18)-1; RP models-# of intersection\n",
      "\t G(23)-1; RP models-# of intersection\n",
      "\t G(14)-2; RP models-# of intersection\n",
      "\t G(2)-5; RP models-# of intersection\n",
      "\t G(22)-1; RP models-# of intersection\n",
      "\t G(4)-3; RP models-# of intersection\n",
      "\t G(19)-1; RP models-# of intersection\n",
      "\t G(6)-1; RP models-# of intersection\n",
      "\t G(0)-6; RP models-# of intersection\n",
      "\t G(9)-4; RP models-# of intersection\n",
      "\t G(17)-3; RP models-# of intersection\n",
      "\t G(11)-2; RP models-# of intersection\n",
      "\t G(13)-1; RP models-# of intersection\n",
      "\t G(20)-1; RP models-# of intersection\n",
      "\t G(15)-4; RP models-# of intersection\n",
      "\t G(3)-3; RP models-# of intersection\n",
      "\t G(5)-1; RP models-# of intersection\n",
      "\t G(7)-1; RP models-# of intersection\n",
      "\t G(38)-1; RP models-# of intersection\n",
      "\t G(1)-4; RP models-# of intersection\n",
      "\n",
      "SP models; G(36)  # drivers 2\n",
      "\n",
      "SP models; G(17)  # drivers 49\n",
      "\t G(8)-1; RP models-# of intersection\n",
      "\t G(10)-2; RP models-# of intersection\n",
      "\t G(12)-3; RP models-# of intersection\n",
      "\t G(23)-1; RP models-# of intersection\n",
      "\t G(14)-1; RP models-# of intersection\n",
      "\t G(2)-1; RP models-# of intersection\n",
      "\t G(22)-1; RP models-# of intersection\n",
      "\t G(0)-1; RP models-# of intersection\n",
      "\t G(11)-2; RP models-# of intersection\n",
      "\t G(13)-3; RP models-# of intersection\n",
      "\t G(20)-1; RP models-# of intersection\n",
      "\t G(15)-2; RP models-# of intersection\n",
      "\t G(3)-2; RP models-# of intersection\n",
      "\t G(5)-2; RP models-# of intersection\n",
      "\t G(7)-3; RP models-# of intersection\n",
      "\t G(1)-1; RP models-# of intersection\n",
      "\n",
      "SP models; G(34)  # drivers 2\n",
      "\t G(11)-1; RP models-# of intersection\n",
      "\n",
      "SP models; G(11)  # drivers 87\n",
      "\t G(8)-3; RP models-# of intersection\n",
      "\t G(16)-5; RP models-# of intersection\n",
      "\t G(12)-3; RP models-# of intersection\n",
      "\t G(18)-2; RP models-# of intersection\n",
      "\t G(21)-1; RP models-# of intersection\n",
      "\t G(2)-2; RP models-# of intersection\n",
      "\t G(22)-1; RP models-# of intersection\n",
      "\t G(4)-2; RP models-# of intersection\n",
      "\t G(6)-6; RP models-# of intersection\n",
      "\t G(24)-1; RP models-# of intersection\n",
      "\t G(0)-9; RP models-# of intersection\n",
      "\t G(9)-2; RP models-# of intersection\n",
      "\t G(11)-1; RP models-# of intersection\n",
      "\t G(15)-1; RP models-# of intersection\n",
      "\t G(3)-2; RP models-# of intersection\n",
      "\t G(5)-5; RP models-# of intersection\n",
      "\t G(7)-4; RP models-# of intersection\n",
      "\t G(1)-3; RP models-# of intersection\n",
      "\n",
      "SP models; G(26)  # drivers 3\n",
      "\t G(24)-1; RP models-# of intersection\n",
      "\n",
      "SP models; G(28)  # drivers 2\n",
      "\n",
      "SP models; G(13)  # drivers 75\n",
      "\t G(8)-1; RP models-# of intersection\n",
      "\t G(16)-1; RP models-# of intersection\n",
      "\t G(35)-1; RP models-# of intersection\n",
      "\t G(12)-2; RP models-# of intersection\n",
      "\t G(21)-1; RP models-# of intersection\n",
      "\t G(23)-1; RP models-# of intersection\n",
      "\t G(2)-8; RP models-# of intersection\n",
      "\t G(19)-1; RP models-# of intersection\n",
      "\t G(6)-2; RP models-# of intersection\n",
      "\t G(24)-2; RP models-# of intersection\n",
      "\t G(0)-3; RP models-# of intersection\n",
      "\t G(9)-2; RP models-# of intersection\n",
      "\t G(17)-2; RP models-# of intersection\n",
      "\t G(11)-3; RP models-# of intersection\n",
      "\t G(13)-2; RP models-# of intersection\n",
      "\t G(20)-4; RP models-# of intersection\n",
      "\t G(3)-2; RP models-# of intersection\n",
      "\t G(5)-1; RP models-# of intersection\n",
      "\t G(7)-3; RP models-# of intersection\n",
      "\t G(1)-6; RP models-# of intersection\n",
      "\n",
      "SP models; G(20)  # drivers 40\n",
      "\t G(8)-1; RP models-# of intersection\n",
      "\t G(10)-1; RP models-# of intersection\n",
      "\t G(12)-1; RP models-# of intersection\n",
      "\t G(23)-1; RP models-# of intersection\n",
      "\t G(14)-1; RP models-# of intersection\n",
      "\t G(2)-3; RP models-# of intersection\n",
      "\t G(6)-1; RP models-# of intersection\n",
      "\t G(24)-2; RP models-# of intersection\n",
      "\t G(9)-2; RP models-# of intersection\n",
      "\t G(13)-1; RP models-# of intersection\n",
      "\t G(20)-1; RP models-# of intersection\n",
      "\t G(3)-1; RP models-# of intersection\n",
      "\t G(5)-2; RP models-# of intersection\n",
      "\t G(7)-3; RP models-# of intersection\n",
      "\n",
      "SP models; G(32)  # drivers 2\n",
      "\t G(7)-1; RP models-# of intersection\n",
      "\n",
      "SP models; G(30)  # drivers 2\n",
      "\n",
      "SP models; G(15)  # drivers 69\n",
      "\t G(8)-2; RP models-# of intersection\n",
      "\t G(16)-2; RP models-# of intersection\n",
      "\t G(10)-2; RP models-# of intersection\n",
      "\t G(18)-1; RP models-# of intersection\n",
      "\t G(21)-2; RP models-# of intersection\n",
      "\t G(14)-1; RP models-# of intersection\n",
      "\t G(22)-2; RP models-# of intersection\n",
      "\t G(4)-5; RP models-# of intersection\n",
      "\t G(19)-2; RP models-# of intersection\n",
      "\t G(6)-4; RP models-# of intersection\n",
      "\t G(39)-1; RP models-# of intersection\n",
      "\t G(0)-3; RP models-# of intersection\n",
      "\t G(9)-1; RP models-# of intersection\n",
      "\t G(11)-4; RP models-# of intersection\n",
      "\t G(3)-2; RP models-# of intersection\n",
      "\t G(5)-2; RP models-# of intersection\n",
      "\t G(7)-2; RP models-# of intersection\n",
      "\t G(1)-2; RP models-# of intersection\n",
      "\n",
      "SP models; G(22)  # drivers 26\n",
      "\t G(14)-1; RP models-# of intersection\n",
      "\t G(4)-2; RP models-# of intersection\n",
      "\t G(19)-1; RP models-# of intersection\n",
      "\t G(6)-2; RP models-# of intersection\n",
      "\t G(0)-2; RP models-# of intersection\n",
      "\t G(9)-2; RP models-# of intersection\n",
      "\t G(11)-1; RP models-# of intersection\n",
      "\t G(15)-2; RP models-# of intersection\n",
      "\t G(3)-1; RP models-# of intersection\n",
      "\n",
      "SP models; G(42)  # drivers 2\n",
      "\n",
      "SP models; G(3)  # drivers 142\n",
      "\t G(8)-2; RP models-# of intersection\n",
      "\t G(16)-3; RP models-# of intersection\n",
      "\t G(10)-4; RP models-# of intersection\n",
      "\t G(12)-3; RP models-# of intersection\n",
      "\t G(33)-1; RP models-# of intersection\n",
      "\t G(18)-1; RP models-# of intersection\n",
      "\t G(21)-4; RP models-# of intersection\n",
      "\t G(23)-2; RP models-# of intersection\n",
      "\t G(41)-1; RP models-# of intersection\n",
      "\t G(14)-4; RP models-# of intersection\n",
      "\t G(2)-7; RP models-# of intersection\n",
      "\t G(22)-2; RP models-# of intersection\n",
      "\t G(4)-3; RP models-# of intersection\n",
      "\t G(19)-6; RP models-# of intersection\n",
      "\t G(6)-1; RP models-# of intersection\n",
      "\t G(0)-5; RP models-# of intersection\n",
      "\t G(9)-3; RP models-# of intersection\n",
      "\t G(17)-1; RP models-# of intersection\n",
      "\t G(11)-5; RP models-# of intersection\n",
      "\t G(28)-1; RP models-# of intersection\n",
      "\t G(13)-4; RP models-# of intersection\n",
      "\t G(20)-2; RP models-# of intersection\n",
      "\t G(15)-4; RP models-# of intersection\n",
      "\t G(3)-6; RP models-# of intersection\n",
      "\t G(5)-3; RP models-# of intersection\n",
      "\t G(7)-6; RP models-# of intersection\n",
      "\t G(1)-9; RP models-# of intersection\n",
      "\n",
      "SP models; G(5)  # drivers 121\n",
      "\t G(8)-1; RP models-# of intersection\n",
      "\t G(10)-2; RP models-# of intersection\n",
      "\t G(12)-1; RP models-# of intersection\n",
      "\t G(18)-4; RP models-# of intersection\n",
      "\t G(21)-1; RP models-# of intersection\n",
      "\t G(14)-2; RP models-# of intersection\n",
      "\t G(2)-4; RP models-# of intersection\n",
      "\t G(22)-1; RP models-# of intersection\n",
      "\t G(4)-4; RP models-# of intersection\n",
      "\t G(19)-1; RP models-# of intersection\n",
      "\t G(6)-5; RP models-# of intersection\n",
      "\t G(0)-9; RP models-# of intersection\n",
      "\t G(9)-4; RP models-# of intersection\n",
      "\t G(17)-1; RP models-# of intersection\n",
      "\t G(11)-2; RP models-# of intersection\n",
      "\t G(26)-1; RP models-# of intersection\n",
      "\t G(13)-1; RP models-# of intersection\n",
      "\t G(20)-2; RP models-# of intersection\n",
      "\t G(15)-2; RP models-# of intersection\n",
      "\t G(3)-3; RP models-# of intersection\n",
      "\t G(5)-3; RP models-# of intersection\n",
      "\t G(7)-3; RP models-# of intersection\n",
      "\t G(1)-4; RP models-# of intersection\n",
      "\n",
      "SP models; G(7)  # drivers 112\n",
      "\t G(8)-6; RP models-# of intersection\n",
      "\t G(16)-1; RP models-# of intersection\n",
      "\t G(10)-5; RP models-# of intersection\n",
      "\t G(12)-2; RP models-# of intersection\n",
      "\t G(18)-1; RP models-# of intersection\n",
      "\t G(21)-1; RP models-# of intersection\n",
      "\t G(23)-1; RP models-# of intersection\n",
      "\t G(14)-1; RP models-# of intersection\n",
      "\t G(2)-6; RP models-# of intersection\n",
      "\t G(4)-9; RP models-# of intersection\n",
      "\t G(19)-1; RP models-# of intersection\n",
      "\t G(6)-4; RP models-# of intersection\n",
      "\t G(24)-2; RP models-# of intersection\n",
      "\t G(0)-8; RP models-# of intersection\n",
      "\t G(9)-7; RP models-# of intersection\n",
      "\t G(11)-2; RP models-# of intersection\n",
      "\t G(13)-1; RP models-# of intersection\n",
      "\t G(15)-1; RP models-# of intersection\n",
      "\t G(44)-1; RP models-# of intersection\n",
      "\t G(3)-3; RP models-# of intersection\n",
      "\t G(5)-3; RP models-# of intersection\n",
      "\t G(7)-5; RP models-# of intersection\n",
      "\t G(1)-5; RP models-# of intersection\n",
      "\n",
      "SP models; G(38)  # drivers 2\n",
      "\t G(18)-1; RP models-# of intersection\n",
      "\t G(1)-1; RP models-# of intersection\n",
      "\n",
      "SP models; G(1)  # drivers 198\n",
      "\t G(8)-11; RP models-# of intersection\n",
      "\t G(16)-5; RP models-# of intersection\n",
      "\t G(10)-9; RP models-# of intersection\n",
      "\t G(12)-4; RP models-# of intersection\n",
      "\t G(43)-1; RP models-# of intersection\n",
      "\t G(18)-5; RP models-# of intersection\n",
      "\t G(21)-1; RP models-# of intersection\n",
      "\t G(23)-2; RP models-# of intersection\n",
      "\t G(14)-7; RP models-# of intersection\n",
      "\t G(2)-6; RP models-# of intersection\n",
      "\t G(22)-3; RP models-# of intersection\n",
      "\t G(4)-8; RP models-# of intersection\n",
      "\t G(6)-8; RP models-# of intersection\n",
      "\t G(24)-1; RP models-# of intersection\n",
      "\t G(0)-7; RP models-# of intersection\n",
      "\t G(9)-6; RP models-# of intersection\n",
      "\t G(17)-3; RP models-# of intersection\n",
      "\t G(34)-1; RP models-# of intersection\n",
      "\t G(11)-3; RP models-# of intersection\n",
      "\t G(28)-1; RP models-# of intersection\n",
      "\t G(13)-7; RP models-# of intersection\n",
      "\t G(20)-3; RP models-# of intersection\n",
      "\t G(15)-2; RP models-# of intersection\n",
      "\t G(3)-6; RP models-# of intersection\n",
      "\t G(5)-4; RP models-# of intersection\n",
      "\t G(7)-6; RP models-# of intersection\n",
      "\t G(45)-1; RP models-# of intersection\n",
      "\t G(1)-11; RP models-# of intersection\n",
      "\t G(48)-1; RP models-# of intersection\n",
      "\n"
     ]
    }
   ],
   "source": [
    "for sp_gn, sp_drivers in SP_group_drivers.iteritems():\n",
    "#     if sp_gn != 'G(22)':\n",
    "#         continue\n",
    "    print 'SP models; %s  # drivers %d' % (sp_gn, len(sp_drivers))\n",
    "    for rp_gn, rp_drivers in RP_group_drivers.iteritems():\n",
    "        numInter = len(set(sp_drivers).intersection(set(rp_drivers)))\n",
    "        if numInter == 0:\n",
    "            continue\n",
    "        print '\\t %s-%d; RP models-# of intersection' % (rp_gn, numInter)\n",
    "    print ''"
   ]
  },
  {
   "cell_type": "code",
   "execution_count": 4,
   "metadata": {
    "collapsed": true
   },
   "outputs": [],
   "source": [
    "numPairs_SP, numPairs_RP = len(SP_graph), len(RP_graph)\n",
    "SP_pairs = set(SP_graph.keys())\n",
    "RP_pairs = set(RP_graph.keys())"
   ]
  },
  {
   "cell_type": "code",
   "execution_count": 14,
   "metadata": {
    "collapsed": false
   },
   "outputs": [
    {
     "data": {
      "text/html": [
       "<font size=5># of edges in SP graph: 4755</font>"
      ],
      "text/plain": [
       "<IPython.core.display.HTML object>"
      ]
     },
     "metadata": {},
     "output_type": "display_data"
    },
    {
     "data": {
      "text/html": [
       "<font size=5># of edges in RP graph: 2694</font>"
      ],
      "text/plain": [
       "<IPython.core.display.HTML object>"
      ]
     },
     "metadata": {},
     "output_type": "display_data"
    },
    {
     "data": {
      "text/html": [
       "<font size=5># of intersection edges: 132</font>"
      ],
      "text/plain": [
       "<IPython.core.display.HTML object>"
      ]
     },
     "metadata": {},
     "output_type": "display_data"
    }
   ],
   "source": [
    "text = '# of edges in SP graph: %d' % len(SP_pairs)\n",
    "text_display(text, 5)\n",
    "text = '# of edges in RP graph: %d' % len(RP_pairs)\n",
    "text_display(text, 5)\n",
    "text = '# of intersection edges: %d' % len(SP_pairs.intersection(RP_pairs))\n",
    "text_display(text, 5)"
   ]
  },
  {
   "cell_type": "code",
   "execution_count": 15,
   "metadata": {
    "collapsed": false
   },
   "outputs": [
    {
     "data": {
      "text/html": [
       "<font size=3>14597-5438(60.476,155.798); SP(G(0),G(19)), RP(G(16),G(16))</font>"
      ],
      "text/plain": [
       "<IPython.core.display.HTML object>"
      ]
     },
     "metadata": {},
     "output_type": "display_data"
    },
    {
     "data": {
      "text/html": [
       "<font size=3>37031-3672(36.253,97.497); SP(G(3),G(3)), RP(G(19),G(15))</font>"
      ],
      "text/plain": [
       "<IPython.core.display.HTML object>"
      ]
     },
     "metadata": {},
     "output_type": "display_data"
    },
    {
     "data": {
      "text/html": [
       "<font size=3>4733-7413(52.889,258.583); SP(G(10),G(0)), RP(G(3),G(3))</font>"
      ],
      "text/plain": [
       "<IPython.core.display.HTML object>"
      ]
     },
     "metadata": {},
     "output_type": "display_data"
    },
    {
     "data": {
      "text/html": [
       "<font size=3>199-572(268.578,788.446); SP(G(3),G(3)), RP(G(11),G(11))</font>"
      ],
      "text/plain": [
       "<IPython.core.display.HTML object>"
      ]
     },
     "metadata": {},
     "output_type": "display_data"
    },
    {
     "data": {
      "text/html": [
       "<font size=3>5291-2938(62.673,242.740); SP(G(6),G(3)), RP(G(0),G(7))</font>"
      ],
      "text/plain": [
       "<IPython.core.display.HTML object>"
      ]
     },
     "metadata": {},
     "output_type": "display_data"
    },
    {
     "data": {
      "text/html": [
       "<font size=3>5616-18426(61.225,157.586); SP(G(16),G(16)), RP(G(0),G(2))</font>"
      ],
      "text/plain": [
       "<IPython.core.display.HTML object>"
      ]
     },
     "metadata": {},
     "output_type": "display_data"
    },
    {
     "data": {
      "text/html": [
       "<font size=3>7219-14112(42.488,106.944); SP(G(1),G(15)), RP(G(11),G(5))</font>"
      ],
      "text/plain": [
       "<IPython.core.display.HTML object>"
      ]
     },
     "metadata": {},
     "output_type": "display_data"
    },
    {
     "data": {
      "text/html": [
       "<font size=3>20641-16798(45.941,109.098); SP(G(14),G(14)), RP(G(10),G(14))</font>"
      ],
      "text/plain": [
       "<IPython.core.display.HTML object>"
      ]
     },
     "metadata": {},
     "output_type": "display_data"
    },
    {
     "data": {
      "text/html": [
       "<font size=3>21698-16401(173.203,318.818); SP(G(15),G(15)), RP(G(19),G(19))</font>"
      ],
      "text/plain": [
       "<IPython.core.display.HTML object>"
      ]
     },
     "metadata": {},
     "output_type": "display_data"
    },
    {
     "data": {
      "text/html": [
       "<font size=3>34211-21029(19.584,109.449); SP(G(10),G(2)), RP(G(5),G(8))</font>"
      ],
      "text/plain": [
       "<IPython.core.display.HTML object>"
      ]
     },
     "metadata": {},
     "output_type": "display_data"
    },
    {
     "data": {
      "text/html": [
       "<font size=3>34059-199(65.495,105.494); SP(G(4),G(3)), RP(G(5),G(11))</font>"
      ],
      "text/plain": [
       "<IPython.core.display.HTML object>"
      ]
     },
     "metadata": {},
     "output_type": "display_data"
    },
    {
     "data": {
      "text/html": [
       "<font size=3>1322-36158(474.881,663.540); SP(G(12),G(12)), RP(G(16),G(16))</font>"
      ],
      "text/plain": [
       "<IPython.core.display.HTML object>"
      ]
     },
     "metadata": {},
     "output_type": "display_data"
    },
    {
     "data": {
      "text/html": [
       "<font size=3>32407-20625(75.979,164.806); SP(G(5),G(5)), RP(G(9),G(9))</font>"
      ],
      "text/plain": [
       "<IPython.core.display.HTML object>"
      ]
     },
     "metadata": {},
     "output_type": "display_data"
    },
    {
     "data": {
      "text/html": [
       "<font size=3>18441-18438(61.223,139.361); SP(G(10),G(10)), RP(G(0),G(11))</font>"
      ],
      "text/plain": [
       "<IPython.core.display.HTML object>"
      ]
     },
     "metadata": {},
     "output_type": "display_data"
    },
    {
     "data": {
      "text/html": [
       "<font size=3>20641-5616(51.302,107.147); SP(G(14),G(16)), RP(G(10),G(0))</font>"
      ],
      "text/plain": [
       "<IPython.core.display.HTML object>"
      ]
     },
     "metadata": {},
     "output_type": "display_data"
    },
    {
     "data": {
      "text/html": [
       "<font size=3>18506-21738(50.196,162.118); SP(G(3),G(9)), RP(G(11),G(4))</font>"
      ],
      "text/plain": [
       "<IPython.core.display.HTML object>"
      ]
     },
     "metadata": {},
     "output_type": "display_data"
    },
    {
     "data": {
      "text/html": [
       "<font size=3>19877-8622(79.919,154.517); SP(G(5),G(9)), RP(G(1),G(15))</font>"
      ],
      "text/plain": [
       "<IPython.core.display.HTML object>"
      ]
     },
     "metadata": {},
     "output_type": "display_data"
    },
    {
     "data": {
      "text/html": [
       "<font size=3>35571-35458(130.078,339.372); SP(G(11),G(11)), RP(G(7),G(7))</font>"
      ],
      "text/plain": [
       "<IPython.core.display.HTML object>"
      ]
     },
     "metadata": {},
     "output_type": "display_data"
    },
    {
     "data": {
      "text/html": [
       "<font size=3>22331-31940(290.304,628.326); SP(G(2),G(2)), RP(G(7),G(7))</font>"
      ],
      "text/plain": [
       "<IPython.core.display.HTML object>"
      ]
     },
     "metadata": {},
     "output_type": "display_data"
    },
    {
     "data": {
      "text/html": [
       "<font size=3>16606-35013(143.762,720.185); SP(G(11),G(12)), RP(G(16),G(6))</font>"
      ],
      "text/plain": [
       "<IPython.core.display.HTML object>"
      ]
     },
     "metadata": {},
     "output_type": "display_data"
    },
    {
     "data": {
      "text/html": [
       "<font size=3>1037-10260(15.237,116.248); SP(G(2),G(8)), RP(G(8),G(0))</font>"
      ],
      "text/plain": [
       "<IPython.core.display.HTML object>"
      ]
     },
     "metadata": {},
     "output_type": "display_data"
    },
    {
     "data": {
      "text/html": [
       "<font size=3>22301-666(120.611,226.001); SP(G(19),G(4)), RP(G(6),G(4))</font>"
      ],
      "text/plain": [
       "<IPython.core.display.HTML object>"
      ]
     },
     "metadata": {},
     "output_type": "display_data"
    },
    {
     "data": {
      "text/html": [
       "<font size=3>5453-10551(208.030,535.867); SP(G(2),G(19)), RP(G(14),G(14))</font>"
      ],
      "text/plain": [
       "<IPython.core.display.HTML object>"
      ]
     },
     "metadata": {},
     "output_type": "display_data"
    },
    {
     "data": {
      "text/html": [
       "<font size=3>21488-3189(37.811,114.307); SP(G(13),G(8)), RP(G(20),G(2))</font>"
      ],
      "text/plain": [
       "<IPython.core.display.HTML object>"
      ]
     },
     "metadata": {},
     "output_type": "display_data"
    },
    {
     "data": {
      "text/html": [
       "<font size=3>4415-15671(34.123,121.595); SP(G(8),G(4)), RP(G(11),G(22))</font>"
      ],
      "text/plain": [
       "<IPython.core.display.HTML object>"
      ]
     },
     "metadata": {},
     "output_type": "display_data"
    },
    {
     "data": {
      "text/html": [
       "<font size=3>21957-950(78.521,155.545); SP(G(5),G(5)), RP(G(2),G(5))</font>"
      ],
      "text/plain": [
       "<IPython.core.display.HTML object>"
      ]
     },
     "metadata": {},
     "output_type": "display_data"
    },
    {
     "data": {
      "text/html": [
       "<font size=3>4733-3129(33.085,121.852); SP(G(10),G(0)), RP(G(3),G(3))</font>"
      ],
      "text/plain": [
       "<IPython.core.display.HTML object>"
      ]
     },
     "metadata": {},
     "output_type": "display_data"
    },
    {
     "data": {
      "text/html": [
       "<font size=3>20420-34591(55.419,204.596); SP(G(4),G(4)), RP(G(8),G(2))</font>"
      ],
      "text/plain": [
       "<IPython.core.display.HTML object>"
      ]
     },
     "metadata": {},
     "output_type": "display_data"
    },
    {
     "data": {
      "text/html": [
       "<font size=3>34587-34467(55.125,114.525); SP(G(5),G(4)), RP(G(2),G(13))</font>"
      ],
      "text/plain": [
       "<IPython.core.display.HTML object>"
      ]
     },
     "metadata": {},
     "output_type": "display_data"
    },
    {
     "data": {
      "text/html": [
       "<font size=3>10284-4611(97.222,230.760); SP(G(12),G(12)), RP(G(5),G(5))</font>"
      ],
      "text/plain": [
       "<IPython.core.display.HTML object>"
      ]
     },
     "metadata": {},
     "output_type": "display_data"
    },
    {
     "data": {
      "text/html": [
       "<font size=3>2020-21542(44.006,171.988); SP(G(13),G(13)), RP(G(20),G(20))</font>"
      ],
      "text/plain": [
       "<IPython.core.display.HTML object>"
      ]
     },
     "metadata": {},
     "output_type": "display_data"
    },
    {
     "data": {
      "text/html": [
       "<font size=3>7219-18438(59.862,139.266); SP(G(1),G(10)), RP(G(11),G(11))</font>"
      ],
      "text/plain": [
       "<IPython.core.display.HTML object>"
      ]
     },
     "metadata": {},
     "output_type": "display_data"
    },
    {
     "data": {
      "text/html": [
       "<font size=3>2818-18331(428.435,932.804); SP(G(16),G(12)), RP(G(0),G(0))</font>"
      ],
      "text/plain": [
       "<IPython.core.display.HTML object>"
      ]
     },
     "metadata": {},
     "output_type": "display_data"
    },
    {
     "data": {
      "text/html": [
       "<font size=3>14095-4385(71.554,166.145); SP(G(1),G(15)), RP(G(13),G(11))</font>"
      ],
      "text/plain": [
       "<IPython.core.display.HTML object>"
      ]
     },
     "metadata": {},
     "output_type": "display_data"
    },
    {
     "data": {
      "text/html": [
       "<font size=3>35021-21838(1027.184,5898.558); SP(G(14),G(14)), RP(G(20),G(20))</font>"
      ],
      "text/plain": [
       "<IPython.core.display.HTML object>"
      ]
     },
     "metadata": {},
     "output_type": "display_data"
    },
    {
     "data": {
      "text/html": [
       "<font size=3>16695-35055(186.576,416.046); SP(G(6),G(6)), RP(G(10),G(10))</font>"
      ],
      "text/plain": [
       "<IPython.core.display.HTML object>"
      ]
     },
     "metadata": {},
     "output_type": "display_data"
    },
    {
     "data": {
      "text/html": [
       "<font size=3>10049-16199(37.057,137.909); SP(G(7),G(7)), RP(G(4),G(4))</font>"
      ],
      "text/plain": [
       "<IPython.core.display.HTML object>"
      ]
     },
     "metadata": {},
     "output_type": "display_data"
    },
    {
     "data": {
      "text/html": [
       "<font size=3>366-19872(76.450,124.393); SP(G(3),G(17)), RP(G(1),G(0))</font>"
      ],
      "text/plain": [
       "<IPython.core.display.HTML object>"
      ]
     },
     "metadata": {},
     "output_type": "display_data"
    },
    {
     "data": {
      "text/html": [
       "<font size=3>26155-10309(114.849,223.820); SP(G(8),G(8)), RP(G(18),G(18))</font>"
      ],
      "text/plain": [
       "<IPython.core.display.HTML object>"
      ]
     },
     "metadata": {},
     "output_type": "display_data"
    },
    {
     "data": {
      "text/html": [
       "<font size=3>9175-18347(96.394,277.735); SP(G(6),G(13)), RP(G(7),G(7))</font>"
      ],
      "text/plain": [
       "<IPython.core.display.HTML object>"
      ]
     },
     "metadata": {},
     "output_type": "display_data"
    },
    {
     "data": {
      "text/html": [
       "<font size=3>21988-35535(65.527,181.679); SP(G(3),G(4)), RP(G(1),G(1))</font>"
      ],
      "text/plain": [
       "<IPython.core.display.HTML object>"
      ]
     },
     "metadata": {},
     "output_type": "display_data"
    },
    {
     "data": {
      "text/html": [
       "<font size=3>21639-34739(52.853,186.595); SP(G(0),G(12)), RP(G(0),G(0))</font>"
      ],
      "text/plain": [
       "<IPython.core.display.HTML object>"
      ]
     },
     "metadata": {},
     "output_type": "display_data"
    },
    {
     "data": {
      "text/html": [
       "<font size=3>37575-36158(470.983,825.979); SP(G(12),G(12)), RP(G(16),G(16))</font>"
      ],
      "text/plain": [
       "<IPython.core.display.HTML object>"
      ]
     },
     "metadata": {},
     "output_type": "display_data"
    },
    {
     "data": {
      "text/html": [
       "<font size=3>18506-10996(60.426,117.663); SP(G(3),G(7)), RP(G(11),G(11))</font>"
      ],
      "text/plain": [
       "<IPython.core.display.HTML object>"
      ]
     },
     "metadata": {},
     "output_type": "display_data"
    },
    {
     "data": {
      "text/html": [
       "<font size=3>18161-42416(72.656,205.051); SP(G(12),G(12)), RP(G(0),G(0))</font>"
      ],
      "text/plain": [
       "<IPython.core.display.HTML object>"
      ]
     },
     "metadata": {},
     "output_type": "display_data"
    },
    {
     "data": {
      "text/html": [
       "<font size=3>14959-10172(57.016,96.204); SP(G(0),G(4)), RP(G(6),G(7))</font>"
      ],
      "text/plain": [
       "<IPython.core.display.HTML object>"
      ]
     },
     "metadata": {},
     "output_type": "display_data"
    },
    {
     "data": {
      "text/html": [
       "<font size=3>19358-18170(70.698,244.437); SP(G(16),G(7)), RP(G(0),G(0))</font>"
      ],
      "text/plain": [
       "<IPython.core.display.HTML object>"
      ]
     },
     "metadata": {},
     "output_type": "display_data"
    },
    {
     "data": {
      "text/html": [
       "<font size=3>5718-3469(51.347,316.583); SP(G(15),G(2)), RP(G(6),G(6))</font>"
      ],
      "text/plain": [
       "<IPython.core.display.HTML object>"
      ]
     },
     "metadata": {},
     "output_type": "display_data"
    },
    {
     "data": {
      "text/html": [
       "<font size=3>28942-24837(61.085,253.430); SP(G(5),G(1)), RP(G(15),G(15))</font>"
      ],
      "text/plain": [
       "<IPython.core.display.HTML object>"
      ]
     },
     "metadata": {},
     "output_type": "display_data"
    },
    {
     "data": {
      "text/html": [
       "<font size=3>35440-34211(131.986,424.602); SP(G(10),G(10)), RP(G(5),G(5))</font>"
      ],
      "text/plain": [
       "<IPython.core.display.HTML object>"
      ]
     },
     "metadata": {},
     "output_type": "display_data"
    },
    {
     "data": {
      "text/html": [
       "<font size=3>5860-36772(71.002,156.275); SP(G(6),G(21)), RP(G(1),G(1))</font>"
      ],
      "text/plain": [
       "<IPython.core.display.HTML object>"
      ]
     },
     "metadata": {},
     "output_type": "display_data"
    },
    {
     "data": {
      "text/html": [
       "<font size=3>21457-17889(231.121,621.470); SP(G(0),G(21)), RP(G(1),G(17))</font>"
      ],
      "text/plain": [
       "<IPython.core.display.HTML object>"
      ]
     },
     "metadata": {},
     "output_type": "display_data"
    },
    {
     "data": {
      "text/html": [
       "<font size=3>21959-4947(129.272,229.884); SP(G(0),G(16)), RP(G(0),G(0))</font>"
      ],
      "text/plain": [
       "<IPython.core.display.HTML object>"
      ]
     },
     "metadata": {},
     "output_type": "display_data"
    },
    {
     "data": {
      "text/html": [
       "<font size=3>37532-23247(4060.302,1919.781); SP(G(22),G(22)), RP(G(15),G(15))</font>"
      ],
      "text/plain": [
       "<IPython.core.display.HTML object>"
      ]
     },
     "metadata": {},
     "output_type": "display_data"
    },
    {
     "data": {
      "text/html": [
       "<font size=3>8468-17637(712.727,1226.082); SP(G(9),G(9)), RP(G(17),G(17))</font>"
      ],
      "text/plain": [
       "<IPython.core.display.HTML object>"
      ]
     },
     "metadata": {},
     "output_type": "display_data"
    },
    {
     "data": {
      "text/html": [
       "<font size=3>26134-33729(666.438,2311.976); SP(G(0),G(1)), RP(G(13),G(13))</font>"
      ],
      "text/plain": [
       "<IPython.core.display.HTML object>"
      ]
     },
     "metadata": {},
     "output_type": "display_data"
    },
    {
     "data": {
      "text/html": [
       "<font size=3>17703-34589(70.783,124.166); SP(G(9),G(4)), RP(G(12),G(6))</font>"
      ],
      "text/plain": [
       "<IPython.core.display.HTML object>"
      ]
     },
     "metadata": {},
     "output_type": "display_data"
    },
    {
     "data": {
      "text/html": [
       "<font size=3>6608-37159(1025.034,1282.935); SP(G(19),G(19)), RP(G(14),G(20))</font>"
      ],
      "text/plain": [
       "<IPython.core.display.HTML object>"
      ]
     },
     "metadata": {},
     "output_type": "display_data"
    },
    {
     "data": {
      "text/html": [
       "<font size=3>36761-1267(38.379,123.202); SP(G(21),G(21)), RP(G(15),G(15))</font>"
      ],
      "text/plain": [
       "<IPython.core.display.HTML object>"
      ]
     },
     "metadata": {},
     "output_type": "display_data"
    },
    {
     "data": {
      "text/html": [
       "<font size=3>9664-22837(56.857,140.081); SP(G(1),G(1)), RP(G(7),G(7))</font>"
      ],
      "text/plain": [
       "<IPython.core.display.HTML object>"
      ]
     },
     "metadata": {},
     "output_type": "display_data"
    },
    {
     "data": {
      "text/html": [
       "<font size=3>4733-8904(59.752,119.757); SP(G(10),G(1)), RP(G(3),G(12))</font>"
      ],
      "text/plain": [
       "<IPython.core.display.HTML object>"
      ]
     },
     "metadata": {},
     "output_type": "display_data"
    },
    {
     "data": {
      "text/html": [
       "<font size=3>7345-7079(47.216,95.581); SP(G(13),G(13)), RP(G(17),G(6))</font>"
      ],
      "text/plain": [
       "<IPython.core.display.HTML object>"
      ]
     },
     "metadata": {},
     "output_type": "display_data"
    },
    {
     "data": {
      "text/html": [
       "<font size=3>8688-2580(41.644,114.082); SP(G(7),G(7)), RP(G(7),G(7))</font>"
      ],
      "text/plain": [
       "<IPython.core.display.HTML object>"
      ]
     },
     "metadata": {},
     "output_type": "display_data"
    },
    {
     "data": {
      "text/html": [
       "<font size=3>3575-18331(561.644,1476.945); SP(G(12),G(12)), RP(G(14),G(0))</font>"
      ],
      "text/plain": [
       "<IPython.core.display.HTML object>"
      ]
     },
     "metadata": {},
     "output_type": "display_data"
    },
    {
     "data": {
      "text/html": [
       "<font size=3>560-19474(20.109,120.439); SP(G(18),G(18)), RP(G(3),G(3))</font>"
      ],
      "text/plain": [
       "<IPython.core.display.HTML object>"
      ]
     },
     "metadata": {},
     "output_type": "display_data"
    },
    {
     "data": {
      "text/html": [
       "<font size=3>37561-19108(114.534,144.213); SP(G(17),G(19)), RP(G(12),G(12))</font>"
      ],
      "text/plain": [
       "<IPython.core.display.HTML object>"
      ]
     },
     "metadata": {},
     "output_type": "display_data"
    },
    {
     "data": {
      "text/html": [
       "<font size=3>87-21468(133.939,277.599); SP(G(18),G(6)), RP(G(7),G(11))</font>"
      ],
      "text/plain": [
       "<IPython.core.display.HTML object>"
      ]
     },
     "metadata": {},
     "output_type": "display_data"
    },
    {
     "data": {
      "text/html": [
       "<font size=3>5363-34211(134.867,380.689); SP(G(1),G(10)), RP(G(2),G(5))</font>"
      ],
      "text/plain": [
       "<IPython.core.display.HTML object>"
      ]
     },
     "metadata": {},
     "output_type": "display_data"
    },
    {
     "data": {
      "text/html": [
       "<font size=3>8056-31638(39.199,119.556); SP(G(1),G(2)), RP(G(0),G(0))</font>"
      ],
      "text/plain": [
       "<IPython.core.display.HTML object>"
      ]
     },
     "metadata": {},
     "output_type": "display_data"
    },
    {
     "data": {
      "text/html": [
       "<font size=3>21848-4960(85.494,288.908); SP(G(18),G(18)), RP(G(9),G(9))</font>"
      ],
      "text/plain": [
       "<IPython.core.display.HTML object>"
      ]
     },
     "metadata": {},
     "output_type": "display_data"
    },
    {
     "data": {
      "text/html": [
       "<font size=3>14597-36158(539.046,881.229); SP(G(0),G(12)), RP(G(16),G(16))</font>"
      ],
      "text/plain": [
       "<IPython.core.display.HTML object>"
      ]
     },
     "metadata": {},
     "output_type": "display_data"
    },
    {
     "data": {
      "text/html": [
       "<font size=3>8925-4947(112.463,188.995); SP(G(16),G(16)), RP(G(1),G(0))</font>"
      ],
      "text/plain": [
       "<IPython.core.display.HTML object>"
      ]
     },
     "metadata": {},
     "output_type": "display_data"
    },
    {
     "data": {
      "text/html": [
       "<font size=3>3035-591(40.607,111.050); SP(G(1),G(1)), RP(G(4),G(0))</font>"
      ],
      "text/plain": [
       "<IPython.core.display.HTML object>"
      ]
     },
     "metadata": {},
     "output_type": "display_data"
    },
    {
     "data": {
      "text/html": [
       "<font size=3>291-34122(167.073,375.094); SP(G(7),G(7)), RP(G(8),G(15))</font>"
      ],
      "text/plain": [
       "<IPython.core.display.HTML object>"
      ]
     },
     "metadata": {},
     "output_type": "display_data"
    },
    {
     "data": {
      "text/html": [
       "<font size=3>21848-2081(40.615,142.066); SP(G(18),G(1)), RP(G(9),G(13))</font>"
      ],
      "text/plain": [
       "<IPython.core.display.HTML object>"
      ]
     },
     "metadata": {},
     "output_type": "display_data"
    },
    {
     "data": {
      "text/html": [
       "<font size=3>16525-22268(67.208,202.147); SP(G(5),G(5)), RP(G(0),G(0))</font>"
      ],
      "text/plain": [
       "<IPython.core.display.HTML object>"
      ]
     },
     "metadata": {},
     "output_type": "display_data"
    },
    {
     "data": {
      "text/html": [
       "<font size=3>19359-1411(37.018,137.363); SP(G(15),G(5)), RP(G(16),G(18))</font>"
      ],
      "text/plain": [
       "<IPython.core.display.HTML object>"
      ]
     },
     "metadata": {},
     "output_type": "display_data"
    },
    {
     "data": {
      "text/html": [
       "<font size=3>9175-199(60.720,86.498); SP(G(6),G(3)), RP(G(7),G(11))</font>"
      ],
      "text/plain": [
       "<IPython.core.display.HTML object>"
      ]
     },
     "metadata": {},
     "output_type": "display_data"
    },
    {
     "data": {
      "text/html": [
       "<font size=3>4733-25147(74.175,217.800); SP(G(10),G(10)), RP(G(3),G(3))</font>"
      ],
      "text/plain": [
       "<IPython.core.display.HTML object>"
      ]
     },
     "metadata": {},
     "output_type": "display_data"
    },
    {
     "data": {
      "text/html": [
       "<font size=3>17826-37159(1321.649,1887.339); SP(G(19),G(19)), RP(G(20),G(20))</font>"
      ],
      "text/plain": [
       "<IPython.core.display.HTML object>"
      ]
     },
     "metadata": {},
     "output_type": "display_data"
    },
    {
     "data": {
      "text/html": [
       "<font size=3>36341-7599(111.919,234.010); SP(G(16),G(16)), RP(G(32),G(32))</font>"
      ],
      "text/plain": [
       "<IPython.core.display.HTML object>"
      ]
     },
     "metadata": {},
     "output_type": "display_data"
    },
    {
     "data": {
      "text/html": [
       "<font size=3>20393-34817(62.456,190.658); SP(G(3),G(16)), RP(G(13),G(13))</font>"
      ],
      "text/plain": [
       "<IPython.core.display.HTML object>"
      ]
     },
     "metadata": {},
     "output_type": "display_data"
    },
    {
     "data": {
      "text/html": [
       "<font size=3>5643-1406(66.872,139.460); SP(G(5),G(0)), RP(G(4),G(4))</font>"
      ],
      "text/plain": [
       "<IPython.core.display.HTML object>"
      ]
     },
     "metadata": {},
     "output_type": "display_data"
    },
    {
     "data": {
      "text/html": [
       "<font size=3>3585-27437(972.048,73.127); SP(G(0),G(0)), RP(G(8),G(14))</font>"
      ],
      "text/plain": [
       "<IPython.core.display.HTML object>"
      ]
     },
     "metadata": {},
     "output_type": "display_data"
    },
    {
     "data": {
      "text/html": [
       "<font size=3>1436-21340(243.283,668.387); SP(G(0),G(0)), RP(G(0),G(0))</font>"
      ],
      "text/plain": [
       "<IPython.core.display.HTML object>"
      ]
     },
     "metadata": {},
     "output_type": "display_data"
    },
    {
     "data": {
      "text/html": [
       "<font size=3>17678-35512(37.471,91.942); SP(G(12),G(0)), RP(G(3),G(3))</font>"
      ],
      "text/plain": [
       "<IPython.core.display.HTML object>"
      ]
     },
     "metadata": {},
     "output_type": "display_data"
    },
    {
     "data": {
      "text/html": [
       "<font size=3>28942-17118(66.681,133.388); SP(G(5),G(8)), RP(G(15),G(15))</font>"
      ],
      "text/plain": [
       "<IPython.core.display.HTML object>"
      ]
     },
     "metadata": {},
     "output_type": "display_data"
    },
    {
     "data": {
      "text/html": [
       "<font size=3>3606-18446(108.866,152.645); SP(G(23),G(23)), RP(G(4),G(4))</font>"
      ],
      "text/plain": [
       "<IPython.core.display.HTML object>"
      ]
     },
     "metadata": {},
     "output_type": "display_data"
    },
    {
     "data": {
      "text/html": [
       "<font size=3>8147-35256(55.330,168.108); SP(G(2),G(2)), RP(G(0),G(0))</font>"
      ],
      "text/plain": [
       "<IPython.core.display.HTML object>"
      ]
     },
     "metadata": {},
     "output_type": "display_data"
    },
    {
     "data": {
      "text/html": [
       "<font size=3>28951-12047(234.751,528.442); SP(G(15),G(15)), RP(G(21),G(21))</font>"
      ],
      "text/plain": [
       "<IPython.core.display.HTML object>"
      ]
     },
     "metadata": {},
     "output_type": "display_data"
    },
    {
     "data": {
      "text/html": [
       "<font size=3>22014-34942(158.038,527.816); SP(G(0),G(6)), RP(G(22),G(22))</font>"
      ],
      "text/plain": [
       "<IPython.core.display.HTML object>"
      ]
     },
     "metadata": {},
     "output_type": "display_data"
    },
    {
     "data": {
      "text/html": [
       "<font size=3>11017-23218(42.641,158.944); SP(G(4),G(4)), RP(G(7),G(7))</font>"
      ],
      "text/plain": [
       "<IPython.core.display.HTML object>"
      ]
     },
     "metadata": {},
     "output_type": "display_data"
    },
    {
     "data": {
      "text/html": [
       "<font size=3>21272-3181(28.365,101.399); SP(G(2),G(1)), RP(G(8),G(9))</font>"
      ],
      "text/plain": [
       "<IPython.core.display.HTML object>"
      ]
     },
     "metadata": {},
     "output_type": "display_data"
    },
    {
     "data": {
      "text/html": [
       "<font size=3>7598-13873(64.279,211.875); SP(G(1),G(16)), RP(G(18),G(6))</font>"
      ],
      "text/plain": [
       "<IPython.core.display.HTML object>"
      ]
     },
     "metadata": {},
     "output_type": "display_data"
    },
    {
     "data": {
      "text/html": [
       "<font size=3>11017-18446(113.010,199.518); SP(G(4),G(23)), RP(G(7),G(4))</font>"
      ],
      "text/plain": [
       "<IPython.core.display.HTML object>"
      ]
     },
     "metadata": {},
     "output_type": "display_data"
    },
    {
     "data": {
      "text/html": [
       "<font size=3>6933-17456(400.349,1019.214); SP(G(18),G(18)), RP(G(3),G(3))</font>"
      ],
      "text/plain": [
       "<IPython.core.display.HTML object>"
      ]
     },
     "metadata": {},
     "output_type": "display_data"
    },
    {
     "data": {
      "text/html": [
       "<font size=3>1-18800(72.485,230.069); SP(G(3),G(0)), RP(G(1),G(16))</font>"
      ],
      "text/plain": [
       "<IPython.core.display.HTML object>"
      ]
     },
     "metadata": {},
     "output_type": "display_data"
    },
    {
     "data": {
      "text/html": [
       "<font size=3>34942-21511(165.881,827.498); SP(G(6),G(6)), RP(G(22),G(22))</font>"
      ],
      "text/plain": [
       "<IPython.core.display.HTML object>"
      ]
     },
     "metadata": {},
     "output_type": "display_data"
    },
    {
     "data": {
      "text/html": [
       "<font size=3>9175-732(44.230,156.279); SP(G(6),G(6)), RP(G(7),G(7))</font>"
      ],
      "text/plain": [
       "<IPython.core.display.HTML object>"
      ]
     },
     "metadata": {},
     "output_type": "display_data"
    },
    {
     "data": {
      "text/html": [
       "<font size=3>3045-8622(82.098,133.171); SP(G(9),G(9)), RP(G(11),G(15))</font>"
      ],
      "text/plain": [
       "<IPython.core.display.HTML object>"
      ]
     },
     "metadata": {},
     "output_type": "display_data"
    },
    {
     "data": {
      "text/html": [
       "<font size=3>13267-16610(36.820,113.805); SP(G(4),G(2)), RP(G(6),G(0))</font>"
      ],
      "text/plain": [
       "<IPython.core.display.HTML object>"
      ]
     },
     "metadata": {},
     "output_type": "display_data"
    },
    {
     "data": {
      "text/html": [
       "<font size=3>33605-37159(1594.014,2013.773); SP(G(19),G(19)), RP(G(20),G(20))</font>"
      ],
      "text/plain": [
       "<IPython.core.display.HTML object>"
      ]
     },
     "metadata": {},
     "output_type": "display_data"
    },
    {
     "data": {
      "text/html": [
       "<font size=3>33784-1285(60.927,160.904); SP(G(4),G(13)), RP(G(2),G(2))</font>"
      ],
      "text/plain": [
       "<IPython.core.display.HTML object>"
      ]
     },
     "metadata": {},
     "output_type": "display_data"
    },
    {
     "data": {
      "text/html": [
       "<font size=3>8056-37434(70.128,131.623); SP(G(1),G(1)), RP(G(0),G(0))</font>"
      ],
      "text/plain": [
       "<IPython.core.display.HTML object>"
      ]
     },
     "metadata": {},
     "output_type": "display_data"
    },
    {
     "data": {
      "text/html": [
       "<font size=3>20603-199(65.342,101.510); SP(G(3),G(3)), RP(G(19),G(11))</font>"
      ],
      "text/plain": [
       "<IPython.core.display.HTML object>"
      ]
     },
     "metadata": {},
     "output_type": "display_data"
    },
    {
     "data": {
      "text/html": [
       "<font size=3>21056-22562(100.877,233.312); SP(G(1),G(11)), RP(G(0),G(0))</font>"
      ],
      "text/plain": [
       "<IPython.core.display.HTML object>"
      ]
     },
     "metadata": {},
     "output_type": "display_data"
    },
    {
     "data": {
      "text/html": [
       "<font size=3>18506-7465(36.212,128.863); SP(G(3),G(7)), RP(G(11),G(7))</font>"
      ],
      "text/plain": [
       "<IPython.core.display.HTML object>"
      ]
     },
     "metadata": {},
     "output_type": "display_data"
    },
    {
     "data": {
      "text/html": [
       "<font size=3>1706-41233(39.744,124.386); SP(G(7),G(0)), RP(G(5),G(16))</font>"
      ],
      "text/plain": [
       "<IPython.core.display.HTML object>"
      ]
     },
     "metadata": {},
     "output_type": "display_data"
    },
    {
     "data": {
      "text/html": [
       "<font size=3>34505-37205(127.990,225.556); SP(G(0),G(0)), RP(G(5),G(5))</font>"
      ],
      "text/plain": [
       "<IPython.core.display.HTML object>"
      ]
     },
     "metadata": {},
     "output_type": "display_data"
    },
    {
     "data": {
      "text/html": [
       "<font size=3>14959-23361(85.305,280.141); SP(G(0),G(12)), RP(G(6),G(6))</font>"
      ],
      "text/plain": [
       "<IPython.core.display.HTML object>"
      ]
     },
     "metadata": {},
     "output_type": "display_data"
    },
    {
     "data": {
      "text/html": [
       "<font size=3>14088-1790(168.086,554.397); SP(G(1),G(1)), RP(G(18),G(18))</font>"
      ],
      "text/plain": [
       "<IPython.core.display.HTML object>"
      ]
     },
     "metadata": {},
     "output_type": "display_data"
    },
    {
     "data": {
      "text/html": [
       "<font size=3>26647-366(46.212,136.511); SP(G(6),G(3)), RP(G(1),G(1))</font>"
      ],
      "text/plain": [
       "<IPython.core.display.HTML object>"
      ]
     },
     "metadata": {},
     "output_type": "display_data"
    },
    {
     "data": {
      "text/html": [
       "<font size=3>20390-4760(61.375,270.596); SP(G(7),G(1)), RP(G(2),G(2))</font>"
      ],
      "text/plain": [
       "<IPython.core.display.HTML object>"
      ]
     },
     "metadata": {},
     "output_type": "display_data"
    },
    {
     "data": {
      "text/html": [
       "<font size=3>2898-9790(147.225,223.251); SP(G(9),G(7)), RP(G(9),G(9))</font>"
      ],
      "text/plain": [
       "<IPython.core.display.HTML object>"
      ]
     },
     "metadata": {},
     "output_type": "display_data"
    },
    {
     "data": {
      "text/html": [
       "<font size=3>33956-34529(119.875,349.916); SP(G(17),G(17)), RP(G(12),G(12))</font>"
      ],
      "text/plain": [
       "<IPython.core.display.HTML object>"
      ]
     },
     "metadata": {},
     "output_type": "display_data"
    },
    {
     "data": {
      "text/html": [
       "<font size=3>8600-15668(115.489,291.281); SP(G(8),G(8)), RP(G(21),G(21))</font>"
      ],
      "text/plain": [
       "<IPython.core.display.HTML object>"
      ]
     },
     "metadata": {},
     "output_type": "display_data"
    },
    {
     "data": {
      "text/html": [
       "<font size=3>37470-666(148.494,184.695); SP(G(4),G(4)), RP(G(4),G(4))</font>"
      ],
      "text/plain": [
       "<IPython.core.display.HTML object>"
      ]
     },
     "metadata": {},
     "output_type": "display_data"
    },
    {
     "data": {
      "text/html": [
       "<font size=3>8382-14452(30.585,106.241); SP(G(7),G(1)), RP(G(4),G(8))</font>"
      ],
      "text/plain": [
       "<IPython.core.display.HTML object>"
      ]
     },
     "metadata": {},
     "output_type": "display_data"
    },
    {
     "data": {
      "text/html": [
       "<font size=3>23211-3437(49.113,168.462); SP(G(3),G(8)), RP(G(10),G(10))</font>"
      ],
      "text/plain": [
       "<IPython.core.display.HTML object>"
      ]
     },
     "metadata": {},
     "output_type": "display_data"
    },
    {
     "data": {
      "text/html": [
       "<font size=3>10-4883(125.268,337.090); SP(G(1),G(9)), RP(G(7),G(3))</font>"
      ],
      "text/plain": [
       "<IPython.core.display.HTML object>"
      ]
     },
     "metadata": {},
     "output_type": "display_data"
    },
    {
     "data": {
      "text/html": [
       "<font size=3>18770-21457(36.565,96.011); SP(G(2),G(0)), RP(G(10),G(1))</font>"
      ],
      "text/plain": [
       "<IPython.core.display.HTML object>"
      ]
     },
     "metadata": {},
     "output_type": "display_data"
    },
    {
     "data": {
      "text/html": [
       "<font size=3>7345-21750(53.773,226.044); SP(G(13),G(13)), RP(G(17),G(17))</font>"
      ],
      "text/plain": [
       "<IPython.core.display.HTML object>"
      ]
     },
     "metadata": {},
     "output_type": "display_data"
    },
    {
     "data": {
      "text/html": [
       "<font size=3>4733-18446(79.086,132.219); SP(G(10),G(23)), RP(G(3),G(4))</font>"
      ],
      "text/plain": [
       "<IPython.core.display.HTML object>"
      ]
     },
     "metadata": {},
     "output_type": "display_data"
    },
    {
     "data": {
      "text/html": [
       "<font size=3>19953-22061(50.950,105.625); SP(G(20),G(13)), RP(G(2),G(2))</font>"
      ],
      "text/plain": [
       "<IPython.core.display.HTML object>"
      ]
     },
     "metadata": {},
     "output_type": "display_data"
    },
    {
     "data": {
      "text/html": [
       "<font size=3>10073-35146(81.744,175.769); SP(G(5),G(5)), RP(G(20),G(1))</font>"
      ],
      "text/plain": [
       "<IPython.core.display.HTML object>"
      ]
     },
     "metadata": {},
     "output_type": "display_data"
    },
    {
     "data": {
      "text/html": [
       "<font size=3>21488-18438(57.484,123.681); SP(G(13),G(10)), RP(G(20),G(11))</font>"
      ],
      "text/plain": [
       "<IPython.core.display.HTML object>"
      ]
     },
     "metadata": {},
     "output_type": "display_data"
    },
    {
     "data": {
      "text/html": [
       "<font size=3>33599-5574(201.166,473.708); SP(G(15),G(15)), RP(G(22),G(22))</font>"
      ],
      "text/plain": [
       "<IPython.core.display.HTML object>"
      ]
     },
     "metadata": {},
     "output_type": "display_data"
    },
    {
     "data": {
      "text/html": [
       "<font size=3>10073-5398(43.944,102.881); SP(G(5),G(17)), RP(G(20),G(14))</font>"
      ],
      "text/plain": [
       "<IPython.core.display.HTML object>"
      ]
     },
     "metadata": {},
     "output_type": "display_data"
    },
    {
     "data": {
      "text/html": [
       "<font size=3>21813-16511(32.065,83.627); SP(G(9),G(13)), RP(G(15),G(20))</font>"
      ],
      "text/plain": [
       "<IPython.core.display.HTML object>"
      ]
     },
     "metadata": {},
     "output_type": "display_data"
    },
    {
     "data": {
      "text/html": [
       "<font size=3>34587-19499(54.086,93.907); SP(G(5),G(12)), RP(G(2),G(16))</font>"
      ],
      "text/plain": [
       "<IPython.core.display.HTML object>"
      ]
     },
     "metadata": {},
     "output_type": "display_data"
    },
    {
     "data": {
      "text/html": [
       "<font size=3>17678-14452(42.089,122.135); SP(G(12),G(1)), RP(G(3),G(8))</font>"
      ],
      "text/plain": [
       "<IPython.core.display.HTML object>"
      ]
     },
     "metadata": {},
     "output_type": "display_data"
    },
    {
     "data": {
      "text/html": [
       "<font size=3>35297-27582(81.939,297.196); SP(G(0),G(10)), RP(G(2),G(2))</font>"
      ],
      "text/plain": [
       "<IPython.core.display.HTML object>"
      ]
     },
     "metadata": {},
     "output_type": "display_data"
    }
   ],
   "source": [
    "def find_group(group_drivers, did):\n",
    "    for gn, drivers in group_drivers.iteritems():\n",
    "        if did in drivers:\n",
    "            return gn\n",
    "    return 'X'\n",
    "sp_group_counting, rp_group_counting = {}, {}\n",
    "for did0, did1 in SP_pairs.intersection(RP_pairs):\n",
    "    did0_gn_sp, did1_gn_sp = find_group(SP_group_drivers, did0), find_group(SP_group_drivers, did1)\n",
    "    did0_gn_rp, did1_gn_rp = find_group(RP_group_drivers, did0), find_group(RP_group_drivers, did1)\n",
    "    text = '%s-%s(%.3f,%.3f); SP(%s,%s), RP(%s,%s)' % (did0, did1, \n",
    "               SP_graph[did0, did1], RP_graph[did0, did1],\n",
    "               did0_gn_sp, did1_gn_sp,\n",
    "               did0_gn_rp, did1_gn_rp) \n",
    "    text_display(text, 3) "
   ]
  },
  {
   "cell_type": "code",
   "execution_count": null,
   "metadata": {
    "collapsed": true
   },
   "outputs": [],
   "source": []
  }
 ],
 "metadata": {
  "kernelspec": {
   "display_name": "Python 2",
   "language": "python",
   "name": "python2"
  },
  "language_info": {
   "codemirror_mode": {
    "name": "ipython",
    "version": 2
   },
   "file_extension": ".py",
   "mimetype": "text/x-python",
   "name": "python",
   "nbconvert_exporter": "python",
   "pygments_lexer": "ipython2",
   "version": "2.7.13"
  }
 },
 "nbformat": 4,
 "nbformat_minor": 2
}
