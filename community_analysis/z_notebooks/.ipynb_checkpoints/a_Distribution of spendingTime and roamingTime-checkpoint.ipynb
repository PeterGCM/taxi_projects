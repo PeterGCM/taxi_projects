{
 "cells": [
  {
   "cell_type": "code",
   "execution_count": 1,
   "metadata": {
    "collapsed": true
   },
   "outputs": [],
   "source": [
    "import __init__\n",
    "#\n",
    "from IPython.display import HTML, display\n",
    "import pandas as pd\n",
    "import numpy as np\n",
    "#\n",
    "def text_display(text, font_size):\n",
    "    display(HTML('<font size=%d>' % font_size + text + '</font>'))   \n",
    "#\n",
    "%matplotlib inline"
   ]
  },
  {
   "cell_type": "code",
   "execution_count": 2,
   "metadata": {
    "collapsed": true
   },
   "outputs": [],
   "source": [
    "from community_analysis import ss_trips_dpath, ss_trips_prefix\n",
    "df = pd.read_csv('%s/%s0901.csv' % (ss_trips_dpath, ss_trips_prefix))"
   ]
  },
  {
   "cell_type": "code",
   "execution_count": 3,
   "metadata": {
    "collapsed": false
   },
   "outputs": [
    {
     "data": {
      "text/html": [
       "<div>\n",
       "<table border=\"1\" class=\"dataframe\">\n",
       "  <thead>\n",
       "    <tr style=\"text-align: right;\">\n",
       "      <th></th>\n",
       "      <th>did</th>\n",
       "      <th>timeFrame</th>\n",
       "      <th>zi</th>\n",
       "      <th>zj</th>\n",
       "      <th>time</th>\n",
       "      <th>day</th>\n",
       "      <th>month</th>\n",
       "      <th>start-long</th>\n",
       "      <th>start-lat</th>\n",
       "      <th>distance</th>\n",
       "      <th>duration</th>\n",
       "      <th>fare</th>\n",
       "      <th>spendingTime</th>\n",
       "      <th>roamingTime</th>\n",
       "    </tr>\n",
       "  </thead>\n",
       "  <tbody>\n",
       "    <tr>\n",
       "      <th>0</th>\n",
       "      <td>6782</td>\n",
       "      <td>14</td>\n",
       "      <td>50</td>\n",
       "      <td>15</td>\n",
       "      <td>1230789600</td>\n",
       "      <td>1</td>\n",
       "      <td>1</td>\n",
       "      <td>103.83327</td>\n",
       "      <td>1.30762</td>\n",
       "      <td>3.2</td>\n",
       "      <td>480</td>\n",
       "      <td>620</td>\n",
       "      <td>0</td>\n",
       "      <td>0</td>\n",
       "    </tr>\n",
       "    <tr>\n",
       "      <th>1</th>\n",
       "      <td>37375</td>\n",
       "      <td>14</td>\n",
       "      <td>63</td>\n",
       "      <td>28</td>\n",
       "      <td>1230789660</td>\n",
       "      <td>1</td>\n",
       "      <td>1</td>\n",
       "      <td>103.89239</td>\n",
       "      <td>1.36719</td>\n",
       "      <td>12.6</td>\n",
       "      <td>1200</td>\n",
       "      <td>1180</td>\n",
       "      <td>30</td>\n",
       "      <td>30</td>\n",
       "    </tr>\n",
       "    <tr>\n",
       "      <th>2</th>\n",
       "      <td>25824</td>\n",
       "      <td>14</td>\n",
       "      <td>38</td>\n",
       "      <td>42</td>\n",
       "      <td>1230789660</td>\n",
       "      <td>1</td>\n",
       "      <td>1</td>\n",
       "      <td>103.77826</td>\n",
       "      <td>1.42925</td>\n",
       "      <td>17.6</td>\n",
       "      <td>1260</td>\n",
       "      <td>1420</td>\n",
       "      <td>13</td>\n",
       "      <td>53</td>\n",
       "    </tr>\n",
       "    <tr>\n",
       "      <th>3</th>\n",
       "      <td>35196</td>\n",
       "      <td>14</td>\n",
       "      <td>47</td>\n",
       "      <td>18</td>\n",
       "      <td>1230789660</td>\n",
       "      <td>1</td>\n",
       "      <td>1</td>\n",
       "      <td>103.82025</td>\n",
       "      <td>1.32268</td>\n",
       "      <td>21.2</td>\n",
       "      <td>1560</td>\n",
       "      <td>1660</td>\n",
       "      <td>48</td>\n",
       "      <td>48</td>\n",
       "    </tr>\n",
       "    <tr>\n",
       "      <th>4</th>\n",
       "      <td>34182</td>\n",
       "      <td>14</td>\n",
       "      <td>58</td>\n",
       "      <td>16</td>\n",
       "      <td>1230789660</td>\n",
       "      <td>1</td>\n",
       "      <td>1</td>\n",
       "      <td>103.87123</td>\n",
       "      <td>1.31361</td>\n",
       "      <td>4.5</td>\n",
       "      <td>720</td>\n",
       "      <td>700</td>\n",
       "      <td>43</td>\n",
       "      <td>43</td>\n",
       "    </tr>\n",
       "  </tbody>\n",
       "</table>\n",
       "</div>"
      ],
      "text/plain": [
       "     did  timeFrame  zi  zj        time  day  month  start-long  start-lat  \\\n",
       "0   6782         14  50  15  1230789600    1      1   103.83327    1.30762   \n",
       "1  37375         14  63  28  1230789660    1      1   103.89239    1.36719   \n",
       "2  25824         14  38  42  1230789660    1      1   103.77826    1.42925   \n",
       "3  35196         14  47  18  1230789660    1      1   103.82025    1.32268   \n",
       "4  34182         14  58  16  1230789660    1      1   103.87123    1.31361   \n",
       "\n",
       "   distance  duration  fare  spendingTime  roamingTime  \n",
       "0       3.2       480   620             0            0  \n",
       "1      12.6      1200  1180            30           30  \n",
       "2      17.6      1260  1420            13           53  \n",
       "3      21.2      1560  1660            48           48  \n",
       "4       4.5       720   700            43           43  "
      ]
     },
     "execution_count": 3,
     "metadata": {},
     "output_type": "execute_result"
    }
   ],
   "source": [
    "df.head()"
   ]
  },
  {
   "cell_type": "markdown",
   "metadata": {},
   "source": [
    "# Before filtering\n",
    "## SpendingTime"
   ]
  },
  {
   "cell_type": "code",
   "execution_count": 4,
   "metadata": {
    "collapsed": false
   },
   "outputs": [
    {
     "data": {
      "text/html": [
       "<font size=5>mean 2066.039, s.d 25524.814</font>"
      ],
      "text/plain": [
       "<IPython.core.display.HTML object>"
      ]
     },
     "metadata": {},
     "output_type": "display_data"
    },
    {
     "data": {
      "text/plain": [
       "<matplotlib.axes._subplots.AxesSubplot at 0x108e4c5d0>"
      ]
     },
     "execution_count": 4,
     "metadata": {},
     "output_type": "execute_result"
    },
    {
     "data": {
      "image/png": "[encoded data removed]",
      "text/plain": [
       "<matplotlib.figure.Figure at 0x107f44790>"
      ]
     },
     "metadata": {},
     "output_type": "display_data"
    }
   ],
   "source": [
    "cn = 'spendingTime'\n",
    "text = 'mean %.3f, s.d %.3f' % (df[cn].mean(), df[cn].std())\n",
    "text_display(text, 5)\n",
    "df[cn].hist()"
   ]
  },
  {
   "cell_type": "markdown",
   "metadata": {},
   "source": [
    "## roamingTime"
   ]
  },
  {
   "cell_type": "code",
   "execution_count": 5,
   "metadata": {
    "collapsed": false
   },
   "outputs": [
    {
     "data": {
      "text/html": [
       "<font size=5>mean 2994.230, s.d 28505.373</font>"
      ],
      "text/plain": [
       "<IPython.core.display.HTML object>"
      ]
     },
     "metadata": {},
     "output_type": "display_data"
    },
    {
     "data": {
      "text/plain": [
       "<matplotlib.axes._subplots.AxesSubplot at 0x108e712d0>"
      ]
     },
     "execution_count": 5,
     "metadata": {},
     "output_type": "execute_result"
    },
    {
     "data": {
      "image/png": "[encoded data removed]",
      "text/plain": [
       "<matplotlib.figure.Figure at 0x108e4ced0>"
      ]
     },
     "metadata": {},
     "output_type": "display_data"
    }
   ],
   "source": [
    "cn = 'roamingTime'\n",
    "text = 'mean %.3f, s.d %.3f' % (df[cn].mean(), df[cn].std())\n",
    "text_display(text, 5)\n",
    "df[cn].hist()"
   ]
  },
  {
   "cell_type": "markdown",
   "metadata": {},
   "source": [
    "# Filtering"
   ]
  },
  {
   "cell_type": "code",
   "execution_count": 6,
   "metadata": {
    "collapsed": false
   },
   "outputs": [],
   "source": [
    "outlier_set = set()\n",
    "cn1, cn2 = 'spendingTime', 'roamingTime'\n",
    "outlier_set = outlier_set.union(set(np.where(df[cn1] > df[cn2])[0].tolist()))\n",
    "for cn in [cn1, cn2]:\n",
    "    outlier_set = outlier_set.union(set(np.where(df[cn] < 0)[0].tolist()))\n",
    "    outlier_set = outlier_set.union(set(np.where(df[cn] > df[cn].quantile(0.95))[0].tolist()))\n",
    "df = df.drop(df.index[list(outlier_set)])"
   ]
  },
  {
   "cell_type": "markdown",
   "metadata": {},
   "source": [
    "# After filtering\n",
    "## SpendingTime"
   ]
  },
  {
   "cell_type": "code",
   "execution_count": 7,
   "metadata": {
    "collapsed": false
   },
   "outputs": [
    {
     "data": {
      "text/html": [
       "<font size=5>mean 116.122, s.d 174.459</font>"
      ],
      "text/plain": [
       "<IPython.core.display.HTML object>"
      ]
     },
     "metadata": {},
     "output_type": "display_data"
    },
    {
     "data": {
      "text/plain": [
       "<matplotlib.axes._subplots.AxesSubplot at 0x109d76810>"
      ]
     },
     "execution_count": 7,
     "metadata": {},
     "output_type": "execute_result"
    },
    {
     "data": {
      "image/png": "[encoded data removed]",
      "text/plain": [
       "<matplotlib.figure.Figure at 0x109d89210>"
      ]
     },
     "metadata": {},
     "output_type": "display_data"
    }
   ],
   "source": [
    "cn = 'spendingTime'\n",
    "text = 'mean %.3f, s.d %.3f' % (df[cn].mean(), df[cn].std())\n",
    "text_display(text, 5)\n",
    "df[cn].hist()"
   ]
  },
  {
   "cell_type": "markdown",
   "metadata": {},
   "source": [
    "## roamingTime"
   ]
  },
  {
   "cell_type": "code",
   "execution_count": 8,
   "metadata": {
    "collapsed": false
   },
   "outputs": [
    {
     "data": {
      "text/html": [
       "<font size=5>mean 550.370, s.d 469.751</font>"
      ],
      "text/plain": [
       "<IPython.core.display.HTML object>"
      ]
     },
     "metadata": {},
     "output_type": "display_data"
    },
    {
     "data": {
      "text/plain": [
       "<matplotlib.axes._subplots.AxesSubplot at 0x10a8e2f90>"
      ]
     },
     "execution_count": 8,
     "metadata": {},
     "output_type": "execute_result"
    },
    {
     "data": {
      "image/png": "[encoded data removed]",
      "text/plain": [
       "<matplotlib.figure.Figure at 0x109d891d0>"
      ]
     },
     "metadata": {},
     "output_type": "display_data"
    }
   ],
   "source": [
    "cn = 'roamingTime'\n",
    "text = 'mean %.3f, s.d %.3f' % (df[cn].mean(), df[cn].std())\n",
    "text_display(text, 5)\n",
    "df[cn].hist()"
   ]
  },
  {
   "cell_type": "code",
   "execution_count": null,
   "metadata": {
    "collapsed": true
   },
   "outputs": [],
   "source": []
  }
 ],
 "metadata": {
  "kernelspec": {
   "display_name": "Python 2",
   "language": "python",
   "name": "python2"
  },
  "language_info": {
   "codemirror_mode": {
    "name": "ipython",
    "version": 2
   },
   "file_extension": ".py",
   "mimetype": "text/x-python",
   "name": "python",
   "nbconvert_exporter": "python",
   "pygments_lexer": "ipython2",
   "version": "2.7.13"
  }
 },
 "nbformat": 4,
 "nbformat_minor": 2
}
