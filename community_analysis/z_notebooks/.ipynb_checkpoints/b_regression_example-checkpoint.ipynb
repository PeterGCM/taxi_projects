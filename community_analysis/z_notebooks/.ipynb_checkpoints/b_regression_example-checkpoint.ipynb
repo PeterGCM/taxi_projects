{
 "cells": [
  {
   "cell_type": "code",
   "execution_count": 9,
   "metadata": {
    "collapsed": true
   },
   "outputs": [],
   "source": [
    "import __init__\n",
    "#\n",
    "from IPython.display import HTML, display\n",
    "import pandas as pd\n",
    "import numpy as np\n",
    "#\n",
    "from community_analysis import MIN_PICKUP_RATIO\n",
    "#\n",
    "def text_display(text, font_size):\n",
    "    display(HTML('<font size=%d>' % font_size + text + '</font>'))   "
   ]
  },
  {
   "cell_type": "code",
   "execution_count": 2,
   "metadata": {
    "collapsed": true
   },
   "outputs": [],
   "source": [
    "def regression(dv, df):\n",
    "    oc_dv = 'roamingTime' if dv == 'spendingTime' else 'spendingTime'\n",
    "    rdf = df.copy(deep=True).drop([oc_dv], axis=1)\n",
    "    candi_dummies = []\n",
    "    num_iter = 1\n",
    "    while True:\n",
    "        for i, vs in enumerate(zip(*rdf.values)):\n",
    "            if rdf.columns[i] == dv:\n",
    "                continue\n",
    "            if sum(vs) > len(rdf) * MIN_PICKUP_RATIO * num_iter:\n",
    "                candi_dummies.append(rdf.columns[i])\n",
    "        if len(rdf) <= len(candi_dummies):\n",
    "            candi_dummies = []\n",
    "            num_iter += 1\n",
    "        else:\n",
    "            break\n",
    "    y = rdf[dv]\n",
    "    X = rdf[candi_dummies]\n",
    "    X = sm.add_constant(X)\n",
    "    return sm.OLS(y, X, missing='drop').fit()"
   ]
  },
  {
   "cell_type": "code",
   "execution_count": 3,
   "metadata": {
    "collapsed": true
   },
   "outputs": [],
   "source": [
    "from community_analysis import tfZ_TP_dpath, tfZ_TP_prefix\n",
    "#\n",
    "df = pd.read_csv('%s/%s2009-3.csv' % (tfZ_TP_dpath, tfZ_TP_prefix))"
   ]
  },
  {
   "cell_type": "code",
   "execution_count": 5,
   "metadata": {
    "collapsed": false
   },
   "outputs": [
    {
     "data": {
      "text/html": [
       "<div>\n",
       "<table border=\"1\" class=\"dataframe\">\n",
       "  <thead>\n",
       "    <tr style=\"text-align: right;\">\n",
       "      <th></th>\n",
       "      <th>month</th>\n",
       "      <th>day</th>\n",
       "      <th>timeFrame</th>\n",
       "      <th>zi</th>\n",
       "      <th>zj</th>\n",
       "      <th>tfZ</th>\n",
       "      <th>did</th>\n",
       "      <th>spendingTime</th>\n",
       "      <th>roamingTime</th>\n",
       "      <th>32768</th>\n",
       "      <th>...</th>\n",
       "      <th>32442</th>\n",
       "      <th>32469</th>\n",
       "      <th>32502</th>\n",
       "      <th>32509</th>\n",
       "      <th>32529</th>\n",
       "      <th>32537</th>\n",
       "      <th>32542</th>\n",
       "      <th>32647</th>\n",
       "      <th>32656</th>\n",
       "      <th>16375</th>\n",
       "    </tr>\n",
       "  </thead>\n",
       "  <tbody>\n",
       "    <tr>\n",
       "      <th>0</th>\n",
       "      <td>1</td>\n",
       "      <td>1</td>\n",
       "      <td>14</td>\n",
       "      <td>54</td>\n",
       "      <td>12</td>\n",
       "      <td>(14,54,12)</td>\n",
       "      <td>36942</td>\n",
       "      <td>240</td>\n",
       "      <td>240</td>\n",
       "      <td>0</td>\n",
       "      <td>...</td>\n",
       "      <td>0</td>\n",
       "      <td>0</td>\n",
       "      <td>0</td>\n",
       "      <td>0</td>\n",
       "      <td>0</td>\n",
       "      <td>0</td>\n",
       "      <td>0</td>\n",
       "      <td>0</td>\n",
       "      <td>0</td>\n",
       "      <td>0</td>\n",
       "    </tr>\n",
       "    <tr>\n",
       "      <th>1</th>\n",
       "      <td>1</td>\n",
       "      <td>1</td>\n",
       "      <td>14</td>\n",
       "      <td>38</td>\n",
       "      <td>45</td>\n",
       "      <td>(14,38,45)</td>\n",
       "      <td>33720</td>\n",
       "      <td>48</td>\n",
       "      <td>238</td>\n",
       "      <td>0</td>\n",
       "      <td>...</td>\n",
       "      <td>0</td>\n",
       "      <td>0</td>\n",
       "      <td>0</td>\n",
       "      <td>0</td>\n",
       "      <td>0</td>\n",
       "      <td>0</td>\n",
       "      <td>0</td>\n",
       "      <td>0</td>\n",
       "      <td>0</td>\n",
       "      <td>0</td>\n",
       "    </tr>\n",
       "    <tr>\n",
       "      <th>2</th>\n",
       "      <td>1</td>\n",
       "      <td>1</td>\n",
       "      <td>14</td>\n",
       "      <td>61</td>\n",
       "      <td>27</td>\n",
       "      <td>(14,61,27)</td>\n",
       "      <td>20677</td>\n",
       "      <td>592</td>\n",
       "      <td>1408</td>\n",
       "      <td>0</td>\n",
       "      <td>...</td>\n",
       "      <td>0</td>\n",
       "      <td>0</td>\n",
       "      <td>0</td>\n",
       "      <td>0</td>\n",
       "      <td>0</td>\n",
       "      <td>0</td>\n",
       "      <td>0</td>\n",
       "      <td>0</td>\n",
       "      <td>0</td>\n",
       "      <td>0</td>\n",
       "    </tr>\n",
       "    <tr>\n",
       "      <th>3</th>\n",
       "      <td>1</td>\n",
       "      <td>1</td>\n",
       "      <td>14</td>\n",
       "      <td>53</td>\n",
       "      <td>25</td>\n",
       "      <td>(14,53,25)</td>\n",
       "      <td>29328</td>\n",
       "      <td>596</td>\n",
       "      <td>1428</td>\n",
       "      <td>0</td>\n",
       "      <td>...</td>\n",
       "      <td>0</td>\n",
       "      <td>0</td>\n",
       "      <td>0</td>\n",
       "      <td>0</td>\n",
       "      <td>0</td>\n",
       "      <td>0</td>\n",
       "      <td>0</td>\n",
       "      <td>0</td>\n",
       "      <td>0</td>\n",
       "      <td>0</td>\n",
       "    </tr>\n",
       "    <tr>\n",
       "      <th>4</th>\n",
       "      <td>1</td>\n",
       "      <td>1</td>\n",
       "      <td>14</td>\n",
       "      <td>41</td>\n",
       "      <td>16</td>\n",
       "      <td>(14,41,16)</td>\n",
       "      <td>19360</td>\n",
       "      <td>356</td>\n",
       "      <td>987</td>\n",
       "      <td>0</td>\n",
       "      <td>...</td>\n",
       "      <td>0</td>\n",
       "      <td>0</td>\n",
       "      <td>0</td>\n",
       "      <td>0</td>\n",
       "      <td>0</td>\n",
       "      <td>0</td>\n",
       "      <td>0</td>\n",
       "      <td>0</td>\n",
       "      <td>0</td>\n",
       "      <td>0</td>\n",
       "    </tr>\n",
       "  </tbody>\n",
       "</table>\n",
       "<p>5 rows × 6113 columns</p>\n",
       "</div>"
      ],
      "text/plain": [
       "   month  day  timeFrame  zi  zj         tfZ    did  spendingTime  \\\n",
       "0      1    1         14  54  12  (14,54,12)  36942           240   \n",
       "1      1    1         14  38  45  (14,38,45)  33720            48   \n",
       "2      1    1         14  61  27  (14,61,27)  20677           592   \n",
       "3      1    1         14  53  25  (14,53,25)  29328           596   \n",
       "4      1    1         14  41  16  (14,41,16)  19360           356   \n",
       "\n",
       "   roamingTime  32768  ...    32442  32469  32502  32509  32529  32537  32542  \\\n",
       "0          240      0  ...        0      0      0      0      0      0      0   \n",
       "1          238      0  ...        0      0      0      0      0      0      0   \n",
       "2         1408      0  ...        0      0      0      0      0      0      0   \n",
       "3         1428      0  ...        0      0      0      0      0      0      0   \n",
       "4          987      0  ...        0      0      0      0      0      0      0   \n",
       "\n",
       "   32647  32656  16375  \n",
       "0      0      0      0  \n",
       "1      0      0      0  \n",
       "2      0      0      0  \n",
       "3      0      0      0  \n",
       "4      0      0      0  \n",
       "\n",
       "[5 rows x 6113 columns]"
      ]
     },
     "execution_count": 5,
     "metadata": {},
     "output_type": "execute_result"
    }
   ],
   "source": [
    "df.head()"
   ]
  },
  {
   "cell_type": "code",
   "execution_count": 4,
   "metadata": {
    "collapsed": false
   },
   "outputs": [
    {
     "data": {
      "text/html": [
       "<font size=5># of drivers in a file: 102</font>"
      ],
      "text/plain": [
       "<IPython.core.display.HTML object>"
      ]
     },
     "metadata": {},
     "output_type": "display_data"
    }
   ],
   "source": [
    "text = '# of drivers in a file: %d' % len(set(df['did']))\n",
    "text_display(text, 5)"
   ]
  },
  {
   "cell_type": "code",
   "execution_count": 6,
   "metadata": {
    "collapsed": true
   },
   "outputs": [],
   "source": [
    "did1 = 33720\n",
    "did1_df = df[(df['did'] == did1)].copy(deep=True)\n",
    "did1_df = did1_df.drop(['month', 'day', 'timeFrame', 'zi', 'zj', 'tfZ', 'did'], axis=1)\n",
    "if '%d' % did1 in did1_df.columns:\n",
    "    did1_df = did1_df.drop(['%d' % did1], axis=1)"
   ]
  },
  {
   "cell_type": "code",
   "execution_count": 8,
   "metadata": {
    "collapsed": false
   },
   "outputs": [
    {
     "data": {
      "text/html": [
       "<font size=5># of observations: 734</font>"
      ],
      "text/plain": [
       "<IPython.core.display.HTML object>"
      ]
     },
     "metadata": {},
     "output_type": "display_data"
    },
    {
     "data": {
      "text/html": [
       "<font size=5># of indepedent variables:: 6105</font>"
      ],
      "text/plain": [
       "<IPython.core.display.HTML object>"
      ]
     },
     "metadata": {},
     "output_type": "display_data"
    }
   ],
   "source": [
    "text = '# of observations: %d' % len(did1_df)\n",
    "text_display(text, 5)\n",
    "text = '# of indepedent variables:: %d'% len(did1_df.columns)\n",
    "text_display(text, 5)"
   ]
  },
  {
   "cell_type": "code",
   "execution_count": null,
   "metadata": {
    "collapsed": true
   },
   "outputs": [],
   "source": []
  }
 ],
 "metadata": {
  "kernelspec": {
   "display_name": "Python 2",
   "language": "python",
   "name": "python2"
  },
  "language_info": {
   "codemirror_mode": {
    "name": "ipython",
    "version": 2
   },
   "file_extension": ".py",
   "mimetype": "text/x-python",
   "name": "python",
   "nbconvert_exporter": "python",
   "pygments_lexer": "ipython2",
   "version": "2.7.13"
  }
 },
 "nbformat": 4,
 "nbformat_minor": 2
}
