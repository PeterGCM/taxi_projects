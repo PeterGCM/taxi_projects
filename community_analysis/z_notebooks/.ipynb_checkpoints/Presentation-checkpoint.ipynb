{
 "cells": [
  {
   "cell_type": "code",
   "execution_count": 1,
   "metadata": {
    "collapsed": true,
    "slideshow": {
     "slide_type": "skip"
    }
   },
   "outputs": [],
   "source": [
    "import __init__\n",
    "#\n"
   ]
  },
  {
   "cell_type": "markdown",
   "metadata": {
    "collapsed": true,
    "slideshow": {
     "slide_type": "slide"
    }
   },
   "source": [
    "# First page"
   ]
  },
  {
   "cell_type": "markdown",
   "metadata": {
    "slideshow": {
     "slide_type": "slide"
    }
   },
   "source": [
    "# Introduction\n",
    "## Definition of community\n",
    "* General definition"
   ]
  },
  {
   "cell_type": "markdown",
   "metadata": {
    "slideshow": {
     "slide_type": "fragment"
    }
   },
   "source": [
    "* In taxi industry\n",
    "    * Share information"
   ]
  },
  {
   "cell_type": "code",
   "execution_count": 1,
   "metadata": {
    "collapsed": false
   },
   "outputs": [
    {
     "name": "stdout",
     "output_type": "stream",
     "text": [
      "\n",
      "/Library/Frameworks/Python.framework/Versions/2.7/lib/python27.zip\n",
      "/Library/Frameworks/Python.framework/Versions/2.7/lib/python2.7\n",
      "/Library/Frameworks/Python.framework/Versions/2.7/lib/python2.7/plat-darwin\n",
      "/Library/Frameworks/Python.framework/Versions/2.7/lib/python2.7/plat-mac\n",
      "/Library/Frameworks/Python.framework/Versions/2.7/lib/python2.7/plat-mac/lib-scriptpackages\n",
      "/Library/Frameworks/Python.framework/Versions/2.7/lib/python2.7/lib-tk\n",
      "/Library/Frameworks/Python.framework/Versions/2.7/lib/python2.7/lib-old\n",
      "/Library/Frameworks/Python.framework/Versions/2.7/lib/python2.7/lib-dynload\n",
      "/Users/JerryHan88/Library/Python/2.7/lib/python/site-packages\n",
      "/Library/Frameworks/Python.framework/Versions/2.7/lib/python2.7/site-packages\n",
      "/Library/Frameworks/Python.framework/Versions/2.7/lib/python2.7/site-packages/statsmodels-0.8.0rc1-py2.7-macosx-10.6-intel.egg\n",
      "/Library/Frameworks/Python.framework/Versions/2.7/lib/python2.7/site-packages/patsy-0.4.1-py2.7.egg\n",
      "/Library/Frameworks/Python.framework/Versions/2.7/lib/python2.7/site-packages/IPython/extensions\n",
      "/Users/JerryHan88/.ipython\n"
     ]
    }
   ],
   "source": [
    "import sys\n",
    "for p in sys.path:\n",
    "    print p"
   ]
  },
  {
   "cell_type": "code",
   "execution_count": null,
   "metadata": {
    "collapsed": true
   },
   "outputs": [],
   "source": []
  }
 ],
 "metadata": {
  "celltoolbar": "Slideshow",
  "kernelspec": {
   "display_name": "Python 2",
   "language": "python",
   "name": "python2"
  },
  "language_info": {
   "codemirror_mode": {
    "name": "ipython",
    "version": 2
   },
   "file_extension": ".py",
   "mimetype": "text/x-python",
   "name": "python",
   "nbconvert_exporter": "python",
   "pygments_lexer": "ipython2",
   "version": "2.7.13"
  }
 },
 "nbformat": 4,
 "nbformat_minor": 2
}
