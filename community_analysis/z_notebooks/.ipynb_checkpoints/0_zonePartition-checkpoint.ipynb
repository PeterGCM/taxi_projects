{
 "cells": [
  {
   "cell_type": "code",
   "execution_count": 2,
   "metadata": {
    "collapsed": false
   },
   "outputs": [],
   "source": [
    "import __init__\n",
    "#\n",
    "from taxi_common.file_handling_functions import load_pickle_file\n",
    "from taxi_common.sg_grid_zone import get_sg_grid_xy_points, get_sg_zones\n",
    "#\n",
    "from IPython.display import HTML, display\n",
    "import folium\n",
    "\n",
    "from community_analysis import ss_trips_dpath, ss_trips_prefix\n",
    "import pandas as pd\n",
    "from taxi_common import sg_grid_geojson"
   ]
  },
  {
   "cell_type": "code",
   "execution_count": 14,
   "metadata": {
    "collapsed": false
   },
   "outputs": [],
   "source": [
    "def draw_zones(df, withHeatMap = False):\n",
    "    x_points, y_points = get_sg_grid_xy_points()\n",
    "    xc, yc = (x_points[0] + x_points[-1]) / float(2), (y_points[0] + y_points[-1]) / float(2)\n",
    "    #\n",
    "    map_osm = folium.Map(location=[yc, xc], zoom_start=11)\n",
    "    for x in x_points:\n",
    "        sx, sy, ex, ey = x, y_points[0], x, y_points[-1]\n",
    "        map_osm.add_children(folium.PolyLine(locations=[(sy, sx), (ey, ex)], weight=1.0))\n",
    "    for y in y_points:\n",
    "        sx, sy, ex, ey = x_points[0], y, x_points[-1], y\n",
    "        map_osm.add_children(folium.PolyLine(locations=[(sy, sx), (ey, ex)], weight=1.0))\n",
    "    #\n",
    "    zones = get_sg_zones()\n",
    "    allZones = set(['%d#%d' % (zi, zj) for zi, zj in zones.iterkeys()])\n",
    "    df['zizj'] = df.apply(lambda x: '%d#%d' % (x['zi'], x['zj']), axis=1)\n",
    "    tripOccuredZones = set(df['zizj'])\n",
    "    zizj_tripNum_df = df.groupby(['zizj']).count()['did'].to_frame('numTrips').reset_index()\n",
    "    if withHeatMap:\n",
    "        noneTripZones = allZones.difference(tripOccuredZones)\n",
    "        for zizj in noneTripZones:\n",
    "            zizj_tripNum_df.loc[-1] = [zizj, 0]\n",
    "            zizj_tripNum_df.index = zizj_tripNum_df.index + 1\n",
    "        map_osm.geo_json(geo_path=sg_grid_geojson, data=zizj_tripNum_df,\n",
    "                    columns=['zizj', 'numTrips'],\n",
    "                    key_on='feature.id',\n",
    "                    fill_color='BuPu', fill_opacity=0.4, line_opacity=0.2)\n",
    "    return map_osm"
   ]
  },
  {
   "cell_type": "code",
   "execution_count": 9,
   "metadata": {
    "collapsed": true
   },
   "outputs": [],
   "source": [
    "df = pd.read_csv('%s/%s2009.csv' % (ss_trips_dpath, ss_trips_prefix))"
   ]
  },
  {
   "cell_type": "code",
   "execution_count": 15,
   "metadata": {
    "collapsed": false
   },
   "outputs": [],
   "source": [
    "map_osm = draw_zones(df, withHeatMap = True)"
   ]
  },
  {
   "cell_type": "code",
   "execution_count": 17,
   "metadata": {
    "collapsed": false
   },
   "outputs": [],
   "source": [
    "map_osm.save('/Users/JerryHan88/Desktop/zonePartition.html')"
   ]
  },
  {
   "cell_type": "code",
   "execution_count": null,
   "metadata": {
    "collapsed": true
   },
   "outputs": [],
   "source": []
  }
 ],
 "metadata": {
  "kernelspec": {
   "display_name": "Python 2",
   "language": "python",
   "name": "python2"
  },
  "language_info": {
   "codemirror_mode": {
    "name": "ipython",
    "version": 2
   },
   "file_extension": ".py",
   "mimetype": "text/x-python",
   "name": "python",
   "nbconvert_exporter": "python",
   "pygments_lexer": "ipython2",
   "version": "2.7.13"
  }
 },
 "nbformat": 4,
 "nbformat_minor": 2
}
